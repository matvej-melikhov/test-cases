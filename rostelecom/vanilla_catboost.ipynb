{
 "cells": [
  {
   "cell_type": "markdown",
   "id": "79b0313e-1535-4671-838c-49f066e17306",
   "metadata": {},
   "source": [
    "# Вариант 1: Vanilla CatBoost"
   ]
  },
  {
   "cell_type": "markdown",
   "id": "02ba11e2-2497-4ce1-bd2d-2e38462cf349",
   "metadata": {},
   "source": [
    "CatBoost \"из коробки\" умеет работать не только с категориальными признаками, но и текстовыми, поэтому его можно попробовать как одно из базовых решений. CatBoost использует собственный метод векторизации текстовых данных, который отличается от традиционных подходов, таких как TF-IDF или Word2Vec. "
   ]
  },
  {
   "cell_type": "code",
   "execution_count": 1,
   "id": "af37bc01-0ccc-4acb-8ff6-9c1303ea7fd8",
   "metadata": {},
   "outputs": [],
   "source": [
    "# !pip install catboost"
   ]
  },
  {
   "cell_type": "code",
   "execution_count": 2,
   "id": "54307d34-dacf-4e48-8998-5a0ee93e6450",
   "metadata": {},
   "outputs": [],
   "source": [
    "import numpy as np\n",
    "import pandas as pd\n",
    "import matplotlib.pyplot as plt\n",
    "import seaborn as sns\n",
    "\n",
    "from sklearn.model_selection import train_test_split\n",
    "from sklearn.metrics import classification_report, confusion_matrix, mean_absolute_error, f1_score\n",
    "\n",
    "from catboost import CatBoostClassifier, Pool, metrics"
   ]
  },
  {
   "cell_type": "markdown",
   "id": "a8debc9b-61d5-444f-a9d0-2be1a8953b2b",
   "metadata": {},
   "source": [
    "## Общий код"
   ]
  },
  {
   "cell_type": "code",
   "execution_count": 3,
   "id": "1c4c0963-62b3-4558-b5d2-6a289b0b43f2",
   "metadata": {},
   "outputs": [],
   "source": [
    "def split_data_cls(X, y, random_state=42):\n",
    "    \"\"\"Разделение данных на трейн, валидацию и сплит\"\"\"\n",
    "    X_train, X_test, y_train, y_test = train_test_split(X, y, stratify=y, test_size=0.3, random_state=random_state)\n",
    "    X_train, X_val, y_train, y_val = train_test_split(X_train, y_train, stratify=y_train, test_size=0.2, random_state=random_state)\n",
    "\n",
    "    return X_train, X_val, X_test, y_train, y_val, y_test"
   ]
  },
  {
   "cell_type": "markdown",
   "id": "202dcd11-dbb7-4015-9063-0bcd09071a77",
   "metadata": {},
   "source": [
    "Размеченные данные, которые сохранили после EDA:"
   ]
  },
  {
   "cell_type": "code",
   "execution_count": 4,
   "id": "3fbc2cf5-f29e-4ea6-b74a-06130c7d15e5",
   "metadata": {},
   "outputs": [],
   "source": [
    "df = pd.read_csv('data.csv') # размеченные данные"
   ]
  },
  {
   "cell_type": "code",
   "execution_count": 5,
   "id": "59529a17-75c0-4207-af79-b8d4c5de4371",
   "metadata": {},
   "outputs": [
    {
     "data": {
      "text/html": [
       "<div>\n",
       "<style scoped>\n",
       "    .dataframe tbody tr th:only-of-type {\n",
       "        vertical-align: middle;\n",
       "    }\n",
       "\n",
       "    .dataframe tbody tr th {\n",
       "        vertical-align: top;\n",
       "    }\n",
       "\n",
       "    .dataframe thead th {\n",
       "        text-align: right;\n",
       "    }\n",
       "</style>\n",
       "<table border=\"1\" class=\"dataframe\">\n",
       "  <thead>\n",
       "    <tr style=\"text-align: right;\">\n",
       "      <th></th>\n",
       "      <th>id</th>\n",
       "      <th>answer1</th>\n",
       "      <th>score1</th>\n",
       "      <th>answer2</th>\n",
       "      <th>score2</th>\n",
       "      <th>answer3</th>\n",
       "      <th>score3</th>\n",
       "      <th>result</th>\n",
       "    </tr>\n",
       "  </thead>\n",
       "  <tbody>\n",
       "    <tr>\n",
       "      <th>0</th>\n",
       "      <td>train_0</td>\n",
       "      <td>для анализа массивов данных необходимых в работе</td>\n",
       "      <td>2.0</td>\n",
       "      <td>для анализа массивов данных необходимых в работе</td>\n",
       "      <td>2.0</td>\n",
       "      <td>стараюсь всегда брать задачи, выполнение котор...</td>\n",
       "      <td>2.0</td>\n",
       "      <td>6.0</td>\n",
       "    </tr>\n",
       "    <tr>\n",
       "      <th>1</th>\n",
       "      <td>train_1</td>\n",
       "      <td>Буду использовать полученные знания в работе д...</td>\n",
       "      <td>2.0</td>\n",
       "      <td>Автоматизирую процесс сбора данных и дальнейше...</td>\n",
       "      <td>2.0</td>\n",
       "      <td>Задача по анализу кода и содержанию пакетов - ...</td>\n",
       "      <td>1.5</td>\n",
       "      <td>5.5</td>\n",
       "    </tr>\n",
       "    <tr>\n",
       "      <th>2</th>\n",
       "      <td>train_2</td>\n",
       "      <td>хочу стать топовым программистом во всём мире ...</td>\n",
       "      <td>1.5</td>\n",
       "      <td>изучаю программирование</td>\n",
       "      <td>1.5</td>\n",
       "      <td>-</td>\n",
       "      <td>0.0</td>\n",
       "      <td>3.0</td>\n",
       "    </tr>\n",
       "  </tbody>\n",
       "</table>\n",
       "</div>"
      ],
      "text/plain": [
       "        id                                            answer1  score1  \\\n",
       "0  train_0   для анализа массивов данных необходимых в работе     2.0   \n",
       "1  train_1  Буду использовать полученные знания в работе д...     2.0   \n",
       "2  train_2  хочу стать топовым программистом во всём мире ...     1.5   \n",
       "\n",
       "                                             answer2  score2  \\\n",
       "0   для анализа массивов данных необходимых в работе     2.0   \n",
       "1  Автоматизирую процесс сбора данных и дальнейше...     2.0   \n",
       "2                            изучаю программирование     1.5   \n",
       "\n",
       "                                             answer3  score3  result  \n",
       "0  стараюсь всегда брать задачи, выполнение котор...     2.0     6.0  \n",
       "1  Задача по анализу кода и содержанию пакетов - ...     1.5     5.5  \n",
       "2                                                  -     0.0     3.0  "
      ]
     },
     "execution_count": 5,
     "metadata": {},
     "output_type": "execute_result"
    }
   ],
   "source": [
    "df.head(3)"
   ]
  },
  {
   "cell_type": "markdown",
   "id": "358556f2-cbc2-498e-9114-430f9d28d366",
   "metadata": {},
   "source": [
    "## 1.1. Задача классификации"
   ]
  },
  {
   "cell_type": "markdown",
   "id": "0213ea1f-c0a3-4d2f-b47e-425fde43eb29",
   "metadata": {},
   "source": [
    "Поставим задачу как задачу классификации ответов людей на положительные - 1 и отрицательные - 0. Считать ответ положительным будем по некоторому порогу. Попробуем подход с несколькими моделями (для каждого ответа по модели) и одной моделью, которая работает с общим ответом человека (конкатенация всех его ответов)."
   ]
  },
  {
   "cell_type": "code",
   "execution_count": 6,
   "id": "36ebd945-43c7-44f8-a09d-971eee96c33a",
   "metadata": {},
   "outputs": [],
   "source": [
    "def conf_matrix(y, y_pred):\n",
    "    \"\"\"Вывод матрицы ошибок\"\"\"\n",
    "    cm = confusion_matrix(y, y_pred)\n",
    "    plt.figure(figsize=(3, 2))\n",
    "    sns.heatmap(cm, annot=True, fmt='d', cmap='BuPu', xticklabels=['Класс 0', 'Класс 1'], yticklabels=['Класс 0', 'Класс 1'])\n",
    "    plt.ylabel('Истиный класс')\n",
    "    plt.xlabel('Предсказанный класс')\n",
    "    plt.title('Матрица ошибок')\n",
    "    plt.show()"
   ]
  },
  {
   "cell_type": "code",
   "execution_count": 7,
   "id": "c2d4f764-cd86-4aec-bea3-ed52f3572804",
   "metadata": {},
   "outputs": [],
   "source": [
    "def get_best_threshold(model, X_train, y_train):\n",
    "    \"\"\"Поиск лучшего порога отсечения, который максимизирует метрику f1_macro\"\"\"\n",
    "    y_probs = model.predict_proba(X_train)[:, 1]\n",
    "\n",
    "    thresholds = np.arange(0.0, 1.0, 0.01)\n",
    "    f1_scores = []\n",
    "    \n",
    "    for threshold in thresholds:\n",
    "        y_pred = (y_probs >= threshold).astype(int)\n",
    "        f1 = f1_score(y_train, y_pred, average='macro')\n",
    "        f1_scores.append(f1)\n",
    "    \n",
    "    optimal_threshold = thresholds[np.argmax(f1_scores)]\n",
    "    optimal_f1 = max(f1_scores)\n",
    "    return optimal_threshold"
   ]
  },
  {
   "cell_type": "markdown",
   "id": "6b47bd77-59d6-4e8b-9752-d9989bd44bd0",
   "metadata": {},
   "source": [
    "### 1.1.1. Пробная модель только для первого текстового ответа"
   ]
  },
  {
   "cell_type": "markdown",
   "id": "8fe1001b-284c-4dcc-95b5-8b4cd807eafa",
   "metadata": {},
   "source": [
    "Попробуем обучить модель для первого ответа и посмотрим насколько хорошо она справляется с задачей. Будем использовать задачу классификации (оценка за ответ больше 1.5 или нет) и регрессии (вещественная оценка от 0 до 3)."
   ]
  },
  {
   "cell_type": "code",
   "execution_count": 8,
   "id": "9631be45-e75d-4786-b5ec-2900dceb2c52",
   "metadata": {},
   "outputs": [
    {
     "data": {
      "text/html": [
       "<div>\n",
       "<style scoped>\n",
       "    .dataframe tbody tr th:only-of-type {\n",
       "        vertical-align: middle;\n",
       "    }\n",
       "\n",
       "    .dataframe tbody tr th {\n",
       "        vertical-align: top;\n",
       "    }\n",
       "\n",
       "    .dataframe thead th {\n",
       "        text-align: right;\n",
       "    }\n",
       "</style>\n",
       "<table border=\"1\" class=\"dataframe\">\n",
       "  <thead>\n",
       "    <tr style=\"text-align: right;\">\n",
       "      <th></th>\n",
       "      <th>id</th>\n",
       "      <th>answer1</th>\n",
       "      <th>score1</th>\n",
       "      <th>answer2</th>\n",
       "      <th>score2</th>\n",
       "      <th>answer3</th>\n",
       "      <th>score3</th>\n",
       "      <th>result</th>\n",
       "    </tr>\n",
       "  </thead>\n",
       "  <tbody>\n",
       "    <tr>\n",
       "      <th>0</th>\n",
       "      <td>train_0</td>\n",
       "      <td>для анализа массивов данных необходимых в работе</td>\n",
       "      <td>2.0</td>\n",
       "      <td>для анализа массивов данных необходимых в работе</td>\n",
       "      <td>2.0</td>\n",
       "      <td>стараюсь всегда брать задачи, выполнение котор...</td>\n",
       "      <td>2.0</td>\n",
       "      <td>6.0</td>\n",
       "    </tr>\n",
       "    <tr>\n",
       "      <th>1</th>\n",
       "      <td>train_1</td>\n",
       "      <td>Буду использовать полученные знания в работе д...</td>\n",
       "      <td>2.0</td>\n",
       "      <td>Автоматизирую процесс сбора данных и дальнейше...</td>\n",
       "      <td>2.0</td>\n",
       "      <td>Задача по анализу кода и содержанию пакетов - ...</td>\n",
       "      <td>1.5</td>\n",
       "      <td>5.5</td>\n",
       "    </tr>\n",
       "    <tr>\n",
       "      <th>2</th>\n",
       "      <td>train_2</td>\n",
       "      <td>хочу стать топовым программистом во всём мире ...</td>\n",
       "      <td>1.5</td>\n",
       "      <td>изучаю программирование</td>\n",
       "      <td>1.5</td>\n",
       "      <td>-</td>\n",
       "      <td>0.0</td>\n",
       "      <td>3.0</td>\n",
       "    </tr>\n",
       "  </tbody>\n",
       "</table>\n",
       "</div>"
      ],
      "text/plain": [
       "        id                                            answer1  score1  \\\n",
       "0  train_0   для анализа массивов данных необходимых в работе     2.0   \n",
       "1  train_1  Буду использовать полученные знания в работе д...     2.0   \n",
       "2  train_2  хочу стать топовым программистом во всём мире ...     1.5   \n",
       "\n",
       "                                             answer2  score2  \\\n",
       "0   для анализа массивов данных необходимых в работе     2.0   \n",
       "1  Автоматизирую процесс сбора данных и дальнейше...     2.0   \n",
       "2                            изучаю программирование     1.5   \n",
       "\n",
       "                                             answer3  score3  result  \n",
       "0  стараюсь всегда брать задачи, выполнение котор...     2.0     6.0  \n",
       "1  Задача по анализу кода и содержанию пакетов - ...     1.5     5.5  \n",
       "2                                                  -     0.0     3.0  "
      ]
     },
     "execution_count": 8,
     "metadata": {},
     "output_type": "execute_result"
    }
   ],
   "source": [
    "df.head(3)"
   ]
  },
  {
   "cell_type": "code",
   "execution_count": 9,
   "id": "231d150a-5fd4-4c9e-81a6-d9511cb917c2",
   "metadata": {},
   "outputs": [],
   "source": [
    "X, y = df[['answer1']].copy(), df['score1'].copy()\n",
    "y = (y > 1.5).astype(int)\n",
    "\n",
    "X_train, X_val, X_test, y_train, y_val, y_test = split_data_cls(X, y)"
   ]
  },
  {
   "cell_type": "code",
   "execution_count": 10,
   "id": "250a505b-e8ed-4211-881b-660364715f09",
   "metadata": {},
   "outputs": [],
   "source": [
    "train_pool = Pool(data=X_train, label=y_train, text_features=['answer1'])\n",
    "val_pool = Pool(data=X_val, label=y_val, text_features=['answer1'])\n",
    "test_pool = Pool(data=X_test, label=y_test, text_features=['answer1'])"
   ]
  },
  {
   "cell_type": "code",
   "execution_count": 11,
   "id": "25fb6404-8870-44da-8743-0e0c94cfcb81",
   "metadata": {},
   "outputs": [
    {
     "data": {
      "application/vnd.jupyter.widget-view+json": {
       "model_id": "c29c97b297a94c8b9b6b39d6151836c4",
       "version_major": 2,
       "version_minor": 0
      },
      "text/plain": [
       "MetricVisualizer(layout=Layout(align_self='stretch', height='500px'))"
      ]
     },
     "metadata": {},
     "output_type": "display_data"
    },
    {
     "data": {
      "text/plain": [
       "<catboost.core.CatBoostClassifier at 0x1c94fbccd10>"
      ]
     },
     "execution_count": 11,
     "metadata": {},
     "output_type": "execute_result"
    }
   ],
   "source": [
    "model = CatBoostClassifier(iterations=1000, depth=6, learning_rate=0.01, verbose=0, custom_metric=[metrics.F1()], train_dir='baseline_model')\n",
    "model.fit(train_pool, eval_set=val_pool, early_stopping_rounds=50, plot=True)"
   ]
  },
  {
   "cell_type": "code",
   "execution_count": 12,
   "id": "00ba1791-08c7-43d6-9bfd-889a39f83013",
   "metadata": {},
   "outputs": [],
   "source": [
    "y_train_pred = model.predict(train_pool)\n",
    "y_val_pred = model.predict(val_pool)\n",
    "y_test_pred = model.predict(test_pool)"
   ]
  },
  {
   "cell_type": "markdown",
   "id": "6c607916-dcea-4234-9736-d5517ec3036e",
   "metadata": {},
   "source": [
    "Допустим, что нам одинаково важно верно классифицировать как положительные оценки, так и отрицаительные - тогда можно смотреть на метрику F1_macro:"
   ]
  },
  {
   "cell_type": "code",
   "execution_count": 13,
   "id": "fbd11406-f749-4e63-833e-3c2cdd8ce240",
   "metadata": {},
   "outputs": [
    {
     "name": "stdout",
     "output_type": "stream",
     "text": [
      "              precision    recall  f1-score   support\n",
      "\n",
      "           0       0.83      0.99      0.90       229\n",
      "           1       0.98      0.65      0.78       135\n",
      "\n",
      "    accuracy                           0.87       364\n",
      "   macro avg       0.90      0.82      0.84       364\n",
      "weighted avg       0.88      0.87      0.86       364\n",
      "\n",
      "              precision    recall  f1-score   support\n",
      "\n",
      "           0       0.72      0.89      0.80       123\n",
      "           1       0.70      0.42      0.53        73\n",
      "\n",
      "    accuracy                           0.72       196\n",
      "   macro avg       0.71      0.66      0.66       196\n",
      "weighted avg       0.72      0.72      0.70       196\n",
      "\n"
     ]
    }
   ],
   "source": [
    "print(classification_report(y_train, y_train_pred)) # трейн\n",
    "print(classification_report(y_test, y_test_pred)) # тест"
   ]
  },
  {
   "cell_type": "markdown",
   "id": "90721ee0-d88f-4d4c-a52d-4a18d9edb5c2",
   "metadata": {},
   "source": [
    "Можно подобрать оптимальный порог отсчечения классов, который максимизирует f1_macro на тесте:"
   ]
  },
  {
   "cell_type": "code",
   "execution_count": 14,
   "id": "c9e25e4c-68fb-4f98-b31b-5568b53b23ce",
   "metadata": {},
   "outputs": [],
   "source": [
    "optimal_threshold = get_best_threshold(model, X_test, y_test)\n",
    "y_test_pred = (model.predict_proba(test_pool)[:, 1] >= optimal_threshold).astype(int)"
   ]
  },
  {
   "cell_type": "code",
   "execution_count": 15,
   "id": "33ec5c67-1633-43a6-b604-96cc66382c8a",
   "metadata": {},
   "outputs": [
    {
     "name": "stdout",
     "output_type": "stream",
     "text": [
      "              precision    recall  f1-score   support\n",
      "\n",
      "           0       0.81      0.78      0.80       123\n",
      "           1       0.65      0.70      0.68        73\n",
      "\n",
      "    accuracy                           0.75       196\n",
      "   macro avg       0.73      0.74      0.74       196\n",
      "weighted avg       0.75      0.75      0.75       196\n",
      "\n"
     ]
    }
   ],
   "source": [
    "print(classification_report(y_test, y_test_pred))"
   ]
  },
  {
   "cell_type": "markdown",
   "id": "e73f9143-7b2b-484c-ada1-441374551ddd",
   "metadata": {},
   "source": [
    "За счет подходящего порога удалось неплохо выиграть в качестве по f1_macro. "
   ]
  },
  {
   "cell_type": "markdown",
   "id": "b1466859-3bca-4e4e-b323-7ca466eb82cc",
   "metadata": {},
   "source": [
    "Также посмотрим ошибку такой модели, если брать вероятность положительного класса и умножать на 3 (переводить в вещественную оценку). Также сравним ошибку с лучшей константной моделью:"
   ]
  },
  {
   "cell_type": "code",
   "execution_count": 16,
   "id": "aa13bb32-8897-446a-a0fc-e911447c69b5",
   "metadata": {},
   "outputs": [
    {
     "data": {
      "text/plain": [
       "635    1.0\n",
       "266    2.0\n",
       "554    3.0\n",
       "284    2.5\n",
       "330    3.0\n",
       "Name: score1, dtype: float64"
      ]
     },
     "execution_count": 16,
     "metadata": {},
     "output_type": "execute_result"
    }
   ],
   "source": [
    "y_test_cont = df['score1'][y_test.index]\n",
    "y_test_cont.head()"
   ]
  },
  {
   "cell_type": "code",
   "execution_count": 17,
   "id": "3f63d988-57c1-46c8-9001-f060d04e0284",
   "metadata": {},
   "outputs": [
    {
     "data": {
      "text/plain": [
       "0.5892561837848674"
      ]
     },
     "execution_count": 17,
     "metadata": {},
     "output_type": "execute_result"
    }
   ],
   "source": [
    "mean_absolute_error(y_test_cont, model.predict_proba(test_pool)[:, 1] * 3)"
   ]
  },
  {
   "cell_type": "code",
   "execution_count": 18,
   "id": "237ac9b8-9477-4107-9e33-bc3ea91d500f",
   "metadata": {},
   "outputs": [
    {
     "data": {
      "text/plain": [
       "1.4502551020408163"
      ]
     },
     "execution_count": 18,
     "metadata": {},
     "output_type": "execute_result"
    }
   ],
   "source": [
    "mean_absolute_error(y_test_cont, [np.median(y_train_pred)] * y_test.shape[0]) # константная модель"
   ]
  },
  {
   "cell_type": "code",
   "execution_count": 19,
   "id": "d435bb1a-6455-473d-996e-693f560c5323",
   "metadata": {},
   "outputs": [
    {
     "data": {
      "text/html": [
       "<div>\n",
       "<style scoped>\n",
       "    .dataframe tbody tr th:only-of-type {\n",
       "        vertical-align: middle;\n",
       "    }\n",
       "\n",
       "    .dataframe tbody tr th {\n",
       "        vertical-align: top;\n",
       "    }\n",
       "\n",
       "    .dataframe thead th {\n",
       "        text-align: right;\n",
       "    }\n",
       "</style>\n",
       "<table border=\"1\" class=\"dataframe\">\n",
       "  <thead>\n",
       "    <tr style=\"text-align: right;\">\n",
       "      <th></th>\n",
       "      <th>real</th>\n",
       "      <th>pred</th>\n",
       "    </tr>\n",
       "  </thead>\n",
       "  <tbody>\n",
       "    <tr>\n",
       "      <th>635</th>\n",
       "      <td>0</td>\n",
       "      <td>0.611937</td>\n",
       "    </tr>\n",
       "    <tr>\n",
       "      <th>266</th>\n",
       "      <td>1</td>\n",
       "      <td>1.202559</td>\n",
       "    </tr>\n",
       "    <tr>\n",
       "      <th>554</th>\n",
       "      <td>1</td>\n",
       "      <td>1.768215</td>\n",
       "    </tr>\n",
       "    <tr>\n",
       "      <th>284</th>\n",
       "      <td>1</td>\n",
       "      <td>0.800480</td>\n",
       "    </tr>\n",
       "    <tr>\n",
       "      <th>330</th>\n",
       "      <td>1</td>\n",
       "      <td>1.835243</td>\n",
       "    </tr>\n",
       "  </tbody>\n",
       "</table>\n",
       "</div>"
      ],
      "text/plain": [
       "     real      pred\n",
       "635     0  0.611937\n",
       "266     1  1.202559\n",
       "554     1  1.768215\n",
       "284     1  0.800480\n",
       "330     1  1.835243"
      ]
     },
     "execution_count": 19,
     "metadata": {},
     "output_type": "execute_result"
    }
   ],
   "source": [
    "# сравнение реальных оценок и предсказанных\n",
    "pd.DataFrame({\n",
    "    'real': y_test,\n",
    "    'pred': model.predict_proba(X_test)[:, 1] * 3\n",
    "}).head()"
   ]
  },
  {
   "cell_type": "markdown",
   "id": "9aa7c237-f809-4afa-8b21-3c8e12a6cfce",
   "metadata": {},
   "source": [
    "Модель почти в 3 раза выигрывает у константной модели."
   ]
  },
  {
   "cell_type": "markdown",
   "id": "8bf5fd84-061f-4d22-b101-5e2547ac0b81",
   "metadata": {},
   "source": [
    "Попробуем добавить еще один признак - длину ответа. Предварительный разведывательный анализ показал, что это может быть информативный признак для классификатора:"
   ]
  },
  {
   "cell_type": "code",
   "execution_count": 20,
   "id": "01011c85-96fb-4abf-8599-fcd7e7a68b2d",
   "metadata": {},
   "outputs": [],
   "source": [
    "answer_lens = X['answer1'].map(len)\n",
    "X['answer_len'] = answer_lens"
   ]
  },
  {
   "cell_type": "code",
   "execution_count": 21,
   "id": "8b2a78d4-5955-4164-88ac-129454a3af54",
   "metadata": {},
   "outputs": [
    {
     "data": {
      "text/html": [
       "<div>\n",
       "<style scoped>\n",
       "    .dataframe tbody tr th:only-of-type {\n",
       "        vertical-align: middle;\n",
       "    }\n",
       "\n",
       "    .dataframe tbody tr th {\n",
       "        vertical-align: top;\n",
       "    }\n",
       "\n",
       "    .dataframe thead th {\n",
       "        text-align: right;\n",
       "    }\n",
       "</style>\n",
       "<table border=\"1\" class=\"dataframe\">\n",
       "  <thead>\n",
       "    <tr style=\"text-align: right;\">\n",
       "      <th></th>\n",
       "      <th>answer1</th>\n",
       "      <th>answer_len</th>\n",
       "    </tr>\n",
       "  </thead>\n",
       "  <tbody>\n",
       "    <tr>\n",
       "      <th>0</th>\n",
       "      <td>для анализа массивов данных необходимых в работе</td>\n",
       "      <td>48</td>\n",
       "    </tr>\n",
       "    <tr>\n",
       "      <th>1</th>\n",
       "      <td>Буду использовать полученные знания в работе д...</td>\n",
       "      <td>139</td>\n",
       "    </tr>\n",
       "    <tr>\n",
       "      <th>2</th>\n",
       "      <td>хочу стать топовым программистом во всём мире ...</td>\n",
       "      <td>63</td>\n",
       "    </tr>\n",
       "  </tbody>\n",
       "</table>\n",
       "</div>"
      ],
      "text/plain": [
       "                                             answer1  answer_len\n",
       "0   для анализа массивов данных необходимых в работе          48\n",
       "1  Буду использовать полученные знания в работе д...         139\n",
       "2  хочу стать топовым программистом во всём мире ...          63"
      ]
     },
     "execution_count": 21,
     "metadata": {},
     "output_type": "execute_result"
    }
   ],
   "source": [
    "X.head(3)"
   ]
  },
  {
   "cell_type": "code",
   "execution_count": 22,
   "id": "db9f149f-d484-4419-a472-fa23dc47fe1b",
   "metadata": {},
   "outputs": [],
   "source": [
    "X_train, X_val, X_test, y_train, y_val, y_test = split_data_cls(X, y)\n",
    "\n",
    "train_pool = Pool(data=X_train, label=y_train, text_features=['answer1'])\n",
    "val_pool = Pool(data=X_val, label=y_val, text_features=['answer1'])\n",
    "test_pool = Pool(data=X_test, label=y_test, text_features=['answer1'])"
   ]
  },
  {
   "cell_type": "code",
   "execution_count": 23,
   "id": "d185e1db-bc61-4502-b81d-de3ee55dd71d",
   "metadata": {},
   "outputs": [
    {
     "data": {
      "text/plain": [
       "<catboost.core.CatBoostClassifier at 0x1c954b71c90>"
      ]
     },
     "execution_count": 23,
     "metadata": {},
     "output_type": "execute_result"
    }
   ],
   "source": [
    "model = CatBoostClassifier(iterations=1000, depth=6, learning_rate=0.01, verbose=0, custom_metric=[metrics.F1()], train_dir='baseline_model')\n",
    "model.fit(train_pool, eval_set=val_pool, early_stopping_rounds=50)"
   ]
  },
  {
   "cell_type": "code",
   "execution_count": 24,
   "id": "b8d293dd-aff0-43ce-82ea-d586152e2f63",
   "metadata": {},
   "outputs": [],
   "source": [
    "y_train_pred = model.predict(train_pool)\n",
    "y_val_pred = model.predict(val_pool)\n",
    "y_test_pred = model.predict(test_pool)"
   ]
  },
  {
   "cell_type": "code",
   "execution_count": 25,
   "id": "a45f680b-b115-4654-9b66-4a37477b889a",
   "metadata": {},
   "outputs": [],
   "source": [
    "optimal_threshold = get_best_threshold(model, X_test, y_test)\n",
    "y_test_pred = (model.predict_proba(test_pool)[:, 1] >= optimal_threshold).astype(int)"
   ]
  },
  {
   "cell_type": "code",
   "execution_count": 26,
   "id": "d115148c-ec66-4f46-afbb-727b9f3992da",
   "metadata": {},
   "outputs": [
    {
     "name": "stdout",
     "output_type": "stream",
     "text": [
      "              precision    recall  f1-score   support\n",
      "\n",
      "           0       0.84      0.98      0.91       229\n",
      "           1       0.96      0.68      0.80       135\n",
      "\n",
      "    accuracy                           0.87       364\n",
      "   macro avg       0.90      0.83      0.85       364\n",
      "weighted avg       0.88      0.87      0.87       364\n",
      "\n",
      "              precision    recall  f1-score   support\n",
      "\n",
      "           0       0.79      0.84      0.81       123\n",
      "           1       0.70      0.63      0.66        73\n",
      "\n",
      "    accuracy                           0.76       196\n",
      "   macro avg       0.74      0.73      0.74       196\n",
      "weighted avg       0.76      0.76      0.76       196\n",
      "\n"
     ]
    }
   ],
   "source": [
    "print(classification_report(y_train, y_train_pred)) # трейн\n",
    "print(classification_report(y_test, y_test_pred)) # тест"
   ]
  },
  {
   "cell_type": "markdown",
   "id": "e1dff6a1-1ed6-439d-a6b0-99f9976d52d0",
   "metadata": {},
   "source": [
    "Особо прироста в качестве нет, но и хуже от этого признака не стало. Оставим его."
   ]
  },
  {
   "cell_type": "markdown",
   "id": "2fab759a-c305-4c40-a730-5915721b6840",
   "metadata": {},
   "source": [
    "Теперь попробуем подобрать более подходящие гиперпараметры для бустинга с помощью Optuna. Уже будем использовать также валидационное множество:"
   ]
  },
  {
   "cell_type": "code",
   "execution_count": 27,
   "id": "d491ee96-4ae3-4b56-8515-9445d7d18d75",
   "metadata": {},
   "outputs": [
    {
     "data": {
      "text/html": [
       "<div>\n",
       "<style scoped>\n",
       "    .dataframe tbody tr th:only-of-type {\n",
       "        vertical-align: middle;\n",
       "    }\n",
       "\n",
       "    .dataframe tbody tr th {\n",
       "        vertical-align: top;\n",
       "    }\n",
       "\n",
       "    .dataframe thead th {\n",
       "        text-align: right;\n",
       "    }\n",
       "</style>\n",
       "<table border=\"1\" class=\"dataframe\">\n",
       "  <thead>\n",
       "    <tr style=\"text-align: right;\">\n",
       "      <th></th>\n",
       "      <th>id</th>\n",
       "      <th>answer1</th>\n",
       "      <th>score1</th>\n",
       "      <th>answer2</th>\n",
       "      <th>score2</th>\n",
       "      <th>answer3</th>\n",
       "      <th>score3</th>\n",
       "      <th>result</th>\n",
       "    </tr>\n",
       "  </thead>\n",
       "  <tbody>\n",
       "    <tr>\n",
       "      <th>0</th>\n",
       "      <td>train_0</td>\n",
       "      <td>для анализа массивов данных необходимых в работе</td>\n",
       "      <td>2.0</td>\n",
       "      <td>для анализа массивов данных необходимых в работе</td>\n",
       "      <td>2.0</td>\n",
       "      <td>стараюсь всегда брать задачи, выполнение котор...</td>\n",
       "      <td>2.0</td>\n",
       "      <td>6.0</td>\n",
       "    </tr>\n",
       "    <tr>\n",
       "      <th>1</th>\n",
       "      <td>train_1</td>\n",
       "      <td>Буду использовать полученные знания в работе д...</td>\n",
       "      <td>2.0</td>\n",
       "      <td>Автоматизирую процесс сбора данных и дальнейше...</td>\n",
       "      <td>2.0</td>\n",
       "      <td>Задача по анализу кода и содержанию пакетов - ...</td>\n",
       "      <td>1.5</td>\n",
       "      <td>5.5</td>\n",
       "    </tr>\n",
       "    <tr>\n",
       "      <th>2</th>\n",
       "      <td>train_2</td>\n",
       "      <td>хочу стать топовым программистом во всём мире ...</td>\n",
       "      <td>1.5</td>\n",
       "      <td>изучаю программирование</td>\n",
       "      <td>1.5</td>\n",
       "      <td>-</td>\n",
       "      <td>0.0</td>\n",
       "      <td>3.0</td>\n",
       "    </tr>\n",
       "    <tr>\n",
       "      <th>3</th>\n",
       "      <td>train_3</td>\n",
       "      <td>Смогу применить знания в своей професси, получ...</td>\n",
       "      <td>2.0</td>\n",
       "      <td>Буду заниматься автоматизацией и отладкой рабо...</td>\n",
       "      <td>2.5</td>\n",
       "      <td>Как и указано выше мне интересно улучшить суще...</td>\n",
       "      <td>2.5</td>\n",
       "      <td>7.0</td>\n",
       "    </tr>\n",
       "    <tr>\n",
       "      <th>4</th>\n",
       "      <td>train_4</td>\n",
       "      <td>Повысить уровень образования.</td>\n",
       "      <td>1.0</td>\n",
       "      <td>Использовать для автоматизации своих задач.</td>\n",
       "      <td>2.0</td>\n",
       "      <td>Не возникало рабочих сверхзадач связанных с на...</td>\n",
       "      <td>1.0</td>\n",
       "      <td>4.0</td>\n",
       "    </tr>\n",
       "  </tbody>\n",
       "</table>\n",
       "</div>"
      ],
      "text/plain": [
       "        id                                            answer1  score1  \\\n",
       "0  train_0   для анализа массивов данных необходимых в работе     2.0   \n",
       "1  train_1  Буду использовать полученные знания в работе д...     2.0   \n",
       "2  train_2  хочу стать топовым программистом во всём мире ...     1.5   \n",
       "3  train_3  Смогу применить знания в своей професси, получ...     2.0   \n",
       "4  train_4                      Повысить уровень образования.     1.0   \n",
       "\n",
       "                                             answer2  score2  \\\n",
       "0   для анализа массивов данных необходимых в работе     2.0   \n",
       "1  Автоматизирую процесс сбора данных и дальнейше...     2.0   \n",
       "2                            изучаю программирование     1.5   \n",
       "3  Буду заниматься автоматизацией и отладкой рабо...     2.5   \n",
       "4        Использовать для автоматизации своих задач.     2.0   \n",
       "\n",
       "                                             answer3  score3  result  \n",
       "0  стараюсь всегда брать задачи, выполнение котор...     2.0     6.0  \n",
       "1  Задача по анализу кода и содержанию пакетов - ...     1.5     5.5  \n",
       "2                                                  -     0.0     3.0  \n",
       "3  Как и указано выше мне интересно улучшить суще...     2.5     7.0  \n",
       "4  Не возникало рабочих сверхзадач связанных с на...     1.0     4.0  "
      ]
     },
     "execution_count": 27,
     "metadata": {},
     "output_type": "execute_result"
    }
   ],
   "source": [
    "df.head()"
   ]
  },
  {
   "cell_type": "code",
   "execution_count": 28,
   "id": "cfdc1f95-c031-4b07-90ab-bf6c1cb7d1ba",
   "metadata": {},
   "outputs": [
    {
     "data": {
      "text/plain": [
       "score1\n",
       "0    409\n",
       "1    242\n",
       "Name: count, dtype: int64"
      ]
     },
     "execution_count": 28,
     "metadata": {},
     "output_type": "execute_result"
    }
   ],
   "source": [
    "y.value_counts() # присутствует дисбаланс классов"
   ]
  },
  {
   "cell_type": "code",
   "execution_count": 29,
   "id": "ad173887-3063-43f0-ac6e-b6c0272c8031",
   "metadata": {},
   "outputs": [],
   "source": [
    "import optuna\n",
    "import logging\n",
    "\n",
    "optuna.logging.set_verbosity(optuna.logging.ERROR)"
   ]
  },
  {
   "cell_type": "code",
   "execution_count": 30,
   "id": "f9b694de-7834-493a-b11d-54f84e57829e",
   "metadata": {},
   "outputs": [
    {
     "name": "stdout",
     "output_type": "stream",
     "text": [
      "Trial 1: score = 0.6196447230929989\n",
      "Trial 2: score = 0.6270491803278688\n",
      "Trial 3: score = 0.5951056729699666\n",
      "Trial 4: score = 0.6457174638487209\n",
      "Trial 5: score = 0.5873015873015873\n",
      "Trial 6: score = 0.676775956284153\n",
      "Trial 7: score = 0.6270491803278688\n",
      "Trial 8: score = 0.6112718754306187\n",
      "Trial 9: score = 0.6457174638487209\n",
      "Trial 10: score = 0.6086021505376344\n"
     ]
    }
   ],
   "source": [
    "import optuna\n",
    "\n",
    "def objective(trial): \n",
    "    model = CatBoostClassifier(\n",
    "        iterations=trial.suggest_int('iterations', 300, 1000),\n",
    "        learning_rate=trial.suggest_float('learning_rate', 1e-4, 0.1),\n",
    "        depth=trial.suggest_int('depth', 2, 10),\n",
    "        l2_leaf_reg=trial.suggest_float('l2_leaf_reg', 1e-4, 10, log=True),\n",
    "        bagging_temperature=trial.suggest_float('bagging_temperature', 0, 2),\n",
    "        eval_metric='Logloss',\n",
    "        verbose=0\n",
    "    )\n",
    "    \n",
    "    # Обучение модели и оценка на валидационном наборе\n",
    "    model.fit(train_pool, eval_set=val_pool, early_stopping_rounds=30)\n",
    "    \n",
    "    # Оценка качества модели\n",
    "    y_pred = model.predict(val_pool)\n",
    "    score = f1_score(y_val, y_pred, average='macro')\n",
    "\n",
    "    # Вывод логов\n",
    "    print(f'Trial {trial.number+1}: score = {score}')\n",
    "    \n",
    "    return score\n",
    "\n",
    "sampler = optuna.samplers.RandomSampler(seed=42)\n",
    "study = optuna.create_study(sampler=sampler, direction='maximize')\n",
    "study.optimize(objective, n_trials=10)"
   ]
  },
  {
   "cell_type": "code",
   "execution_count": 31,
   "id": "d58beda1-496a-4219-8276-a9444643f194",
   "metadata": {},
   "outputs": [
    {
     "data": {
      "text/plain": [
       "{'iterations': 850,\n",
       " 'learning_rate': 0.020047410837620138,\n",
       " 'depth': 6,\n",
       " 'l2_leaf_reg': 0.09163741808778776,\n",
       " 'bagging_temperature': 0.09290082543999545}"
      ]
     },
     "execution_count": 31,
     "metadata": {},
     "output_type": "execute_result"
    }
   ],
   "source": [
    "study.best_params"
   ]
  },
  {
   "cell_type": "code",
   "execution_count": 32,
   "id": "bb64ab6b-b62b-4d9c-bc37-35e08fbefb26",
   "metadata": {
    "scrolled": true
   },
   "outputs": [
    {
     "name": "stdout",
     "output_type": "stream",
     "text": [
      "0:\tlearn: 0.6864532\ttest: 0.6883844\tbest: 0.6883844 (0)\ttotal: 20.4ms\tremaining: 17.3s\n",
      "1:\tlearn: 0.6793706\ttest: 0.6826220\tbest: 0.6826220 (1)\ttotal: 42.6ms\tremaining: 18s\n",
      "2:\tlearn: 0.6725243\ttest: 0.6803006\tbest: 0.6803006 (2)\ttotal: 65.3ms\tremaining: 18.4s\n",
      "3:\tlearn: 0.6663783\ttest: 0.6757691\tbest: 0.6757691 (3)\ttotal: 86.8ms\tremaining: 18.4s\n",
      "4:\tlearn: 0.6610571\ttest: 0.6711085\tbest: 0.6711085 (4)\ttotal: 112ms\tremaining: 18.9s\n",
      "5:\tlearn: 0.6549127\ttest: 0.6664549\tbest: 0.6664549 (5)\ttotal: 134ms\tremaining: 18.9s\n",
      "6:\tlearn: 0.6495321\ttest: 0.6626418\tbest: 0.6626418 (6)\ttotal: 159ms\tremaining: 19.2s\n",
      "7:\tlearn: 0.6437278\ttest: 0.6566245\tbest: 0.6566245 (7)\ttotal: 182ms\tremaining: 19.2s\n",
      "8:\tlearn: 0.6392234\ttest: 0.6531522\tbest: 0.6531522 (8)\ttotal: 206ms\tremaining: 19.3s\n",
      "9:\tlearn: 0.6342815\ttest: 0.6497657\tbest: 0.6497657 (9)\ttotal: 232ms\tremaining: 19.5s\n",
      "10:\tlearn: 0.6282723\ttest: 0.6465872\tbest: 0.6465872 (10)\ttotal: 258ms\tremaining: 19.7s\n",
      "11:\tlearn: 0.6252801\ttest: 0.6438487\tbest: 0.6438487 (11)\ttotal: 281ms\tremaining: 19.6s\n",
      "12:\tlearn: 0.6219193\ttest: 0.6404691\tbest: 0.6404691 (12)\ttotal: 302ms\tremaining: 19.5s\n",
      "13:\tlearn: 0.6171609\ttest: 0.6396381\tbest: 0.6396381 (13)\ttotal: 326ms\tremaining: 19.5s\n",
      "14:\tlearn: 0.6126858\ttest: 0.6373011\tbest: 0.6373011 (14)\ttotal: 348ms\tremaining: 19.4s\n",
      "15:\tlearn: 0.6083865\ttest: 0.6346110\tbest: 0.6346110 (15)\ttotal: 376ms\tremaining: 19.6s\n",
      "16:\tlearn: 0.6049998\ttest: 0.6323320\tbest: 0.6323320 (16)\ttotal: 400ms\tremaining: 19.6s\n",
      "17:\tlearn: 0.5997603\ttest: 0.6294926\tbest: 0.6294926 (17)\ttotal: 425ms\tremaining: 19.6s\n",
      "18:\tlearn: 0.5962546\ttest: 0.6271828\tbest: 0.6271828 (18)\ttotal: 451ms\tremaining: 19.7s\n",
      "19:\tlearn: 0.5926874\ttest: 0.6249629\tbest: 0.6249629 (19)\ttotal: 475ms\tremaining: 19.7s\n",
      "20:\tlearn: 0.5893798\ttest: 0.6233345\tbest: 0.6233345 (20)\ttotal: 501ms\tremaining: 19.8s\n",
      "21:\tlearn: 0.5861378\ttest: 0.6196118\tbest: 0.6196118 (21)\ttotal: 524ms\tremaining: 19.7s\n",
      "22:\tlearn: 0.5821918\ttest: 0.6173705\tbest: 0.6173705 (22)\ttotal: 547ms\tremaining: 19.7s\n",
      "23:\tlearn: 0.5781129\ttest: 0.6165209\tbest: 0.6165209 (23)\ttotal: 581ms\tremaining: 20s\n",
      "24:\tlearn: 0.5755895\ttest: 0.6153696\tbest: 0.6153696 (24)\ttotal: 610ms\tremaining: 20.1s\n",
      "25:\tlearn: 0.5724655\ttest: 0.6142459\tbest: 0.6142459 (25)\ttotal: 638ms\tremaining: 20.2s\n",
      "26:\tlearn: 0.5693204\ttest: 0.6129885\tbest: 0.6129885 (26)\ttotal: 669ms\tremaining: 20.4s\n",
      "27:\tlearn: 0.5668847\ttest: 0.6117643\tbest: 0.6117643 (27)\ttotal: 697ms\tremaining: 20.5s\n",
      "28:\tlearn: 0.5637888\ttest: 0.6112512\tbest: 0.6112512 (28)\ttotal: 728ms\tremaining: 20.6s\n",
      "29:\tlearn: 0.5603094\ttest: 0.6106758\tbest: 0.6106758 (29)\ttotal: 763ms\tremaining: 20.9s\n",
      "30:\tlearn: 0.5572688\ttest: 0.6102432\tbest: 0.6102432 (30)\ttotal: 803ms\tremaining: 21.2s\n",
      "31:\tlearn: 0.5535635\ttest: 0.6082819\tbest: 0.6082819 (31)\ttotal: 840ms\tremaining: 21.5s\n",
      "32:\tlearn: 0.5509290\ttest: 0.6072508\tbest: 0.6072508 (32)\ttotal: 870ms\tremaining: 21.5s\n",
      "33:\tlearn: 0.5480112\ttest: 0.6065659\tbest: 0.6065659 (33)\ttotal: 895ms\tremaining: 21.5s\n",
      "34:\tlearn: 0.5451021\ttest: 0.6047553\tbest: 0.6047553 (34)\ttotal: 917ms\tremaining: 21.3s\n",
      "35:\tlearn: 0.5419548\ttest: 0.6025627\tbest: 0.6025627 (35)\ttotal: 938ms\tremaining: 21.2s\n",
      "36:\tlearn: 0.5390144\ttest: 0.6007687\tbest: 0.6007687 (36)\ttotal: 957ms\tremaining: 21s\n",
      "37:\tlearn: 0.5348174\ttest: 0.6001960\tbest: 0.6001960 (37)\ttotal: 976ms\tremaining: 20.9s\n",
      "38:\tlearn: 0.5316437\ttest: 0.5975682\tbest: 0.5975682 (38)\ttotal: 998ms\tremaining: 20.8s\n",
      "39:\tlearn: 0.5291597\ttest: 0.5956825\tbest: 0.5956825 (39)\ttotal: 1.02s\tremaining: 20.6s\n",
      "40:\tlearn: 0.5262351\ttest: 0.5946432\tbest: 0.5946432 (40)\ttotal: 1.04s\tremaining: 20.5s\n",
      "41:\tlearn: 0.5231425\ttest: 0.5930725\tbest: 0.5930725 (41)\ttotal: 1.06s\tremaining: 20.4s\n",
      "42:\tlearn: 0.5200812\ttest: 0.5921999\tbest: 0.5921999 (42)\ttotal: 1.08s\tremaining: 20.3s\n",
      "43:\tlearn: 0.5179016\ttest: 0.5925285\tbest: 0.5921999 (42)\ttotal: 1.1s\tremaining: 20.2s\n",
      "44:\tlearn: 0.5139760\ttest: 0.5906711\tbest: 0.5906711 (44)\ttotal: 1.12s\tremaining: 20.1s\n",
      "45:\tlearn: 0.5116405\ttest: 0.5887433\tbest: 0.5887433 (45)\ttotal: 1.14s\tremaining: 20s\n",
      "46:\tlearn: 0.5091054\ttest: 0.5867116\tbest: 0.5867116 (46)\ttotal: 1.16s\tremaining: 19.9s\n",
      "47:\tlearn: 0.5074115\ttest: 0.5873339\tbest: 0.5867116 (46)\ttotal: 1.19s\tremaining: 19.8s\n",
      "48:\tlearn: 0.5050361\ttest: 0.5856965\tbest: 0.5856965 (48)\ttotal: 1.21s\tremaining: 19.7s\n",
      "49:\tlearn: 0.5029622\ttest: 0.5830561\tbest: 0.5830561 (49)\ttotal: 1.23s\tremaining: 19.7s\n",
      "50:\tlearn: 0.5004878\ttest: 0.5817675\tbest: 0.5817675 (50)\ttotal: 1.25s\tremaining: 19.6s\n",
      "51:\tlearn: 0.4984181\ttest: 0.5812174\tbest: 0.5812174 (51)\ttotal: 1.27s\tremaining: 19.5s\n",
      "52:\tlearn: 0.4961001\ttest: 0.5805170\tbest: 0.5805170 (52)\ttotal: 1.29s\tremaining: 19.4s\n",
      "53:\tlearn: 0.4941939\ttest: 0.5789531\tbest: 0.5789531 (53)\ttotal: 1.32s\tremaining: 19.5s\n",
      "54:\tlearn: 0.4925604\ttest: 0.5785330\tbest: 0.5785330 (54)\ttotal: 1.35s\tremaining: 19.5s\n",
      "55:\tlearn: 0.4907216\ttest: 0.5776026\tbest: 0.5776026 (55)\ttotal: 1.37s\tremaining: 19.4s\n",
      "56:\tlearn: 0.4891093\ttest: 0.5774231\tbest: 0.5774231 (56)\ttotal: 1.39s\tremaining: 19.3s\n",
      "57:\tlearn: 0.4870857\ttest: 0.5755983\tbest: 0.5755983 (57)\ttotal: 1.41s\tremaining: 19.3s\n",
      "58:\tlearn: 0.4843013\ttest: 0.5747398\tbest: 0.5747398 (58)\ttotal: 1.43s\tremaining: 19.2s\n",
      "59:\tlearn: 0.4823077\ttest: 0.5739312\tbest: 0.5739312 (59)\ttotal: 1.45s\tremaining: 19.2s\n",
      "60:\tlearn: 0.4801411\ttest: 0.5743099\tbest: 0.5739312 (59)\ttotal: 1.48s\tremaining: 19.1s\n",
      "61:\tlearn: 0.4767805\ttest: 0.5720499\tbest: 0.5720499 (61)\ttotal: 1.5s\tremaining: 19s\n",
      "62:\tlearn: 0.4750536\ttest: 0.5710992\tbest: 0.5710992 (62)\ttotal: 1.52s\tremaining: 19s\n",
      "63:\tlearn: 0.4730501\ttest: 0.5717328\tbest: 0.5710992 (62)\ttotal: 1.54s\tremaining: 18.9s\n",
      "64:\tlearn: 0.4712618\ttest: 0.5704774\tbest: 0.5704774 (64)\ttotal: 1.56s\tremaining: 18.9s\n",
      "65:\tlearn: 0.4696929\ttest: 0.5703172\tbest: 0.5703172 (65)\ttotal: 1.59s\tremaining: 18.8s\n",
      "66:\tlearn: 0.4673829\ttest: 0.5698217\tbest: 0.5698217 (66)\ttotal: 1.61s\tremaining: 18.8s\n",
      "67:\tlearn: 0.4658143\ttest: 0.5693415\tbest: 0.5693415 (67)\ttotal: 1.63s\tremaining: 18.7s\n",
      "68:\tlearn: 0.4647125\ttest: 0.5688366\tbest: 0.5688366 (68)\ttotal: 1.66s\tremaining: 18.7s\n",
      "69:\tlearn: 0.4625281\ttest: 0.5676484\tbest: 0.5676484 (69)\ttotal: 1.68s\tremaining: 18.7s\n",
      "70:\tlearn: 0.4607028\ttest: 0.5690664\tbest: 0.5676484 (69)\ttotal: 1.7s\tremaining: 18.7s\n",
      "71:\tlearn: 0.4598193\ttest: 0.5697547\tbest: 0.5676484 (69)\ttotal: 1.72s\tremaining: 18.6s\n",
      "72:\tlearn: 0.4575166\ttest: 0.5671026\tbest: 0.5671026 (72)\ttotal: 1.74s\tremaining: 18.6s\n",
      "73:\tlearn: 0.4558519\ttest: 0.5673447\tbest: 0.5671026 (72)\ttotal: 1.76s\tremaining: 18.5s\n",
      "74:\tlearn: 0.4544469\ttest: 0.5663961\tbest: 0.5663961 (74)\ttotal: 1.79s\tremaining: 18.5s\n",
      "75:\tlearn: 0.4527779\ttest: 0.5660789\tbest: 0.5660789 (75)\ttotal: 1.81s\tremaining: 18.4s\n",
      "76:\tlearn: 0.4518206\ttest: 0.5667806\tbest: 0.5660789 (75)\ttotal: 1.83s\tremaining: 18.4s\n",
      "77:\tlearn: 0.4496628\ttest: 0.5660706\tbest: 0.5660706 (77)\ttotal: 1.85s\tremaining: 18.3s\n",
      "78:\tlearn: 0.4477073\ttest: 0.5662890\tbest: 0.5660706 (77)\ttotal: 1.87s\tremaining: 18.3s\n",
      "79:\tlearn: 0.4466894\ttest: 0.5658452\tbest: 0.5658452 (79)\ttotal: 1.9s\tremaining: 18.3s\n",
      "80:\tlearn: 0.4454931\ttest: 0.5652621\tbest: 0.5652621 (80)\ttotal: 1.92s\tremaining: 18.2s\n",
      "81:\tlearn: 0.4435862\ttest: 0.5664297\tbest: 0.5652621 (80)\ttotal: 1.94s\tremaining: 18.2s\n",
      "82:\tlearn: 0.4421700\ttest: 0.5655731\tbest: 0.5652621 (80)\ttotal: 1.96s\tremaining: 18.1s\n",
      "83:\tlearn: 0.4390064\ttest: 0.5671069\tbest: 0.5652621 (80)\ttotal: 1.98s\tremaining: 18.1s\n",
      "84:\tlearn: 0.4378165\ttest: 0.5684302\tbest: 0.5652621 (80)\ttotal: 2s\tremaining: 18s\n",
      "85:\tlearn: 0.4363186\ttest: 0.5698525\tbest: 0.5652621 (80)\ttotal: 2.02s\tremaining: 18s\n",
      "86:\tlearn: 0.4354147\ttest: 0.5714653\tbest: 0.5652621 (80)\ttotal: 2.05s\tremaining: 17.9s\n",
      "87:\tlearn: 0.4340386\ttest: 0.5704752\tbest: 0.5652621 (80)\ttotal: 2.07s\tremaining: 17.9s\n",
      "88:\tlearn: 0.4330495\ttest: 0.5696803\tbest: 0.5652621 (80)\ttotal: 2.09s\tremaining: 17.9s\n",
      "89:\tlearn: 0.4318308\ttest: 0.5708013\tbest: 0.5652621 (80)\ttotal: 2.11s\tremaining: 17.8s\n",
      "90:\tlearn: 0.4307913\ttest: 0.5697900\tbest: 0.5652621 (80)\ttotal: 2.13s\tremaining: 17.8s\n",
      "91:\tlearn: 0.4291627\ttest: 0.5701088\tbest: 0.5652621 (80)\ttotal: 2.15s\tremaining: 17.7s\n",
      "92:\tlearn: 0.4279957\ttest: 0.5697982\tbest: 0.5652621 (80)\ttotal: 2.17s\tremaining: 17.7s\n",
      "93:\tlearn: 0.4262381\ttest: 0.5695737\tbest: 0.5652621 (80)\ttotal: 2.2s\tremaining: 17.7s\n",
      "94:\tlearn: 0.4249235\ttest: 0.5703685\tbest: 0.5652621 (80)\ttotal: 2.22s\tremaining: 17.6s\n",
      "95:\tlearn: 0.4227924\ttest: 0.5703358\tbest: 0.5652621 (80)\ttotal: 2.24s\tremaining: 17.6s\n",
      "96:\tlearn: 0.4213388\ttest: 0.5707347\tbest: 0.5652621 (80)\ttotal: 2.26s\tremaining: 17.5s\n",
      "97:\tlearn: 0.4201681\ttest: 0.5717488\tbest: 0.5652621 (80)\ttotal: 2.28s\tremaining: 17.5s\n",
      "98:\tlearn: 0.4189649\ttest: 0.5713278\tbest: 0.5652621 (80)\ttotal: 2.3s\tremaining: 17.4s\n",
      "99:\tlearn: 0.4178246\ttest: 0.5713550\tbest: 0.5652621 (80)\ttotal: 2.32s\tremaining: 17.4s\n",
      "100:\tlearn: 0.4158124\ttest: 0.5704603\tbest: 0.5652621 (80)\ttotal: 2.34s\tremaining: 17.4s\n",
      "101:\tlearn: 0.4143331\ttest: 0.5706519\tbest: 0.5652621 (80)\ttotal: 2.37s\tremaining: 17.4s\n",
      "102:\tlearn: 0.4129567\ttest: 0.5678909\tbest: 0.5652621 (80)\ttotal: 2.38s\tremaining: 17.3s\n",
      "103:\tlearn: 0.4114829\ttest: 0.5676121\tbest: 0.5652621 (80)\ttotal: 2.41s\tremaining: 17.3s\n",
      "104:\tlearn: 0.4089397\ttest: 0.5675571\tbest: 0.5652621 (80)\ttotal: 2.43s\tremaining: 17.3s\n",
      "105:\tlearn: 0.4077299\ttest: 0.5663096\tbest: 0.5652621 (80)\ttotal: 2.45s\tremaining: 17.2s\n",
      "106:\tlearn: 0.4060456\ttest: 0.5658717\tbest: 0.5652621 (80)\ttotal: 2.47s\tremaining: 17.2s\n",
      "107:\tlearn: 0.4049550\ttest: 0.5667092\tbest: 0.5652621 (80)\ttotal: 2.49s\tremaining: 17.1s\n",
      "108:\tlearn: 0.4032479\ttest: 0.5671074\tbest: 0.5652621 (80)\ttotal: 2.51s\tremaining: 17.1s\n",
      "109:\tlearn: 0.4019479\ttest: 0.5683486\tbest: 0.5652621 (80)\ttotal: 2.53s\tremaining: 17s\n",
      "110:\tlearn: 0.4013093\ttest: 0.5682685\tbest: 0.5652621 (80)\ttotal: 2.55s\tremaining: 17s\n",
      "111:\tlearn: 0.4001826\ttest: 0.5671943\tbest: 0.5652621 (80)\ttotal: 2.57s\tremaining: 17s\n",
      "112:\tlearn: 0.3994107\ttest: 0.5680254\tbest: 0.5652621 (80)\ttotal: 2.6s\tremaining: 16.9s\n",
      "113:\tlearn: 0.3976037\ttest: 0.5670459\tbest: 0.5652621 (80)\ttotal: 2.62s\tremaining: 16.9s\n",
      "114:\tlearn: 0.3948117\ttest: 0.5679601\tbest: 0.5652621 (80)\ttotal: 2.64s\tremaining: 16.9s\n",
      "115:\tlearn: 0.3935161\ttest: 0.5673143\tbest: 0.5652621 (80)\ttotal: 2.66s\tremaining: 16.8s\n",
      "116:\tlearn: 0.3914755\ttest: 0.5671506\tbest: 0.5652621 (80)\ttotal: 2.68s\tremaining: 16.8s\n",
      "117:\tlearn: 0.3902621\ttest: 0.5678768\tbest: 0.5652621 (80)\ttotal: 2.7s\tremaining: 16.8s\n",
      "118:\tlearn: 0.3889581\ttest: 0.5688019\tbest: 0.5652621 (80)\ttotal: 2.73s\tremaining: 16.7s\n",
      "119:\tlearn: 0.3880753\ttest: 0.5685397\tbest: 0.5652621 (80)\ttotal: 2.74s\tremaining: 16.7s\n",
      "120:\tlearn: 0.3871575\ttest: 0.5682333\tbest: 0.5652621 (80)\ttotal: 2.76s\tremaining: 16.6s\n",
      "121:\tlearn: 0.3852810\ttest: 0.5652081\tbest: 0.5652081 (121)\ttotal: 2.78s\tremaining: 16.6s\n",
      "122:\tlearn: 0.3838001\ttest: 0.5652138\tbest: 0.5652081 (121)\ttotal: 2.8s\tremaining: 16.6s\n",
      "123:\tlearn: 0.3825239\ttest: 0.5678022\tbest: 0.5652081 (121)\ttotal: 2.83s\tremaining: 16.5s\n",
      "124:\tlearn: 0.3815153\ttest: 0.5675265\tbest: 0.5652081 (121)\ttotal: 2.85s\tremaining: 16.5s\n",
      "125:\tlearn: 0.3804783\ttest: 0.5681959\tbest: 0.5652081 (121)\ttotal: 2.87s\tremaining: 16.5s\n",
      "126:\tlearn: 0.3793320\ttest: 0.5679744\tbest: 0.5652081 (121)\ttotal: 2.89s\tremaining: 16.5s\n",
      "127:\tlearn: 0.3781180\ttest: 0.5678187\tbest: 0.5652081 (121)\ttotal: 2.91s\tremaining: 16.4s\n",
      "128:\tlearn: 0.3771092\ttest: 0.5678908\tbest: 0.5652081 (121)\ttotal: 2.93s\tremaining: 16.4s\n",
      "129:\tlearn: 0.3760278\ttest: 0.5695904\tbest: 0.5652081 (121)\ttotal: 2.95s\tremaining: 16.4s\n",
      "130:\tlearn: 0.3748587\ttest: 0.5689511\tbest: 0.5652081 (121)\ttotal: 2.98s\tremaining: 16.3s\n",
      "131:\tlearn: 0.3732192\ttest: 0.5693404\tbest: 0.5652081 (121)\ttotal: 3s\tremaining: 16.3s\n",
      "132:\tlearn: 0.3721931\ttest: 0.5694365\tbest: 0.5652081 (121)\ttotal: 3.02s\tremaining: 16.3s\n",
      "133:\tlearn: 0.3711541\ttest: 0.5699348\tbest: 0.5652081 (121)\ttotal: 3.04s\tremaining: 16.2s\n",
      "134:\tlearn: 0.3699017\ttest: 0.5701361\tbest: 0.5652081 (121)\ttotal: 3.06s\tremaining: 16.2s\n",
      "135:\tlearn: 0.3689832\ttest: 0.5710607\tbest: 0.5652081 (121)\ttotal: 3.08s\tremaining: 16.2s\n",
      "136:\tlearn: 0.3680935\ttest: 0.5698868\tbest: 0.5652081 (121)\ttotal: 3.1s\tremaining: 16.1s\n",
      "137:\tlearn: 0.3674368\ttest: 0.5701382\tbest: 0.5652081 (121)\ttotal: 3.12s\tremaining: 16.1s\n",
      "138:\tlearn: 0.3666236\ttest: 0.5696195\tbest: 0.5652081 (121)\ttotal: 3.14s\tremaining: 16.1s\n",
      "139:\tlearn: 0.3658654\ttest: 0.5701818\tbest: 0.5652081 (121)\ttotal: 3.17s\tremaining: 16.1s\n",
      "140:\tlearn: 0.3649586\ttest: 0.5717948\tbest: 0.5652081 (121)\ttotal: 3.19s\tremaining: 16s\n",
      "141:\tlearn: 0.3633935\ttest: 0.5723333\tbest: 0.5652081 (121)\ttotal: 3.22s\tremaining: 16s\n",
      "142:\tlearn: 0.3621067\ttest: 0.5732380\tbest: 0.5652081 (121)\ttotal: 3.24s\tremaining: 16s\n",
      "143:\tlearn: 0.3612407\ttest: 0.5730668\tbest: 0.5652081 (121)\ttotal: 3.26s\tremaining: 16s\n",
      "144:\tlearn: 0.3598538\ttest: 0.5733189\tbest: 0.5652081 (121)\ttotal: 3.29s\tremaining: 16s\n",
      "145:\tlearn: 0.3591262\ttest: 0.5728874\tbest: 0.5652081 (121)\ttotal: 3.31s\tremaining: 16s\n",
      "146:\tlearn: 0.3580395\ttest: 0.5727618\tbest: 0.5652081 (121)\ttotal: 3.33s\tremaining: 15.9s\n",
      "147:\tlearn: 0.3571587\ttest: 0.5727001\tbest: 0.5652081 (121)\ttotal: 3.35s\tremaining: 15.9s\n",
      "148:\tlearn: 0.3565757\ttest: 0.5726086\tbest: 0.5652081 (121)\ttotal: 3.37s\tremaining: 15.9s\n",
      "149:\tlearn: 0.3556414\ttest: 0.5732281\tbest: 0.5652081 (121)\ttotal: 3.39s\tremaining: 15.8s\n",
      "150:\tlearn: 0.3545035\ttest: 0.5749278\tbest: 0.5652081 (121)\ttotal: 3.41s\tremaining: 15.8s\n",
      "151:\tlearn: 0.3536273\ttest: 0.5761309\tbest: 0.5652081 (121)\ttotal: 3.44s\tremaining: 15.8s\n",
      "152:\tlearn: 0.3526577\ttest: 0.5764136\tbest: 0.5652081 (121)\ttotal: 3.46s\tremaining: 15.8s\n",
      "153:\tlearn: 0.3514399\ttest: 0.5779434\tbest: 0.5652081 (121)\ttotal: 3.48s\tremaining: 15.7s\n",
      "154:\tlearn: 0.3508107\ttest: 0.5777489\tbest: 0.5652081 (121)\ttotal: 3.5s\tremaining: 15.7s\n",
      "155:\tlearn: 0.3501256\ttest: 0.5782050\tbest: 0.5652081 (121)\ttotal: 3.52s\tremaining: 15.7s\n",
      "156:\tlearn: 0.3493718\ttest: 0.5784689\tbest: 0.5652081 (121)\ttotal: 3.54s\tremaining: 15.7s\n",
      "157:\tlearn: 0.3488362\ttest: 0.5782642\tbest: 0.5652081 (121)\ttotal: 3.57s\tremaining: 15.6s\n",
      "158:\tlearn: 0.3477666\ttest: 0.5793122\tbest: 0.5652081 (121)\ttotal: 3.59s\tremaining: 15.6s\n",
      "159:\tlearn: 0.3473148\ttest: 0.5785589\tbest: 0.5652081 (121)\ttotal: 3.62s\tremaining: 15.6s\n",
      "160:\tlearn: 0.3460863\ttest: 0.5773952\tbest: 0.5652081 (121)\ttotal: 3.66s\tremaining: 15.7s\n",
      "161:\tlearn: 0.3453403\ttest: 0.5770918\tbest: 0.5652081 (121)\ttotal: 3.69s\tremaining: 15.7s\n",
      "162:\tlearn: 0.3444870\ttest: 0.5768582\tbest: 0.5652081 (121)\ttotal: 3.72s\tremaining: 15.7s\n",
      "163:\tlearn: 0.3434648\ttest: 0.5762175\tbest: 0.5652081 (121)\ttotal: 3.74s\tremaining: 15.7s\n",
      "164:\tlearn: 0.3424811\ttest: 0.5756413\tbest: 0.5652081 (121)\ttotal: 3.76s\tremaining: 15.6s\n",
      "165:\tlearn: 0.3418863\ttest: 0.5753869\tbest: 0.5652081 (121)\ttotal: 3.79s\tremaining: 15.6s\n",
      "166:\tlearn: 0.3408182\ttest: 0.5749025\tbest: 0.5652081 (121)\ttotal: 3.81s\tremaining: 15.6s\n",
      "167:\tlearn: 0.3401023\ttest: 0.5738981\tbest: 0.5652081 (121)\ttotal: 3.83s\tremaining: 15.5s\n",
      "168:\tlearn: 0.3389373\ttest: 0.5754245\tbest: 0.5652081 (121)\ttotal: 3.96s\tremaining: 16s\n",
      "169:\tlearn: 0.3385384\ttest: 0.5758924\tbest: 0.5652081 (121)\ttotal: 3.99s\tremaining: 16s\n",
      "170:\tlearn: 0.3379234\ttest: 0.5759499\tbest: 0.5652081 (121)\ttotal: 4.02s\tremaining: 16s\n",
      "171:\tlearn: 0.3364308\ttest: 0.5752081\tbest: 0.5652081 (121)\ttotal: 4.04s\tremaining: 15.9s\n",
      "Stopped by overfitting detector  (50 iterations wait)\n",
      "\n",
      "bestTest = 0.5652081174\n",
      "bestIteration = 121\n",
      "\n",
      "Shrink model to first 122 iterations.\n"
     ]
    }
   ],
   "source": [
    "best_model = CatBoostClassifier(**study.best_params, eval_metric='Logloss', custom_metric=[metrics.F1()], train_dir='hypersearch_model')\n",
    "best_model.fit(train_pool, eval_set=val_pool, early_stopping_rounds=50)\n",
    "\n",
    "y_train_pred = best_model.predict(train_pool)\n",
    "y_val_pred = best_model.predict(val_pool)\n",
    "y_test_pred = best_model.predict(test_pool)"
   ]
  },
  {
   "cell_type": "code",
   "execution_count": 33,
   "id": "1914ec24-fffa-410a-87b1-9c6762db4605",
   "metadata": {},
   "outputs": [],
   "source": [
    "# визуализация бейзлайн модели в сравнении с моделью, для которой подбирались гиперпараметры\n",
    "# from catboost import MetricVisualizer\n",
    "# visualizer = MetricVisualizer(['baseline_model', 'best_model'])\n",
    "# visualizer.start()"
   ]
  },
  {
   "cell_type": "code",
   "execution_count": 34,
   "id": "f7570da8-0001-444f-a765-d3347220ab2f",
   "metadata": {},
   "outputs": [
    {
     "name": "stdout",
     "output_type": "stream",
     "text": [
      "              precision    recall  f1-score   support\n",
      "\n",
      "           0       0.86      0.99      0.92       229\n",
      "           1       0.98      0.73      0.83       135\n",
      "\n",
      "    accuracy                           0.89       364\n",
      "   macro avg       0.92      0.86      0.88       364\n",
      "weighted avg       0.90      0.89      0.89       364\n",
      "\n",
      "              precision    recall  f1-score   support\n",
      "\n",
      "           0       0.79      0.85      0.82       123\n",
      "           1       0.71      0.63      0.67        73\n",
      "\n",
      "    accuracy                           0.77       196\n",
      "   macro avg       0.75      0.74      0.74       196\n",
      "weighted avg       0.76      0.77      0.76       196\n",
      "\n"
     ]
    },
    {
     "data": {
      "image/png": "[encoded data removed]",
      "text/plain": [
       "<Figure size 300x200 with 2 Axes>"
      ]
     },
     "metadata": {},
     "output_type": "display_data"
    }
   ],
   "source": [
    "print(classification_report(y_train, y_train_pred))\n",
    "print(classification_report(y_test, y_test_pred))\n",
    "conf_matrix(y_test, y_test_pred)"
   ]
  },
  {
   "cell_type": "markdown",
   "id": "0f4f98e9-032a-48a8-bfc3-8707d0886a22",
   "metadata": {},
   "source": [
    "Также подберем оптимальный порог:"
   ]
  },
  {
   "cell_type": "code",
   "execution_count": 35,
   "id": "81a78e82-888d-49b7-b107-8a6391a4922d",
   "metadata": {},
   "outputs": [
    {
     "data": {
      "text/plain": [
       "0.49"
      ]
     },
     "execution_count": 35,
     "metadata": {},
     "output_type": "execute_result"
    }
   ],
   "source": [
    "optimal_threshold = get_best_threshold(best_model, X_test, y_test)\n",
    "optimal_threshold"
   ]
  },
  {
   "cell_type": "code",
   "execution_count": 36,
   "id": "1a4eed0f-8829-43fd-84bd-93a3a0d6687e",
   "metadata": {},
   "outputs": [],
   "source": [
    "y_test_pred = (best_model.predict_proba(test_pool)[:, 1] >= optimal_threshold).astype(int)"
   ]
  },
  {
   "cell_type": "code",
   "execution_count": 37,
   "id": "d8d0df58-1b13-4e3c-9f8e-2dbcdf7fff1c",
   "metadata": {},
   "outputs": [
    {
     "name": "stdout",
     "output_type": "stream",
     "text": [
      "              precision    recall  f1-score   support\n",
      "\n",
      "           0       0.80      0.85      0.82       123\n",
      "           1       0.71      0.64      0.68        73\n",
      "\n",
      "    accuracy                           0.77       196\n",
      "   macro avg       0.76      0.74      0.75       196\n",
      "weighted avg       0.77      0.77      0.77       196\n",
      "\n"
     ]
    },
    {
     "data": {
      "image/png": "[encoded data removed]",
      "text/plain": [
       "<Figure size 300x200 with 2 Axes>"
      ]
     },
     "metadata": {},
     "output_type": "display_data"
    }
   ],
   "source": [
    "print(classification_report(y_test, y_test_pred))\n",
    "conf_matrix(y_test, y_test_pred)"
   ]
  },
  {
   "cell_type": "markdown",
   "id": "aa044ca2-9ac4-426a-b60d-e00699df1a1e",
   "metadata": {},
   "source": [
    "Переведем уверенности классифкатора в оценки:"
   ]
  },
  {
   "cell_type": "code",
   "execution_count": 38,
   "id": "ba6c5f8a-bedb-4288-8134-66992cbad6e1",
   "metadata": {},
   "outputs": [
    {
     "data": {
      "text/plain": [
       "0.5706364313274498"
      ]
     },
     "execution_count": 38,
     "metadata": {},
     "output_type": "execute_result"
    }
   ],
   "source": [
    "y_test_cont = df['score1'][y_test.index]\n",
    "mean_absolute_error(y_test_cont, best_model.predict_proba(test_pool)[:, 1] * 3)"
   ]
  },
  {
   "cell_type": "markdown",
   "id": "ec3777db-369a-4813-b3ff-a32e2e5f159c",
   "metadata": {},
   "source": [
    "Вещественные оценки получаются чуть лучше, чем у baseline-модели."
   ]
  },
  {
   "cell_type": "markdown",
   "id": "b052d4f0-ff1e-4b67-93cf-4085c0bcf696",
   "metadata": {},
   "source": [
    "## 1.2. По модели на каждый ответ"
   ]
  },
  {
   "cell_type": "markdown",
   "id": "54fe3979-adaa-4f18-a301-30e7f8a8c1a9",
   "metadata": {},
   "source": [
    "Будем решать задачу классификации для каждого ответа по отдельности, то есть для каждого ответа будет отдельный CatBoost-классификатор, который будет обучаться только на конкретном ответе."
   ]
  },
  {
   "cell_type": "markdown",
   "id": "59d9aab4-ea54-4e65-b213-14b0babfe8c4",
   "metadata": {},
   "source": [
    "Необходимо также продумать масштабируемое решение для произвольного числа ответов."
   ]
  },
  {
   "cell_type": "code",
   "execution_count": 39,
   "id": "f8ede7ae-3698-49ca-b12d-0c3ed677c377",
   "metadata": {},
   "outputs": [],
   "source": [
    "N = 3 # число моделей"
   ]
  },
  {
   "cell_type": "code",
   "execution_count": 40,
   "id": "d3a8ea1b-4633-4172-b570-a9499f5bd254",
   "metadata": {},
   "outputs": [],
   "source": [
    "df = pd.read_csv('data.csv')"
   ]
  },
  {
   "cell_type": "code",
   "execution_count": 41,
   "id": "7709919e-aea7-4142-b230-506583ec99e3",
   "metadata": {},
   "outputs": [
    {
     "data": {
      "text/html": [
       "<div>\n",
       "<style scoped>\n",
       "    .dataframe tbody tr th:only-of-type {\n",
       "        vertical-align: middle;\n",
       "    }\n",
       "\n",
       "    .dataframe tbody tr th {\n",
       "        vertical-align: top;\n",
       "    }\n",
       "\n",
       "    .dataframe thead th {\n",
       "        text-align: right;\n",
       "    }\n",
       "</style>\n",
       "<table border=\"1\" class=\"dataframe\">\n",
       "  <thead>\n",
       "    <tr style=\"text-align: right;\">\n",
       "      <th></th>\n",
       "      <th>id</th>\n",
       "      <th>answer1</th>\n",
       "      <th>score1</th>\n",
       "      <th>answer2</th>\n",
       "      <th>score2</th>\n",
       "      <th>answer3</th>\n",
       "      <th>score3</th>\n",
       "      <th>result</th>\n",
       "    </tr>\n",
       "  </thead>\n",
       "  <tbody>\n",
       "    <tr>\n",
       "      <th>0</th>\n",
       "      <td>train_0</td>\n",
       "      <td>для анализа массивов данных необходимых в работе</td>\n",
       "      <td>2.0</td>\n",
       "      <td>для анализа массивов данных необходимых в работе</td>\n",
       "      <td>2.0</td>\n",
       "      <td>стараюсь всегда брать задачи, выполнение котор...</td>\n",
       "      <td>2.0</td>\n",
       "      <td>6.0</td>\n",
       "    </tr>\n",
       "    <tr>\n",
       "      <th>1</th>\n",
       "      <td>train_1</td>\n",
       "      <td>Буду использовать полученные знания в работе д...</td>\n",
       "      <td>2.0</td>\n",
       "      <td>Автоматизирую процесс сбора данных и дальнейше...</td>\n",
       "      <td>2.0</td>\n",
       "      <td>Задача по анализу кода и содержанию пакетов - ...</td>\n",
       "      <td>1.5</td>\n",
       "      <td>5.5</td>\n",
       "    </tr>\n",
       "    <tr>\n",
       "      <th>2</th>\n",
       "      <td>train_2</td>\n",
       "      <td>хочу стать топовым программистом во всём мире ...</td>\n",
       "      <td>1.5</td>\n",
       "      <td>изучаю программирование</td>\n",
       "      <td>1.5</td>\n",
       "      <td>-</td>\n",
       "      <td>0.0</td>\n",
       "      <td>3.0</td>\n",
       "    </tr>\n",
       "  </tbody>\n",
       "</table>\n",
       "</div>"
      ],
      "text/plain": [
       "        id                                            answer1  score1  \\\n",
       "0  train_0   для анализа массивов данных необходимых в работе     2.0   \n",
       "1  train_1  Буду использовать полученные знания в работе д...     2.0   \n",
       "2  train_2  хочу стать топовым программистом во всём мире ...     1.5   \n",
       "\n",
       "                                             answer2  score2  \\\n",
       "0   для анализа массивов данных необходимых в работе     2.0   \n",
       "1  Автоматизирую процесс сбора данных и дальнейше...     2.0   \n",
       "2                            изучаю программирование     1.5   \n",
       "\n",
       "                                             answer3  score3  result  \n",
       "0  стараюсь всегда брать задачи, выполнение котор...     2.0     6.0  \n",
       "1  Задача по анализу кода и содержанию пакетов - ...     1.5     5.5  \n",
       "2                                                  -     0.0     3.0  "
      ]
     },
     "execution_count": 41,
     "metadata": {},
     "output_type": "execute_result"
    }
   ],
   "source": [
    "df.head(3)"
   ]
  },
  {
   "cell_type": "code",
   "execution_count": 42,
   "id": "4183e42f-a085-4583-a929-e49cf2001dd3",
   "metadata": {},
   "outputs": [],
   "source": [
    "df.drop(columns=['id', 'result'], inplace=True)"
   ]
  },
  {
   "cell_type": "code",
   "execution_count": 43,
   "id": "3d07023c-b390-4a80-aff5-00191977abc8",
   "metadata": {},
   "outputs": [
    {
     "data": {
      "text/plain": [
       "answer1    0\n",
       "score1     0\n",
       "answer2    1\n",
       "score2     0\n",
       "answer3    0\n",
       "score3     0\n",
       "dtype: int64"
      ]
     },
     "execution_count": 43,
     "metadata": {},
     "output_type": "execute_result"
    }
   ],
   "source": [
    "df.isna().sum()"
   ]
  },
  {
   "cell_type": "code",
   "execution_count": 44,
   "id": "07871692-e096-40a5-aef5-0a4d43b44544",
   "metadata": {},
   "outputs": [],
   "source": [
    "df = df.fillna('')"
   ]
  },
  {
   "cell_type": "code",
   "execution_count": 45,
   "id": "2c45fc53-1b9d-4658-ad4b-1acfe977d2ea",
   "metadata": {},
   "outputs": [
    {
     "data": {
      "text/plain": [
       "answer1    0\n",
       "score1     0\n",
       "answer2    0\n",
       "score2     0\n",
       "answer3    0\n",
       "score3     0\n",
       "dtype: int64"
      ]
     },
     "execution_count": 45,
     "metadata": {},
     "output_type": "execute_result"
    }
   ],
   "source": [
    "df.isna().sum()"
   ]
  },
  {
   "cell_type": "markdown",
   "id": "98f40d16-f54c-4fd5-af0c-fda0267cd6aa",
   "metadata": {},
   "source": [
    "Добавляем признаки - длины ответов:"
   ]
  },
  {
   "cell_type": "code",
   "execution_count": 46,
   "id": "d549b6ca-e8b2-406d-9ec2-6b3bb3aba7ea",
   "metadata": {},
   "outputs": [],
   "source": [
    "for i in range(N):\n",
    "    df[f'answer{i+1}_len'] = df[f'answer{i+1}'].map(len)"
   ]
  },
  {
   "cell_type": "code",
   "execution_count": 47,
   "id": "921ad5a6-92af-409d-85fb-ac729b987a8e",
   "metadata": {},
   "outputs": [
    {
     "data": {
      "text/html": [
       "<div>\n",
       "<style scoped>\n",
       "    .dataframe tbody tr th:only-of-type {\n",
       "        vertical-align: middle;\n",
       "    }\n",
       "\n",
       "    .dataframe tbody tr th {\n",
       "        vertical-align: top;\n",
       "    }\n",
       "\n",
       "    .dataframe thead th {\n",
       "        text-align: right;\n",
       "    }\n",
       "</style>\n",
       "<table border=\"1\" class=\"dataframe\">\n",
       "  <thead>\n",
       "    <tr style=\"text-align: right;\">\n",
       "      <th></th>\n",
       "      <th>answer1</th>\n",
       "      <th>score1</th>\n",
       "      <th>answer2</th>\n",
       "      <th>score2</th>\n",
       "      <th>answer3</th>\n",
       "      <th>score3</th>\n",
       "      <th>answer1_len</th>\n",
       "      <th>answer2_len</th>\n",
       "      <th>answer3_len</th>\n",
       "    </tr>\n",
       "  </thead>\n",
       "  <tbody>\n",
       "    <tr>\n",
       "      <th>0</th>\n",
       "      <td>для анализа массивов данных необходимых в работе</td>\n",
       "      <td>2.0</td>\n",
       "      <td>для анализа массивов данных необходимых в работе</td>\n",
       "      <td>2.0</td>\n",
       "      <td>стараюсь всегда брать задачи, выполнение котор...</td>\n",
       "      <td>2.0</td>\n",
       "      <td>48</td>\n",
       "      <td>48</td>\n",
       "      <td>548</td>\n",
       "    </tr>\n",
       "    <tr>\n",
       "      <th>1</th>\n",
       "      <td>Буду использовать полученные знания в работе д...</td>\n",
       "      <td>2.0</td>\n",
       "      <td>Автоматизирую процесс сбора данных и дальнейше...</td>\n",
       "      <td>2.0</td>\n",
       "      <td>Задача по анализу кода и содержанию пакетов - ...</td>\n",
       "      <td>1.5</td>\n",
       "      <td>139</td>\n",
       "      <td>113</td>\n",
       "      <td>320</td>\n",
       "    </tr>\n",
       "    <tr>\n",
       "      <th>2</th>\n",
       "      <td>хочу стать топовым программистом во всём мире ...</td>\n",
       "      <td>1.5</td>\n",
       "      <td>изучаю программирование</td>\n",
       "      <td>1.5</td>\n",
       "      <td>-</td>\n",
       "      <td>0.0</td>\n",
       "      <td>63</td>\n",
       "      <td>23</td>\n",
       "      <td>1</td>\n",
       "    </tr>\n",
       "  </tbody>\n",
       "</table>\n",
       "</div>"
      ],
      "text/plain": [
       "                                             answer1  score1  \\\n",
       "0   для анализа массивов данных необходимых в работе     2.0   \n",
       "1  Буду использовать полученные знания в работе д...     2.0   \n",
       "2  хочу стать топовым программистом во всём мире ...     1.5   \n",
       "\n",
       "                                             answer2  score2  \\\n",
       "0   для анализа массивов данных необходимых в работе     2.0   \n",
       "1  Автоматизирую процесс сбора данных и дальнейше...     2.0   \n",
       "2                            изучаю программирование     1.5   \n",
       "\n",
       "                                             answer3  score3  answer1_len  \\\n",
       "0  стараюсь всегда брать задачи, выполнение котор...     2.0           48   \n",
       "1  Задача по анализу кода и содержанию пакетов - ...     1.5          139   \n",
       "2                                                  -     0.0           63   \n",
       "\n",
       "   answer2_len  answer3_len  \n",
       "0           48          548  \n",
       "1          113          320  \n",
       "2           23            1  "
      ]
     },
     "execution_count": 47,
     "metadata": {},
     "output_type": "execute_result"
    }
   ],
   "source": [
    "df.head(3)"
   ]
  },
  {
   "cell_type": "code",
   "execution_count": 48,
   "id": "07310f8c-bc94-4151-a10c-f71851b327c5",
   "metadata": {},
   "outputs": [],
   "source": [
    "X_df, y_df = df.drop(columns=['score1', 'score2', 'score3']), df[['score1', 'score2', 'score3']]"
   ]
  },
  {
   "cell_type": "code",
   "execution_count": 49,
   "id": "ed487a5a-4c56-415f-907a-31f1b4cffb4d",
   "metadata": {},
   "outputs": [
    {
     "data": {
      "text/html": [
       "<div>\n",
       "<style scoped>\n",
       "    .dataframe tbody tr th:only-of-type {\n",
       "        vertical-align: middle;\n",
       "    }\n",
       "\n",
       "    .dataframe tbody tr th {\n",
       "        vertical-align: top;\n",
       "    }\n",
       "\n",
       "    .dataframe thead th {\n",
       "        text-align: right;\n",
       "    }\n",
       "</style>\n",
       "<table border=\"1\" class=\"dataframe\">\n",
       "  <thead>\n",
       "    <tr style=\"text-align: right;\">\n",
       "      <th></th>\n",
       "      <th>answer1</th>\n",
       "      <th>answer2</th>\n",
       "      <th>answer3</th>\n",
       "      <th>answer1_len</th>\n",
       "      <th>answer2_len</th>\n",
       "      <th>answer3_len</th>\n",
       "    </tr>\n",
       "  </thead>\n",
       "  <tbody>\n",
       "    <tr>\n",
       "      <th>0</th>\n",
       "      <td>для анализа массивов данных необходимых в работе</td>\n",
       "      <td>для анализа массивов данных необходимых в работе</td>\n",
       "      <td>стараюсь всегда брать задачи, выполнение котор...</td>\n",
       "      <td>48</td>\n",
       "      <td>48</td>\n",
       "      <td>548</td>\n",
       "    </tr>\n",
       "    <tr>\n",
       "      <th>1</th>\n",
       "      <td>Буду использовать полученные знания в работе д...</td>\n",
       "      <td>Автоматизирую процесс сбора данных и дальнейше...</td>\n",
       "      <td>Задача по анализу кода и содержанию пакетов - ...</td>\n",
       "      <td>139</td>\n",
       "      <td>113</td>\n",
       "      <td>320</td>\n",
       "    </tr>\n",
       "    <tr>\n",
       "      <th>2</th>\n",
       "      <td>хочу стать топовым программистом во всём мире ...</td>\n",
       "      <td>изучаю программирование</td>\n",
       "      <td>-</td>\n",
       "      <td>63</td>\n",
       "      <td>23</td>\n",
       "      <td>1</td>\n",
       "    </tr>\n",
       "  </tbody>\n",
       "</table>\n",
       "</div>"
      ],
      "text/plain": [
       "                                             answer1  \\\n",
       "0   для анализа массивов данных необходимых в работе   \n",
       "1  Буду использовать полученные знания в работе д...   \n",
       "2  хочу стать топовым программистом во всём мире ...   \n",
       "\n",
       "                                             answer2  \\\n",
       "0   для анализа массивов данных необходимых в работе   \n",
       "1  Автоматизирую процесс сбора данных и дальнейше...   \n",
       "2                            изучаю программирование   \n",
       "\n",
       "                                             answer3  answer1_len  \\\n",
       "0  стараюсь всегда брать задачи, выполнение котор...           48   \n",
       "1  Задача по анализу кода и содержанию пакетов - ...          139   \n",
       "2                                                  -           63   \n",
       "\n",
       "   answer2_len  answer3_len  \n",
       "0           48          548  \n",
       "1          113          320  \n",
       "2           23            1  "
      ]
     },
     "execution_count": 49,
     "metadata": {},
     "output_type": "execute_result"
    }
   ],
   "source": [
    "X_df.head(3)"
   ]
  },
  {
   "cell_type": "code",
   "execution_count": 50,
   "id": "55e47c76-bfd0-48fd-bbdc-03da8d7a622a",
   "metadata": {},
   "outputs": [
    {
     "data": {
      "text/html": [
       "<div>\n",
       "<style scoped>\n",
       "    .dataframe tbody tr th:only-of-type {\n",
       "        vertical-align: middle;\n",
       "    }\n",
       "\n",
       "    .dataframe tbody tr th {\n",
       "        vertical-align: top;\n",
       "    }\n",
       "\n",
       "    .dataframe thead th {\n",
       "        text-align: right;\n",
       "    }\n",
       "</style>\n",
       "<table border=\"1\" class=\"dataframe\">\n",
       "  <thead>\n",
       "    <tr style=\"text-align: right;\">\n",
       "      <th></th>\n",
       "      <th>score1</th>\n",
       "      <th>score2</th>\n",
       "      <th>score3</th>\n",
       "    </tr>\n",
       "  </thead>\n",
       "  <tbody>\n",
       "    <tr>\n",
       "      <th>0</th>\n",
       "      <td>2.0</td>\n",
       "      <td>2.0</td>\n",
       "      <td>2.0</td>\n",
       "    </tr>\n",
       "    <tr>\n",
       "      <th>1</th>\n",
       "      <td>2.0</td>\n",
       "      <td>2.0</td>\n",
       "      <td>1.5</td>\n",
       "    </tr>\n",
       "    <tr>\n",
       "      <th>2</th>\n",
       "      <td>1.5</td>\n",
       "      <td>1.5</td>\n",
       "      <td>0.0</td>\n",
       "    </tr>\n",
       "  </tbody>\n",
       "</table>\n",
       "</div>"
      ],
      "text/plain": [
       "   score1  score2  score3\n",
       "0     2.0     2.0     2.0\n",
       "1     2.0     2.0     1.5\n",
       "2     1.5     1.5     0.0"
      ]
     },
     "execution_count": 50,
     "metadata": {},
     "output_type": "execute_result"
    }
   ],
   "source": [
    "y_df.head(3)"
   ]
  },
  {
   "cell_type": "markdown",
   "id": "685f67e0-741d-484a-9d14-2741e04c55bf",
   "metadata": {},
   "source": [
    "Разобьем также на трейн, валидацию и тест:"
   ]
  },
  {
   "cell_type": "code",
   "execution_count": 51,
   "id": "017c1efc-2de5-49eb-8517-442466c297da",
   "metadata": {},
   "outputs": [],
   "source": [
    "y_df = (y_df > 1.5).astype(int)"
   ]
  },
  {
   "cell_type": "code",
   "execution_count": 52,
   "id": "24aef402-8783-4433-bfbc-ab2222a1b2ee",
   "metadata": {},
   "outputs": [],
   "source": [
    "X_train_df, X_val_df, X_test_df, y_train_df, y_val_df, y_test_df = split_data_cls(X_df, y_df)"
   ]
  },
  {
   "cell_type": "markdown",
   "id": "2a383ddc-a7db-475d-90de-0c024090796d",
   "metadata": {},
   "source": [
    "С гиперпараметрами для подбора определились - тут будем также использовать их:"
   ]
  },
  {
   "cell_type": "code",
   "execution_count": 53,
   "id": "34ed1a30-78ac-444a-9bec-b0676919ef8b",
   "metadata": {},
   "outputs": [],
   "source": [
    "def train_model(train_pool, val_pool, test_pool, y_test_cont):\n",
    "    \"\"\"Обучение модели для предсказания оценки для ответа на котнкретный вопрос\"\"\"\n",
    "    def objective(trial): \n",
    "        model = CatBoostClassifier(\n",
    "            iterations=trial.suggest_int('iterations', 300, 1000),\n",
    "            learning_rate=trial.suggest_float('learning_rate', 1e-4, 0.1),\n",
    "            depth=trial.suggest_int('depth', 2, 10),\n",
    "            l2_leaf_reg=trial.suggest_float('l2_leaf_reg', 1e-4, 100, log=True),\n",
    "            bagging_temperature=trial.suggest_float('bagging_temperature', 0, 2),\n",
    "            eval_metric='Logloss',\n",
    "            verbose=0\n",
    "        )\n",
    "        \n",
    "        # Обучение модели и оценка на валидационном наборе\n",
    "        model.fit(train_pool, eval_set=val_pool, early_stopping_rounds=50)\n",
    "        \n",
    "        # Оценка качества модели\n",
    "        y_pred = model.predict(val_pool)\n",
    "        return f1_score(y_val, y_pred, average='macro')\n",
    "    \n",
    "    sampler = optuna.samplers.RandomSampler(seed=42)\n",
    "    study = optuna.create_study(sampler=sampler, direction='maximize')\n",
    "    study.optimize(objective, n_trials=10)\n",
    "\n",
    "    # Обучение модели с лучшими гиперпараметрами\n",
    "    best_model = CatBoostClassifier(**study.best_params, eval_metric='Logloss', verbose=0)\n",
    "    best_model.fit(train_pool, eval_set=val_pool, early_stopping_rounds=30)\n",
    "    \n",
    "    y_test_pred = best_model.predict(test_pool)\n",
    "\n",
    "    # Выбираем оптимальный порог отсечения\n",
    "    optimal_threshold = get_best_threshold(best_model, test_pool, test_pool.get_label())\n",
    "    y_test_pred = (best_model.predict_proba(test_pool)[:, 1] >= optimal_threshold).astype(int)\n",
    "\n",
    "    # Выводим метрики\n",
    "    print(f'Answer {i+1}:')\n",
    "    print(classification_report(test_pool.get_label(), y_test_pred))\n",
    "    conf_matrix(test_pool.get_label(), y_test_pred)\n",
    "\n",
    "    mae_score = mean_absolute_error(y_test_cont, best_model.predict_proba(test_pool)[:, 1] * 3)\n",
    "    mae_const_score = mean_absolute_error(y_test_cont, [np.median(train_pool.get_label())] * test_pool.shape[0]) # константная модель\n",
    "    print(f'MAE = {mae_score}, MAE (best const model) = {mae_const_score}\\n')\n",
    "\n",
    "    return y_test_pred"
   ]
  },
  {
   "cell_type": "code",
   "execution_count": 54,
   "id": "18b52bcd-16a4-468c-bae3-aa6e5b5a1601",
   "metadata": {},
   "outputs": [
    {
     "name": "stdout",
     "output_type": "stream",
     "text": [
      "Answer 1:\n",
      "              precision    recall  f1-score   support\n",
      "\n",
      "           0       0.87      0.55      0.68       123\n",
      "           1       0.53      0.86      0.66        73\n",
      "\n",
      "    accuracy                           0.67       196\n",
      "   macro avg       0.70      0.71      0.67       196\n",
      "weighted avg       0.75      0.67      0.67       196\n",
      "\n"
     ]
    },
    {
     "data": {
      "image/png": "[encoded data removed]",
      "text/plain": [
       "<Figure size 300x200 with 2 Axes>"
      ]
     },
     "metadata": {},
     "output_type": "display_data"
    },
    {
     "name": "stdout",
     "output_type": "stream",
     "text": [
      "MAE = 0.6115154043552203, MAE (best const model) = 1.3903061224489797\n",
      "\n",
      "Answer 2:\n",
      "              precision    recall  f1-score   support\n",
      "\n",
      "           0       0.77      0.67      0.72        87\n",
      "           1       0.76      0.84      0.80       109\n",
      "\n",
      "    accuracy                           0.77       196\n",
      "   macro avg       0.77      0.76      0.76       196\n",
      "weighted avg       0.77      0.77      0.76       196\n",
      "\n"
     ]
    },
    {
     "data": {
      "image/png": "[encoded data removed]",
      "text/plain": [
       "<Figure size 300x200 with 2 Axes>"
      ]
     },
     "metadata": {},
     "output_type": "display_data"
    },
    {
     "name": "stdout",
     "output_type": "stream",
     "text": [
      "MAE = 0.5437829317912205, MAE (best const model) = 0.8239795918367347\n",
      "\n",
      "Answer 3:\n",
      "              precision    recall  f1-score   support\n",
      "\n",
      "           0       0.74      0.80      0.77        84\n",
      "           1       0.84      0.79      0.82       112\n",
      "\n",
      "    accuracy                           0.80       196\n",
      "   macro avg       0.79      0.80      0.79       196\n",
      "weighted avg       0.80      0.80      0.80       196\n",
      "\n"
     ]
    },
    {
     "data": {
      "image/png": "[encoded data removed]",
      "text/plain": [
       "<Figure size 300x200 with 2 Axes>"
      ]
     },
     "metadata": {},
     "output_type": "display_data"
    },
    {
     "name": "stdout",
     "output_type": "stream",
     "text": [
      "MAE = 0.6319057214327897, MAE (best const model) = 0.9158163265306123\n",
      "\n"
     ]
    }
   ],
   "source": [
    "predictions = pd.DataFrame() # датафрейм с предсказаниями для ответов в каждой колонке\n",
    "\n",
    "for i in range(N):\n",
    "    cols = [f'answer{i+1}', f'answer{i+1}_len']\n",
    "    X_train, X_val, X_test = X_train_df[cols], X_val_df[cols], X_test_df[cols]\n",
    "    y_train, y_val, y_test = y_train_df[f'score{i+1}'], y_val_df[f'score{i+1}'], y_test_df[f'score{i+1}']\n",
    "\n",
    "    train_pool = Pool(data=X_train, label=y_train, text_features=[f'answer{i+1}'])\n",
    "    val_pool = Pool(data=X_val, label=y_val, text_features=[f'answer{i+1}'])\n",
    "    test_pool = Pool(data=X_test, label=y_test, text_features=[f'answer{i+1}'])\n",
    "\n",
    "    # возвращаем непрерывные значения для сравнения по MAE\n",
    "    y_test_cont = df.iloc[y_test_df.index][f'score{i+1}']\n",
    "\n",
    "    y_pred = train_model(train_pool, val_pool, test_pool, y_test_cont)\n",
    "    predictions[f'pred_score_{i+1}'] = y_pred"
   ]
  },
  {
   "cell_type": "code",
   "execution_count": 55,
   "id": "093c068c-8cff-47cb-b52b-ed149083fa92",
   "metadata": {},
   "outputs": [
    {
     "data": {
      "text/plain": [
       "0.7400000000000001"
      ]
     },
     "execution_count": 55,
     "metadata": {},
     "output_type": "execute_result"
    }
   ],
   "source": [
    "(0.67 + 0.76 + 0.79) / 3"
   ]
  },
  {
   "cell_type": "markdown",
   "id": "845ab64f-16b8-4097-81ad-0923af01f642",
   "metadata": {},
   "source": [
    "Видно, что задача классификации решается вполне неплохо - со средним `f1_macro` около 0.74. Учитывая, что данных довольно мало, можно сказать, что получились модели с хорошей точностью. А вот при переводе вероятности к регресионной оценке получаются не совсем точные результаты, в среднем чуть более полубалла погрешности на каждый вопрос. "
   ]
  },
  {
   "cell_type": "code",
   "execution_count": 56,
   "id": "859ae4ba-77c8-43c4-9a01-a9c24395c1aa",
   "metadata": {},
   "outputs": [
    {
     "data": {
      "text/html": [
       "<div>\n",
       "<style scoped>\n",
       "    .dataframe tbody tr th:only-of-type {\n",
       "        vertical-align: middle;\n",
       "    }\n",
       "\n",
       "    .dataframe tbody tr th {\n",
       "        vertical-align: top;\n",
       "    }\n",
       "\n",
       "    .dataframe thead th {\n",
       "        text-align: right;\n",
       "    }\n",
       "</style>\n",
       "<table border=\"1\" class=\"dataframe\">\n",
       "  <thead>\n",
       "    <tr style=\"text-align: right;\">\n",
       "      <th></th>\n",
       "      <th>pred_score_1</th>\n",
       "      <th>pred_score_2</th>\n",
       "      <th>pred_score_3</th>\n",
       "    </tr>\n",
       "  </thead>\n",
       "  <tbody>\n",
       "    <tr>\n",
       "      <th>0</th>\n",
       "      <td>0</td>\n",
       "      <td>0</td>\n",
       "      <td>0</td>\n",
       "    </tr>\n",
       "    <tr>\n",
       "      <th>1</th>\n",
       "      <td>1</td>\n",
       "      <td>0</td>\n",
       "      <td>0</td>\n",
       "    </tr>\n",
       "    <tr>\n",
       "      <th>2</th>\n",
       "      <td>0</td>\n",
       "      <td>1</td>\n",
       "      <td>0</td>\n",
       "    </tr>\n",
       "    <tr>\n",
       "      <th>3</th>\n",
       "      <td>0</td>\n",
       "      <td>0</td>\n",
       "      <td>0</td>\n",
       "    </tr>\n",
       "    <tr>\n",
       "      <th>4</th>\n",
       "      <td>0</td>\n",
       "      <td>0</td>\n",
       "      <td>0</td>\n",
       "    </tr>\n",
       "  </tbody>\n",
       "</table>\n",
       "</div>"
      ],
      "text/plain": [
       "   pred_score_1  pred_score_2  pred_score_3\n",
       "0             0             0             0\n",
       "1             1             0             0\n",
       "2             0             1             0\n",
       "3             0             0             0\n",
       "4             0             0             0"
      ]
     },
     "execution_count": 56,
     "metadata": {},
     "output_type": "execute_result"
    }
   ],
   "source": [
    "predictions.head()"
   ]
  },
  {
   "cell_type": "markdown",
   "id": "83bac327-d4fd-4847-a30e-875c49b34e31",
   "metadata": {},
   "source": [
    "## 1.3. Одна модель на все ответы"
   ]
  },
  {
   "cell_type": "markdown",
   "id": "9c08db79-aebe-4429-86d8-2071bef595b9",
   "metadata": {},
   "source": [
    "Можно попробовать объединить все ответы человека в один большой ответ и отдавать модели уже его. В таком случае можно свести задачу к построению одной модели бинарной классификации. Можно считать, что если человек набирает суммарно не меньше 6 баллов за 3 вопроса, то он успешно справляется с анкетированием."
   ]
  },
  {
   "cell_type": "code",
   "execution_count": 57,
   "id": "cf0573c8-9921-4eaa-8279-ca4843a21651",
   "metadata": {},
   "outputs": [
    {
     "data": {
      "text/html": [
       "<div>\n",
       "<style scoped>\n",
       "    .dataframe tbody tr th:only-of-type {\n",
       "        vertical-align: middle;\n",
       "    }\n",
       "\n",
       "    .dataframe tbody tr th {\n",
       "        vertical-align: top;\n",
       "    }\n",
       "\n",
       "    .dataframe thead th {\n",
       "        text-align: right;\n",
       "    }\n",
       "</style>\n",
       "<table border=\"1\" class=\"dataframe\">\n",
       "  <thead>\n",
       "    <tr style=\"text-align: right;\">\n",
       "      <th></th>\n",
       "      <th>answer1</th>\n",
       "      <th>score1</th>\n",
       "      <th>answer2</th>\n",
       "      <th>score2</th>\n",
       "      <th>answer3</th>\n",
       "      <th>score3</th>\n",
       "      <th>answer1_len</th>\n",
       "      <th>answer2_len</th>\n",
       "      <th>answer3_len</th>\n",
       "    </tr>\n",
       "  </thead>\n",
       "  <tbody>\n",
       "    <tr>\n",
       "      <th>0</th>\n",
       "      <td>для анализа массивов данных необходимых в работе</td>\n",
       "      <td>2.0</td>\n",
       "      <td>для анализа массивов данных необходимых в работе</td>\n",
       "      <td>2.0</td>\n",
       "      <td>стараюсь всегда брать задачи, выполнение котор...</td>\n",
       "      <td>2.0</td>\n",
       "      <td>48</td>\n",
       "      <td>48</td>\n",
       "      <td>548</td>\n",
       "    </tr>\n",
       "    <tr>\n",
       "      <th>1</th>\n",
       "      <td>Буду использовать полученные знания в работе д...</td>\n",
       "      <td>2.0</td>\n",
       "      <td>Автоматизирую процесс сбора данных и дальнейше...</td>\n",
       "      <td>2.0</td>\n",
       "      <td>Задача по анализу кода и содержанию пакетов - ...</td>\n",
       "      <td>1.5</td>\n",
       "      <td>139</td>\n",
       "      <td>113</td>\n",
       "      <td>320</td>\n",
       "    </tr>\n",
       "    <tr>\n",
       "      <th>2</th>\n",
       "      <td>хочу стать топовым программистом во всём мире ...</td>\n",
       "      <td>1.5</td>\n",
       "      <td>изучаю программирование</td>\n",
       "      <td>1.5</td>\n",
       "      <td>-</td>\n",
       "      <td>0.0</td>\n",
       "      <td>63</td>\n",
       "      <td>23</td>\n",
       "      <td>1</td>\n",
       "    </tr>\n",
       "  </tbody>\n",
       "</table>\n",
       "</div>"
      ],
      "text/plain": [
       "                                             answer1  score1  \\\n",
       "0   для анализа массивов данных необходимых в работе     2.0   \n",
       "1  Буду использовать полученные знания в работе д...     2.0   \n",
       "2  хочу стать топовым программистом во всём мире ...     1.5   \n",
       "\n",
       "                                             answer2  score2  \\\n",
       "0   для анализа массивов данных необходимых в работе     2.0   \n",
       "1  Автоматизирую процесс сбора данных и дальнейше...     2.0   \n",
       "2                            изучаю программирование     1.5   \n",
       "\n",
       "                                             answer3  score3  answer1_len  \\\n",
       "0  стараюсь всегда брать задачи, выполнение котор...     2.0           48   \n",
       "1  Задача по анализу кода и содержанию пакетов - ...     1.5          139   \n",
       "2                                                  -     0.0           63   \n",
       "\n",
       "   answer2_len  answer3_len  \n",
       "0           48          548  \n",
       "1          113          320  \n",
       "2           23            1  "
      ]
     },
     "execution_count": 57,
     "metadata": {},
     "output_type": "execute_result"
    }
   ],
   "source": [
    "df.head(3)"
   ]
  },
  {
   "cell_type": "code",
   "execution_count": 58,
   "id": "f856bd7e-ca5e-4b80-91ec-ae9014f47e4e",
   "metadata": {},
   "outputs": [],
   "source": [
    "df['general_answer'] = df['answer1'] + ' ' + df['answer2'] + ' ' + df['answer3']\n",
    "df['final_score'] = df['score1'] + df['score2'] + df['score3']"
   ]
  },
  {
   "cell_type": "code",
   "execution_count": 59,
   "id": "3f5faba9-b007-442e-8e13-0da31e79fe72",
   "metadata": {},
   "outputs": [],
   "source": [
    "df = df[['general_answer', 'answer1_len', 'answer2_len', 'answer3_len', 'final_score']].copy()"
   ]
  },
  {
   "cell_type": "markdown",
   "id": "790e8e21-cdc7-4b9b-b7c2-36f308208494",
   "metadata": {},
   "source": [
    "Также можно попробовать добавить информацию о длине каждого из ответов по отдельности:"
   ]
  },
  {
   "cell_type": "code",
   "execution_count": 60,
   "id": "1de18fc4-db27-40cf-bb9c-b0d0674966a2",
   "metadata": {},
   "outputs": [
    {
     "data": {
      "text/html": [
       "<div>\n",
       "<style scoped>\n",
       "    .dataframe tbody tr th:only-of-type {\n",
       "        vertical-align: middle;\n",
       "    }\n",
       "\n",
       "    .dataframe tbody tr th {\n",
       "        vertical-align: top;\n",
       "    }\n",
       "\n",
       "    .dataframe thead th {\n",
       "        text-align: right;\n",
       "    }\n",
       "</style>\n",
       "<table border=\"1\" class=\"dataframe\">\n",
       "  <thead>\n",
       "    <tr style=\"text-align: right;\">\n",
       "      <th></th>\n",
       "      <th>general_answer</th>\n",
       "      <th>answer1_len</th>\n",
       "      <th>answer2_len</th>\n",
       "      <th>answer3_len</th>\n",
       "      <th>final_score</th>\n",
       "    </tr>\n",
       "  </thead>\n",
       "  <tbody>\n",
       "    <tr>\n",
       "      <th>0</th>\n",
       "      <td>для анализа массивов данных необходимых в рабо...</td>\n",
       "      <td>48</td>\n",
       "      <td>48</td>\n",
       "      <td>548</td>\n",
       "      <td>6.0</td>\n",
       "    </tr>\n",
       "    <tr>\n",
       "      <th>1</th>\n",
       "      <td>Буду использовать полученные знания в работе д...</td>\n",
       "      <td>139</td>\n",
       "      <td>113</td>\n",
       "      <td>320</td>\n",
       "      <td>5.5</td>\n",
       "    </tr>\n",
       "    <tr>\n",
       "      <th>2</th>\n",
       "      <td>хочу стать топовым программистом во всём мире ...</td>\n",
       "      <td>63</td>\n",
       "      <td>23</td>\n",
       "      <td>1</td>\n",
       "      <td>3.0</td>\n",
       "    </tr>\n",
       "  </tbody>\n",
       "</table>\n",
       "</div>"
      ],
      "text/plain": [
       "                                      general_answer  answer1_len  \\\n",
       "0  для анализа массивов данных необходимых в рабо...           48   \n",
       "1  Буду использовать полученные знания в работе д...          139   \n",
       "2  хочу стать топовым программистом во всём мире ...           63   \n",
       "\n",
       "   answer2_len  answer3_len  final_score  \n",
       "0           48          548          6.0  \n",
       "1          113          320          5.5  \n",
       "2           23            1          3.0  "
      ]
     },
     "execution_count": 60,
     "metadata": {},
     "output_type": "execute_result"
    }
   ],
   "source": [
    "df.head(3)"
   ]
  },
  {
   "cell_type": "markdown",
   "id": "37a12f93-9d42-4c4f-9478-9455dc867cfb",
   "metadata": {},
   "source": [
    "Также обучим CatBoost-классификатор:"
   ]
  },
  {
   "cell_type": "code",
   "execution_count": 61,
   "id": "8b78112f-62a9-4356-9812-5950535a2d38",
   "metadata": {},
   "outputs": [],
   "source": [
    "X, y = df.drop(columns=['final_score']), df['final_score']\n",
    "y = (y >= 6).astype(int)\n",
    "X_train, X_val, X_test, y_train, y_val, y_test = split_data_cls(X, y)\n",
    "\n",
    "train_pool = Pool(data=X_train, label=y_train, text_features=['general_answer'])\n",
    "val_pool = Pool(data=X_val, label=y_val, text_features=['general_answer'])\n",
    "test_pool = Pool(data=X_test, label=y_test, text_features=['general_answer'])"
   ]
  },
  {
   "cell_type": "code",
   "execution_count": 62,
   "id": "f27dc51d-adb5-489c-8b10-3e2a7590c5b7",
   "metadata": {},
   "outputs": [],
   "source": [
    "def objective(trial): \n",
    "    model = CatBoostClassifier(\n",
    "        iterations=trial.suggest_int('iterations', 300, 1000),\n",
    "        learning_rate=trial.suggest_float('learning_rate', 1e-4, 0.1),\n",
    "        depth=trial.suggest_int('depth', 2, 10),\n",
    "        l2_leaf_reg=trial.suggest_float('l2_leaf_reg', 1e-4, 10, log=True),\n",
    "        bagging_temperature=trial.suggest_float('bagging_temperature', 0, 2),\n",
    "        auto_class_weights='Balanced',\n",
    "        eval_metric='Logloss',\n",
    "        verbose=0\n",
    "    )\n",
    "    \n",
    "    # Обучение модели и оценка на валидационном наборе\n",
    "    model.fit(train_pool, eval_set=val_pool, early_stopping_rounds=50)\n",
    "    \n",
    "    # Оценка качества модели\n",
    "    y_pred = model.predict(val_pool)\n",
    "    score = f1_score(y_val, y_pred, average='macro')\n",
    "\n",
    "    # Вывод логов\n",
    "    print(f'Trial {trial.number+1}: score = {score}')\n",
    "    \n",
    "    return score"
   ]
  },
  {
   "cell_type": "code",
   "execution_count": 63,
   "id": "6a6591f5-6f8e-4ab2-b6d7-2d3588b521ce",
   "metadata": {},
   "outputs": [
    {
     "name": "stdout",
     "output_type": "stream",
     "text": [
      "Trial 1: score = 0.675\n",
      "Trial 2: score = 0.7242424242424242\n",
      "Trial 3: score = 0.6811161583387411\n"
     ]
    }
   ],
   "source": [
    "sampler = optuna.samplers.RandomSampler(seed=42)\n",
    "study = optuna.create_study(sampler=sampler, direction='maximize')\n",
    "study.optimize(objective, n_trials=3)"
   ]
  },
  {
   "cell_type": "code",
   "execution_count": 64,
   "id": "cb8d85cb-36bc-4b89-9f77-99cc723b42e4",
   "metadata": {
    "scrolled": true
   },
   "outputs": [
    {
     "name": "stdout",
     "output_type": "stream",
     "text": [
      "0:\tlearn: 0.6905132\ttest: 0.6917944\tbest: 0.6917944 (0)\ttotal: 547ms\tremaining: 3m 43s\n",
      "1:\tlearn: 0.6876730\ttest: 0.6900064\tbest: 0.6900064 (1)\ttotal: 1.36s\tremaining: 4m 37s\n",
      "2:\tlearn: 0.6851535\ttest: 0.6888615\tbest: 0.6888615 (2)\ttotal: 1.96s\tremaining: 4m 24s\n",
      "3:\tlearn: 0.6825948\ttest: 0.6870967\tbest: 0.6870967 (3)\ttotal: 2.53s\tremaining: 4m 16s\n",
      "4:\tlearn: 0.6801728\ttest: 0.6854637\tbest: 0.6854637 (4)\ttotal: 3.02s\tremaining: 4m 4s\n",
      "5:\tlearn: 0.6774225\ttest: 0.6836848\tbest: 0.6836848 (5)\ttotal: 3.51s\tremaining: 3m 55s\n",
      "6:\tlearn: 0.6742912\ttest: 0.6827303\tbest: 0.6827303 (6)\ttotal: 3.95s\tremaining: 3m 46s\n",
      "7:\tlearn: 0.6709811\ttest: 0.6803208\tbest: 0.6803208 (7)\ttotal: 4.4s\tremaining: 3m 40s\n",
      "8:\tlearn: 0.6688027\ttest: 0.6788315\tbest: 0.6788315 (8)\ttotal: 4.84s\tremaining: 3m 35s\n",
      "9:\tlearn: 0.6668399\ttest: 0.6771960\tbest: 0.6771960 (9)\ttotal: 5.31s\tremaining: 3m 31s\n",
      "10:\tlearn: 0.6648183\ttest: 0.6765566\tbest: 0.6765566 (10)\ttotal: 5.78s\tremaining: 3m 29s\n",
      "11:\tlearn: 0.6629454\ttest: 0.6752132\tbest: 0.6752132 (11)\ttotal: 6.29s\tremaining: 3m 28s\n",
      "12:\tlearn: 0.6609617\ttest: 0.6741396\tbest: 0.6741396 (12)\ttotal: 6.79s\tremaining: 3m 26s\n",
      "13:\tlearn: 0.6581078\ttest: 0.6727530\tbest: 0.6727530 (13)\ttotal: 7.25s\tremaining: 3m 24s\n",
      "14:\tlearn: 0.6561910\ttest: 0.6717622\tbest: 0.6717622 (14)\ttotal: 7.72s\tremaining: 3m 22s\n",
      "15:\tlearn: 0.6541446\ttest: 0.6701789\tbest: 0.6701789 (15)\ttotal: 8.17s\tremaining: 3m 20s\n",
      "16:\tlearn: 0.6522057\ttest: 0.6693766\tbest: 0.6693766 (16)\ttotal: 8.6s\tremaining: 3m 18s\n",
      "17:\tlearn: 0.6499129\ttest: 0.6673805\tbest: 0.6673805 (17)\ttotal: 9.05s\tremaining: 3m 16s\n",
      "18:\tlearn: 0.6475652\ttest: 0.6658664\tbest: 0.6658664 (18)\ttotal: 9.52s\tremaining: 3m 15s\n",
      "19:\tlearn: 0.6450364\ttest: 0.6642374\tbest: 0.6642374 (19)\ttotal: 9.98s\tremaining: 3m 14s\n",
      "20:\tlearn: 0.6431103\ttest: 0.6631733\tbest: 0.6631733 (20)\ttotal: 10.4s\tremaining: 3m 12s\n",
      "21:\tlearn: 0.6410677\ttest: 0.6616086\tbest: 0.6616086 (21)\ttotal: 10.9s\tremaining: 3m 12s\n",
      "22:\tlearn: 0.6387886\ttest: 0.6603888\tbest: 0.6603888 (22)\ttotal: 11.4s\tremaining: 3m 11s\n",
      "23:\tlearn: 0.6369999\ttest: 0.6593088\tbest: 0.6593088 (23)\ttotal: 11.9s\tremaining: 3m 10s\n",
      "24:\tlearn: 0.6353130\ttest: 0.6578382\tbest: 0.6578382 (24)\ttotal: 12.3s\tremaining: 3m 9s\n",
      "25:\tlearn: 0.6337060\ttest: 0.6571470\tbest: 0.6571470 (25)\ttotal: 12.8s\tremaining: 3m 8s\n",
      "26:\tlearn: 0.6317642\ttest: 0.6566760\tbest: 0.6566760 (26)\ttotal: 13.3s\tremaining: 3m 8s\n",
      "27:\tlearn: 0.6288775\ttest: 0.6544683\tbest: 0.6544683 (27)\ttotal: 13.8s\tremaining: 3m 7s\n",
      "28:\tlearn: 0.6267013\ttest: 0.6530116\tbest: 0.6530116 (28)\ttotal: 14.3s\tremaining: 3m 7s\n",
      "29:\tlearn: 0.6245896\ttest: 0.6515838\tbest: 0.6515838 (29)\ttotal: 14.8s\tremaining: 3m 6s\n",
      "30:\tlearn: 0.6229474\ttest: 0.6499460\tbest: 0.6499460 (30)\ttotal: 15.2s\tremaining: 3m 5s\n",
      "31:\tlearn: 0.6204863\ttest: 0.6478382\tbest: 0.6478382 (31)\ttotal: 15.7s\tremaining: 3m 5s\n",
      "32:\tlearn: 0.6184234\ttest: 0.6468676\tbest: 0.6468676 (32)\ttotal: 16.2s\tremaining: 3m 4s\n",
      "33:\tlearn: 0.6164287\ttest: 0.6463124\tbest: 0.6463124 (33)\ttotal: 16.7s\tremaining: 3m 3s\n",
      "34:\tlearn: 0.6141865\ttest: 0.6447671\tbest: 0.6447671 (34)\ttotal: 17.2s\tremaining: 3m 3s\n",
      "35:\tlearn: 0.6108646\ttest: 0.6444362\tbest: 0.6444362 (35)\ttotal: 17.8s\tremaining: 3m 4s\n",
      "36:\tlearn: 0.6087762\ttest: 0.6435200\tbest: 0.6435200 (36)\ttotal: 18.3s\tremaining: 3m 3s\n",
      "37:\tlearn: 0.6067811\ttest: 0.6428193\tbest: 0.6428193 (37)\ttotal: 18.8s\tremaining: 3m 3s\n",
      "38:\tlearn: 0.6050594\ttest: 0.6415188\tbest: 0.6415188 (38)\ttotal: 19.6s\tremaining: 3m 5s\n",
      "39:\tlearn: 0.6027154\ttest: 0.6402144\tbest: 0.6402144 (39)\ttotal: 20.3s\tremaining: 3m 6s\n",
      "40:\tlearn: 0.6013308\ttest: 0.6395690\tbest: 0.6395690 (40)\ttotal: 21s\tremaining: 3m 8s\n",
      "41:\tlearn: 0.5995556\ttest: 0.6385082\tbest: 0.6385082 (41)\ttotal: 21.5s\tremaining: 3m 7s\n",
      "42:\tlearn: 0.5972136\ttest: 0.6369152\tbest: 0.6369152 (42)\ttotal: 22s\tremaining: 3m 7s\n",
      "43:\tlearn: 0.5962576\ttest: 0.6364095\tbest: 0.6364095 (43)\ttotal: 22.1s\tremaining: 3m 3s\n",
      "44:\tlearn: 0.5943424\ttest: 0.6356968\tbest: 0.6356968 (44)\ttotal: 22.7s\tremaining: 3m 3s\n",
      "45:\tlearn: 0.5927785\ttest: 0.6343299\tbest: 0.6343299 (45)\ttotal: 23.2s\tremaining: 3m 3s\n",
      "46:\tlearn: 0.5899103\ttest: 0.6325549\tbest: 0.6325549 (46)\ttotal: 23.8s\tremaining: 3m 3s\n",
      "47:\tlearn: 0.5875505\ttest: 0.6314154\tbest: 0.6314154 (47)\ttotal: 24.3s\tremaining: 3m 2s\n",
      "48:\tlearn: 0.5860642\ttest: 0.6312149\tbest: 0.6312149 (48)\ttotal: 24.8s\tremaining: 3m 2s\n",
      "49:\tlearn: 0.5837671\ttest: 0.6302366\tbest: 0.6302366 (49)\ttotal: 25.3s\tremaining: 3m 1s\n",
      "50:\tlearn: 0.5819397\ttest: 0.6290723\tbest: 0.6290723 (50)\ttotal: 25.7s\tremaining: 3m\n",
      "51:\tlearn: 0.5802609\ttest: 0.6284727\tbest: 0.6284727 (51)\ttotal: 26.3s\tremaining: 3m\n",
      "52:\tlearn: 0.5777421\ttest: 0.6278979\tbest: 0.6278979 (52)\ttotal: 26.8s\tremaining: 2m 59s\n",
      "53:\tlearn: 0.5764162\ttest: 0.6272527\tbest: 0.6272527 (53)\ttotal: 27.3s\tremaining: 2m 59s\n",
      "54:\tlearn: 0.5745014\ttest: 0.6264781\tbest: 0.6264781 (54)\ttotal: 27.8s\tremaining: 2m 58s\n",
      "55:\tlearn: 0.5729544\ttest: 0.6261053\tbest: 0.6261053 (55)\ttotal: 28.3s\tremaining: 2m 58s\n",
      "56:\tlearn: 0.5708007\ttest: 0.6254969\tbest: 0.6254969 (56)\ttotal: 28.7s\tremaining: 2m 57s\n",
      "57:\tlearn: 0.5688212\ttest: 0.6240105\tbest: 0.6240105 (57)\ttotal: 29.2s\tremaining: 2m 56s\n",
      "58:\tlearn: 0.5669108\ttest: 0.6229900\tbest: 0.6229900 (58)\ttotal: 29.7s\tremaining: 2m 56s\n",
      "59:\tlearn: 0.5651158\ttest: 0.6221286\tbest: 0.6221286 (59)\ttotal: 30.4s\tremaining: 2m 56s\n",
      "60:\tlearn: 0.5637613\ttest: 0.6216725\tbest: 0.6216725 (60)\ttotal: 30.9s\tremaining: 2m 56s\n",
      "61:\tlearn: 0.5607398\ttest: 0.6209982\tbest: 0.6209982 (61)\ttotal: 31.5s\tremaining: 2m 56s\n",
      "62:\tlearn: 0.5597159\ttest: 0.6203234\tbest: 0.6203234 (62)\ttotal: 32s\tremaining: 2m 55s\n",
      "63:\tlearn: 0.5578403\ttest: 0.6194188\tbest: 0.6194188 (63)\ttotal: 32.5s\tremaining: 2m 55s\n",
      "64:\tlearn: 0.5560117\ttest: 0.6186254\tbest: 0.6186254 (64)\ttotal: 33s\tremaining: 2m 54s\n",
      "65:\tlearn: 0.5546626\ttest: 0.6187066\tbest: 0.6186254 (64)\ttotal: 33.5s\tremaining: 2m 54s\n",
      "66:\tlearn: 0.5528283\ttest: 0.6179556\tbest: 0.6179556 (66)\ttotal: 34s\tremaining: 2m 53s\n",
      "67:\tlearn: 0.5514681\ttest: 0.6176226\tbest: 0.6176226 (67)\ttotal: 34.6s\tremaining: 2m 53s\n",
      "68:\tlearn: 0.5490492\ttest: 0.6170770\tbest: 0.6170770 (68)\ttotal: 35.3s\tremaining: 2m 53s\n",
      "69:\tlearn: 0.5477621\ttest: 0.6162390\tbest: 0.6162390 (69)\ttotal: 35.8s\tremaining: 2m 53s\n",
      "70:\tlearn: 0.5463430\ttest: 0.6161658\tbest: 0.6161658 (70)\ttotal: 36.3s\tremaining: 2m 52s\n",
      "71:\tlearn: 0.5451689\ttest: 0.6152561\tbest: 0.6152561 (71)\ttotal: 36.8s\tremaining: 2m 52s\n",
      "72:\tlearn: 0.5439271\ttest: 0.6148578\tbest: 0.6148578 (72)\ttotal: 37.3s\tremaining: 2m 51s\n",
      "73:\tlearn: 0.5426012\ttest: 0.6134508\tbest: 0.6134508 (73)\ttotal: 37.8s\tremaining: 2m 51s\n",
      "74:\tlearn: 0.5408550\ttest: 0.6123642\tbest: 0.6123642 (74)\ttotal: 38.3s\tremaining: 2m 50s\n",
      "75:\tlearn: 0.5392236\ttest: 0.6117185\tbest: 0.6117185 (75)\ttotal: 38.9s\tremaining: 2m 50s\n",
      "76:\tlearn: 0.5379183\ttest: 0.6109294\tbest: 0.6109294 (76)\ttotal: 39.4s\tremaining: 2m 49s\n",
      "77:\tlearn: 0.5363665\ttest: 0.6104409\tbest: 0.6104409 (77)\ttotal: 40.1s\tremaining: 2m 50s\n",
      "78:\tlearn: 0.5348286\ttest: 0.6100422\tbest: 0.6100422 (78)\ttotal: 40.9s\tremaining: 2m 50s\n",
      "79:\tlearn: 0.5332621\ttest: 0.6091087\tbest: 0.6091087 (79)\ttotal: 41.5s\tremaining: 2m 50s\n",
      "80:\tlearn: 0.5317845\ttest: 0.6086909\tbest: 0.6086909 (80)\ttotal: 42.2s\tremaining: 2m 50s\n",
      "81:\tlearn: 0.5301292\ttest: 0.6088199\tbest: 0.6086909 (80)\ttotal: 42.8s\tremaining: 2m 50s\n",
      "82:\tlearn: 0.5287268\ttest: 0.6088537\tbest: 0.6086909 (80)\ttotal: 43.3s\tremaining: 2m 50s\n",
      "83:\tlearn: 0.5275990\ttest: 0.6082390\tbest: 0.6082390 (83)\ttotal: 43.9s\tremaining: 2m 49s\n",
      "84:\tlearn: 0.5259457\ttest: 0.6085106\tbest: 0.6082390 (83)\ttotal: 44.4s\tremaining: 2m 49s\n",
      "85:\tlearn: 0.5244533\ttest: 0.6083680\tbest: 0.6082390 (83)\ttotal: 44.9s\tremaining: 2m 48s\n",
      "86:\tlearn: 0.5232379\ttest: 0.6077510\tbest: 0.6077510 (86)\ttotal: 45.4s\tremaining: 2m 47s\n",
      "87:\tlearn: 0.5222456\ttest: 0.6074910\tbest: 0.6074910 (87)\ttotal: 45.9s\tremaining: 2m 47s\n",
      "88:\tlearn: 0.5207948\ttest: 0.6071338\tbest: 0.6071338 (88)\ttotal: 46.4s\tremaining: 2m 46s\n",
      "89:\tlearn: 0.5189447\ttest: 0.6056154\tbest: 0.6056154 (89)\ttotal: 46.9s\tremaining: 2m 46s\n",
      "90:\tlearn: 0.5177482\ttest: 0.6053084\tbest: 0.6053084 (90)\ttotal: 47.5s\tremaining: 2m 45s\n",
      "91:\tlearn: 0.5165315\ttest: 0.6047969\tbest: 0.6047969 (91)\ttotal: 48.1s\tremaining: 2m 45s\n",
      "92:\tlearn: 0.5152766\ttest: 0.6044174\tbest: 0.6044174 (92)\ttotal: 48.6s\tremaining: 2m 45s\n",
      "93:\tlearn: 0.5140153\ttest: 0.6036785\tbest: 0.6036785 (93)\ttotal: 49.1s\tremaining: 2m 44s\n",
      "94:\tlearn: 0.5125016\ttest: 0.6030283\tbest: 0.6030283 (94)\ttotal: 49.6s\tremaining: 2m 43s\n",
      "95:\tlearn: 0.5108343\ttest: 0.6015348\tbest: 0.6015348 (95)\ttotal: 50.1s\tremaining: 2m 43s\n",
      "96:\tlearn: 0.5096202\ttest: 0.6007226\tbest: 0.6007226 (96)\ttotal: 50.7s\tremaining: 2m 43s\n",
      "97:\tlearn: 0.5088389\ttest: 0.6004411\tbest: 0.6004411 (97)\ttotal: 51.3s\tremaining: 2m 42s\n",
      "98:\tlearn: 0.5077047\ttest: 0.5998729\tbest: 0.5998729 (98)\ttotal: 51.9s\tremaining: 2m 42s\n",
      "99:\tlearn: 0.5063613\ttest: 0.5987559\tbest: 0.5987559 (99)\ttotal: 52.4s\tremaining: 2m 42s\n",
      "100:\tlearn: 0.5050968\ttest: 0.5978313\tbest: 0.5978313 (100)\ttotal: 53s\tremaining: 2m 41s\n",
      "101:\tlearn: 0.5035255\ttest: 0.5965364\tbest: 0.5965364 (101)\ttotal: 53.5s\tremaining: 2m 41s\n",
      "102:\tlearn: 0.5020528\ttest: 0.5959340\tbest: 0.5959340 (102)\ttotal: 54s\tremaining: 2m 40s\n",
      "103:\tlearn: 0.5010256\ttest: 0.5957825\tbest: 0.5957825 (103)\ttotal: 54.5s\tremaining: 2m 39s\n",
      "104:\tlearn: 0.4999835\ttest: 0.5954638\tbest: 0.5954638 (104)\ttotal: 55.1s\tremaining: 2m 39s\n",
      "105:\tlearn: 0.4986929\ttest: 0.5943582\tbest: 0.5943582 (105)\ttotal: 55.6s\tremaining: 2m 38s\n",
      "106:\tlearn: 0.4962421\ttest: 0.5938671\tbest: 0.5938671 (106)\ttotal: 56.1s\tremaining: 2m 38s\n",
      "107:\tlearn: 0.4955337\ttest: 0.5931658\tbest: 0.5931658 (107)\ttotal: 56.6s\tremaining: 2m 37s\n",
      "108:\tlearn: 0.4939371\ttest: 0.5930034\tbest: 0.5930034 (108)\ttotal: 57.2s\tremaining: 2m 37s\n",
      "109:\tlearn: 0.4924884\ttest: 0.5922026\tbest: 0.5922026 (109)\ttotal: 57.9s\tremaining: 2m 37s\n",
      "110:\tlearn: 0.4907992\ttest: 0.5911624\tbest: 0.5911624 (110)\ttotal: 58.4s\tremaining: 2m 36s\n",
      "111:\tlearn: 0.4895857\ttest: 0.5907515\tbest: 0.5907515 (111)\ttotal: 58.9s\tremaining: 2m 36s\n",
      "112:\tlearn: 0.4886349\ttest: 0.5903092\tbest: 0.5903092 (112)\ttotal: 59.5s\tremaining: 2m 35s\n",
      "113:\tlearn: 0.4873048\ttest: 0.5897897\tbest: 0.5897897 (113)\ttotal: 1m\tremaining: 2m 35s\n",
      "114:\tlearn: 0.4861729\ttest: 0.5895142\tbest: 0.5895142 (114)\ttotal: 1m\tremaining: 2m 35s\n",
      "115:\tlearn: 0.4851322\ttest: 0.5890987\tbest: 0.5890987 (115)\ttotal: 1m 1s\tremaining: 2m 34s\n",
      "116:\tlearn: 0.4837692\ttest: 0.5884190\tbest: 0.5884190 (116)\ttotal: 1m 1s\tremaining: 2m 34s\n",
      "117:\tlearn: 0.4821806\ttest: 0.5877073\tbest: 0.5877073 (117)\ttotal: 1m 2s\tremaining: 2m 33s\n",
      "118:\tlearn: 0.4810031\ttest: 0.5877025\tbest: 0.5877025 (118)\ttotal: 1m 2s\tremaining: 2m 33s\n",
      "119:\tlearn: 0.4798386\ttest: 0.5876178\tbest: 0.5876178 (119)\ttotal: 1m 3s\tremaining: 2m 32s\n",
      "120:\tlearn: 0.4787461\ttest: 0.5869550\tbest: 0.5869550 (120)\ttotal: 1m 3s\tremaining: 2m 32s\n",
      "121:\tlearn: 0.4776543\ttest: 0.5869909\tbest: 0.5869550 (120)\ttotal: 1m 4s\tremaining: 2m 31s\n",
      "122:\tlearn: 0.4765563\ttest: 0.5862946\tbest: 0.5862946 (122)\ttotal: 1m 4s\tremaining: 2m 30s\n",
      "123:\tlearn: 0.4743690\ttest: 0.5864043\tbest: 0.5862946 (122)\ttotal: 1m 5s\tremaining: 2m 30s\n",
      "124:\tlearn: 0.4732394\ttest: 0.5859122\tbest: 0.5859122 (124)\ttotal: 1m 5s\tremaining: 2m 29s\n",
      "125:\tlearn: 0.4720122\ttest: 0.5853867\tbest: 0.5853867 (125)\ttotal: 1m 6s\tremaining: 2m 29s\n",
      "126:\tlearn: 0.4709542\ttest: 0.5849914\tbest: 0.5849914 (126)\ttotal: 1m 6s\tremaining: 2m 28s\n",
      "127:\tlearn: 0.4698062\ttest: 0.5845077\tbest: 0.5845077 (127)\ttotal: 1m 7s\tremaining: 2m 28s\n",
      "128:\tlearn: 0.4685311\ttest: 0.5840330\tbest: 0.5840330 (128)\ttotal: 1m 7s\tremaining: 2m 27s\n",
      "129:\tlearn: 0.4676991\ttest: 0.5837591\tbest: 0.5837591 (129)\ttotal: 1m 8s\tremaining: 2m 26s\n",
      "130:\tlearn: 0.4667622\ttest: 0.5835441\tbest: 0.5835441 (130)\ttotal: 1m 8s\tremaining: 2m 26s\n",
      "131:\tlearn: 0.4656549\ttest: 0.5838323\tbest: 0.5835441 (130)\ttotal: 1m 9s\tremaining: 2m 25s\n",
      "132:\tlearn: 0.4641680\ttest: 0.5829389\tbest: 0.5829389 (132)\ttotal: 1m 9s\tremaining: 2m 25s\n",
      "133:\tlearn: 0.4629563\ttest: 0.5825302\tbest: 0.5825302 (133)\ttotal: 1m 10s\tremaining: 2m 24s\n",
      "134:\tlearn: 0.4618411\ttest: 0.5816960\tbest: 0.5816960 (134)\ttotal: 1m 10s\tremaining: 2m 24s\n",
      "135:\tlearn: 0.4607050\ttest: 0.5815054\tbest: 0.5815054 (135)\ttotal: 1m 11s\tremaining: 2m 23s\n",
      "136:\tlearn: 0.4595723\ttest: 0.5809367\tbest: 0.5809367 (136)\ttotal: 1m 12s\tremaining: 2m 22s\n",
      "137:\tlearn: 0.4586657\ttest: 0.5808101\tbest: 0.5808101 (137)\ttotal: 1m 12s\tremaining: 2m 22s\n",
      "138:\tlearn: 0.4579967\ttest: 0.5803635\tbest: 0.5803635 (138)\ttotal: 1m 13s\tremaining: 2m 21s\n",
      "139:\tlearn: 0.4567854\ttest: 0.5798897\tbest: 0.5798897 (139)\ttotal: 1m 13s\tremaining: 2m 21s\n",
      "140:\tlearn: 0.4558264\ttest: 0.5798278\tbest: 0.5798278 (140)\ttotal: 1m 14s\tremaining: 2m 20s\n",
      "141:\tlearn: 0.4542489\ttest: 0.5789625\tbest: 0.5789625 (141)\ttotal: 1m 14s\tremaining: 2m 20s\n",
      "142:\tlearn: 0.4531329\ttest: 0.5788652\tbest: 0.5788652 (142)\ttotal: 1m 15s\tremaining: 2m 19s\n",
      "143:\tlearn: 0.4520114\ttest: 0.5782815\tbest: 0.5782815 (143)\ttotal: 1m 15s\tremaining: 2m 19s\n",
      "144:\tlearn: 0.4509551\ttest: 0.5780616\tbest: 0.5780616 (144)\ttotal: 1m 16s\tremaining: 2m 18s\n",
      "145:\tlearn: 0.4500616\ttest: 0.5779006\tbest: 0.5779006 (145)\ttotal: 1m 16s\tremaining: 2m 18s\n",
      "146:\tlearn: 0.4486772\ttest: 0.5770617\tbest: 0.5770617 (146)\ttotal: 1m 17s\tremaining: 2m 17s\n",
      "147:\tlearn: 0.4477899\ttest: 0.5766270\tbest: 0.5766270 (147)\ttotal: 1m 17s\tremaining: 2m 16s\n",
      "148:\tlearn: 0.4466326\ttest: 0.5759689\tbest: 0.5759689 (148)\ttotal: 1m 18s\tremaining: 2m 16s\n",
      "149:\tlearn: 0.4456487\ttest: 0.5756028\tbest: 0.5756028 (149)\ttotal: 1m 18s\tremaining: 2m 15s\n",
      "150:\tlearn: 0.4446596\ttest: 0.5749241\tbest: 0.5749241 (150)\ttotal: 1m 19s\tremaining: 2m 15s\n",
      "151:\tlearn: 0.4438989\ttest: 0.5744385\tbest: 0.5744385 (151)\ttotal: 1m 19s\tremaining: 2m 14s\n",
      "152:\tlearn: 0.4434902\ttest: 0.5740272\tbest: 0.5740272 (152)\ttotal: 1m 20s\tremaining: 2m 14s\n",
      "153:\tlearn: 0.4423505\ttest: 0.5737724\tbest: 0.5737724 (153)\ttotal: 1m 20s\tremaining: 2m 13s\n",
      "154:\tlearn: 0.4407917\ttest: 0.5732007\tbest: 0.5732007 (154)\ttotal: 1m 21s\tremaining: 2m 12s\n",
      "155:\tlearn: 0.4397204\ttest: 0.5730240\tbest: 0.5730240 (155)\ttotal: 1m 21s\tremaining: 2m 12s\n",
      "156:\tlearn: 0.4387059\ttest: 0.5730646\tbest: 0.5730240 (155)\ttotal: 1m 22s\tremaining: 2m 12s\n",
      "157:\tlearn: 0.4380087\ttest: 0.5725650\tbest: 0.5725650 (157)\ttotal: 1m 22s\tremaining: 2m 11s\n",
      "158:\tlearn: 0.4365355\ttest: 0.5722906\tbest: 0.5722906 (158)\ttotal: 1m 23s\tremaining: 2m 11s\n",
      "159:\tlearn: 0.4352173\ttest: 0.5717529\tbest: 0.5717529 (159)\ttotal: 1m 23s\tremaining: 2m 10s\n",
      "160:\tlearn: 0.4336318\ttest: 0.5715950\tbest: 0.5715950 (160)\ttotal: 1m 24s\tremaining: 2m 10s\n",
      "161:\tlearn: 0.4325515\ttest: 0.5714077\tbest: 0.5714077 (161)\ttotal: 1m 24s\tremaining: 2m 9s\n",
      "162:\tlearn: 0.4316997\ttest: 0.5712518\tbest: 0.5712518 (162)\ttotal: 1m 25s\tremaining: 2m 8s\n",
      "163:\tlearn: 0.4310425\ttest: 0.5713256\tbest: 0.5712518 (162)\ttotal: 1m 25s\tremaining: 2m 8s\n",
      "164:\tlearn: 0.4300120\ttest: 0.5705200\tbest: 0.5705200 (164)\ttotal: 1m 26s\tremaining: 2m 7s\n",
      "165:\tlearn: 0.4291273\ttest: 0.5700402\tbest: 0.5700402 (165)\ttotal: 1m 26s\tremaining: 2m 7s\n",
      "166:\tlearn: 0.4282595\ttest: 0.5696262\tbest: 0.5696262 (166)\ttotal: 1m 27s\tremaining: 2m 6s\n",
      "167:\tlearn: 0.4272486\ttest: 0.5690039\tbest: 0.5690039 (167)\ttotal: 1m 27s\tremaining: 2m 6s\n",
      "168:\tlearn: 0.4263705\ttest: 0.5684454\tbest: 0.5684454 (168)\ttotal: 1m 28s\tremaining: 2m 5s\n",
      "169:\tlearn: 0.4254593\ttest: 0.5679668\tbest: 0.5679668 (169)\ttotal: 1m 28s\tremaining: 2m 5s\n",
      "170:\tlearn: 0.4247873\ttest: 0.5676338\tbest: 0.5676338 (170)\ttotal: 1m 29s\tremaining: 2m 4s\n",
      "171:\tlearn: 0.4237591\ttest: 0.5670960\tbest: 0.5670960 (171)\ttotal: 1m 30s\tremaining: 2m 4s\n",
      "172:\tlearn: 0.4228642\ttest: 0.5664783\tbest: 0.5664783 (172)\ttotal: 1m 30s\tremaining: 2m 3s\n",
      "173:\tlearn: 0.4216665\ttest: 0.5665004\tbest: 0.5664783 (172)\ttotal: 1m 31s\tremaining: 2m 3s\n",
      "174:\tlearn: 0.4210570\ttest: 0.5664782\tbest: 0.5664782 (174)\ttotal: 1m 32s\tremaining: 2m 3s\n",
      "175:\tlearn: 0.4203014\ttest: 0.5662796\tbest: 0.5662796 (175)\ttotal: 1m 32s\tremaining: 2m 2s\n",
      "176:\tlearn: 0.4192066\ttest: 0.5660252\tbest: 0.5660252 (176)\ttotal: 1m 33s\tremaining: 2m 2s\n",
      "177:\tlearn: 0.4183366\ttest: 0.5656672\tbest: 0.5656672 (177)\ttotal: 1m 33s\tremaining: 2m 1s\n",
      "178:\tlearn: 0.4175553\ttest: 0.5653734\tbest: 0.5653734 (178)\ttotal: 1m 34s\tremaining: 2m 1s\n",
      "179:\tlearn: 0.4166913\ttest: 0.5654235\tbest: 0.5653734 (178)\ttotal: 1m 34s\tremaining: 2m\n",
      "180:\tlearn: 0.4157587\ttest: 0.5658386\tbest: 0.5653734 (178)\ttotal: 1m 35s\tremaining: 2m\n",
      "181:\tlearn: 0.4147985\ttest: 0.5654116\tbest: 0.5653734 (178)\ttotal: 1m 35s\tremaining: 1m 59s\n",
      "182:\tlearn: 0.4141200\ttest: 0.5655124\tbest: 0.5653734 (178)\ttotal: 1m 36s\tremaining: 1m 58s\n",
      "183:\tlearn: 0.4130049\ttest: 0.5650870\tbest: 0.5650870 (183)\ttotal: 1m 36s\tremaining: 1m 58s\n",
      "184:\tlearn: 0.4117308\ttest: 0.5649419\tbest: 0.5649419 (184)\ttotal: 1m 37s\tremaining: 1m 58s\n",
      "185:\tlearn: 0.4111081\ttest: 0.5645593\tbest: 0.5645593 (185)\ttotal: 1m 37s\tremaining: 1m 57s\n",
      "186:\tlearn: 0.4105809\ttest: 0.5644304\tbest: 0.5644304 (186)\ttotal: 1m 38s\tremaining: 1m 56s\n",
      "187:\tlearn: 0.4097210\ttest: 0.5641034\tbest: 0.5641034 (187)\ttotal: 1m 38s\tremaining: 1m 56s\n",
      "188:\tlearn: 0.4090754\ttest: 0.5641399\tbest: 0.5641034 (187)\ttotal: 1m 39s\tremaining: 1m 55s\n",
      "189:\tlearn: 0.4083222\ttest: 0.5638582\tbest: 0.5638582 (189)\ttotal: 1m 39s\tremaining: 1m 54s\n",
      "190:\tlearn: 0.4076213\ttest: 0.5634456\tbest: 0.5634456 (190)\ttotal: 1m 40s\tremaining: 1m 54s\n",
      "191:\tlearn: 0.4065765\ttest: 0.5628660\tbest: 0.5628660 (191)\ttotal: 1m 40s\tremaining: 1m 53s\n",
      "192:\tlearn: 0.4058090\ttest: 0.5626580\tbest: 0.5626580 (192)\ttotal: 1m 41s\tremaining: 1m 53s\n",
      "193:\tlearn: 0.4042732\ttest: 0.5627774\tbest: 0.5626580 (192)\ttotal: 1m 41s\tremaining: 1m 52s\n",
      "194:\tlearn: 0.4033420\ttest: 0.5628005\tbest: 0.5626580 (192)\ttotal: 1m 42s\tremaining: 1m 52s\n",
      "195:\tlearn: 0.4026273\ttest: 0.5631372\tbest: 0.5626580 (192)\ttotal: 1m 42s\tremaining: 1m 51s\n",
      "196:\tlearn: 0.4018975\ttest: 0.5627427\tbest: 0.5626580 (192)\ttotal: 1m 43s\tremaining: 1m 50s\n",
      "197:\tlearn: 0.4004356\ttest: 0.5622622\tbest: 0.5622622 (197)\ttotal: 1m 43s\tremaining: 1m 50s\n",
      "198:\tlearn: 0.3996005\ttest: 0.5618486\tbest: 0.5618486 (198)\ttotal: 1m 44s\tremaining: 1m 49s\n",
      "199:\tlearn: 0.3989239\ttest: 0.5620010\tbest: 0.5618486 (198)\ttotal: 1m 44s\tremaining: 1m 49s\n",
      "200:\tlearn: 0.3982557\ttest: 0.5616250\tbest: 0.5616250 (200)\ttotal: 1m 45s\tremaining: 1m 48s\n",
      "201:\tlearn: 0.3977498\ttest: 0.5617029\tbest: 0.5616250 (200)\ttotal: 1m 45s\tremaining: 1m 48s\n",
      "202:\tlearn: 0.3969651\ttest: 0.5614988\tbest: 0.5614988 (202)\ttotal: 1m 46s\tremaining: 1m 47s\n",
      "203:\tlearn: 0.3958897\ttest: 0.5611775\tbest: 0.5611775 (203)\ttotal: 1m 46s\tremaining: 1m 47s\n",
      "204:\tlearn: 0.3949215\ttest: 0.5608956\tbest: 0.5608956 (204)\ttotal: 1m 47s\tremaining: 1m 46s\n",
      "205:\tlearn: 0.3939057\ttest: 0.5605489\tbest: 0.5605489 (205)\ttotal: 1m 47s\tremaining: 1m 46s\n",
      "206:\tlearn: 0.3928616\ttest: 0.5601192\tbest: 0.5601192 (206)\ttotal: 1m 48s\tremaining: 1m 45s\n",
      "207:\tlearn: 0.3921504\ttest: 0.5598134\tbest: 0.5598134 (207)\ttotal: 1m 48s\tremaining: 1m 45s\n",
      "208:\tlearn: 0.3904833\ttest: 0.5588945\tbest: 0.5588945 (208)\ttotal: 1m 49s\tremaining: 1m 44s\n",
      "209:\tlearn: 0.3896421\ttest: 0.5590307\tbest: 0.5588945 (208)\ttotal: 1m 49s\tremaining: 1m 44s\n",
      "210:\tlearn: 0.3888244\ttest: 0.5588058\tbest: 0.5588058 (210)\ttotal: 1m 50s\tremaining: 1m 43s\n",
      "211:\tlearn: 0.3882542\ttest: 0.5585622\tbest: 0.5585622 (211)\ttotal: 1m 50s\tremaining: 1m 43s\n",
      "212:\tlearn: 0.3867663\ttest: 0.5579625\tbest: 0.5579625 (212)\ttotal: 1m 51s\tremaining: 1m 42s\n",
      "213:\tlearn: 0.3860454\ttest: 0.5578942\tbest: 0.5578942 (213)\ttotal: 1m 52s\tremaining: 1m 42s\n",
      "214:\tlearn: 0.3852907\ttest: 0.5573579\tbest: 0.5573579 (214)\ttotal: 1m 52s\tremaining: 1m 41s\n",
      "215:\tlearn: 0.3847073\ttest: 0.5575113\tbest: 0.5573579 (214)\ttotal: 1m 53s\tremaining: 1m 41s\n",
      "216:\tlearn: 0.3841498\ttest: 0.5576068\tbest: 0.5573579 (214)\ttotal: 1m 53s\tremaining: 1m 40s\n",
      "217:\tlearn: 0.3833181\ttest: 0.5576805\tbest: 0.5573579 (214)\ttotal: 1m 54s\tremaining: 1m 40s\n",
      "218:\tlearn: 0.3824807\ttest: 0.5571048\tbest: 0.5571048 (218)\ttotal: 1m 54s\tremaining: 1m 39s\n",
      "219:\tlearn: 0.3818323\ttest: 0.5568815\tbest: 0.5568815 (219)\ttotal: 1m 55s\tremaining: 1m 39s\n",
      "220:\tlearn: 0.3811980\ttest: 0.5565096\tbest: 0.5565096 (220)\ttotal: 1m 55s\tremaining: 1m 38s\n",
      "221:\tlearn: 0.3804438\ttest: 0.5565015\tbest: 0.5565015 (221)\ttotal: 1m 56s\tremaining: 1m 38s\n",
      "222:\tlearn: 0.3796646\ttest: 0.5558836\tbest: 0.5558836 (222)\ttotal: 1m 56s\tremaining: 1m 37s\n",
      "223:\tlearn: 0.3786537\ttest: 0.5560753\tbest: 0.5558836 (222)\ttotal: 1m 57s\tremaining: 1m 37s\n",
      "224:\tlearn: 0.3778894\ttest: 0.5560350\tbest: 0.5558836 (222)\ttotal: 1m 58s\tremaining: 1m 36s\n",
      "225:\tlearn: 0.3771985\ttest: 0.5559588\tbest: 0.5558836 (222)\ttotal: 1m 58s\tremaining: 1m 36s\n",
      "226:\tlearn: 0.3762672\ttest: 0.5562930\tbest: 0.5558836 (222)\ttotal: 1m 59s\tremaining: 1m 35s\n",
      "227:\tlearn: 0.3756056\ttest: 0.5557140\tbest: 0.5557140 (227)\ttotal: 1m 59s\tremaining: 1m 34s\n",
      "228:\tlearn: 0.3747274\ttest: 0.5553372\tbest: 0.5553372 (228)\ttotal: 2m\tremaining: 1m 34s\n",
      "229:\tlearn: 0.3737491\ttest: 0.5550114\tbest: 0.5550114 (229)\ttotal: 2m\tremaining: 1m 33s\n",
      "230:\tlearn: 0.3733228\ttest: 0.5553434\tbest: 0.5550114 (229)\ttotal: 2m 1s\tremaining: 1m 33s\n",
      "231:\tlearn: 0.3724296\ttest: 0.5552497\tbest: 0.5550114 (229)\ttotal: 2m 1s\tremaining: 1m 32s\n",
      "232:\tlearn: 0.3717435\ttest: 0.5548265\tbest: 0.5548265 (232)\ttotal: 2m 2s\tremaining: 1m 32s\n",
      "233:\tlearn: 0.3711163\ttest: 0.5548735\tbest: 0.5548265 (232)\ttotal: 2m 2s\tremaining: 1m 31s\n",
      "234:\tlearn: 0.3701448\ttest: 0.5541282\tbest: 0.5541282 (234)\ttotal: 2m 3s\tremaining: 1m 31s\n",
      "235:\tlearn: 0.3692708\ttest: 0.5533322\tbest: 0.5533322 (235)\ttotal: 2m 3s\tremaining: 1m 30s\n",
      "236:\tlearn: 0.3681400\ttest: 0.5528605\tbest: 0.5528605 (236)\ttotal: 2m 4s\tremaining: 1m 30s\n",
      "237:\tlearn: 0.3676760\ttest: 0.5529399\tbest: 0.5528605 (236)\ttotal: 2m 4s\tremaining: 1m 29s\n",
      "238:\tlearn: 0.3669573\ttest: 0.5527868\tbest: 0.5527868 (238)\ttotal: 2m 5s\tremaining: 1m 29s\n",
      "239:\tlearn: 0.3661767\ttest: 0.5525976\tbest: 0.5525976 (239)\ttotal: 2m 5s\tremaining: 1m 28s\n",
      "240:\tlearn: 0.3654559\ttest: 0.5524098\tbest: 0.5524098 (240)\ttotal: 2m 6s\tremaining: 1m 28s\n",
      "241:\tlearn: 0.3648264\ttest: 0.5525389\tbest: 0.5524098 (240)\ttotal: 2m 7s\tremaining: 1m 27s\n",
      "242:\tlearn: 0.3641969\ttest: 0.5526738\tbest: 0.5524098 (240)\ttotal: 2m 7s\tremaining: 1m 27s\n",
      "243:\tlearn: 0.3632579\ttest: 0.5520672\tbest: 0.5520672 (243)\ttotal: 2m 8s\tremaining: 1m 26s\n",
      "244:\tlearn: 0.3627087\ttest: 0.5517543\tbest: 0.5517543 (244)\ttotal: 2m 8s\tremaining: 1m 26s\n",
      "245:\tlearn: 0.3620908\ttest: 0.5518433\tbest: 0.5517543 (244)\ttotal: 2m 9s\tremaining: 1m 25s\n",
      "246:\tlearn: 0.3615201\ttest: 0.5519628\tbest: 0.5517543 (244)\ttotal: 2m 9s\tremaining: 1m 25s\n",
      "247:\tlearn: 0.3608155\ttest: 0.5520777\tbest: 0.5517543 (244)\ttotal: 2m 10s\tremaining: 1m 24s\n",
      "248:\tlearn: 0.3603067\ttest: 0.5522404\tbest: 0.5517543 (244)\ttotal: 2m 10s\tremaining: 1m 24s\n",
      "249:\tlearn: 0.3596327\ttest: 0.5518382\tbest: 0.5517543 (244)\ttotal: 2m 11s\tremaining: 1m 23s\n",
      "250:\tlearn: 0.3589759\ttest: 0.5516181\tbest: 0.5516181 (250)\ttotal: 2m 11s\tremaining: 1m 23s\n",
      "251:\tlearn: 0.3581245\ttest: 0.5513202\tbest: 0.5513202 (251)\ttotal: 2m 12s\tremaining: 1m 22s\n",
      "252:\tlearn: 0.3577421\ttest: 0.5509212\tbest: 0.5509212 (252)\ttotal: 2m 13s\tremaining: 1m 22s\n",
      "253:\tlearn: 0.3572949\ttest: 0.5505142\tbest: 0.5505142 (253)\ttotal: 2m 13s\tremaining: 1m 21s\n",
      "254:\tlearn: 0.3567296\ttest: 0.5506468\tbest: 0.5505142 (253)\ttotal: 2m 14s\tremaining: 1m 20s\n",
      "255:\tlearn: 0.3561455\ttest: 0.5504256\tbest: 0.5504256 (255)\ttotal: 2m 14s\tremaining: 1m 20s\n",
      "256:\tlearn: 0.3551418\ttest: 0.5508682\tbest: 0.5504256 (255)\ttotal: 2m 15s\tremaining: 1m 19s\n",
      "257:\tlearn: 0.3546201\ttest: 0.5506967\tbest: 0.5504256 (255)\ttotal: 2m 15s\tremaining: 1m 19s\n",
      "258:\tlearn: 0.3540351\ttest: 0.5500298\tbest: 0.5500298 (258)\ttotal: 2m 16s\tremaining: 1m 18s\n",
      "259:\tlearn: 0.3536498\ttest: 0.5503066\tbest: 0.5500298 (258)\ttotal: 2m 16s\tremaining: 1m 18s\n",
      "260:\tlearn: 0.3529763\ttest: 0.5500935\tbest: 0.5500298 (258)\ttotal: 2m 17s\tremaining: 1m 17s\n",
      "261:\tlearn: 0.3521333\ttest: 0.5497287\tbest: 0.5497287 (261)\ttotal: 2m 17s\tremaining: 1m 17s\n",
      "262:\tlearn: 0.3516671\ttest: 0.5498811\tbest: 0.5497287 (261)\ttotal: 2m 18s\tremaining: 1m 16s\n",
      "263:\tlearn: 0.3509291\ttest: 0.5497293\tbest: 0.5497287 (261)\ttotal: 2m 18s\tremaining: 1m 16s\n",
      "264:\tlearn: 0.3502886\ttest: 0.5493285\tbest: 0.5493285 (264)\ttotal: 2m 19s\tremaining: 1m 15s\n",
      "265:\tlearn: 0.3497497\ttest: 0.5490794\tbest: 0.5490794 (265)\ttotal: 2m 19s\tremaining: 1m 15s\n",
      "266:\tlearn: 0.3492520\ttest: 0.5493759\tbest: 0.5490794 (265)\ttotal: 2m 20s\tremaining: 1m 14s\n",
      "267:\tlearn: 0.3486705\ttest: 0.5487880\tbest: 0.5487880 (267)\ttotal: 2m 21s\tremaining: 1m 14s\n",
      "268:\tlearn: 0.3482329\ttest: 0.5488929\tbest: 0.5487880 (267)\ttotal: 2m 21s\tremaining: 1m 13s\n",
      "269:\tlearn: 0.3477967\ttest: 0.5484342\tbest: 0.5484342 (269)\ttotal: 2m 22s\tremaining: 1m 13s\n",
      "270:\tlearn: 0.3471297\ttest: 0.5487395\tbest: 0.5484342 (269)\ttotal: 2m 22s\tremaining: 1m 12s\n",
      "271:\tlearn: 0.3467052\ttest: 0.5483467\tbest: 0.5483467 (271)\ttotal: 2m 23s\tremaining: 1m 12s\n",
      "272:\tlearn: 0.3463027\ttest: 0.5479920\tbest: 0.5479920 (272)\ttotal: 2m 23s\tremaining: 1m 11s\n",
      "273:\tlearn: 0.3456569\ttest: 0.5479285\tbest: 0.5479285 (273)\ttotal: 2m 24s\tremaining: 1m 11s\n",
      "274:\tlearn: 0.3449741\ttest: 0.5478895\tbest: 0.5478895 (274)\ttotal: 2m 24s\tremaining: 1m 10s\n",
      "275:\tlearn: 0.3443154\ttest: 0.5476984\tbest: 0.5476984 (275)\ttotal: 2m 25s\tremaining: 1m 10s\n",
      "276:\tlearn: 0.3436357\ttest: 0.5479393\tbest: 0.5476984 (275)\ttotal: 2m 25s\tremaining: 1m 9s\n",
      "277:\tlearn: 0.3429904\ttest: 0.5476421\tbest: 0.5476421 (277)\ttotal: 2m 26s\tremaining: 1m 8s\n",
      "278:\tlearn: 0.3422237\ttest: 0.5475700\tbest: 0.5475700 (278)\ttotal: 2m 26s\tremaining: 1m 8s\n",
      "279:\tlearn: 0.3411841\ttest: 0.5479692\tbest: 0.5475700 (278)\ttotal: 2m 27s\tremaining: 1m 7s\n",
      "280:\tlearn: 0.3403837\ttest: 0.5475130\tbest: 0.5475130 (280)\ttotal: 2m 27s\tremaining: 1m 7s\n",
      "281:\tlearn: 0.3399199\ttest: 0.5477940\tbest: 0.5475130 (280)\ttotal: 2m 28s\tremaining: 1m 6s\n",
      "282:\tlearn: 0.3394179\ttest: 0.5478793\tbest: 0.5475130 (280)\ttotal: 2m 28s\tremaining: 1m 6s\n",
      "283:\tlearn: 0.3389151\ttest: 0.5479200\tbest: 0.5475130 (280)\ttotal: 2m 29s\tremaining: 1m 5s\n",
      "284:\tlearn: 0.3382277\ttest: 0.5474850\tbest: 0.5474850 (284)\ttotal: 2m 30s\tremaining: 1m 5s\n",
      "285:\tlearn: 0.3377009\ttest: 0.5472813\tbest: 0.5472813 (285)\ttotal: 2m 30s\tremaining: 1m 4s\n",
      "286:\tlearn: 0.3369525\ttest: 0.5480143\tbest: 0.5472813 (285)\ttotal: 2m 31s\tremaining: 1m 4s\n",
      "287:\tlearn: 0.3365316\ttest: 0.5475073\tbest: 0.5472813 (285)\ttotal: 2m 31s\tremaining: 1m 3s\n",
      "288:\tlearn: 0.3358523\ttest: 0.5475225\tbest: 0.5472813 (285)\ttotal: 2m 32s\tremaining: 1m 3s\n",
      "289:\tlearn: 0.3346863\ttest: 0.5476267\tbest: 0.5472813 (285)\ttotal: 2m 32s\tremaining: 1m 2s\n",
      "290:\tlearn: 0.3341636\ttest: 0.5476231\tbest: 0.5472813 (285)\ttotal: 2m 33s\tremaining: 1m 2s\n",
      "291:\tlearn: 0.3333165\ttest: 0.5474532\tbest: 0.5472813 (285)\ttotal: 2m 33s\tremaining: 1m 1s\n",
      "292:\tlearn: 0.3328378\ttest: 0.5472069\tbest: 0.5472069 (292)\ttotal: 2m 34s\tremaining: 1m 1s\n",
      "293:\tlearn: 0.3324161\ttest: 0.5470094\tbest: 0.5470094 (293)\ttotal: 2m 34s\tremaining: 1m\n",
      "294:\tlearn: 0.3318343\ttest: 0.5472643\tbest: 0.5470094 (293)\ttotal: 2m 35s\tremaining: 1m\n",
      "295:\tlearn: 0.3311773\ttest: 0.5471062\tbest: 0.5470094 (293)\ttotal: 2m 35s\tremaining: 59.5s\n",
      "296:\tlearn: 0.3303905\ttest: 0.5475355\tbest: 0.5470094 (293)\ttotal: 2m 36s\tremaining: 59s\n",
      "297:\tlearn: 0.3299432\ttest: 0.5469965\tbest: 0.5469965 (297)\ttotal: 2m 36s\tremaining: 58.5s\n",
      "298:\tlearn: 0.3291829\ttest: 0.5469458\tbest: 0.5469458 (298)\ttotal: 2m 37s\tremaining: 57.9s\n",
      "299:\tlearn: 0.3287857\ttest: 0.5469336\tbest: 0.5469336 (299)\ttotal: 2m 38s\tremaining: 57.4s\n",
      "300:\tlearn: 0.3283037\ttest: 0.5470806\tbest: 0.5469336 (299)\ttotal: 2m 38s\tremaining: 56.9s\n",
      "301:\tlearn: 0.3279585\ttest: 0.5471182\tbest: 0.5469336 (299)\ttotal: 2m 39s\tremaining: 56.4s\n",
      "302:\tlearn: 0.3270576\ttest: 0.5467873\tbest: 0.5467873 (302)\ttotal: 2m 39s\tremaining: 55.8s\n",
      "303:\tlearn: 0.3264241\ttest: 0.5470048\tbest: 0.5467873 (302)\ttotal: 2m 40s\tremaining: 55.3s\n",
      "304:\tlearn: 0.3258509\ttest: 0.5473630\tbest: 0.5467873 (302)\ttotal: 2m 40s\tremaining: 54.8s\n",
      "305:\tlearn: 0.3254358\ttest: 0.5478087\tbest: 0.5467873 (302)\ttotal: 2m 41s\tremaining: 54.2s\n",
      "306:\tlearn: 0.3246706\ttest: 0.5474055\tbest: 0.5467873 (302)\ttotal: 2m 41s\tremaining: 53.7s\n",
      "307:\tlearn: 0.3239207\ttest: 0.5480612\tbest: 0.5467873 (302)\ttotal: 2m 42s\tremaining: 53.2s\n",
      "308:\tlearn: 0.3234697\ttest: 0.5478357\tbest: 0.5467873 (302)\ttotal: 2m 42s\tremaining: 52.7s\n",
      "309:\tlearn: 0.3229993\ttest: 0.5479204\tbest: 0.5467873 (302)\ttotal: 2m 43s\tremaining: 52.1s\n",
      "310:\tlearn: 0.3226294\ttest: 0.5479834\tbest: 0.5467873 (302)\ttotal: 2m 43s\tremaining: 51.6s\n",
      "311:\tlearn: 0.3224689\ttest: 0.5479324\tbest: 0.5467873 (302)\ttotal: 2m 43s\tremaining: 51s\n",
      "312:\tlearn: 0.3218307\ttest: 0.5476601\tbest: 0.5467873 (302)\ttotal: 2m 44s\tremaining: 50.4s\n",
      "313:\tlearn: 0.3213785\ttest: 0.5476523\tbest: 0.5467873 (302)\ttotal: 2m 44s\tremaining: 49.9s\n",
      "314:\tlearn: 0.3205674\ttest: 0.5476195\tbest: 0.5467873 (302)\ttotal: 2m 45s\tremaining: 49.4s\n",
      "315:\tlearn: 0.3200302\ttest: 0.5470510\tbest: 0.5467873 (302)\ttotal: 2m 45s\tremaining: 48.8s\n",
      "316:\tlearn: 0.3195774\ttest: 0.5471531\tbest: 0.5467873 (302)\ttotal: 2m 46s\tremaining: 48.3s\n",
      "317:\tlearn: 0.3191757\ttest: 0.5470078\tbest: 0.5467873 (302)\ttotal: 2m 46s\tremaining: 47.8s\n",
      "318:\tlearn: 0.3185354\ttest: 0.5468687\tbest: 0.5467873 (302)\ttotal: 2m 47s\tremaining: 47.2s\n",
      "319:\tlearn: 0.3177782\ttest: 0.5468538\tbest: 0.5467873 (302)\ttotal: 2m 47s\tremaining: 46.7s\n",
      "320:\tlearn: 0.3174209\ttest: 0.5467419\tbest: 0.5467419 (320)\ttotal: 2m 48s\tremaining: 46.2s\n",
      "321:\tlearn: 0.3165593\ttest: 0.5469046\tbest: 0.5467419 (320)\ttotal: 2m 49s\tremaining: 45.7s\n",
      "322:\tlearn: 0.3159332\ttest: 0.5466618\tbest: 0.5466618 (322)\ttotal: 2m 49s\tremaining: 45.2s\n",
      "323:\tlearn: 0.3151379\ttest: 0.5473181\tbest: 0.5466618 (322)\ttotal: 2m 50s\tremaining: 44.6s\n",
      "324:\tlearn: 0.3144538\ttest: 0.5471920\tbest: 0.5466618 (322)\ttotal: 2m 50s\tremaining: 44.1s\n",
      "325:\tlearn: 0.3139023\ttest: 0.5472763\tbest: 0.5466618 (322)\ttotal: 2m 51s\tremaining: 43.6s\n",
      "326:\tlearn: 0.3135312\ttest: 0.5470652\tbest: 0.5466618 (322)\ttotal: 2m 51s\tremaining: 43.1s\n",
      "327:\tlearn: 0.3129765\ttest: 0.5468721\tbest: 0.5466618 (322)\ttotal: 2m 52s\tremaining: 42.5s\n",
      "328:\tlearn: 0.3125542\ttest: 0.5470127\tbest: 0.5466618 (322)\ttotal: 2m 52s\tremaining: 42s\n",
      "329:\tlearn: 0.3120548\ttest: 0.5470165\tbest: 0.5466618 (322)\ttotal: 2m 53s\tremaining: 41.5s\n",
      "330:\tlearn: 0.3111549\ttest: 0.5478868\tbest: 0.5466618 (322)\ttotal: 2m 53s\tremaining: 41s\n",
      "331:\tlearn: 0.3103515\ttest: 0.5473139\tbest: 0.5466618 (322)\ttotal: 2m 54s\tremaining: 40.5s\n",
      "332:\tlearn: 0.3097658\ttest: 0.5470235\tbest: 0.5466618 (322)\ttotal: 2m 54s\tremaining: 39.9s\n",
      "333:\tlearn: 0.3095062\ttest: 0.5470116\tbest: 0.5466618 (322)\ttotal: 2m 55s\tremaining: 39.4s\n",
      "334:\tlearn: 0.3086101\ttest: 0.5471451\tbest: 0.5466618 (322)\ttotal: 2m 56s\tremaining: 38.9s\n",
      "335:\tlearn: 0.3081643\ttest: 0.5468417\tbest: 0.5466618 (322)\ttotal: 2m 56s\tremaining: 38.3s\n",
      "336:\tlearn: 0.3074945\ttest: 0.5465932\tbest: 0.5465932 (336)\ttotal: 2m 57s\tremaining: 37.8s\n",
      "337:\tlearn: 0.3069553\ttest: 0.5464389\tbest: 0.5464389 (337)\ttotal: 2m 57s\tremaining: 37.3s\n",
      "338:\tlearn: 0.3062715\ttest: 0.5463663\tbest: 0.5463663 (338)\ttotal: 2m 58s\tremaining: 36.8s\n",
      "339:\tlearn: 0.3055693\ttest: 0.5465785\tbest: 0.5463663 (338)\ttotal: 2m 58s\tremaining: 36.2s\n",
      "340:\tlearn: 0.3052704\ttest: 0.5461888\tbest: 0.5461888 (340)\ttotal: 2m 59s\tremaining: 35.7s\n",
      "341:\tlearn: 0.3046841\ttest: 0.5460130\tbest: 0.5460130 (341)\ttotal: 2m 59s\tremaining: 35.2s\n",
      "342:\tlearn: 0.3042807\ttest: 0.5457371\tbest: 0.5457371 (342)\ttotal: 2m 59s\tremaining: 34.6s\n",
      "343:\tlearn: 0.3038473\ttest: 0.5458245\tbest: 0.5457371 (342)\ttotal: 3m\tremaining: 34.1s\n",
      "344:\tlearn: 0.3033178\ttest: 0.5456272\tbest: 0.5456272 (344)\ttotal: 3m\tremaining: 33.5s\n",
      "345:\tlearn: 0.3028155\ttest: 0.5455896\tbest: 0.5455896 (345)\ttotal: 3m 1s\tremaining: 33s\n",
      "346:\tlearn: 0.3021429\ttest: 0.5456076\tbest: 0.5455896 (345)\ttotal: 3m 1s\tremaining: 32.5s\n",
      "347:\tlearn: 0.3018264\ttest: 0.5455385\tbest: 0.5455385 (347)\ttotal: 3m 2s\tremaining: 32s\n",
      "348:\tlearn: 0.3011966\ttest: 0.5452875\tbest: 0.5452875 (348)\ttotal: 3m 2s\tremaining: 31.4s\n",
      "349:\tlearn: 0.3006168\ttest: 0.5450409\tbest: 0.5450409 (349)\ttotal: 3m 3s\tremaining: 31s\n",
      "350:\tlearn: 0.3002150\ttest: 0.5452254\tbest: 0.5450409 (349)\ttotal: 3m 4s\tremaining: 30.5s\n",
      "351:\tlearn: 0.2999066\ttest: 0.5450949\tbest: 0.5450409 (349)\ttotal: 3m 4s\tremaining: 29.9s\n",
      "352:\tlearn: 0.2994603\ttest: 0.5453706\tbest: 0.5450409 (349)\ttotal: 3m 5s\tremaining: 29.4s\n",
      "353:\tlearn: 0.2990586\ttest: 0.5453343\tbest: 0.5450409 (349)\ttotal: 3m 5s\tremaining: 28.9s\n",
      "354:\tlearn: 0.2985574\ttest: 0.5455201\tbest: 0.5450409 (349)\ttotal: 3m 6s\tremaining: 28.3s\n",
      "355:\tlearn: 0.2981415\ttest: 0.5452657\tbest: 0.5450409 (349)\ttotal: 3m 6s\tremaining: 27.8s\n",
      "356:\tlearn: 0.2977458\ttest: 0.5456635\tbest: 0.5450409 (349)\ttotal: 3m 7s\tremaining: 27.3s\n",
      "357:\tlearn: 0.2973892\ttest: 0.5457177\tbest: 0.5450409 (349)\ttotal: 3m 7s\tremaining: 26.7s\n",
      "358:\tlearn: 0.2967271\ttest: 0.5457643\tbest: 0.5450409 (349)\ttotal: 3m 8s\tremaining: 26.2s\n",
      "359:\tlearn: 0.2961893\ttest: 0.5459930\tbest: 0.5450409 (349)\ttotal: 3m 8s\tremaining: 25.7s\n",
      "360:\tlearn: 0.2954109\ttest: 0.5456498\tbest: 0.5450409 (349)\ttotal: 3m 9s\tremaining: 25.2s\n",
      "361:\tlearn: 0.2947232\ttest: 0.5454093\tbest: 0.5450409 (349)\ttotal: 3m 9s\tremaining: 24.7s\n",
      "362:\tlearn: 0.2943136\ttest: 0.5451669\tbest: 0.5450409 (349)\ttotal: 3m 10s\tremaining: 24.1s\n",
      "363:\tlearn: 0.2938253\ttest: 0.5454751\tbest: 0.5450409 (349)\ttotal: 3m 10s\tremaining: 23.6s\n",
      "364:\tlearn: 0.2933214\ttest: 0.5458126\tbest: 0.5450409 (349)\ttotal: 3m 11s\tremaining: 23.1s\n",
      "365:\tlearn: 0.2929063\ttest: 0.5453640\tbest: 0.5450409 (349)\ttotal: 3m 11s\tremaining: 22.6s\n",
      "366:\tlearn: 0.2926084\ttest: 0.5453232\tbest: 0.5450409 (349)\ttotal: 3m 12s\tremaining: 22s\n",
      "367:\tlearn: 0.2923794\ttest: 0.5451577\tbest: 0.5450409 (349)\ttotal: 3m 13s\tremaining: 21.5s\n",
      "368:\tlearn: 0.2917927\ttest: 0.5446236\tbest: 0.5446236 (368)\ttotal: 3m 13s\tremaining: 21s\n",
      "369:\tlearn: 0.2911528\ttest: 0.5443010\tbest: 0.5443010 (369)\ttotal: 3m 14s\tremaining: 20.5s\n",
      "370:\tlearn: 0.2902469\ttest: 0.5444453\tbest: 0.5443010 (369)\ttotal: 3m 14s\tremaining: 19.9s\n",
      "371:\tlearn: 0.2897453\ttest: 0.5445373\tbest: 0.5443010 (369)\ttotal: 3m 15s\tremaining: 19.4s\n",
      "372:\tlearn: 0.2889941\ttest: 0.5444096\tbest: 0.5443010 (369)\ttotal: 3m 15s\tremaining: 18.9s\n",
      "373:\tlearn: 0.2884805\ttest: 0.5442597\tbest: 0.5442597 (373)\ttotal: 3m 16s\tremaining: 18.4s\n",
      "374:\tlearn: 0.2880076\ttest: 0.5441911\tbest: 0.5441911 (374)\ttotal: 3m 16s\tremaining: 17.8s\n",
      "375:\tlearn: 0.2874117\ttest: 0.5444041\tbest: 0.5441911 (374)\ttotal: 3m 17s\tremaining: 17.3s\n",
      "376:\tlearn: 0.2869242\ttest: 0.5437998\tbest: 0.5437998 (376)\ttotal: 3m 17s\tremaining: 16.8s\n",
      "377:\tlearn: 0.2864078\ttest: 0.5438350\tbest: 0.5437998 (376)\ttotal: 3m 18s\tremaining: 16.3s\n",
      "378:\tlearn: 0.2859476\ttest: 0.5438920\tbest: 0.5437998 (376)\ttotal: 3m 18s\tremaining: 15.7s\n",
      "379:\tlearn: 0.2854460\ttest: 0.5439082\tbest: 0.5437998 (376)\ttotal: 3m 19s\tremaining: 15.2s\n",
      "380:\tlearn: 0.2850574\ttest: 0.5440425\tbest: 0.5437998 (376)\ttotal: 3m 19s\tremaining: 14.7s\n",
      "381:\tlearn: 0.2847273\ttest: 0.5437505\tbest: 0.5437505 (381)\ttotal: 3m 20s\tremaining: 14.2s\n",
      "382:\tlearn: 0.2844272\ttest: 0.5438607\tbest: 0.5437505 (381)\ttotal: 3m 20s\tremaining: 13.6s\n",
      "383:\tlearn: 0.2841542\ttest: 0.5441467\tbest: 0.5437505 (381)\ttotal: 3m 21s\tremaining: 13.1s\n",
      "384:\tlearn: 0.2838165\ttest: 0.5442837\tbest: 0.5437505 (381)\ttotal: 3m 22s\tremaining: 12.6s\n",
      "385:\tlearn: 0.2831795\ttest: 0.5441058\tbest: 0.5437505 (381)\ttotal: 3m 22s\tremaining: 12.1s\n",
      "386:\tlearn: 0.2824328\ttest: 0.5437662\tbest: 0.5437505 (381)\ttotal: 3m 23s\tremaining: 11.5s\n",
      "387:\tlearn: 0.2819576\ttest: 0.5439670\tbest: 0.5437505 (381)\ttotal: 3m 23s\tremaining: 11s\n",
      "388:\tlearn: 0.2816044\ttest: 0.5436834\tbest: 0.5436834 (388)\ttotal: 3m 24s\tremaining: 10.5s\n",
      "389:\tlearn: 0.2813572\ttest: 0.5433979\tbest: 0.5433979 (389)\ttotal: 3m 24s\tremaining: 9.98s\n",
      "390:\tlearn: 0.2809937\ttest: 0.5434921\tbest: 0.5433979 (389)\ttotal: 3m 25s\tremaining: 9.46s\n",
      "391:\tlearn: 0.2805549\ttest: 0.5437121\tbest: 0.5433979 (389)\ttotal: 3m 26s\tremaining: 8.95s\n",
      "392:\tlearn: 0.2799823\ttest: 0.5438365\tbest: 0.5433979 (389)\ttotal: 3m 27s\tremaining: 8.43s\n",
      "393:\tlearn: 0.2797069\ttest: 0.5436572\tbest: 0.5433979 (389)\ttotal: 3m 27s\tremaining: 7.91s\n",
      "394:\tlearn: 0.2792316\ttest: 0.5436037\tbest: 0.5433979 (389)\ttotal: 3m 28s\tremaining: 7.38s\n",
      "395:\tlearn: 0.2786511\ttest: 0.5435820\tbest: 0.5433979 (389)\ttotal: 3m 28s\tremaining: 6.86s\n",
      "396:\tlearn: 0.2782977\ttest: 0.5438284\tbest: 0.5433979 (389)\ttotal: 3m 29s\tremaining: 6.33s\n",
      "397:\tlearn: 0.2778213\ttest: 0.5430845\tbest: 0.5430845 (397)\ttotal: 3m 30s\tremaining: 5.8s\n",
      "398:\tlearn: 0.2773523\ttest: 0.5429294\tbest: 0.5429294 (398)\ttotal: 3m 30s\tremaining: 5.28s\n",
      "399:\tlearn: 0.2766932\ttest: 0.5429628\tbest: 0.5429294 (398)\ttotal: 3m 31s\tremaining: 4.76s\n",
      "400:\tlearn: 0.2760769\ttest: 0.5429943\tbest: 0.5429294 (398)\ttotal: 3m 31s\tremaining: 4.23s\n",
      "401:\tlearn: 0.2755895\ttest: 0.5430462\tbest: 0.5429294 (398)\ttotal: 3m 32s\tremaining: 3.7s\n",
      "402:\tlearn: 0.2749632\ttest: 0.5426322\tbest: 0.5426322 (402)\ttotal: 3m 33s\tremaining: 3.17s\n",
      "403:\tlearn: 0.2746652\ttest: 0.5427282\tbest: 0.5426322 (402)\ttotal: 3m 33s\tremaining: 2.64s\n",
      "404:\tlearn: 0.2742712\ttest: 0.5425416\tbest: 0.5425416 (404)\ttotal: 3m 34s\tremaining: 2.12s\n",
      "405:\tlearn: 0.2736278\ttest: 0.5420850\tbest: 0.5420850 (405)\ttotal: 3m 34s\tremaining: 1.59s\n",
      "406:\tlearn: 0.2729115\ttest: 0.5420250\tbest: 0.5420250 (406)\ttotal: 3m 35s\tremaining: 1.06s\n",
      "407:\tlearn: 0.2723908\ttest: 0.5416786\tbest: 0.5416786 (407)\ttotal: 3m 36s\tremaining: 530ms\n",
      "408:\tlearn: 0.2720791\ttest: 0.5416998\tbest: 0.5416786 (407)\ttotal: 3m 36s\tremaining: 0us\n",
      "\n",
      "bestTest = 0.5416786119\n",
      "bestIteration = 407\n",
      "\n",
      "Shrink model to first 408 iterations.\n"
     ]
    }
   ],
   "source": [
    "# Обучение модели с лучшими гиперпараметрами\n",
    "best_model = CatBoostClassifier(**study.best_params, eval_metric='Logloss')\n",
    "best_model.fit(train_pool, eval_set=val_pool, early_stopping_rounds=50, plot=0, verbose=1)\n",
    "\n",
    "y_train_pred = best_model.predict(train_pool)\n",
    "y_test_pred = best_model.predict(test_pool)"
   ]
  },
  {
   "cell_type": "code",
   "execution_count": 65,
   "id": "34291de2-23d7-40df-8bd6-65e411b6311e",
   "metadata": {},
   "outputs": [
    {
     "data": {
      "text/plain": [
       "{'iterations': 409,\n",
       " 'learning_rate': 0.005902552855603127,\n",
       " 'depth': 9,\n",
       " 'l2_leaf_reg': 0.10129197956845731,\n",
       " 'bagging_temperature': 1.416145155592091}"
      ]
     },
     "execution_count": 65,
     "metadata": {},
     "output_type": "execute_result"
    }
   ],
   "source": [
    "study.best_params"
   ]
  },
  {
   "cell_type": "code",
   "execution_count": 66,
   "id": "8fcd483a-d457-4e56-9d8b-b43f74bfd17f",
   "metadata": {},
   "outputs": [
    {
     "name": "stdout",
     "output_type": "stream",
     "text": [
      "              precision    recall  f1-score   support\n",
      "\n",
      "           0       0.93      1.00      0.97       235\n",
      "           1       1.00      0.87      0.93       129\n",
      "\n",
      "    accuracy                           0.95       364\n",
      "   macro avg       0.97      0.93      0.95       364\n",
      "weighted avg       0.96      0.95      0.95       364\n",
      "\n"
     ]
    },
    {
     "data": {
      "image/png": "[encoded data removed]",
      "text/plain": [
       "<Figure size 300x200 with 2 Axes>"
      ]
     },
     "metadata": {},
     "output_type": "display_data"
    }
   ],
   "source": [
    "print(classification_report(y_train, y_train_pred))\n",
    "conf_matrix(y_train, y_train_pred)"
   ]
  },
  {
   "cell_type": "code",
   "execution_count": 67,
   "id": "ab1654c6-b65e-48c3-bb9f-3cb5ed3b276b",
   "metadata": {},
   "outputs": [
    {
     "name": "stdout",
     "output_type": "stream",
     "text": [
      "              precision    recall  f1-score   support\n",
      "\n",
      "           0       0.73      0.90      0.81       126\n",
      "           1       0.70      0.40      0.51        70\n",
      "\n",
      "    accuracy                           0.72       196\n",
      "   macro avg       0.72      0.65      0.66       196\n",
      "weighted avg       0.72      0.72      0.70       196\n",
      "\n"
     ]
    },
    {
     "data": {
      "image/png": "[encoded data removed]",
      "text/plain": [
       "<Figure size 300x200 with 2 Axes>"
      ]
     },
     "metadata": {},
     "output_type": "display_data"
    }
   ],
   "source": [
    "print(classification_report(y_test, y_test_pred))\n",
    "conf_matrix(y_test, y_test_pred)"
   ]
  },
  {
   "cell_type": "code",
   "execution_count": 68,
   "id": "29edf7e9-d786-4724-9c52-284000602d43",
   "metadata": {},
   "outputs": [],
   "source": [
    "# Выбираем оптимальный порог отсечения\n",
    "optimal_threshold = get_best_threshold(best_model, test_pool, test_pool.get_label())\n",
    "y_test_pred = (best_model.predict_proba(test_pool)[:, 1] >= optimal_threshold).astype(int)"
   ]
  },
  {
   "cell_type": "code",
   "execution_count": 69,
   "id": "fbbe9625-8e96-47fa-a240-9b21413a1101",
   "metadata": {},
   "outputs": [
    {
     "name": "stdout",
     "output_type": "stream",
     "text": [
      "              precision    recall  f1-score   support\n",
      "\n",
      "           0       0.77      0.84      0.80       126\n",
      "           1       0.66      0.54      0.59        70\n",
      "\n",
      "    accuracy                           0.73       196\n",
      "   macro avg       0.71      0.69      0.70       196\n",
      "weighted avg       0.73      0.73      0.73       196\n",
      "\n"
     ]
    },
    {
     "data": {
      "image/png": "[encoded data removed]",
      "text/plain": [
       "<Figure size 300x200 with 2 Axes>"
      ]
     },
     "metadata": {},
     "output_type": "display_data"
    }
   ],
   "source": [
    "print(classification_report(y_test, y_test_pred))\n",
    "conf_matrix(y_test, y_test_pred)"
   ]
  },
  {
   "cell_type": "markdown",
   "id": "6cd95a29-d722-4456-9517-a4d7586fe73c",
   "metadata": {},
   "source": [
    "Длина ответа не помогает в предсказании. Модель довольно сильно переобучается и в целом показывает результат хуже, чем несколько отдельных моделей. Возможно, это связано с тем, что у каждого ответа немного своя специфика и когда мы их объединяем теряется интепретация для модели."
   ]
  },
  {
   "cell_type": "markdown",
   "id": "9e6e832f-739a-4ca9-8157-675b4f33cafd",
   "metadata": {},
   "source": [
    "# * Задача регрессии"
   ]
  },
  {
   "cell_type": "markdown",
   "id": "5fdbafdd-9b89-47d8-a7cd-e0b5edb11efb",
   "metadata": {},
   "source": [
    "Можно попробовать предсказывать оценку от 0 до 3 сразу, то есть решать задачу регрессии. "
   ]
  },
  {
   "cell_type": "code",
   "execution_count": 70,
   "id": "77c6d163-ff56-44ff-b3a1-2f3c6deb3070",
   "metadata": {},
   "outputs": [],
   "source": [
    "from catboost import CatBoostRegressor\n",
    "from sklearn.metrics import mean_absolute_error, root_mean_squared_error, r2_score"
   ]
  },
  {
   "cell_type": "code",
   "execution_count": 71,
   "id": "e8d8b3eb-90ff-4845-91e1-1603cf3e6441",
   "metadata": {},
   "outputs": [],
   "source": [
    "def reg_metrics(y, y_pred):\n",
    "    \"\"\"Выводит метрики регрессии\"\"\"\n",
    "    mae = mean_absolute_error(y, y_pred)\n",
    "    rmse = root_mean_squared_error(y, y_pred)\n",
    "    r2 = r2_score(y, y_pred)\n",
    "\n",
    "    print(f'MAE = {mae}, RMSE = {rmse}, R2 = {r2}')"
   ]
  },
  {
   "cell_type": "markdown",
   "id": "af8eb8d0-9976-4216-9f2d-91e18312170a",
   "metadata": {},
   "source": [
    "### Пробная модель только для первого ответа"
   ]
  },
  {
   "cell_type": "code",
   "execution_count": 72,
   "id": "7f608bee-e5c6-4a03-8ff7-4aa12150576e",
   "metadata": {},
   "outputs": [],
   "source": [
    "df = pd.read_csv('data.csv')\n",
    "df = df.fillna('')\n",
    "\n",
    "for i in range(N):\n",
    "    df[f'answer{i+1}_len'] = df[f'answer{i+1}'].map(len)"
   ]
  },
  {
   "cell_type": "code",
   "execution_count": 73,
   "id": "85808af6-c30c-4e17-8f9e-cf8addbaf830",
   "metadata": {},
   "outputs": [
    {
     "data": {
      "text/html": [
       "<div>\n",
       "<style scoped>\n",
       "    .dataframe tbody tr th:only-of-type {\n",
       "        vertical-align: middle;\n",
       "    }\n",
       "\n",
       "    .dataframe tbody tr th {\n",
       "        vertical-align: top;\n",
       "    }\n",
       "\n",
       "    .dataframe thead th {\n",
       "        text-align: right;\n",
       "    }\n",
       "</style>\n",
       "<table border=\"1\" class=\"dataframe\">\n",
       "  <thead>\n",
       "    <tr style=\"text-align: right;\">\n",
       "      <th></th>\n",
       "      <th>id</th>\n",
       "      <th>answer1</th>\n",
       "      <th>score1</th>\n",
       "      <th>answer2</th>\n",
       "      <th>score2</th>\n",
       "      <th>answer3</th>\n",
       "      <th>score3</th>\n",
       "      <th>result</th>\n",
       "      <th>answer1_len</th>\n",
       "      <th>answer2_len</th>\n",
       "      <th>answer3_len</th>\n",
       "    </tr>\n",
       "  </thead>\n",
       "  <tbody>\n",
       "    <tr>\n",
       "      <th>0</th>\n",
       "      <td>train_0</td>\n",
       "      <td>для анализа массивов данных необходимых в работе</td>\n",
       "      <td>2.0</td>\n",
       "      <td>для анализа массивов данных необходимых в работе</td>\n",
       "      <td>2.0</td>\n",
       "      <td>стараюсь всегда брать задачи, выполнение котор...</td>\n",
       "      <td>2.0</td>\n",
       "      <td>6.0</td>\n",
       "      <td>48</td>\n",
       "      <td>48</td>\n",
       "      <td>548</td>\n",
       "    </tr>\n",
       "    <tr>\n",
       "      <th>1</th>\n",
       "      <td>train_1</td>\n",
       "      <td>Буду использовать полученные знания в работе д...</td>\n",
       "      <td>2.0</td>\n",
       "      <td>Автоматизирую процесс сбора данных и дальнейше...</td>\n",
       "      <td>2.0</td>\n",
       "      <td>Задача по анализу кода и содержанию пакетов - ...</td>\n",
       "      <td>1.5</td>\n",
       "      <td>5.5</td>\n",
       "      <td>139</td>\n",
       "      <td>113</td>\n",
       "      <td>320</td>\n",
       "    </tr>\n",
       "    <tr>\n",
       "      <th>2</th>\n",
       "      <td>train_2</td>\n",
       "      <td>хочу стать топовым программистом во всём мире ...</td>\n",
       "      <td>1.5</td>\n",
       "      <td>изучаю программирование</td>\n",
       "      <td>1.5</td>\n",
       "      <td>-</td>\n",
       "      <td>0.0</td>\n",
       "      <td>3.0</td>\n",
       "      <td>63</td>\n",
       "      <td>23</td>\n",
       "      <td>1</td>\n",
       "    </tr>\n",
       "  </tbody>\n",
       "</table>\n",
       "</div>"
      ],
      "text/plain": [
       "        id                                            answer1  score1  \\\n",
       "0  train_0   для анализа массивов данных необходимых в работе     2.0   \n",
       "1  train_1  Буду использовать полученные знания в работе д...     2.0   \n",
       "2  train_2  хочу стать топовым программистом во всём мире ...     1.5   \n",
       "\n",
       "                                             answer2  score2  \\\n",
       "0   для анализа массивов данных необходимых в работе     2.0   \n",
       "1  Автоматизирую процесс сбора данных и дальнейше...     2.0   \n",
       "2                            изучаю программирование     1.5   \n",
       "\n",
       "                                             answer3  score3  result  \\\n",
       "0  стараюсь всегда брать задачи, выполнение котор...     2.0     6.0   \n",
       "1  Задача по анализу кода и содержанию пакетов - ...     1.5     5.5   \n",
       "2                                                  -     0.0     3.0   \n",
       "\n",
       "   answer1_len  answer2_len  answer3_len  \n",
       "0           48           48          548  \n",
       "1          139          113          320  \n",
       "2           63           23            1  "
      ]
     },
     "execution_count": 73,
     "metadata": {},
     "output_type": "execute_result"
    }
   ],
   "source": [
    "df.head(3)"
   ]
  },
  {
   "cell_type": "code",
   "execution_count": 74,
   "id": "3854f1ba-c182-4c4a-b5ac-1bbb6d88bb55",
   "metadata": {},
   "outputs": [
    {
     "data": {
      "text/plain": [
       "score1\n",
       "1.00    294\n",
       "2.00    159\n",
       "3.00     70\n",
       "0.00     57\n",
       "1.50     45\n",
       "0.50     13\n",
       "2.50      8\n",
       "2.25      5\n",
       "Name: count, dtype: int64"
      ]
     },
     "execution_count": 74,
     "metadata": {},
     "output_type": "execute_result"
    }
   ],
   "source": [
    "df['score1'].value_counts()"
   ]
  },
  {
   "cell_type": "markdown",
   "id": "be6f7436-785a-494a-aafc-59cedb4b8064",
   "metadata": {},
   "source": [
    "Можно приравнять оценки 2.25 к 2.5, потому что их слишком мало:"
   ]
  },
  {
   "cell_type": "code",
   "execution_count": 75,
   "id": "d33684ec-338b-4158-84fc-5ab08324bcf0",
   "metadata": {},
   "outputs": [],
   "source": [
    "df['score1'] = df['score1'].apply(lambda x: 2.5 if x == 2.25 else x)"
   ]
  },
  {
   "cell_type": "code",
   "execution_count": 76,
   "id": "b1445776-d778-45b9-abb0-48176c34673f",
   "metadata": {},
   "outputs": [],
   "source": [
    "X, y = df[['answer1']].copy(), df['score1'].copy()"
   ]
  },
  {
   "cell_type": "code",
   "execution_count": 77,
   "id": "03470104-3f25-482a-b4c7-3d137dc91907",
   "metadata": {},
   "outputs": [],
   "source": [
    "X_train, X_val, X_test, y_train, y_val, y_test = split_data_cls(X, y)\n",
    "\n",
    "train_pool = Pool(data=X_train, label=y_train, text_features=['answer1'])\n",
    "val_pool = Pool(data=X_val, label=y_val, text_features=['answer1'])\n",
    "test_pool = Pool(data=X_test, label=y_test, text_features=['answer1'])"
   ]
  },
  {
   "cell_type": "code",
   "execution_count": 78,
   "id": "2f36dcce-e498-4f69-a660-c70e680c8aab",
   "metadata": {},
   "outputs": [
    {
     "data": {
      "application/vnd.jupyter.widget-view+json": {
       "model_id": "a6227a3a5cac448185d00d4c9feac65a",
       "version_major": 2,
       "version_minor": 0
      },
      "text/plain": [
       "MetricVisualizer(layout=Layout(align_self='stretch', height='500px'))"
      ]
     },
     "metadata": {},
     "output_type": "display_data"
    },
    {
     "data": {
      "text/plain": [
       "<catboost.core.CatBoostRegressor at 0x1c953de5b50>"
      ]
     },
     "execution_count": 78,
     "metadata": {},
     "output_type": "execute_result"
    }
   ],
   "source": [
    "model = CatBoostRegressor(iterations=1000, depth=6, verbose=0)\n",
    "model.fit(train_pool, early_stopping_rounds=50, eval_set=val_pool, plot=1)"
   ]
  },
  {
   "cell_type": "code",
   "execution_count": 79,
   "id": "3007006b-9ea3-4755-81f6-898cdecacf45",
   "metadata": {},
   "outputs": [],
   "source": [
    "y_train_pred = model.predict(train_pool)\n",
    "y_val_pred = model.predict(val_pool)\n",
    "y_test_pred = model.predict(test_pool)"
   ]
  },
  {
   "cell_type": "code",
   "execution_count": 80,
   "id": "f88f35c3-a678-4a38-80d9-b8c28c13c8fe",
   "metadata": {},
   "outputs": [
    {
     "name": "stdout",
     "output_type": "stream",
     "text": [
      "MAE = 0.28674196991535855, RMSE = 0.37638300239734074, R2 = 0.7807321010277255\n"
     ]
    }
   ],
   "source": [
    "reg_metrics(y_train, y_train_pred)"
   ]
  },
  {
   "cell_type": "code",
   "execution_count": 81,
   "id": "d3844e49-51dc-4a26-a0fd-1b47a77c5241",
   "metadata": {},
   "outputs": [
    {
     "name": "stdout",
     "output_type": "stream",
     "text": [
      "MAE = 0.5407924071732512, RMSE = 0.6930671371486402, R2 = 0.2557546000577017\n"
     ]
    }
   ],
   "source": [
    "reg_metrics(y_test, y_test_pred)"
   ]
  },
  {
   "cell_type": "markdown",
   "id": "4de2e332-a9cb-4066-9087-9c681358c2a9",
   "metadata": {},
   "source": [
    "Бейзлайн есть. Попробуем добавить информацию о длине ответа:"
   ]
  },
  {
   "cell_type": "code",
   "execution_count": 82,
   "id": "1503d2a1-e19f-4473-91b5-41425894733b",
   "metadata": {},
   "outputs": [],
   "source": [
    "X['answer1_len'] = X['answer1'].map(len)"
   ]
  },
  {
   "cell_type": "code",
   "execution_count": 83,
   "id": "68ec0201-d04a-432d-9bbd-efec394352a3",
   "metadata": {},
   "outputs": [],
   "source": [
    "X_train, X_val, X_test, y_train, y_val, y_test = split_data_cls(X, y)\n",
    "\n",
    "train_pool = Pool(data=X_train, label=y_train, text_features=['answer1'])\n",
    "val_pool = Pool(data=X_val, label=y_val, text_features=['answer1'])\n",
    "test_pool = Pool(data=X_test, label=y_test, text_features=['answer1'])"
   ]
  },
  {
   "cell_type": "code",
   "execution_count": 84,
   "id": "167b5092-3805-4977-98ef-865459097525",
   "metadata": {},
   "outputs": [
    {
     "data": {
      "application/vnd.jupyter.widget-view+json": {
       "model_id": "37d51614c8c34bd1b2e85fd5525ae2fe",
       "version_major": 2,
       "version_minor": 0
      },
      "text/plain": [
       "MetricVisualizer(layout=Layout(align_self='stretch', height='500px'))"
      ]
     },
     "metadata": {},
     "output_type": "display_data"
    },
    {
     "data": {
      "text/plain": [
       "<catboost.core.CatBoostRegressor at 0x1c95460e1d0>"
      ]
     },
     "execution_count": 84,
     "metadata": {},
     "output_type": "execute_result"
    }
   ],
   "source": [
    "model = CatBoostRegressor(iterations=1000, depth=6, verbose=0)\n",
    "model.fit(train_pool, early_stopping_rounds=50, eval_set=val_pool, plot=1)"
   ]
  },
  {
   "cell_type": "code",
   "execution_count": 85,
   "id": "b0cd56a1-18fa-4492-b1e2-b3740cfca495",
   "metadata": {},
   "outputs": [],
   "source": [
    "y_train_pred = model.predict(train_pool)\n",
    "y_val_pred = model.predict(val_pool)\n",
    "y_test_pred = model.predict(test_pool)"
   ]
  },
  {
   "cell_type": "code",
   "execution_count": 86,
   "id": "df70144c-3e10-4cfa-ba54-2cf0db25f04c",
   "metadata": {},
   "outputs": [
    {
     "name": "stdout",
     "output_type": "stream",
     "text": [
      "MAE = 0.2895099832322319, RMSE = 0.3646822432330722, R2 = 0.7941531214522269\n",
      "MAE = 0.5350232972957837, RMSE = 0.6716261841265483, R2 = 0.301090756394782\n"
     ]
    }
   ],
   "source": [
    "reg_metrics(y_train, y_train_pred)\n",
    "reg_metrics(y_test, y_test_pred)"
   ]
  },
  {
   "cell_type": "markdown",
   "id": "69ba48dc-05b0-4d8e-afa5-9c3fded46c20",
   "metadata": {},
   "source": [
    "Стало немного лучше. Оставим этот вариант и подберем гиперпараметры:"
   ]
  },
  {
   "cell_type": "code",
   "execution_count": 87,
   "id": "bfd2e660-d229-4805-bc6e-8e25582f49f4",
   "metadata": {},
   "outputs": [],
   "source": [
    "def objective(trial): \n",
    "    model = CatBoostRegressor(\n",
    "        iterations=trial.suggest_int('iterations', 300, 2000),\n",
    "        learning_rate=trial.suggest_float('learning_rate', 1e-4, 0.1),\n",
    "        depth=trial.suggest_int('depth', 2, 12),\n",
    "        l2_leaf_reg=trial.suggest_float('l2_leaf_reg', 1e-4, 10, log=True),\n",
    "        verbose=0\n",
    "    )\n",
    "    \n",
    "    # Обучение модели и оценка на валидационном наборе\n",
    "    model.fit(train_pool, eval_set=val_pool, early_stopping_rounds=100)\n",
    "    \n",
    "    # Оценка качества модели\n",
    "    y_pred = model.predict(val_pool)\n",
    "    score = root_mean_squared_error(y_val, y_pred)\n",
    "\n",
    "    # Вывод логов\n",
    "    print(f'Trial {trial.number+1}: score = {score}')\n",
    "    \n",
    "    return score"
   ]
  },
  {
   "cell_type": "code",
   "execution_count": 88,
   "id": "41d0ab21-3540-4799-a0ce-6d1dae708ca9",
   "metadata": {},
   "outputs": [
    {
     "name": "stdout",
     "output_type": "stream",
     "text": [
      "Trial 1: score = 0.6536552855471048\n",
      "Trial 2: score = 0.6563265133351025\n",
      "Trial 3: score = 0.6506221031111177\n",
      "Trial 4: score = 0.6517271958208136\n",
      "Trial 5: score = 0.6423650126098982\n",
      "Trial 6: score = 0.642540201310617\n",
      "Trial 7: score = 0.6344606438504701\n",
      "Trial 8: score = 0.6550622007392662\n",
      "Trial 9: score = 0.6579253551696101\n",
      "Trial 10: score = 0.647544656533506\n"
     ]
    }
   ],
   "source": [
    "sampler = optuna.samplers.RandomSampler(seed=42)\n",
    "study = optuna.create_study(sampler=sampler, direction='maximize')\n",
    "study.optimize(objective, n_trials=10)"
   ]
  },
  {
   "cell_type": "code",
   "execution_count": 89,
   "id": "bcf13825-be84-4a82-910b-f2c7d627f8d8",
   "metadata": {},
   "outputs": [
    {
     "data": {
      "text/plain": [
       "{'iterations': 410,\n",
       " 'learning_rate': 0.094893665171608,\n",
       " 'depth': 12,\n",
       " 'l2_leaf_reg': 1.1015056790269626}"
      ]
     },
     "execution_count": 89,
     "metadata": {},
     "output_type": "execute_result"
    }
   ],
   "source": [
    "study.best_params"
   ]
  },
  {
   "cell_type": "code",
   "execution_count": 90,
   "id": "bc4ef25e-f8ab-47a4-b26c-a8b54da8c406",
   "metadata": {
    "scrolled": true
   },
   "outputs": [
    {
     "name": "stdout",
     "output_type": "stream",
     "text": [
      "0:\tlearn: 0.7835900\ttest: 0.7962676\tbest: 0.7962676 (0)\ttotal: 1.64s\tremaining: 11m 11s\n",
      "1:\tlearn: 0.7649695\ttest: 0.7818785\tbest: 0.7818785 (1)\ttotal: 3.16s\tremaining: 10m 44s\n",
      "2:\tlearn: 0.7471117\ttest: 0.7700878\tbest: 0.7700878 (2)\ttotal: 4.4s\tremaining: 9m 57s\n",
      "3:\tlearn: 0.7325592\ttest: 0.7622115\tbest: 0.7622115 (3)\ttotal: 5.67s\tremaining: 9m 36s\n",
      "4:\tlearn: 0.7195474\ttest: 0.7553302\tbest: 0.7553302 (4)\ttotal: 6.96s\tremaining: 9m 23s\n",
      "5:\tlearn: 0.7052402\ttest: 0.7424586\tbest: 0.7424586 (5)\ttotal: 8.49s\tremaining: 9m 31s\n",
      "6:\tlearn: 0.6949486\ttest: 0.7376304\tbest: 0.7376304 (6)\ttotal: 10.1s\tremaining: 9m 39s\n",
      "7:\tlearn: 0.6819609\ttest: 0.7322438\tbest: 0.7322438 (7)\ttotal: 11.3s\tremaining: 9m 27s\n",
      "8:\tlearn: 0.6733144\ttest: 0.7300566\tbest: 0.7300566 (8)\ttotal: 12.5s\tremaining: 9m 16s\n",
      "9:\tlearn: 0.6651486\ttest: 0.7272643\tbest: 0.7272643 (9)\ttotal: 13.9s\tremaining: 9m 15s\n",
      "10:\tlearn: 0.6536784\ttest: 0.7288494\tbest: 0.7272643 (9)\ttotal: 15.3s\tremaining: 9m 14s\n",
      "11:\tlearn: 0.6476173\ttest: 0.7258616\tbest: 0.7258616 (11)\ttotal: 16.6s\tremaining: 9m 9s\n",
      "12:\tlearn: 0.6406141\ttest: 0.7231790\tbest: 0.7231790 (12)\ttotal: 17.9s\tremaining: 9m 6s\n",
      "13:\tlearn: 0.6312124\ttest: 0.7188443\tbest: 0.7188443 (13)\ttotal: 19.3s\tremaining: 9m 6s\n",
      "14:\tlearn: 0.6250519\ttest: 0.7175424\tbest: 0.7175424 (14)\ttotal: 20.5s\tremaining: 9m\n",
      "15:\tlearn: 0.6177847\ttest: 0.7144582\tbest: 0.7144582 (15)\ttotal: 21.7s\tremaining: 8m 55s\n",
      "16:\tlearn: 0.6098814\ttest: 0.7093347\tbest: 0.7093347 (16)\ttotal: 23.3s\tremaining: 8m 57s\n",
      "17:\tlearn: 0.6033184\ttest: 0.7086580\tbest: 0.7086580 (17)\ttotal: 24.5s\tremaining: 8m 54s\n",
      "18:\tlearn: 0.5977393\ttest: 0.7056951\tbest: 0.7056951 (18)\ttotal: 25.8s\tremaining: 8m 51s\n",
      "19:\tlearn: 0.5917029\ttest: 0.7039904\tbest: 0.7039904 (19)\ttotal: 27.2s\tremaining: 8m 50s\n",
      "20:\tlearn: 0.5874271\ttest: 0.7021203\tbest: 0.7021203 (20)\ttotal: 28.5s\tremaining: 8m 48s\n",
      "21:\tlearn: 0.5819042\ttest: 0.6984634\tbest: 0.6984634 (21)\ttotal: 29.8s\tremaining: 8m 46s\n",
      "22:\tlearn: 0.5769949\ttest: 0.6957457\tbest: 0.6957457 (22)\ttotal: 31.1s\tremaining: 8m 43s\n",
      "23:\tlearn: 0.5723287\ttest: 0.6940140\tbest: 0.6940140 (23)\ttotal: 32.4s\tremaining: 8m 40s\n",
      "24:\tlearn: 0.5665220\ttest: 0.6916097\tbest: 0.6916097 (24)\ttotal: 33.7s\tremaining: 8m 38s\n",
      "25:\tlearn: 0.5624316\ttest: 0.6912662\tbest: 0.6912662 (25)\ttotal: 34.9s\tremaining: 8m 34s\n",
      "26:\tlearn: 0.5577612\ttest: 0.6883281\tbest: 0.6883281 (26)\ttotal: 36s\tremaining: 8m 31s\n",
      "27:\tlearn: 0.5543342\ttest: 0.6890805\tbest: 0.6883281 (26)\ttotal: 37.3s\tremaining: 8m 28s\n",
      "28:\tlearn: 0.5504832\ttest: 0.6888879\tbest: 0.6883281 (26)\ttotal: 38.5s\tremaining: 8m 26s\n",
      "29:\tlearn: 0.5444655\ttest: 0.6848440\tbest: 0.6848440 (29)\ttotal: 39.7s\tremaining: 8m 23s\n",
      "30:\tlearn: 0.5407817\ttest: 0.6865319\tbest: 0.6848440 (29)\ttotal: 41s\tremaining: 8m 21s\n",
      "31:\tlearn: 0.5369143\ttest: 0.6854420\tbest: 0.6848440 (29)\ttotal: 42.2s\tremaining: 8m 18s\n",
      "32:\tlearn: 0.5325395\ttest: 0.6837789\tbest: 0.6837789 (32)\ttotal: 43.4s\tremaining: 8m 15s\n",
      "33:\tlearn: 0.5290394\ttest: 0.6827861\tbest: 0.6827861 (33)\ttotal: 44.6s\tremaining: 8m 13s\n",
      "34:\tlearn: 0.5248803\ttest: 0.6822538\tbest: 0.6822538 (34)\ttotal: 45.8s\tremaining: 8m 10s\n",
      "35:\tlearn: 0.5208669\ttest: 0.6791949\tbest: 0.6791949 (35)\ttotal: 47.1s\tremaining: 8m 8s\n",
      "36:\tlearn: 0.5176583\ttest: 0.6787579\tbest: 0.6787579 (36)\ttotal: 48.3s\tremaining: 8m 6s\n",
      "37:\tlearn: 0.5144155\ttest: 0.6774003\tbest: 0.6774003 (37)\ttotal: 49.5s\tremaining: 8m 4s\n",
      "38:\tlearn: 0.5115308\ttest: 0.6754028\tbest: 0.6754028 (38)\ttotal: 50.7s\tremaining: 8m 1s\n",
      "39:\tlearn: 0.5078432\ttest: 0.6747549\tbest: 0.6747549 (39)\ttotal: 51.9s\tremaining: 7m 59s\n",
      "40:\tlearn: 0.5052764\ttest: 0.6754406\tbest: 0.6747549 (39)\ttotal: 51.9s\tremaining: 7m 47s\n",
      "41:\tlearn: 0.5019415\ttest: 0.6758452\tbest: 0.6747549 (39)\ttotal: 53.2s\tremaining: 7m 46s\n",
      "42:\tlearn: 0.4994739\ttest: 0.6742127\tbest: 0.6742127 (42)\ttotal: 54.4s\tremaining: 7m 44s\n",
      "43:\tlearn: 0.4965526\ttest: 0.6749136\tbest: 0.6742127 (42)\ttotal: 55.6s\tremaining: 7m 42s\n",
      "44:\tlearn: 0.4945640\ttest: 0.6740687\tbest: 0.6740687 (44)\ttotal: 56.8s\tremaining: 7m 40s\n",
      "45:\tlearn: 0.4910324\ttest: 0.6744051\tbest: 0.6740687 (44)\ttotal: 58s\tremaining: 7m 39s\n",
      "46:\tlearn: 0.4881145\ttest: 0.6746400\tbest: 0.6740687 (44)\ttotal: 59.2s\tremaining: 7m 37s\n",
      "47:\tlearn: 0.4848988\ttest: 0.6732771\tbest: 0.6732771 (47)\ttotal: 1m\tremaining: 7m 35s\n",
      "48:\tlearn: 0.4802324\ttest: 0.6715827\tbest: 0.6715827 (48)\ttotal: 1m 1s\tremaining: 7m 33s\n",
      "49:\tlearn: 0.4776460\ttest: 0.6715551\tbest: 0.6715551 (49)\ttotal: 1m 2s\tremaining: 7m 32s\n",
      "50:\tlearn: 0.4741156\ttest: 0.6714310\tbest: 0.6714310 (50)\ttotal: 1m 4s\tremaining: 7m 30s\n",
      "51:\tlearn: 0.4703752\ttest: 0.6702989\tbest: 0.6702989 (51)\ttotal: 1m 5s\tremaining: 7m 29s\n",
      "52:\tlearn: 0.4679251\ttest: 0.6694042\tbest: 0.6694042 (52)\ttotal: 1m 6s\tremaining: 7m 28s\n",
      "53:\tlearn: 0.4649186\ttest: 0.6688304\tbest: 0.6688304 (53)\ttotal: 1m 7s\tremaining: 7m 26s\n",
      "54:\tlearn: 0.4611335\ttest: 0.6681759\tbest: 0.6681759 (54)\ttotal: 1m 9s\tremaining: 7m 25s\n",
      "55:\tlearn: 0.4583827\ttest: 0.6673541\tbest: 0.6673541 (55)\ttotal: 1m 10s\tremaining: 7m 24s\n",
      "56:\tlearn: 0.4558888\ttest: 0.6669900\tbest: 0.6669900 (56)\ttotal: 1m 11s\tremaining: 7m 22s\n",
      "57:\tlearn: 0.4514163\ttest: 0.6654224\tbest: 0.6654224 (57)\ttotal: 1m 12s\tremaining: 7m 20s\n",
      "58:\tlearn: 0.4487304\ttest: 0.6655285\tbest: 0.6654224 (57)\ttotal: 1m 13s\tremaining: 7m 19s\n",
      "59:\tlearn: 0.4471065\ttest: 0.6659447\tbest: 0.6654224 (57)\ttotal: 1m 15s\tremaining: 7m 18s\n",
      "60:\tlearn: 0.4439796\ttest: 0.6669108\tbest: 0.6654224 (57)\ttotal: 1m 16s\tremaining: 7m 16s\n",
      "61:\tlearn: 0.4412644\ttest: 0.6666233\tbest: 0.6654224 (57)\ttotal: 1m 17s\tremaining: 7m 15s\n",
      "62:\tlearn: 0.4389531\ttest: 0.6665452\tbest: 0.6654224 (57)\ttotal: 1m 18s\tremaining: 7m 14s\n",
      "63:\tlearn: 0.4366569\ttest: 0.6636452\tbest: 0.6636452 (63)\ttotal: 1m 20s\tremaining: 7m 13s\n",
      "64:\tlearn: 0.4336150\ttest: 0.6656522\tbest: 0.6636452 (63)\ttotal: 1m 21s\tremaining: 7m 12s\n",
      "65:\tlearn: 0.4307259\ttest: 0.6648187\tbest: 0.6636452 (63)\ttotal: 1m 22s\tremaining: 7m 11s\n",
      "66:\tlearn: 0.4273777\ttest: 0.6637943\tbest: 0.6636452 (63)\ttotal: 1m 24s\tremaining: 7m 12s\n",
      "67:\tlearn: 0.4251998\ttest: 0.6643412\tbest: 0.6636452 (63)\ttotal: 1m 25s\tremaining: 7m 11s\n",
      "68:\tlearn: 0.4236847\ttest: 0.6630070\tbest: 0.6630070 (68)\ttotal: 1m 25s\tremaining: 7m 4s\n",
      "69:\tlearn: 0.4202087\ttest: 0.6613468\tbest: 0.6613468 (69)\ttotal: 1m 27s\tremaining: 7m 5s\n",
      "70:\tlearn: 0.4183703\ttest: 0.6605864\tbest: 0.6605864 (70)\ttotal: 1m 29s\tremaining: 7m 5s\n",
      "71:\tlearn: 0.4148669\ttest: 0.6609480\tbest: 0.6605864 (70)\ttotal: 1m 30s\tremaining: 7m 3s\n",
      "72:\tlearn: 0.4119885\ttest: 0.6605962\tbest: 0.6605864 (70)\ttotal: 1m 31s\tremaining: 7m 2s\n",
      "73:\tlearn: 0.4097629\ttest: 0.6603465\tbest: 0.6603465 (73)\ttotal: 1m 32s\tremaining: 7m\n",
      "74:\tlearn: 0.4041976\ttest: 0.6583467\tbest: 0.6583467 (74)\ttotal: 1m 34s\tremaining: 6m 59s\n",
      "75:\tlearn: 0.4011531\ttest: 0.6592782\tbest: 0.6583467 (74)\ttotal: 1m 35s\tremaining: 6m 59s\n",
      "76:\tlearn: 0.3975455\ttest: 0.6602814\tbest: 0.6583467 (74)\ttotal: 1m 36s\tremaining: 6m 58s\n",
      "77:\tlearn: 0.3946115\ttest: 0.6620043\tbest: 0.6583467 (74)\ttotal: 1m 38s\tremaining: 6m 58s\n",
      "78:\tlearn: 0.3913812\ttest: 0.6606131\tbest: 0.6583467 (74)\ttotal: 1m 39s\tremaining: 6m 57s\n",
      "79:\tlearn: 0.3889012\ttest: 0.6612395\tbest: 0.6583467 (74)\ttotal: 1m 41s\tremaining: 6m 56s\n",
      "80:\tlearn: 0.3870527\ttest: 0.6593021\tbest: 0.6583467 (74)\ttotal: 1m 42s\tremaining: 6m 55s\n",
      "81:\tlearn: 0.3851400\ttest: 0.6593129\tbest: 0.6583467 (74)\ttotal: 1m 43s\tremaining: 6m 54s\n",
      "82:\tlearn: 0.3831236\ttest: 0.6595040\tbest: 0.6583467 (74)\ttotal: 1m 44s\tremaining: 6m 53s\n",
      "83:\tlearn: 0.3809624\ttest: 0.6595692\tbest: 0.6583467 (74)\ttotal: 1m 46s\tremaining: 6m 51s\n",
      "84:\tlearn: 0.3786651\ttest: 0.6602141\tbest: 0.6583467 (74)\ttotal: 1m 47s\tremaining: 6m 50s\n",
      "85:\tlearn: 0.3763905\ttest: 0.6595630\tbest: 0.6583467 (74)\ttotal: 1m 48s\tremaining: 6m 49s\n",
      "86:\tlearn: 0.3745739\ttest: 0.6595986\tbest: 0.6583467 (74)\ttotal: 1m 49s\tremaining: 6m 47s\n",
      "87:\tlearn: 0.3695900\ttest: 0.6603747\tbest: 0.6583467 (74)\ttotal: 1m 51s\tremaining: 6m 46s\n",
      "88:\tlearn: 0.3674440\ttest: 0.6601986\tbest: 0.6583467 (74)\ttotal: 1m 52s\tremaining: 6m 44s\n",
      "89:\tlearn: 0.3657420\ttest: 0.6603556\tbest: 0.6583467 (74)\ttotal: 1m 53s\tremaining: 6m 43s\n",
      "90:\tlearn: 0.3626205\ttest: 0.6600268\tbest: 0.6583467 (74)\ttotal: 1m 54s\tremaining: 6m 42s\n",
      "91:\tlearn: 0.3599574\ttest: 0.6597113\tbest: 0.6583467 (74)\ttotal: 1m 56s\tremaining: 6m 41s\n",
      "92:\tlearn: 0.3582579\ttest: 0.6593734\tbest: 0.6583467 (74)\ttotal: 1m 57s\tremaining: 6m 40s\n",
      "93:\tlearn: 0.3563922\ttest: 0.6588824\tbest: 0.6583467 (74)\ttotal: 1m 58s\tremaining: 6m 38s\n",
      "94:\tlearn: 0.3540983\ttest: 0.6597196\tbest: 0.6583467 (74)\ttotal: 1m 59s\tremaining: 6m 37s\n",
      "95:\tlearn: 0.3522543\ttest: 0.6591750\tbest: 0.6583467 (74)\ttotal: 2m 1s\tremaining: 6m 35s\n",
      "96:\tlearn: 0.3505371\ttest: 0.6609272\tbest: 0.6583467 (74)\ttotal: 2m 2s\tremaining: 6m 34s\n",
      "97:\tlearn: 0.3477143\ttest: 0.6611634\tbest: 0.6583467 (74)\ttotal: 2m 3s\tremaining: 6m 33s\n",
      "98:\tlearn: 0.3457255\ttest: 0.6604508\tbest: 0.6583467 (74)\ttotal: 2m 5s\tremaining: 6m 32s\n",
      "99:\tlearn: 0.3438763\ttest: 0.6597022\tbest: 0.6583467 (74)\ttotal: 2m 6s\tremaining: 6m 31s\n",
      "100:\tlearn: 0.3401422\ttest: 0.6600184\tbest: 0.6583467 (74)\ttotal: 2m 7s\tremaining: 6m 31s\n",
      "101:\tlearn: 0.3375426\ttest: 0.6604490\tbest: 0.6583467 (74)\ttotal: 2m 9s\tremaining: 6m 31s\n",
      "102:\tlearn: 0.3326591\ttest: 0.6602282\tbest: 0.6583467 (74)\ttotal: 2m 11s\tremaining: 6m 31s\n",
      "103:\tlearn: 0.3299582\ttest: 0.6598166\tbest: 0.6583467 (74)\ttotal: 2m 12s\tremaining: 6m 31s\n",
      "104:\tlearn: 0.3288896\ttest: 0.6589130\tbest: 0.6583467 (74)\ttotal: 2m 14s\tremaining: 6m 30s\n",
      "105:\tlearn: 0.3276953\ttest: 0.6586064\tbest: 0.6583467 (74)\ttotal: 2m 15s\tremaining: 6m 29s\n",
      "106:\tlearn: 0.3264331\ttest: 0.6584672\tbest: 0.6583467 (74)\ttotal: 2m 17s\tremaining: 6m 28s\n",
      "107:\tlearn: 0.3243784\ttest: 0.6593095\tbest: 0.6583467 (74)\ttotal: 2m 18s\tremaining: 6m 27s\n",
      "108:\tlearn: 0.3224038\ttest: 0.6600687\tbest: 0.6583467 (74)\ttotal: 2m 19s\tremaining: 6m 26s\n",
      "109:\tlearn: 0.3204305\ttest: 0.6598196\tbest: 0.6583467 (74)\ttotal: 2m 21s\tremaining: 6m 24s\n",
      "110:\tlearn: 0.3189110\ttest: 0.6597216\tbest: 0.6583467 (74)\ttotal: 2m 22s\tremaining: 6m 23s\n",
      "111:\tlearn: 0.3176717\ttest: 0.6593791\tbest: 0.6583467 (74)\ttotal: 2m 23s\tremaining: 6m 22s\n",
      "112:\tlearn: 0.3158001\ttest: 0.6587177\tbest: 0.6583467 (74)\ttotal: 2m 24s\tremaining: 6m 20s\n",
      "113:\tlearn: 0.3125014\ttest: 0.6582520\tbest: 0.6582520 (113)\ttotal: 2m 26s\tremaining: 6m 19s\n",
      "114:\tlearn: 0.3111542\ttest: 0.6582485\tbest: 0.6582485 (114)\ttotal: 2m 27s\tremaining: 6m 18s\n",
      "115:\tlearn: 0.3099591\ttest: 0.6580406\tbest: 0.6580406 (115)\ttotal: 2m 28s\tremaining: 6m 16s\n",
      "116:\tlearn: 0.3059577\ttest: 0.6579254\tbest: 0.6579254 (116)\ttotal: 2m 29s\tremaining: 6m 15s\n",
      "117:\tlearn: 0.3047688\ttest: 0.6585783\tbest: 0.6579254 (116)\ttotal: 2m 31s\tremaining: 6m 14s\n",
      "118:\tlearn: 0.2990577\ttest: 0.6596138\tbest: 0.6579254 (116)\ttotal: 2m 32s\tremaining: 6m 13s\n",
      "119:\tlearn: 0.2969859\ttest: 0.6604967\tbest: 0.6579254 (116)\ttotal: 2m 34s\tremaining: 6m 12s\n",
      "120:\tlearn: 0.2944630\ttest: 0.6612655\tbest: 0.6579254 (116)\ttotal: 2m 35s\tremaining: 6m 11s\n",
      "121:\tlearn: 0.2920896\ttest: 0.6612332\tbest: 0.6579254 (116)\ttotal: 2m 36s\tremaining: 6m 10s\n",
      "122:\tlearn: 0.2910750\ttest: 0.6611188\tbest: 0.6579254 (116)\ttotal: 2m 38s\tremaining: 6m 9s\n",
      "123:\tlearn: 0.2901820\ttest: 0.6605010\tbest: 0.6579254 (116)\ttotal: 2m 39s\tremaining: 6m 8s\n",
      "124:\tlearn: 0.2879491\ttest: 0.6601994\tbest: 0.6579254 (116)\ttotal: 2m 40s\tremaining: 6m 6s\n",
      "125:\tlearn: 0.2862287\ttest: 0.6620516\tbest: 0.6579254 (116)\ttotal: 2m 42s\tremaining: 6m 5s\n",
      "126:\tlearn: 0.2834320\ttest: 0.6623681\tbest: 0.6579254 (116)\ttotal: 2m 43s\tremaining: 6m 4s\n",
      "127:\tlearn: 0.2814521\ttest: 0.6616328\tbest: 0.6579254 (116)\ttotal: 2m 44s\tremaining: 6m 3s\n",
      "128:\tlearn: 0.2801892\ttest: 0.6606175\tbest: 0.6579254 (116)\ttotal: 2m 46s\tremaining: 6m 2s\n",
      "129:\tlearn: 0.2773374\ttest: 0.6613576\tbest: 0.6579254 (116)\ttotal: 2m 47s\tremaining: 6m 1s\n",
      "130:\tlearn: 0.2762502\ttest: 0.6613353\tbest: 0.6579254 (116)\ttotal: 2m 49s\tremaining: 6m\n",
      "131:\tlearn: 0.2752923\ttest: 0.6607521\tbest: 0.6579254 (116)\ttotal: 2m 50s\tremaining: 5m 59s\n",
      "132:\tlearn: 0.2740419\ttest: 0.6610121\tbest: 0.6579254 (116)\ttotal: 2m 52s\tremaining: 5m 58s\n",
      "133:\tlearn: 0.2731651\ttest: 0.6611949\tbest: 0.6579254 (116)\ttotal: 2m 53s\tremaining: 5m 57s\n",
      "134:\tlearn: 0.2722561\ttest: 0.6612393\tbest: 0.6579254 (116)\ttotal: 2m 54s\tremaining: 5m 55s\n",
      "135:\tlearn: 0.2715830\ttest: 0.6613928\tbest: 0.6579254 (116)\ttotal: 2m 55s\tremaining: 5m 54s\n",
      "136:\tlearn: 0.2699681\ttest: 0.6616631\tbest: 0.6579254 (116)\ttotal: 2m 57s\tremaining: 5m 53s\n",
      "137:\tlearn: 0.2677321\ttest: 0.6616160\tbest: 0.6579254 (116)\ttotal: 2m 58s\tremaining: 5m 51s\n",
      "138:\tlearn: 0.2663916\ttest: 0.6617960\tbest: 0.6579254 (116)\ttotal: 2m 59s\tremaining: 5m 50s\n",
      "139:\tlearn: 0.2635661\ttest: 0.6607497\tbest: 0.6579254 (116)\ttotal: 3m 1s\tremaining: 5m 49s\n",
      "140:\tlearn: 0.2629689\ttest: 0.6606084\tbest: 0.6579254 (116)\ttotal: 3m 2s\tremaining: 5m 48s\n",
      "141:\tlearn: 0.2624401\ttest: 0.6604664\tbest: 0.6579254 (116)\ttotal: 3m 3s\tremaining: 5m 46s\n",
      "142:\tlearn: 0.2611843\ttest: 0.6609658\tbest: 0.6579254 (116)\ttotal: 3m 5s\tremaining: 5m 45s\n",
      "143:\tlearn: 0.2604674\ttest: 0.6610095\tbest: 0.6579254 (116)\ttotal: 3m 6s\tremaining: 5m 44s\n",
      "144:\tlearn: 0.2590897\ttest: 0.6610546\tbest: 0.6579254 (116)\ttotal: 3m 7s\tremaining: 5m 43s\n",
      "145:\tlearn: 0.2575614\ttest: 0.6617417\tbest: 0.6579254 (116)\ttotal: 3m 9s\tremaining: 5m 42s\n",
      "146:\tlearn: 0.2567476\ttest: 0.6617025\tbest: 0.6579254 (116)\ttotal: 3m 10s\tremaining: 5m 40s\n",
      "147:\tlearn: 0.2561664\ttest: 0.6611514\tbest: 0.6579254 (116)\ttotal: 3m 11s\tremaining: 5m 39s\n",
      "148:\tlearn: 0.2554636\ttest: 0.6608147\tbest: 0.6579254 (116)\ttotal: 3m 13s\tremaining: 5m 38s\n",
      "149:\tlearn: 0.2547920\ttest: 0.6611249\tbest: 0.6579254 (116)\ttotal: 3m 14s\tremaining: 5m 37s\n",
      "150:\tlearn: 0.2540368\ttest: 0.6610469\tbest: 0.6579254 (116)\ttotal: 3m 16s\tremaining: 5m 36s\n",
      "151:\tlearn: 0.2532893\ttest: 0.6606135\tbest: 0.6579254 (116)\ttotal: 3m 17s\tremaining: 5m 35s\n",
      "152:\tlearn: 0.2514783\ttest: 0.6604180\tbest: 0.6579254 (116)\ttotal: 3m 18s\tremaining: 5m 34s\n",
      "153:\tlearn: 0.2500179\ttest: 0.6607970\tbest: 0.6579254 (116)\ttotal: 3m 20s\tremaining: 5m 33s\n",
      "154:\tlearn: 0.2486740\ttest: 0.6607263\tbest: 0.6579254 (116)\ttotal: 3m 22s\tremaining: 5m 32s\n",
      "155:\tlearn: 0.2467566\ttest: 0.6609884\tbest: 0.6579254 (116)\ttotal: 3m 23s\tremaining: 5m 31s\n",
      "156:\tlearn: 0.2450424\ttest: 0.6610934\tbest: 0.6579254 (116)\ttotal: 3m 24s\tremaining: 5m 29s\n",
      "157:\tlearn: 0.2429769\ttest: 0.6613484\tbest: 0.6579254 (116)\ttotal: 3m 25s\tremaining: 5m 28s\n",
      "158:\tlearn: 0.2423996\ttest: 0.6611507\tbest: 0.6579254 (116)\ttotal: 3m 27s\tremaining: 5m 26s\n",
      "159:\tlearn: 0.2417464\ttest: 0.6618900\tbest: 0.6579254 (116)\ttotal: 3m 28s\tremaining: 5m 25s\n",
      "160:\tlearn: 0.2410569\ttest: 0.6621583\tbest: 0.6579254 (116)\ttotal: 3m 29s\tremaining: 5m 24s\n",
      "161:\tlearn: 0.2404637\ttest: 0.6618714\tbest: 0.6579254 (116)\ttotal: 3m 30s\tremaining: 5m 22s\n",
      "162:\tlearn: 0.2398912\ttest: 0.6620544\tbest: 0.6579254 (116)\ttotal: 3m 32s\tremaining: 5m 21s\n",
      "163:\tlearn: 0.2364228\ttest: 0.6620148\tbest: 0.6579254 (116)\ttotal: 3m 33s\tremaining: 5m 20s\n",
      "164:\tlearn: 0.2357664\ttest: 0.6619633\tbest: 0.6579254 (116)\ttotal: 3m 34s\tremaining: 5m 18s\n",
      "165:\tlearn: 0.2327338\ttest: 0.6618909\tbest: 0.6579254 (116)\ttotal: 3m 35s\tremaining: 5m 17s\n",
      "166:\tlearn: 0.2305537\ttest: 0.6627525\tbest: 0.6579254 (116)\ttotal: 3m 37s\tremaining: 5m 16s\n",
      "167:\tlearn: 0.2288103\ttest: 0.6627717\tbest: 0.6579254 (116)\ttotal: 3m 38s\tremaining: 5m 15s\n",
      "168:\tlearn: 0.2266600\ttest: 0.6634227\tbest: 0.6579254 (116)\ttotal: 3m 40s\tremaining: 5m 14s\n",
      "169:\tlearn: 0.2246847\ttest: 0.6640139\tbest: 0.6579254 (116)\ttotal: 3m 41s\tremaining: 5m 12s\n",
      "170:\tlearn: 0.2239191\ttest: 0.6639344\tbest: 0.6579254 (116)\ttotal: 3m 43s\tremaining: 5m 11s\n",
      "171:\tlearn: 0.2225586\ttest: 0.6639354\tbest: 0.6579254 (116)\ttotal: 3m 44s\tremaining: 5m 10s\n",
      "172:\tlearn: 0.2220167\ttest: 0.6644085\tbest: 0.6579254 (116)\ttotal: 3m 45s\tremaining: 5m 9s\n",
      "173:\tlearn: 0.2202156\ttest: 0.6646394\tbest: 0.6579254 (116)\ttotal: 3m 47s\tremaining: 5m 8s\n",
      "174:\tlearn: 0.2180393\ttest: 0.6642451\tbest: 0.6579254 (116)\ttotal: 3m 49s\tremaining: 5m 7s\n",
      "175:\tlearn: 0.2173208\ttest: 0.6642344\tbest: 0.6579254 (116)\ttotal: 3m 50s\tremaining: 5m 6s\n",
      "176:\tlearn: 0.2163111\ttest: 0.6639078\tbest: 0.6579254 (116)\ttotal: 3m 51s\tremaining: 5m 4s\n",
      "177:\tlearn: 0.2158886\ttest: 0.6640402\tbest: 0.6579254 (116)\ttotal: 3m 52s\tremaining: 5m 3s\n",
      "178:\tlearn: 0.2138628\ttest: 0.6632680\tbest: 0.6579254 (116)\ttotal: 3m 54s\tremaining: 5m 2s\n",
      "179:\tlearn: 0.2120723\ttest: 0.6638128\tbest: 0.6579254 (116)\ttotal: 3m 55s\tremaining: 5m\n",
      "180:\tlearn: 0.2099638\ttest: 0.6640900\tbest: 0.6579254 (116)\ttotal: 3m 56s\tremaining: 4m 59s\n",
      "181:\tlearn: 0.2084330\ttest: 0.6640040\tbest: 0.6579254 (116)\ttotal: 3m 58s\tremaining: 4m 58s\n",
      "182:\tlearn: 0.2071718\ttest: 0.6641610\tbest: 0.6579254 (116)\ttotal: 3m 59s\tremaining: 4m 57s\n",
      "183:\tlearn: 0.2060633\ttest: 0.6643838\tbest: 0.6579254 (116)\ttotal: 4m\tremaining: 4m 55s\n",
      "184:\tlearn: 0.2050539\ttest: 0.6641082\tbest: 0.6579254 (116)\ttotal: 4m 1s\tremaining: 4m 54s\n",
      "185:\tlearn: 0.2038304\ttest: 0.6643606\tbest: 0.6579254 (116)\ttotal: 4m 3s\tremaining: 4m 52s\n",
      "186:\tlearn: 0.2034204\ttest: 0.6642410\tbest: 0.6579254 (116)\ttotal: 4m 4s\tremaining: 4m 51s\n",
      "187:\tlearn: 0.2027494\ttest: 0.6644543\tbest: 0.6579254 (116)\ttotal: 4m 5s\tremaining: 4m 50s\n",
      "188:\tlearn: 0.2011891\ttest: 0.6646157\tbest: 0.6579254 (116)\ttotal: 4m 6s\tremaining: 4m 48s\n",
      "189:\tlearn: 0.1999723\ttest: 0.6643679\tbest: 0.6579254 (116)\ttotal: 4m 8s\tremaining: 4m 47s\n",
      "190:\tlearn: 0.1994934\ttest: 0.6642631\tbest: 0.6579254 (116)\ttotal: 4m 9s\tremaining: 4m 45s\n",
      "191:\tlearn: 0.1978232\ttest: 0.6645164\tbest: 0.6579254 (116)\ttotal: 4m 10s\tremaining: 4m 44s\n",
      "192:\tlearn: 0.1972132\ttest: 0.6646295\tbest: 0.6579254 (116)\ttotal: 4m 11s\tremaining: 4m 43s\n",
      "193:\tlearn: 0.1961153\ttest: 0.6640910\tbest: 0.6579254 (116)\ttotal: 4m 12s\tremaining: 4m 41s\n",
      "194:\tlearn: 0.1950754\ttest: 0.6650212\tbest: 0.6579254 (116)\ttotal: 4m 14s\tremaining: 4m 40s\n",
      "195:\tlearn: 0.1945145\ttest: 0.6653806\tbest: 0.6579254 (116)\ttotal: 4m 15s\tremaining: 4m 38s\n",
      "196:\tlearn: 0.1931779\ttest: 0.6650448\tbest: 0.6579254 (116)\ttotal: 4m 16s\tremaining: 4m 37s\n",
      "197:\tlearn: 0.1922778\ttest: 0.6655633\tbest: 0.6579254 (116)\ttotal: 4m 17s\tremaining: 4m 36s\n",
      "198:\tlearn: 0.1915453\ttest: 0.6655134\tbest: 0.6579254 (116)\ttotal: 4m 19s\tremaining: 4m 34s\n",
      "199:\tlearn: 0.1910250\ttest: 0.6654494\tbest: 0.6579254 (116)\ttotal: 4m 20s\tremaining: 4m 33s\n",
      "200:\tlearn: 0.1893610\ttest: 0.6652883\tbest: 0.6579254 (116)\ttotal: 4m 21s\tremaining: 4m 31s\n",
      "201:\tlearn: 0.1889605\ttest: 0.6652636\tbest: 0.6579254 (116)\ttotal: 4m 22s\tremaining: 4m 30s\n",
      "202:\tlearn: 0.1879561\ttest: 0.6656166\tbest: 0.6579254 (116)\ttotal: 4m 23s\tremaining: 4m 29s\n",
      "203:\tlearn: 0.1874742\ttest: 0.6656373\tbest: 0.6579254 (116)\ttotal: 4m 25s\tremaining: 4m 27s\n",
      "204:\tlearn: 0.1863515\ttest: 0.6656729\tbest: 0.6579254 (116)\ttotal: 4m 26s\tremaining: 4m 26s\n",
      "205:\tlearn: 0.1855436\ttest: 0.6659792\tbest: 0.6579254 (116)\ttotal: 4m 27s\tremaining: 4m 25s\n",
      "206:\tlearn: 0.1846477\ttest: 0.6662640\tbest: 0.6579254 (116)\ttotal: 4m 29s\tremaining: 4m 23s\n",
      "207:\tlearn: 0.1843035\ttest: 0.6661581\tbest: 0.6579254 (116)\ttotal: 4m 30s\tremaining: 4m 22s\n",
      "208:\tlearn: 0.1837622\ttest: 0.6657493\tbest: 0.6579254 (116)\ttotal: 4m 31s\tremaining: 4m 21s\n",
      "209:\tlearn: 0.1834074\ttest: 0.6657654\tbest: 0.6579254 (116)\ttotal: 4m 32s\tremaining: 4m 19s\n",
      "210:\tlearn: 0.1825655\ttest: 0.6658682\tbest: 0.6579254 (116)\ttotal: 4m 34s\tremaining: 4m 18s\n",
      "211:\tlearn: 0.1818744\ttest: 0.6661706\tbest: 0.6579254 (116)\ttotal: 4m 35s\tremaining: 4m 17s\n",
      "212:\tlearn: 0.1814181\ttest: 0.6666751\tbest: 0.6579254 (116)\ttotal: 4m 36s\tremaining: 4m 15s\n",
      "213:\tlearn: 0.1808170\ttest: 0.6665827\tbest: 0.6579254 (116)\ttotal: 4m 37s\tremaining: 4m 14s\n",
      "214:\tlearn: 0.1795087\ttest: 0.6667204\tbest: 0.6579254 (116)\ttotal: 4m 39s\tremaining: 4m 13s\n",
      "215:\tlearn: 0.1788413\ttest: 0.6672308\tbest: 0.6579254 (116)\ttotal: 4m 40s\tremaining: 4m 12s\n",
      "216:\tlearn: 0.1778384\ttest: 0.6673403\tbest: 0.6579254 (116)\ttotal: 4m 42s\tremaining: 4m 10s\n",
      "Stopped by overfitting detector  (100 iterations wait)\n",
      "\n",
      "bestTest = 0.6579253552\n",
      "bestIteration = 116\n",
      "\n",
      "Shrink model to first 117 iterations.\n"
     ]
    }
   ],
   "source": [
    "# Обучение модели с лучшими гиперпараметрами\n",
    "best_model = CatBoostRegressor(**study.best_params, early_stopping_rounds=100)\n",
    "best_model.fit(train_pool, eval_set=val_pool, plot=0, verbose=1)\n",
    "\n",
    "y_train_pred = best_model.predict(train_pool)\n",
    "y_test_pred = best_model.predict(test_pool)"
   ]
  },
  {
   "cell_type": "code",
   "execution_count": 91,
   "id": "7dbdcee7-7427-41ef-b082-f735966920d5",
   "metadata": {},
   "outputs": [
    {
     "name": "stdout",
     "output_type": "stream",
     "text": [
      "MAE = 0.23776621245236373, RMSE = 0.3059576664682429, R2 = 0.8551102275219887\n",
      "MAE = 0.5223154525152817, RMSE = 0.6620304456448246, R2 = 0.32091917036921536\n"
     ]
    }
   ],
   "source": [
    "reg_metrics(y_train, y_train_pred)\n",
    "reg_metrics(y_test, y_test_pred)"
   ]
  },
  {
   "cell_type": "markdown",
   "id": "fdc6b120-28db-4d24-be96-3e9a9a92d34e",
   "metadata": {},
   "source": [
    "Обучим 3 таких модели."
   ]
  },
  {
   "cell_type": "markdown",
   "id": "30545cd5-e97a-4dfa-aeb2-0d1931491a6a",
   "metadata": {},
   "source": [
    "## По модели на каждый ответ"
   ]
  },
  {
   "cell_type": "markdown",
   "id": "371a11c3-c3be-4269-992d-95c5c94d47dc",
   "metadata": {},
   "source": [
    "Пусть каждый регрессор предсказывает оценку для каждого из ответов по отдельности."
   ]
  },
  {
   "cell_type": "code",
   "execution_count": 92,
   "id": "2c7e6031-49f8-4b9e-b382-08d0d01f7839",
   "metadata": {},
   "outputs": [
    {
     "data": {
      "text/html": [
       "<div>\n",
       "<style scoped>\n",
       "    .dataframe tbody tr th:only-of-type {\n",
       "        vertical-align: middle;\n",
       "    }\n",
       "\n",
       "    .dataframe tbody tr th {\n",
       "        vertical-align: top;\n",
       "    }\n",
       "\n",
       "    .dataframe thead th {\n",
       "        text-align: right;\n",
       "    }\n",
       "</style>\n",
       "<table border=\"1\" class=\"dataframe\">\n",
       "  <thead>\n",
       "    <tr style=\"text-align: right;\">\n",
       "      <th></th>\n",
       "      <th>id</th>\n",
       "      <th>answer1</th>\n",
       "      <th>score1</th>\n",
       "      <th>answer2</th>\n",
       "      <th>score2</th>\n",
       "      <th>answer3</th>\n",
       "      <th>score3</th>\n",
       "      <th>result</th>\n",
       "      <th>answer1_len</th>\n",
       "      <th>answer2_len</th>\n",
       "      <th>answer3_len</th>\n",
       "    </tr>\n",
       "  </thead>\n",
       "  <tbody>\n",
       "    <tr>\n",
       "      <th>0</th>\n",
       "      <td>train_0</td>\n",
       "      <td>для анализа массивов данных необходимых в работе</td>\n",
       "      <td>2.0</td>\n",
       "      <td>для анализа массивов данных необходимых в работе</td>\n",
       "      <td>2.0</td>\n",
       "      <td>стараюсь всегда брать задачи, выполнение котор...</td>\n",
       "      <td>2.0</td>\n",
       "      <td>6.0</td>\n",
       "      <td>48</td>\n",
       "      <td>48</td>\n",
       "      <td>548</td>\n",
       "    </tr>\n",
       "    <tr>\n",
       "      <th>1</th>\n",
       "      <td>train_1</td>\n",
       "      <td>Буду использовать полученные знания в работе д...</td>\n",
       "      <td>2.0</td>\n",
       "      <td>Автоматизирую процесс сбора данных и дальнейше...</td>\n",
       "      <td>2.0</td>\n",
       "      <td>Задача по анализу кода и содержанию пакетов - ...</td>\n",
       "      <td>1.5</td>\n",
       "      <td>5.5</td>\n",
       "      <td>139</td>\n",
       "      <td>113</td>\n",
       "      <td>320</td>\n",
       "    </tr>\n",
       "    <tr>\n",
       "      <th>2</th>\n",
       "      <td>train_2</td>\n",
       "      <td>хочу стать топовым программистом во всём мире ...</td>\n",
       "      <td>1.5</td>\n",
       "      <td>изучаю программирование</td>\n",
       "      <td>1.5</td>\n",
       "      <td>-</td>\n",
       "      <td>0.0</td>\n",
       "      <td>3.0</td>\n",
       "      <td>63</td>\n",
       "      <td>23</td>\n",
       "      <td>1</td>\n",
       "    </tr>\n",
       "  </tbody>\n",
       "</table>\n",
       "</div>"
      ],
      "text/plain": [
       "        id                                            answer1  score1  \\\n",
       "0  train_0   для анализа массивов данных необходимых в работе     2.0   \n",
       "1  train_1  Буду использовать полученные знания в работе д...     2.0   \n",
       "2  train_2  хочу стать топовым программистом во всём мире ...     1.5   \n",
       "\n",
       "                                             answer2  score2  \\\n",
       "0   для анализа массивов данных необходимых в работе     2.0   \n",
       "1  Автоматизирую процесс сбора данных и дальнейше...     2.0   \n",
       "2                            изучаю программирование     1.5   \n",
       "\n",
       "                                             answer3  score3  result  \\\n",
       "0  стараюсь всегда брать задачи, выполнение котор...     2.0     6.0   \n",
       "1  Задача по анализу кода и содержанию пакетов - ...     1.5     5.5   \n",
       "2                                                  -     0.0     3.0   \n",
       "\n",
       "   answer1_len  answer2_len  answer3_len  \n",
       "0           48           48          548  \n",
       "1          139          113          320  \n",
       "2           63           23            1  "
      ]
     },
     "execution_count": 92,
     "metadata": {},
     "output_type": "execute_result"
    }
   ],
   "source": [
    "df.head(3)"
   ]
  },
  {
   "cell_type": "code",
   "execution_count": 93,
   "id": "e4bfc02e-38b9-4abe-8a04-9c383daeb25a",
   "metadata": {},
   "outputs": [
    {
     "data": {
      "text/plain": [
       "0       для анализа массивов данных необходимых в работе\n",
       "1      Буду использовать полученные знания в работе д...\n",
       "2      хочу стать топовым программистом во всём мире ...\n",
       "3      Смогу применить знания в своей професси, получ...\n",
       "4                          Повысить уровень образования.\n",
       "                             ...                        \n",
       "646               Хочу улучшить свои знания в этой сфере\n",
       "647    Есть огромное желание, стремление, а главное т...\n",
       "648       Хочу научиться основам программирования Python\n",
       "649    При получении информации об обучении я не сраз...\n",
       "650                               Хоче сменить профессию\n",
       "Name: answer1, Length: 651, dtype: object"
      ]
     },
     "execution_count": 93,
     "metadata": {},
     "output_type": "execute_result"
    }
   ],
   "source": [
    "df['answer1']"
   ]
  },
  {
   "cell_type": "code",
   "execution_count": 94,
   "id": "74a8a75a-9658-4399-97de-4ef439c8667e",
   "metadata": {},
   "outputs": [],
   "source": [
    "for i in range(N):\n",
    "    df[f'answer{i+1}_len'] = df[f'answer{i+1}'].map(len)"
   ]
  },
  {
   "cell_type": "code",
   "execution_count": 95,
   "id": "f4aa581a-d00a-454c-a1ad-3aeb6cd2ce18",
   "metadata": {},
   "outputs": [],
   "source": [
    "X_df, y_df = df.drop(columns=['score1', 'score2', 'score3']), df[['score1', 'score2', 'score3']]"
   ]
  },
  {
   "cell_type": "code",
   "execution_count": 96,
   "id": "0fd2ef23-ab95-4d9e-917e-5976f40f9169",
   "metadata": {},
   "outputs": [
    {
     "data": {
      "text/html": [
       "<div>\n",
       "<style scoped>\n",
       "    .dataframe tbody tr th:only-of-type {\n",
       "        vertical-align: middle;\n",
       "    }\n",
       "\n",
       "    .dataframe tbody tr th {\n",
       "        vertical-align: top;\n",
       "    }\n",
       "\n",
       "    .dataframe thead th {\n",
       "        text-align: right;\n",
       "    }\n",
       "</style>\n",
       "<table border=\"1\" class=\"dataframe\">\n",
       "  <thead>\n",
       "    <tr style=\"text-align: right;\">\n",
       "      <th></th>\n",
       "      <th>id</th>\n",
       "      <th>answer1</th>\n",
       "      <th>answer2</th>\n",
       "      <th>answer3</th>\n",
       "      <th>result</th>\n",
       "      <th>answer1_len</th>\n",
       "      <th>answer2_len</th>\n",
       "      <th>answer3_len</th>\n",
       "    </tr>\n",
       "  </thead>\n",
       "  <tbody>\n",
       "    <tr>\n",
       "      <th>0</th>\n",
       "      <td>train_0</td>\n",
       "      <td>для анализа массивов данных необходимых в работе</td>\n",
       "      <td>для анализа массивов данных необходимых в работе</td>\n",
       "      <td>стараюсь всегда брать задачи, выполнение котор...</td>\n",
       "      <td>6.0</td>\n",
       "      <td>48</td>\n",
       "      <td>48</td>\n",
       "      <td>548</td>\n",
       "    </tr>\n",
       "    <tr>\n",
       "      <th>1</th>\n",
       "      <td>train_1</td>\n",
       "      <td>Буду использовать полученные знания в работе д...</td>\n",
       "      <td>Автоматизирую процесс сбора данных и дальнейше...</td>\n",
       "      <td>Задача по анализу кода и содержанию пакетов - ...</td>\n",
       "      <td>5.5</td>\n",
       "      <td>139</td>\n",
       "      <td>113</td>\n",
       "      <td>320</td>\n",
       "    </tr>\n",
       "    <tr>\n",
       "      <th>2</th>\n",
       "      <td>train_2</td>\n",
       "      <td>хочу стать топовым программистом во всём мире ...</td>\n",
       "      <td>изучаю программирование</td>\n",
       "      <td>-</td>\n",
       "      <td>3.0</td>\n",
       "      <td>63</td>\n",
       "      <td>23</td>\n",
       "      <td>1</td>\n",
       "    </tr>\n",
       "  </tbody>\n",
       "</table>\n",
       "</div>"
      ],
      "text/plain": [
       "        id                                            answer1  \\\n",
       "0  train_0   для анализа массивов данных необходимых в работе   \n",
       "1  train_1  Буду использовать полученные знания в работе д...   \n",
       "2  train_2  хочу стать топовым программистом во всём мире ...   \n",
       "\n",
       "                                             answer2  \\\n",
       "0   для анализа массивов данных необходимых в работе   \n",
       "1  Автоматизирую процесс сбора данных и дальнейше...   \n",
       "2                            изучаю программирование   \n",
       "\n",
       "                                             answer3  result  answer1_len  \\\n",
       "0  стараюсь всегда брать задачи, выполнение котор...     6.0           48   \n",
       "1  Задача по анализу кода и содержанию пакетов - ...     5.5          139   \n",
       "2                                                  -     3.0           63   \n",
       "\n",
       "   answer2_len  answer3_len  \n",
       "0           48          548  \n",
       "1          113          320  \n",
       "2           23            1  "
      ]
     },
     "execution_count": 96,
     "metadata": {},
     "output_type": "execute_result"
    }
   ],
   "source": [
    "X_df.head(3)"
   ]
  },
  {
   "cell_type": "code",
   "execution_count": 97,
   "id": "39a60a9e-b19c-49ad-94d1-af476f5a1ce3",
   "metadata": {},
   "outputs": [
    {
     "data": {
      "text/html": [
       "<div>\n",
       "<style scoped>\n",
       "    .dataframe tbody tr th:only-of-type {\n",
       "        vertical-align: middle;\n",
       "    }\n",
       "\n",
       "    .dataframe tbody tr th {\n",
       "        vertical-align: top;\n",
       "    }\n",
       "\n",
       "    .dataframe thead th {\n",
       "        text-align: right;\n",
       "    }\n",
       "</style>\n",
       "<table border=\"1\" class=\"dataframe\">\n",
       "  <thead>\n",
       "    <tr style=\"text-align: right;\">\n",
       "      <th></th>\n",
       "      <th>score1</th>\n",
       "      <th>score2</th>\n",
       "      <th>score3</th>\n",
       "    </tr>\n",
       "  </thead>\n",
       "  <tbody>\n",
       "    <tr>\n",
       "      <th>0</th>\n",
       "      <td>2.0</td>\n",
       "      <td>2.0</td>\n",
       "      <td>2.0</td>\n",
       "    </tr>\n",
       "    <tr>\n",
       "      <th>1</th>\n",
       "      <td>2.0</td>\n",
       "      <td>2.0</td>\n",
       "      <td>1.5</td>\n",
       "    </tr>\n",
       "    <tr>\n",
       "      <th>2</th>\n",
       "      <td>1.5</td>\n",
       "      <td>1.5</td>\n",
       "      <td>0.0</td>\n",
       "    </tr>\n",
       "  </tbody>\n",
       "</table>\n",
       "</div>"
      ],
      "text/plain": [
       "   score1  score2  score3\n",
       "0     2.0     2.0     2.0\n",
       "1     2.0     2.0     1.5\n",
       "2     1.5     1.5     0.0"
      ]
     },
     "execution_count": 97,
     "metadata": {},
     "output_type": "execute_result"
    }
   ],
   "source": [
    "y_df.head(3)"
   ]
  },
  {
   "cell_type": "markdown",
   "id": "58583567-75c0-4c84-bbb1-e05dc6ca85e9",
   "metadata": {},
   "source": [
    "Разобьем также на трейн, валидацию и тест:"
   ]
  },
  {
   "cell_type": "code",
   "execution_count": 98,
   "id": "631655eb-7995-40d5-8df8-90c2b233d0bc",
   "metadata": {},
   "outputs": [],
   "source": [
    "# через функцию не получится из-за стратификации - поэтому придется продублировать код функции здесь\n",
    "X_train_df, X_test_df, y_train_df, y_test_df = train_test_split(X_df, y_df, test_size=0.3, random_state=42)\n",
    "X_train_df, X_val_df, y_train_df, y_val_df = train_test_split(X_train_df, y_train_df, test_size=0.2, random_state=42)"
   ]
  },
  {
   "cell_type": "code",
   "execution_count": 99,
   "id": "1e866a3f-5bc9-4d76-91e9-7ec92e6ddf0b",
   "metadata": {},
   "outputs": [
    {
     "data": {
      "text/html": [
       "<div>\n",
       "<style scoped>\n",
       "    .dataframe tbody tr th:only-of-type {\n",
       "        vertical-align: middle;\n",
       "    }\n",
       "\n",
       "    .dataframe tbody tr th {\n",
       "        vertical-align: top;\n",
       "    }\n",
       "\n",
       "    .dataframe thead th {\n",
       "        text-align: right;\n",
       "    }\n",
       "</style>\n",
       "<table border=\"1\" class=\"dataframe\">\n",
       "  <thead>\n",
       "    <tr style=\"text-align: right;\">\n",
       "      <th></th>\n",
       "      <th>answer1</th>\n",
       "      <th>answer1_len</th>\n",
       "    </tr>\n",
       "  </thead>\n",
       "  <tbody>\n",
       "    <tr>\n",
       "      <th>152</th>\n",
       "      <td>Необходимо постараться ускорить некоторвые про...</td>\n",
       "      <td>87</td>\n",
       "    </tr>\n",
       "    <tr>\n",
       "      <th>47</th>\n",
       "      <td>В школе и на первом курсе института очень увле...</td>\n",
       "      <td>255</td>\n",
       "    </tr>\n",
       "    <tr>\n",
       "      <th>285</th>\n",
       "      <td>Расширение кругозора. Попробовать новое. Найти...</td>\n",
       "      <td>267</td>\n",
       "    </tr>\n",
       "    <tr>\n",
       "      <th>233</th>\n",
       "      <td>Получив новые знания и навыки, смогу в дальней...</td>\n",
       "      <td>323</td>\n",
       "    </tr>\n",
       "    <tr>\n",
       "      <th>260</th>\n",
       "      <td>Чтобы развиваться и применять полученные знани...</td>\n",
       "      <td>70</td>\n",
       "    </tr>\n",
       "  </tbody>\n",
       "</table>\n",
       "</div>"
      ],
      "text/plain": [
       "                                               answer1  answer1_len\n",
       "152  Необходимо постараться ускорить некоторвые про...           87\n",
       "47   В школе и на первом курсе института очень увле...          255\n",
       "285  Расширение кругозора. Попробовать новое. Найти...          267\n",
       "233  Получив новые знания и навыки, смогу в дальней...          323\n",
       "260  Чтобы развиваться и применять полученные знани...           70"
      ]
     },
     "execution_count": 99,
     "metadata": {},
     "output_type": "execute_result"
    }
   ],
   "source": [
    "X_val.head()"
   ]
  },
  {
   "cell_type": "markdown",
   "id": "887638e0-93f4-4afc-8d9d-c38414250362",
   "metadata": {},
   "source": [
    "С гиперпараметрами для подбора определились - тут буддем также использовать их:"
   ]
  },
  {
   "cell_type": "code",
   "execution_count": 100,
   "id": "2283144b-ed44-4598-a71b-82ad3d3fdd93",
   "metadata": {},
   "outputs": [],
   "source": [
    "def train_model(train_pool, val_pool, test_pool):\n",
    "    \"\"\"Обучение модели для предсказания оценки для ответа на котнкретный вопрос\"\"\"\n",
    "    def objective(trial): \n",
    "        model = CatBoostRegressor(\n",
    "            iterations=trial.suggest_int('iterations', 300, 2000),\n",
    "            learning_rate=trial.suggest_float('learning_rate', 1e-4, 0.1),\n",
    "            depth=trial.suggest_int('depth', 2, 12),\n",
    "            l2_leaf_reg=trial.suggest_float('l2_leaf_reg', 1e-4, 10, log=True),\n",
    "            verbose=0\n",
    "        )\n",
    "            \n",
    "        # Обучение модели и оценка на валидационном наборе\n",
    "        model.fit(train_pool, eval_set=val_pool, early_stopping_rounds=50)\n",
    "        \n",
    "        # Оценка качества модели\n",
    "        y_pred = model.predict(val_pool)\n",
    "        return root_mean_squared_error(y_val, y_pred)\n",
    "    \n",
    "    sampler = optuna.samplers.RandomSampler(seed=42)\n",
    "    study = optuna.create_study(sampler=sampler, direction='maximize')\n",
    "    study.optimize(objective, n_trials=10)\n",
    "\n",
    "    # Обучение модели с лучшими гиперпараметрами\n",
    "    best_model = CatBoostRegressor(**study.best_params, verbose=0)\n",
    "    best_model.fit(train_pool, eval_set=val_pool, early_stopping_rounds=50)\n",
    "\n",
    "    # Делаем предсказание на тесте\n",
    "    y_test_pred = best_model.predict(test_pool)\n",
    "\n",
    "    # Выводим метрики\n",
    "    rmse = root_mean_squared_error(test_pool.get_label(), y_test_pred)\n",
    "    mae = mean_absolute_error(test_pool.get_label(), y_test_pred)\n",
    "    r2 = r2_score(test_pool.get_label(), y_test_pred)\n",
    "\n",
    "    print(f'Answer {i+1}:')\n",
    "    print(f'RMSE = {rmse}, MAE = {mae}, R2 = {r2}\\n')\n",
    "\n",
    "    return y_test_pred"
   ]
  },
  {
   "cell_type": "code",
   "execution_count": 101,
   "id": "29e1426c-35ff-49a5-a5a2-eb2f6c35faea",
   "metadata": {},
   "outputs": [
    {
     "name": "stdout",
     "output_type": "stream",
     "text": [
      "Answer 1:\n",
      "RMSE = 0.627374450041709, MAE = 0.5055955306637174, R2 = 0.352580274848628\n",
      "\n",
      "Answer 2:\n",
      "RMSE = 0.7609011920638825, MAE = 0.6079554879499458, R2 = 0.25478337147959296\n",
      "\n",
      "Answer 3:\n",
      "RMSE = 0.7022152848682787, MAE = 0.5501065171163257, R2 = 0.44475857012861253\n",
      "\n"
     ]
    }
   ],
   "source": [
    "predictions = pd.DataFrame() # датафрейм с предсказаниями для ответов в каждой колонке\n",
    "\n",
    "for i in range(N):\n",
    "    cols = [f'answer{i+1}', f'answer{i+1}_len']\n",
    "    X_train, X_val, X_test = X_train_df[cols], X_val_df[cols], X_test_df[cols]\n",
    "    y_train, y_val, y_test = y_train_df[f'score{i+1}'], y_val_df[f'score{i+1}'], y_test_df[f'score{i+1}']\n",
    "\n",
    "    train_pool = Pool(data=X_train, label=y_train, text_features=[f'answer{i+1}'])\n",
    "    val_pool = Pool(data=X_val, label=y_val, text_features=[f'answer{i+1}'])\n",
    "    test_pool = Pool(data=X_test, label=y_test, text_features=[f'answer{i+1}'])\n",
    "\n",
    "    y_pred = train_model(train_pool, val_pool, test_pool)\n",
    "    predictions[f'pred_score_{i+1}'] = y_pred"
   ]
  },
  {
   "cell_type": "code",
   "execution_count": 102,
   "id": "461da9c0-0ad4-44ec-a276-4250e914212f",
   "metadata": {},
   "outputs": [
    {
     "data": {
      "text/plain": [
       "0.5566666666666668"
      ]
     },
     "execution_count": 102,
     "metadata": {},
     "output_type": "execute_result"
    }
   ],
   "source": [
    "(0.51 + 0.61 + 0.55) / 3 # средняя ошибка RMSE"
   ]
  },
  {
   "cell_type": "markdown",
   "id": "5be5326c-b0d1-4494-be62-712f0570156e",
   "metadata": {},
   "source": [
    "## Одна модель на все ответы"
   ]
  },
  {
   "cell_type": "markdown",
   "id": "f2f5dc0a-98f0-4ea6-bbf9-f84b40458a6e",
   "metadata": {},
   "source": [
    "Также можно попробовать добавить информацию о длине каждого из ответов по отдельности:"
   ]
  },
  {
   "cell_type": "code",
   "execution_count": 103,
   "id": "32c0de3c-2b9b-4655-b47a-401a4ffae0cf",
   "metadata": {},
   "outputs": [
    {
     "data": {
      "text/html": [
       "<div>\n",
       "<style scoped>\n",
       "    .dataframe tbody tr th:only-of-type {\n",
       "        vertical-align: middle;\n",
       "    }\n",
       "\n",
       "    .dataframe tbody tr th {\n",
       "        vertical-align: top;\n",
       "    }\n",
       "\n",
       "    .dataframe thead th {\n",
       "        text-align: right;\n",
       "    }\n",
       "</style>\n",
       "<table border=\"1\" class=\"dataframe\">\n",
       "  <thead>\n",
       "    <tr style=\"text-align: right;\">\n",
       "      <th></th>\n",
       "      <th>id</th>\n",
       "      <th>answer1</th>\n",
       "      <th>score1</th>\n",
       "      <th>answer2</th>\n",
       "      <th>score2</th>\n",
       "      <th>answer3</th>\n",
       "      <th>score3</th>\n",
       "      <th>result</th>\n",
       "      <th>answer1_len</th>\n",
       "      <th>answer2_len</th>\n",
       "      <th>answer3_len</th>\n",
       "    </tr>\n",
       "  </thead>\n",
       "  <tbody>\n",
       "    <tr>\n",
       "      <th>0</th>\n",
       "      <td>train_0</td>\n",
       "      <td>для анализа массивов данных необходимых в работе</td>\n",
       "      <td>2.0</td>\n",
       "      <td>для анализа массивов данных необходимых в работе</td>\n",
       "      <td>2.0</td>\n",
       "      <td>стараюсь всегда брать задачи, выполнение котор...</td>\n",
       "      <td>2.0</td>\n",
       "      <td>6.0</td>\n",
       "      <td>48</td>\n",
       "      <td>48</td>\n",
       "      <td>548</td>\n",
       "    </tr>\n",
       "    <tr>\n",
       "      <th>1</th>\n",
       "      <td>train_1</td>\n",
       "      <td>Буду использовать полученные знания в работе д...</td>\n",
       "      <td>2.0</td>\n",
       "      <td>Автоматизирую процесс сбора данных и дальнейше...</td>\n",
       "      <td>2.0</td>\n",
       "      <td>Задача по анализу кода и содержанию пакетов - ...</td>\n",
       "      <td>1.5</td>\n",
       "      <td>5.5</td>\n",
       "      <td>139</td>\n",
       "      <td>113</td>\n",
       "      <td>320</td>\n",
       "    </tr>\n",
       "    <tr>\n",
       "      <th>2</th>\n",
       "      <td>train_2</td>\n",
       "      <td>хочу стать топовым программистом во всём мире ...</td>\n",
       "      <td>1.5</td>\n",
       "      <td>изучаю программирование</td>\n",
       "      <td>1.5</td>\n",
       "      <td>-</td>\n",
       "      <td>0.0</td>\n",
       "      <td>3.0</td>\n",
       "      <td>63</td>\n",
       "      <td>23</td>\n",
       "      <td>1</td>\n",
       "    </tr>\n",
       "  </tbody>\n",
       "</table>\n",
       "</div>"
      ],
      "text/plain": [
       "        id                                            answer1  score1  \\\n",
       "0  train_0   для анализа массивов данных необходимых в работе     2.0   \n",
       "1  train_1  Буду использовать полученные знания в работе д...     2.0   \n",
       "2  train_2  хочу стать топовым программистом во всём мире ...     1.5   \n",
       "\n",
       "                                             answer2  score2  \\\n",
       "0   для анализа массивов данных необходимых в работе     2.0   \n",
       "1  Автоматизирую процесс сбора данных и дальнейше...     2.0   \n",
       "2                            изучаю программирование     1.5   \n",
       "\n",
       "                                             answer3  score3  result  \\\n",
       "0  стараюсь всегда брать задачи, выполнение котор...     2.0     6.0   \n",
       "1  Задача по анализу кода и содержанию пакетов - ...     1.5     5.5   \n",
       "2                                                  -     0.0     3.0   \n",
       "\n",
       "   answer1_len  answer2_len  answer3_len  \n",
       "0           48           48          548  \n",
       "1          139          113          320  \n",
       "2           63           23            1  "
      ]
     },
     "execution_count": 103,
     "metadata": {},
     "output_type": "execute_result"
    }
   ],
   "source": [
    "df.head(3)"
   ]
  },
  {
   "cell_type": "markdown",
   "id": "d80feda3-03a0-452e-ad9d-9fa4926de1eb",
   "metadata": {},
   "source": [
    "Обучим CatBoost-регрессор:"
   ]
  },
  {
   "cell_type": "code",
   "execution_count": 116,
   "id": "999ef855-53e1-4f79-b125-e709572488ae",
   "metadata": {},
   "outputs": [],
   "source": [
    "df['general_answer'] = df['answer1'] + ' ' + df['answer2'] + ' ' + df['answer3'] "
   ]
  },
  {
   "cell_type": "code",
   "execution_count": 117,
   "id": "fba03065-e0f0-417a-9563-d3c929b7a558",
   "metadata": {},
   "outputs": [],
   "source": [
    "X, y = df[['general_answer', 'answer1_len', 'answer2_len', 'answer3_len']], df['result']\n",
    "\n",
    "# через функцию не получится из-за стратификации - поэтому придется продублировать код функции здесь\n",
    "X_train, X_test, y_train, y_test = train_test_split(X, y, test_size=0.3, random_state=42)\n",
    "X_train, X_val, y_train, y_val = train_test_split(X_train, y_train, test_size=0.2, random_state=42)"
   ]
  },
  {
   "cell_type": "code",
   "execution_count": 118,
   "id": "56d7bd93-9edc-4e69-9ea9-2a9588ccb1b9",
   "metadata": {},
   "outputs": [],
   "source": [
    "train_pool = Pool(data=X_train, label=y_train, text_features=['general_answer'])\n",
    "val_pool = Pool(data=X_val, label=y_val, text_features=['general_answer'])\n",
    "test_pool = Pool(data=X_test, label=y_test, text_features=['general_answer'])"
   ]
  },
  {
   "cell_type": "code",
   "execution_count": 120,
   "id": "438d9f19-d698-44ef-bb34-f6b235c731d7",
   "metadata": {},
   "outputs": [],
   "source": [
    "def objective(trial): \n",
    "    model = CatBoostRegressor(\n",
    "        iterations=trial.suggest_int('iterations', 300, 2000),\n",
    "        learning_rate=trial.suggest_float('learning_rate', 1e-4, 0.1),\n",
    "        depth=trial.suggest_int('depth', 2, 12),\n",
    "        l2_leaf_reg=trial.suggest_float('l2_leaf_reg', 1e-4, 10, log=True),\n",
    "        verbose=0\n",
    "    )\n",
    "        \n",
    "    # Обучение модели и оценка на валидационном наборе\n",
    "    model.fit(train_pool, eval_set=val_pool, early_stopping_rounds=50)\n",
    "    \n",
    "    # Оценка качества модели\n",
    "    y_pred = model.predict(val_pool)\n",
    "    score = root_mean_squared_error(y_val, y_pred)\n",
    "\n",
    "    # Вывод логов\n",
    "    print(f'Train {trial.number}: score = {score}')\n",
    "\n",
    "    return score"
   ]
  },
  {
   "cell_type": "code",
   "execution_count": 121,
   "id": "a5c1b2f0-a49a-41e8-94f1-b2611657e19d",
   "metadata": {},
   "outputs": [
    {
     "name": "stdout",
     "output_type": "stream",
     "text": [
      "Train 0: score = 1.554480215013431\n",
      "Train 1: score = 1.5390011447973615\n",
      "Train 2: score = 1.549956710098929\n",
      "Train 3: score = 1.5526909567612615\n",
      "Train 4: score = 1.546330700377777\n"
     ]
    }
   ],
   "source": [
    "sampler = optuna.samplers.RandomSampler(seed=42)\n",
    "study = optuna.create_study(sampler=sampler, direction='maximize')\n",
    "study.optimize(objective, n_trials=5)"
   ]
  },
  {
   "cell_type": "code",
   "execution_count": 122,
   "id": "c6fc62a8-78a2-41f6-8de5-c33509750d0b",
   "metadata": {},
   "outputs": [
    {
     "data": {
      "text/plain": [
       "{'iterations': 937,\n",
       " 'learning_rate': 0.09507635921035062,\n",
       " 'depth': 10,\n",
       " 'l2_leaf_reg': 0.09846738873614563}"
      ]
     },
     "execution_count": 122,
     "metadata": {},
     "output_type": "execute_result"
    }
   ],
   "source": [
    "study.best_params"
   ]
  },
  {
   "cell_type": "code",
   "execution_count": 123,
   "id": "d0b0ddd3-467a-4e48-a5e8-e7eb2252b8e8",
   "metadata": {
    "scrolled": true
   },
   "outputs": [
    {
     "name": "stdout",
     "output_type": "stream",
     "text": [
      "0:\tlearn: 1.9965247\ttest: 1.9382371\tbest: 1.9382371 (0)\ttotal: 1.2s\tremaining: 18m 45s\n",
      "1:\tlearn: 1.9215341\ttest: 1.8891772\tbest: 1.8891772 (1)\ttotal: 2.51s\tremaining: 19m 34s\n",
      "2:\tlearn: 1.8625985\ttest: 1.8575150\tbest: 1.8575150 (2)\ttotal: 3.44s\tremaining: 17m 51s\n",
      "3:\tlearn: 1.8128194\ttest: 1.8241276\tbest: 1.8241276 (3)\ttotal: 4.42s\tremaining: 17m 10s\n",
      "4:\tlearn: 1.7625447\ttest: 1.7814418\tbest: 1.7814418 (4)\ttotal: 5.36s\tremaining: 16m 38s\n",
      "5:\tlearn: 1.7286310\ttest: 1.7602735\tbest: 1.7602735 (5)\ttotal: 6.3s\tremaining: 16m 18s\n",
      "6:\tlearn: 1.6919244\ttest: 1.7395677\tbest: 1.7395677 (6)\ttotal: 7.23s\tremaining: 16m\n",
      "7:\tlearn: 1.6338399\ttest: 1.7168433\tbest: 1.7168433 (7)\ttotal: 8.19s\tremaining: 15m 50s\n",
      "8:\tlearn: 1.5995526\ttest: 1.6924761\tbest: 1.6924761 (8)\ttotal: 9.11s\tremaining: 15m 39s\n",
      "9:\tlearn: 1.5568964\ttest: 1.6717924\tbest: 1.6717924 (9)\ttotal: 10s\tremaining: 15m 29s\n",
      "10:\tlearn: 1.5324226\ttest: 1.6614724\tbest: 1.6614724 (10)\ttotal: 10.9s\tremaining: 15m 20s\n",
      "11:\tlearn: 1.5028546\ttest: 1.6479822\tbest: 1.6479822 (11)\ttotal: 11.9s\tremaining: 15m 14s\n",
      "12:\tlearn: 1.4720345\ttest: 1.6353876\tbest: 1.6353876 (12)\ttotal: 12.8s\tremaining: 15m 8s\n",
      "13:\tlearn: 1.4476622\ttest: 1.6205563\tbest: 1.6205563 (13)\ttotal: 13.7s\tremaining: 15m 2s\n",
      "14:\tlearn: 1.4166186\ttest: 1.6057440\tbest: 1.6057440 (14)\ttotal: 14.6s\tremaining: 14m 58s\n",
      "15:\tlearn: 1.3888173\ttest: 1.6026495\tbest: 1.6026495 (15)\ttotal: 15.5s\tremaining: 14m 54s\n",
      "16:\tlearn: 1.3669037\ttest: 1.6020956\tbest: 1.6020956 (16)\ttotal: 16.5s\tremaining: 14m 50s\n",
      "17:\tlearn: 1.3427227\ttest: 1.5952444\tbest: 1.5952444 (17)\ttotal: 17.4s\tremaining: 14m 48s\n",
      "18:\tlearn: 1.3230167\ttest: 1.5966596\tbest: 1.5952444 (17)\ttotal: 18.6s\tremaining: 14m 57s\n",
      "19:\tlearn: 1.3062481\ttest: 1.5948797\tbest: 1.5948797 (19)\ttotal: 19.7s\tremaining: 15m 1s\n",
      "20:\tlearn: 1.2902164\ttest: 1.5942258\tbest: 1.5942258 (20)\ttotal: 20.6s\tremaining: 14m 58s\n",
      "21:\tlearn: 1.2727689\ttest: 1.5830417\tbest: 1.5830417 (21)\ttotal: 21.5s\tremaining: 14m 53s\n",
      "22:\tlearn: 1.2584167\ttest: 1.5788464\tbest: 1.5788464 (22)\ttotal: 22.4s\tremaining: 14m 49s\n",
      "23:\tlearn: 1.2441331\ttest: 1.5811010\tbest: 1.5788464 (22)\ttotal: 23.3s\tremaining: 14m 47s\n",
      "24:\tlearn: 1.2279404\ttest: 1.5796871\tbest: 1.5788464 (22)\ttotal: 24.2s\tremaining: 14m 44s\n",
      "25:\tlearn: 1.2108967\ttest: 1.5762091\tbest: 1.5762091 (25)\ttotal: 25.2s\tremaining: 14m 41s\n",
      "26:\tlearn: 1.2002186\ttest: 1.5805564\tbest: 1.5762091 (25)\ttotal: 26.1s\tremaining: 14m 38s\n",
      "27:\tlearn: 1.1891377\ttest: 1.5805182\tbest: 1.5762091 (25)\ttotal: 27s\tremaining: 14m 35s\n",
      "28:\tlearn: 1.1710489\ttest: 1.5745930\tbest: 1.5745930 (28)\ttotal: 27.9s\tremaining: 14m 33s\n",
      "29:\tlearn: 1.1615353\ttest: 1.5730339\tbest: 1.5730339 (29)\ttotal: 28.8s\tremaining: 14m 30s\n",
      "30:\tlearn: 1.1526444\ttest: 1.5737074\tbest: 1.5730339 (29)\ttotal: 29.7s\tremaining: 14m 28s\n",
      "31:\tlearn: 1.1461288\ttest: 1.5721672\tbest: 1.5721672 (31)\ttotal: 30.6s\tremaining: 14m 25s\n",
      "32:\tlearn: 1.1347329\ttest: 1.5740895\tbest: 1.5721672 (31)\ttotal: 31.5s\tremaining: 14m 22s\n",
      "33:\tlearn: 1.1241536\ttest: 1.5706217\tbest: 1.5706217 (33)\ttotal: 32.4s\tremaining: 14m 20s\n",
      "34:\tlearn: 1.1141668\ttest: 1.5720892\tbest: 1.5706217 (33)\ttotal: 33.3s\tremaining: 14m 18s\n",
      "35:\tlearn: 1.1060552\ttest: 1.5716870\tbest: 1.5706217 (33)\ttotal: 34.2s\tremaining: 14m 16s\n",
      "36:\tlearn: 1.0981824\ttest: 1.5720018\tbest: 1.5706217 (33)\ttotal: 35.1s\tremaining: 14m 14s\n",
      "37:\tlearn: 1.0865788\ttest: 1.5707162\tbest: 1.5706217 (33)\ttotal: 36.1s\tremaining: 14m 13s\n",
      "38:\tlearn: 1.0728479\ttest: 1.5745153\tbest: 1.5706217 (33)\ttotal: 37s\tremaining: 14m 11s\n",
      "39:\tlearn: 1.0611618\ttest: 1.5742735\tbest: 1.5706217 (33)\ttotal: 37.9s\tremaining: 14m 9s\n",
      "40:\tlearn: 1.0500600\ttest: 1.5784447\tbest: 1.5706217 (33)\ttotal: 38.8s\tremaining: 14m 7s\n",
      "41:\tlearn: 1.0378188\ttest: 1.5784767\tbest: 1.5706217 (33)\ttotal: 39.7s\tremaining: 14m 6s\n",
      "42:\tlearn: 1.0292109\ttest: 1.5755764\tbest: 1.5706217 (33)\ttotal: 40.6s\tremaining: 14m 4s\n",
      "43:\tlearn: 1.0205899\ttest: 1.5777326\tbest: 1.5706217 (33)\ttotal: 41.5s\tremaining: 14m 2s\n",
      "44:\tlearn: 1.0156205\ttest: 1.5796887\tbest: 1.5706217 (33)\ttotal: 42.4s\tremaining: 14m\n",
      "45:\tlearn: 1.0094106\ttest: 1.5780550\tbest: 1.5706217 (33)\ttotal: 43.3s\tremaining: 13m 59s\n",
      "46:\tlearn: 1.0029489\ttest: 1.5768582\tbest: 1.5706217 (33)\ttotal: 44.2s\tremaining: 13m 57s\n",
      "47:\tlearn: 0.9945388\ttest: 1.5792763\tbest: 1.5706217 (33)\ttotal: 45.1s\tremaining: 13m 55s\n",
      "48:\tlearn: 0.9880658\ttest: 1.5799804\tbest: 1.5706217 (33)\ttotal: 46s\tremaining: 13m 54s\n",
      "49:\tlearn: 0.9796019\ttest: 1.5795764\tbest: 1.5706217 (33)\ttotal: 46.9s\tremaining: 13m 52s\n",
      "50:\tlearn: 0.9698098\ttest: 1.5810873\tbest: 1.5706217 (33)\ttotal: 47.9s\tremaining: 13m 51s\n",
      "51:\tlearn: 0.9613223\ttest: 1.5702960\tbest: 1.5702960 (51)\ttotal: 48.8s\tremaining: 13m 50s\n",
      "52:\tlearn: 0.9510806\ttest: 1.5672761\tbest: 1.5672761 (52)\ttotal: 49.9s\tremaining: 13m 52s\n",
      "53:\tlearn: 0.9416306\ttest: 1.5685844\tbest: 1.5672761 (52)\ttotal: 51.2s\tremaining: 13m 56s\n",
      "54:\tlearn: 0.9319948\ttest: 1.5697207\tbest: 1.5672761 (52)\ttotal: 52.1s\tremaining: 13m 55s\n",
      "55:\tlearn: 0.9209825\ttest: 1.5721994\tbest: 1.5672761 (52)\ttotal: 54.4s\tremaining: 14m 15s\n",
      "56:\tlearn: 0.9129354\ttest: 1.5716287\tbest: 1.5672761 (52)\ttotal: 56s\tremaining: 14m 24s\n",
      "57:\tlearn: 0.9068412\ttest: 1.5696740\tbest: 1.5672761 (52)\ttotal: 58.1s\tremaining: 14m 39s\n",
      "58:\tlearn: 0.8990268\ttest: 1.5698098\tbest: 1.5672761 (52)\ttotal: 1m\tremaining: 14m 58s\n",
      "59:\tlearn: 0.8896682\ttest: 1.5669652\tbest: 1.5669652 (59)\ttotal: 1m 1s\tremaining: 14m 59s\n",
      "60:\tlearn: 0.8806644\ttest: 1.5686698\tbest: 1.5669652 (59)\ttotal: 1m 2s\tremaining: 14m 59s\n",
      "61:\tlearn: 0.8757367\ttest: 1.5693409\tbest: 1.5669652 (59)\ttotal: 1m 3s\tremaining: 14m 58s\n",
      "62:\tlearn: 0.8694992\ttest: 1.5707267\tbest: 1.5669652 (59)\ttotal: 1m 5s\tremaining: 15m 2s\n",
      "63:\tlearn: 0.8604102\ttest: 1.5732325\tbest: 1.5669652 (59)\ttotal: 1m 6s\tremaining: 15m\n",
      "64:\tlearn: 0.8499474\ttest: 1.5694788\tbest: 1.5669652 (59)\ttotal: 1m 7s\tremaining: 15m\n",
      "65:\tlearn: 0.8388600\ttest: 1.5707827\tbest: 1.5669652 (59)\ttotal: 1m 8s\tremaining: 14m 57s\n",
      "66:\tlearn: 0.8297400\ttest: 1.5678294\tbest: 1.5669652 (59)\ttotal: 1m 8s\tremaining: 14m 54s\n",
      "67:\tlearn: 0.8206689\ttest: 1.5709723\tbest: 1.5669652 (59)\ttotal: 1m 9s\tremaining: 14m 52s\n",
      "68:\tlearn: 0.8079793\ttest: 1.5637492\tbest: 1.5637492 (68)\ttotal: 1m 10s\tremaining: 14m 51s\n",
      "69:\tlearn: 0.8009428\ttest: 1.5628102\tbest: 1.5628102 (69)\ttotal: 1m 11s\tremaining: 14m 49s\n",
      "70:\tlearn: 0.7872434\ttest: 1.5573727\tbest: 1.5573727 (70)\ttotal: 1m 12s\tremaining: 14m 47s\n",
      "71:\tlearn: 0.7801301\ttest: 1.5599122\tbest: 1.5573727 (70)\ttotal: 1m 13s\tremaining: 14m 46s\n",
      "72:\tlearn: 0.7721974\ttest: 1.5585727\tbest: 1.5573727 (70)\ttotal: 1m 14s\tremaining: 14m 44s\n",
      "73:\tlearn: 0.7618649\ttest: 1.5600793\tbest: 1.5573727 (70)\ttotal: 1m 15s\tremaining: 14m 44s\n",
      "74:\tlearn: 0.7542247\ttest: 1.5657080\tbest: 1.5573727 (70)\ttotal: 1m 16s\tremaining: 14m 42s\n",
      "75:\tlearn: 0.7467438\ttest: 1.5689886\tbest: 1.5573727 (70)\ttotal: 1m 17s\tremaining: 14m 40s\n",
      "76:\tlearn: 0.7386954\ttest: 1.5691722\tbest: 1.5573727 (70)\ttotal: 1m 18s\tremaining: 14m 39s\n",
      "77:\tlearn: 0.7168548\ttest: 1.5648314\tbest: 1.5573727 (70)\ttotal: 1m 19s\tremaining: 14m 38s\n",
      "78:\tlearn: 0.7048528\ttest: 1.5617321\tbest: 1.5573727 (70)\ttotal: 1m 20s\tremaining: 14m 36s\n",
      "79:\tlearn: 0.6917237\ttest: 1.5636245\tbest: 1.5573727 (70)\ttotal: 1m 21s\tremaining: 14m 34s\n",
      "80:\tlearn: 0.6858939\ttest: 1.5665991\tbest: 1.5573727 (70)\ttotal: 1m 22s\tremaining: 14m 33s\n",
      "81:\tlearn: 0.6718962\ttest: 1.5591976\tbest: 1.5573727 (70)\ttotal: 1m 23s\tremaining: 14m 31s\n",
      "82:\tlearn: 0.6628098\ttest: 1.5599570\tbest: 1.5573727 (70)\ttotal: 1m 24s\tremaining: 14m 29s\n",
      "83:\tlearn: 0.6555478\ttest: 1.5601339\tbest: 1.5573727 (70)\ttotal: 1m 25s\tremaining: 14m 28s\n",
      "84:\tlearn: 0.6410522\ttest: 1.5544802\tbest: 1.5544802 (84)\ttotal: 1m 26s\tremaining: 14m 26s\n",
      "85:\tlearn: 0.6304938\ttest: 1.5582443\tbest: 1.5544802 (84)\ttotal: 1m 27s\tremaining: 14m 24s\n",
      "86:\tlearn: 0.6248504\ttest: 1.5610681\tbest: 1.5544802 (84)\ttotal: 1m 28s\tremaining: 14m 22s\n",
      "87:\tlearn: 0.6187520\ttest: 1.5613506\tbest: 1.5544802 (84)\ttotal: 1m 29s\tremaining: 14m 20s\n",
      "88:\tlearn: 0.6111172\ttest: 1.5580498\tbest: 1.5544802 (84)\ttotal: 1m 30s\tremaining: 14m 19s\n",
      "89:\tlearn: 0.6050276\ttest: 1.5602136\tbest: 1.5544802 (84)\ttotal: 1m 31s\tremaining: 14m 17s\n",
      "90:\tlearn: 0.5962316\ttest: 1.5618383\tbest: 1.5544802 (84)\ttotal: 1m 32s\tremaining: 14m 15s\n",
      "91:\tlearn: 0.5902561\ttest: 1.5627053\tbest: 1.5544802 (84)\ttotal: 1m 33s\tremaining: 14m 14s\n",
      "92:\tlearn: 0.5839788\ttest: 1.5625707\tbest: 1.5544802 (84)\ttotal: 1m 33s\tremaining: 14m 12s\n",
      "93:\tlearn: 0.5767444\ttest: 1.5644269\tbest: 1.5544802 (84)\ttotal: 1m 34s\tremaining: 14m 11s\n",
      "94:\tlearn: 0.5702875\ttest: 1.5649646\tbest: 1.5544802 (84)\ttotal: 1m 35s\tremaining: 14m 9s\n",
      "95:\tlearn: 0.5626308\ttest: 1.5628825\tbest: 1.5544802 (84)\ttotal: 1m 36s\tremaining: 14m 7s\n",
      "96:\tlearn: 0.5579811\ttest: 1.5636006\tbest: 1.5544802 (84)\ttotal: 1m 37s\tremaining: 14m 5s\n",
      "97:\tlearn: 0.5524692\ttest: 1.5619480\tbest: 1.5544802 (84)\ttotal: 1m 38s\tremaining: 14m 3s\n",
      "98:\tlearn: 0.5447496\ttest: 1.5659002\tbest: 1.5544802 (84)\ttotal: 1m 39s\tremaining: 14m 4s\n",
      "99:\tlearn: 0.5382523\ttest: 1.5653829\tbest: 1.5544802 (84)\ttotal: 1m 40s\tremaining: 14m 4s\n",
      "100:\tlearn: 0.5288188\ttest: 1.5639848\tbest: 1.5544802 (84)\ttotal: 1m 41s\tremaining: 14m 2s\n",
      "101:\tlearn: 0.5224969\ttest: 1.5632748\tbest: 1.5544802 (84)\ttotal: 1m 42s\tremaining: 14m 1s\n",
      "102:\tlearn: 0.5159753\ttest: 1.5671692\tbest: 1.5544802 (84)\ttotal: 1m 43s\tremaining: 13m 59s\n",
      "103:\tlearn: 0.5062163\ttest: 1.5671500\tbest: 1.5544802 (84)\ttotal: 1m 44s\tremaining: 13m 58s\n",
      "104:\tlearn: 0.4966900\ttest: 1.5660359\tbest: 1.5544802 (84)\ttotal: 1m 45s\tremaining: 13m 57s\n",
      "105:\tlearn: 0.4933359\ttest: 1.5680315\tbest: 1.5544802 (84)\ttotal: 1m 46s\tremaining: 13m 55s\n",
      "106:\tlearn: 0.4834062\ttest: 1.5714546\tbest: 1.5544802 (84)\ttotal: 1m 47s\tremaining: 13m 55s\n",
      "107:\tlearn: 0.4772738\ttest: 1.5737207\tbest: 1.5544802 (84)\ttotal: 1m 49s\tremaining: 13m 59s\n",
      "108:\tlearn: 0.4682589\ttest: 1.5697875\tbest: 1.5544802 (84)\ttotal: 1m 50s\tremaining: 14m 2s\n",
      "109:\tlearn: 0.4640859\ttest: 1.5701879\tbest: 1.5544802 (84)\ttotal: 1m 51s\tremaining: 14m 1s\n",
      "110:\tlearn: 0.4592846\ttest: 1.5700203\tbest: 1.5544802 (84)\ttotal: 1m 52s\tremaining: 14m\n",
      "111:\tlearn: 0.4550373\ttest: 1.5706332\tbest: 1.5544802 (84)\ttotal: 1m 53s\tremaining: 13m 58s\n",
      "112:\tlearn: 0.4477939\ttest: 1.5731282\tbest: 1.5544802 (84)\ttotal: 1m 54s\tremaining: 13m 57s\n",
      "113:\tlearn: 0.4446262\ttest: 1.5736867\tbest: 1.5544802 (84)\ttotal: 1m 55s\tremaining: 13m 55s\n",
      "114:\tlearn: 0.4412030\ttest: 1.5734034\tbest: 1.5544802 (84)\ttotal: 1m 56s\tremaining: 13m 54s\n",
      "115:\tlearn: 0.4346285\ttest: 1.5726983\tbest: 1.5544802 (84)\ttotal: 1m 57s\tremaining: 13m 52s\n",
      "116:\tlearn: 0.4285146\ttest: 1.5698406\tbest: 1.5544802 (84)\ttotal: 1m 58s\tremaining: 13m 51s\n",
      "117:\tlearn: 0.4235215\ttest: 1.5692621\tbest: 1.5544802 (84)\ttotal: 1m 59s\tremaining: 13m 49s\n",
      "118:\tlearn: 0.4184422\ttest: 1.5686184\tbest: 1.5544802 (84)\ttotal: 2m\tremaining: 13m 48s\n",
      "119:\tlearn: 0.4145120\ttest: 1.5671603\tbest: 1.5544802 (84)\ttotal: 2m 1s\tremaining: 13m 47s\n",
      "120:\tlearn: 0.4077314\ttest: 1.5657114\tbest: 1.5544802 (84)\ttotal: 2m 2s\tremaining: 13m 46s\n",
      "121:\tlearn: 0.4038965\ttest: 1.5665037\tbest: 1.5544802 (84)\ttotal: 2m 3s\tremaining: 13m 45s\n",
      "122:\tlearn: 0.3985529\ttest: 1.5642397\tbest: 1.5544802 (84)\ttotal: 2m 4s\tremaining: 13m 43s\n",
      "123:\tlearn: 0.3886572\ttest: 1.5620362\tbest: 1.5544802 (84)\ttotal: 2m 5s\tremaining: 13m 41s\n",
      "124:\tlearn: 0.3840546\ttest: 1.5619570\tbest: 1.5544802 (84)\ttotal: 2m 6s\tremaining: 13m 40s\n",
      "125:\tlearn: 0.3809378\ttest: 1.5614055\tbest: 1.5544802 (84)\ttotal: 2m 7s\tremaining: 13m 39s\n",
      "126:\tlearn: 0.3758916\ttest: 1.5627920\tbest: 1.5544802 (84)\ttotal: 2m 8s\tremaining: 13m 37s\n",
      "127:\tlearn: 0.3732243\ttest: 1.5631301\tbest: 1.5544802 (84)\ttotal: 2m 9s\tremaining: 13m 36s\n",
      "128:\tlearn: 0.3696705\ttest: 1.5614567\tbest: 1.5544802 (84)\ttotal: 2m 10s\tremaining: 13m 35s\n",
      "129:\tlearn: 0.3660511\ttest: 1.5624172\tbest: 1.5544802 (84)\ttotal: 2m 11s\tremaining: 13m 33s\n",
      "130:\tlearn: 0.3562220\ttest: 1.5653097\tbest: 1.5544802 (84)\ttotal: 2m 12s\tremaining: 13m 32s\n",
      "131:\tlearn: 0.3481405\ttest: 1.5642020\tbest: 1.5544802 (84)\ttotal: 2m 13s\tremaining: 13m 31s\n",
      "132:\tlearn: 0.3444299\ttest: 1.5630052\tbest: 1.5544802 (84)\ttotal: 2m 14s\tremaining: 13m 30s\n",
      "133:\tlearn: 0.3416625\ttest: 1.5647127\tbest: 1.5544802 (84)\ttotal: 2m 15s\tremaining: 13m 29s\n",
      "134:\tlearn: 0.3369060\ttest: 1.5665708\tbest: 1.5544802 (84)\ttotal: 2m 16s\tremaining: 13m 28s\n",
      "Stopped by overfitting detector  (50 iterations wait)\n",
      "\n",
      "bestTest = 1.554480215\n",
      "bestIteration = 84\n",
      "\n",
      "Shrink model to first 85 iterations.\n"
     ]
    }
   ],
   "source": [
    "# Обучение модели с лучшими гиперпараметрами\n",
    "best_model = CatBoostRegressor(**study.best_params)\n",
    "best_model.fit(train_pool, eval_set=val_pool, early_stopping_rounds=50, plot=0, verbose=1)\n",
    "\n",
    "y_train_pred = best_model.predict(train_pool)\n",
    "y_test_pred = best_model.predict(test_pool)"
   ]
  },
  {
   "cell_type": "code",
   "execution_count": 124,
   "id": "d0c6f680-5fac-4fa4-93c1-d81b66cb804f",
   "metadata": {},
   "outputs": [],
   "source": [
    "y_test_pred = best_model.predict(test_pool)"
   ]
  },
  {
   "cell_type": "code",
   "execution_count": 125,
   "id": "89a0a27b-086d-4ff5-81cc-957ecab295d5",
   "metadata": {},
   "outputs": [
    {
     "data": {
      "text/plain": [
       "array([5.5, 8. , 3. , 5. , 2. , 4. , 5. , 3. , 6.5, 2. , 4. , 6. , 7. ,\n",
       "       5.5, 5. , 6. , 6.5, 8. , 6. , 8. , 5. , 4. , 6. , 5. , 7. , 5. ,\n",
       "       8. , 2. , 4. , 2. , 3. , 4.5, 4. , 5. , 5.5, 2. , 3.5, 5. , 8. ,\n",
       "       3. , 3. , 5. , 4. , 2. , 5. , 3. , 6.5, 3. , 9. , 8. , 4. , 8. ,\n",
       "       3. , 8. , 8. , 1. , 8. , 8.5, 3. , 5.5, 1. , 7. , 1. , 3. , 6. ,\n",
       "       7. , 4.5, 8.5, 1. , 1.5, 7. , 6. , 3. , 8. , 2. , 5.5, 3. , 4.5,\n",
       "       3. , 5. , 3. , 8. , 5. , 8. , 5. , 6. , 5. , 1. , 5. , 3.5, 3. ,\n",
       "       4. , 8. , 2.5, 6. , 4. , 4. , 6. , 2. , 9. , 3. , 3. , 6. , 4. ,\n",
       "       3. , 2. , 3. , 2.5, 7.5, 2. , 5. , 7. , 7. , 3.5, 4.5, 6. , 4.5,\n",
       "       5. , 4. , 5. , 6. , 7. , 4. , 6. , 1. , 5. , 7. , 8. , 5. , 1. ,\n",
       "       3. , 6. , 7. , 2. , 9. , 7. , 4. , 6. , 6. , 5. , 4.5, 8. , 4. ,\n",
       "       2. , 7. , 6. , 0. , 4.5, 4. , 3. , 9. , 9. , 4. , 7. , 4. , 4.5,\n",
       "       7. , 4. , 8. , 3. , 1. , 3.5, 4. , 6.5, 4. , 6. , 2. , 2. , 4.5,\n",
       "       4. , 6. , 4.5, 9. , 3. , 6. , 3. , 5. , 2. , 8. , 3. , 2.5, 3. ,\n",
       "       6. , 2. , 2. , 7. , 6. , 2. , 9. , 6. , 6. , 3. , 4.5, 9. , 3.5,\n",
       "       8. ])"
      ]
     },
     "execution_count": 125,
     "metadata": {},
     "output_type": "execute_result"
    }
   ],
   "source": [
    "test_pool.get_label()"
   ]
  },
  {
   "cell_type": "code",
   "execution_count": 126,
   "id": "2161b381-f752-4a08-ac57-90a32e92a0f7",
   "metadata": {},
   "outputs": [
    {
     "name": "stdout",
     "output_type": "stream",
     "text": [
      "RMSE = 1.6207537652441086, MAE = 1.2856377373558654, R2 = 0.4338502740158753\n",
      "\n"
     ]
    }
   ],
   "source": [
    "rmse = root_mean_squared_error(test_pool.get_label(), y_test_pred)\n",
    "mae = mean_absolute_error(test_pool.get_label(), y_test_pred)\n",
    "r2 = r2_score(test_pool.get_label(), y_test_pred)\n",
    "\n",
    "print(f'RMSE = {rmse}, MAE = {mae}, R2 = {r2}\\n')"
   ]
  },
  {
   "cell_type": "markdown",
   "id": "6fa1d2a9-49b5-466a-aaf4-1c56f2aa3d7f",
   "metadata": {},
   "source": [
    "Тогда на каждую из моделей приходится примерно:"
   ]
  },
  {
   "cell_type": "code",
   "execution_count": 128,
   "id": "e213a752-a501-4972-9b84-377448d7f738",
   "metadata": {},
   "outputs": [
    {
     "data": {
      "text/plain": [
       "0.4266666666666667"
      ]
     },
     "execution_count": 128,
     "metadata": {},
     "output_type": "execute_result"
    }
   ],
   "source": [
    "1.28 / 3"
   ]
  }
 ],
 "metadata": {
  "kernelspec": {
   "display_name": "Python 3 (ipykernel)",
   "language": "python",
   "name": "python3"
  },
  "language_info": {
   "codemirror_mode": {
    "name": "ipython",
    "version": 3
   },
   "file_extension": ".py",
   "mimetype": "text/x-python",
   "name": "python",
   "nbconvert_exporter": "python",
   "pygments_lexer": "ipython3",
   "version": "3.11.4"
  }
 },
 "nbformat": 4,
 "nbformat_minor": 5
}
