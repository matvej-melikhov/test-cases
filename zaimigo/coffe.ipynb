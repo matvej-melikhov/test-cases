{
 "cells": [
  {
   "cell_type": "markdown",
   "id": "b07190ea-9346-4e3e-b1d4-35e5646bee26",
   "metadata": {},
   "source": [
    "# 1. Кофе"
   ]
  },
  {
   "cell_type": "markdown",
   "id": "56390c09-d66e-415c-8bac-c7df7257b082",
   "metadata": {},
   "source": [
    "Компания, занимающаяся оптовыми поставками зернового кофе, запросила отчёт о продажах по месяцам. Интересуют только те продажи, у которых не было доставки: их количество в месяц, процент плохих отзывов, доходность таких транзакций – в разрезе на продажи с вводом клиентом  промокода и без. \n",
    "Имеется выгрузка всех продаж с момента основания компании.\n",
    "Необходимо написать код на Python, который прочтет выгрузку, проведет необходимые расчеты и запишет таблицу-результат в эксель. \n",
    "Поля итоговой таблицы: \n",
    "«Месяц» – «Введен промокод» – «Кол-во транзакций» – «Плохих отзывов, %» - «Доходность, %».\n",
    "\n",
    "**Примечание:**\n",
    "Доходность можно вычислить по формуле\n",
    " Доходность, % = (Оплаченная по транзакциям сумма - Закупочная цена поставленных зерен) / Закупочная цена поставленных зерен * 100, где\n",
    "Закупочная цена поставленных зерен = сумма Cost всех с нужными характеристиками,\n",
    "Оплаченная по транзакциям сумма= сумма Paid транзакций с нужными характеристиками."
   ]
  },
  {
   "cell_type": "code",
   "execution_count": 1,
   "id": "c887b5e9-f721-4806-b0d0-3df24f5e6fb7",
   "metadata": {},
   "outputs": [],
   "source": [
    "import pandas as pd"
   ]
  },
  {
   "cell_type": "code",
   "execution_count": 2,
   "id": "eefe4a76-2946-4ce8-9731-f2235f918e1b",
   "metadata": {},
   "outputs": [],
   "source": [
    "df = pd.read_csv('data/transactions.csv', encoding='cp1251', sep='\\t')"
   ]
  },
  {
   "cell_type": "code",
   "execution_count": 3,
   "id": "1d596d4d-27f2-44a4-8ee4-de77d4c589e6",
   "metadata": {},
   "outputs": [
    {
     "data": {
      "text/html": [
       "<div>\n",
       "<style scoped>\n",
       "    .dataframe tbody tr th:only-of-type {\n",
       "        vertical-align: middle;\n",
       "    }\n",
       "\n",
       "    .dataframe tbody tr th {\n",
       "        vertical-align: top;\n",
       "    }\n",
       "\n",
       "    .dataframe thead th {\n",
       "        text-align: right;\n",
       "    }\n",
       "</style>\n",
       "<table border=\"1\" class=\"dataframe\">\n",
       "  <thead>\n",
       "    <tr style=\"text-align: right;\">\n",
       "      <th></th>\n",
       "      <th>TransactionID</th>\n",
       "      <th>Date</th>\n",
       "      <th>Count</th>\n",
       "      <th>Cost</th>\n",
       "      <th>Доставка</th>\n",
       "      <th>Плохой отзыв</th>\n",
       "      <th>Paid</th>\n",
       "      <th>Weight</th>\n",
       "      <th>Promo</th>\n",
       "      <th>AutoIssue</th>\n",
       "    </tr>\n",
       "  </thead>\n",
       "  <tbody>\n",
       "    <tr>\n",
       "      <th>0</th>\n",
       "      <td>1</td>\n",
       "      <td>2020-Aug-21 8:53:03</td>\n",
       "      <td>67</td>\n",
       "      <td>6325</td>\n",
       "      <td>0</td>\n",
       "      <td>0</td>\n",
       "      <td>2605,0</td>\n",
       "      <td>5481</td>\n",
       "      <td>0</td>\n",
       "      <td>0</td>\n",
       "    </tr>\n",
       "    <tr>\n",
       "      <th>1</th>\n",
       "      <td>2</td>\n",
       "      <td>2019-Sep-3 11:53:03</td>\n",
       "      <td>90</td>\n",
       "      <td>8307</td>\n",
       "      <td>1</td>\n",
       "      <td>1</td>\n",
       "      <td>8553,0</td>\n",
       "      <td>5956</td>\n",
       "      <td>1</td>\n",
       "      <td>1</td>\n",
       "    </tr>\n",
       "    <tr>\n",
       "      <th>2</th>\n",
       "      <td>3</td>\n",
       "      <td>2019-Oct-15 4:31:02</td>\n",
       "      <td>59</td>\n",
       "      <td>9819</td>\n",
       "      <td>0</td>\n",
       "      <td>1</td>\n",
       "      <td>9995,0</td>\n",
       "      <td>5170</td>\n",
       "      <td>1</td>\n",
       "      <td>0</td>\n",
       "    </tr>\n",
       "  </tbody>\n",
       "</table>\n",
       "</div>"
      ],
      "text/plain": [
       "   TransactionID                 Date  Count  Cost  Доставка  Плохой отзыв  \\\n",
       "0              1  2020-Aug-21 8:53:03     67  6325         0             0   \n",
       "1              2  2019-Sep-3 11:53:03     90  8307         1             1   \n",
       "2              3  2019-Oct-15 4:31:02     59  9819         0             1   \n",
       "\n",
       "     Paid  Weight  Promo  AutoIssue  \n",
       "0  2605,0    5481      0          0  \n",
       "1  8553,0    5956      1          1  \n",
       "2  9995,0    5170      1          0  "
      ]
     },
     "execution_count": 3,
     "metadata": {},
     "output_type": "execute_result"
    }
   ],
   "source": [
    "df.head(3)"
   ]
  },
  {
   "cell_type": "code",
   "execution_count": 4,
   "id": "e1e8c30d-f2af-4393-a8ae-82ebb25f7d72",
   "metadata": {},
   "outputs": [],
   "source": [
    "df.drop(columns=['AutoIssue'], inplace=True)"
   ]
  },
  {
   "cell_type": "code",
   "execution_count": 5,
   "id": "08843746-06e9-4570-b93f-7ae84ee4a692",
   "metadata": {},
   "outputs": [],
   "source": [
    "df.columns = ['id', 'date', 'count', 'cost', 'delivery', 'bad_review', 'paid', 'weight', 'promo']"
   ]
  },
  {
   "cell_type": "code",
   "execution_count": 6,
   "id": "e1629e65-b4ab-4f6b-9f23-7a50c6786168",
   "metadata": {},
   "outputs": [
    {
     "data": {
      "text/html": [
       "<div>\n",
       "<style scoped>\n",
       "    .dataframe tbody tr th:only-of-type {\n",
       "        vertical-align: middle;\n",
       "    }\n",
       "\n",
       "    .dataframe tbody tr th {\n",
       "        vertical-align: top;\n",
       "    }\n",
       "\n",
       "    .dataframe thead th {\n",
       "        text-align: right;\n",
       "    }\n",
       "</style>\n",
       "<table border=\"1\" class=\"dataframe\">\n",
       "  <thead>\n",
       "    <tr style=\"text-align: right;\">\n",
       "      <th></th>\n",
       "      <th>id</th>\n",
       "      <th>date</th>\n",
       "      <th>count</th>\n",
       "      <th>cost</th>\n",
       "      <th>delivery</th>\n",
       "      <th>bad_review</th>\n",
       "      <th>paid</th>\n",
       "      <th>weight</th>\n",
       "      <th>promo</th>\n",
       "    </tr>\n",
       "  </thead>\n",
       "  <tbody>\n",
       "    <tr>\n",
       "      <th>0</th>\n",
       "      <td>1</td>\n",
       "      <td>2020-Aug-21 8:53:03</td>\n",
       "      <td>67</td>\n",
       "      <td>6325</td>\n",
       "      <td>0</td>\n",
       "      <td>0</td>\n",
       "      <td>2605,0</td>\n",
       "      <td>5481</td>\n",
       "      <td>0</td>\n",
       "    </tr>\n",
       "    <tr>\n",
       "      <th>1</th>\n",
       "      <td>2</td>\n",
       "      <td>2019-Sep-3 11:53:03</td>\n",
       "      <td>90</td>\n",
       "      <td>8307</td>\n",
       "      <td>1</td>\n",
       "      <td>1</td>\n",
       "      <td>8553,0</td>\n",
       "      <td>5956</td>\n",
       "      <td>1</td>\n",
       "    </tr>\n",
       "    <tr>\n",
       "      <th>2</th>\n",
       "      <td>3</td>\n",
       "      <td>2019-Oct-15 4:31:02</td>\n",
       "      <td>59</td>\n",
       "      <td>9819</td>\n",
       "      <td>0</td>\n",
       "      <td>1</td>\n",
       "      <td>9995,0</td>\n",
       "      <td>5170</td>\n",
       "      <td>1</td>\n",
       "    </tr>\n",
       "  </tbody>\n",
       "</table>\n",
       "</div>"
      ],
      "text/plain": [
       "   id                 date  count  cost  delivery  bad_review    paid  weight  \\\n",
       "0   1  2020-Aug-21 8:53:03     67  6325         0           0  2605,0    5481   \n",
       "1   2  2019-Sep-3 11:53:03     90  8307         1           1  8553,0    5956   \n",
       "2   3  2019-Oct-15 4:31:02     59  9819         0           1  9995,0    5170   \n",
       "\n",
       "   promo  \n",
       "0      0  \n",
       "1      1  \n",
       "2      1  "
      ]
     },
     "execution_count": 6,
     "metadata": {},
     "output_type": "execute_result"
    }
   ],
   "source": [
    "df.head(3)"
   ]
  },
  {
   "cell_type": "code",
   "execution_count": 7,
   "id": "8a3738bd-245f-4840-b143-d5394a0be122",
   "metadata": {},
   "outputs": [
    {
     "data": {
      "text/plain": [
       "id             int64\n",
       "date          object\n",
       "count          int64\n",
       "cost           int64\n",
       "delivery       int64\n",
       "bad_review     int64\n",
       "paid          object\n",
       "weight         int64\n",
       "promo          int64\n",
       "dtype: object"
      ]
     },
     "execution_count": 7,
     "metadata": {},
     "output_type": "execute_result"
    }
   ],
   "source": [
    "df.dtypes"
   ]
  },
  {
   "cell_type": "code",
   "execution_count": 8,
   "id": "93574c94-4541-49e4-9b29-a14b11cdb25a",
   "metadata": {},
   "outputs": [],
   "source": [
    "df['paid'] = df['paid'].str.replace(',', '.').astype(float)"
   ]
  },
  {
   "cell_type": "code",
   "execution_count": 9,
   "id": "cd4419a3-d074-4fbb-8e92-18f70ead94c9",
   "metadata": {
    "editable": true,
    "slideshow": {
     "slide_type": ""
    },
    "tags": []
   },
   "outputs": [],
   "source": [
    "df['date'] = pd.to_datetime(df['date'])\n",
    "df['month'] = df['date'].dt.to_period('M')"
   ]
  },
  {
   "cell_type": "code",
   "execution_count": 10,
   "id": "23fefbaa-2602-4e26-bdc5-936409237d26",
   "metadata": {},
   "outputs": [
    {
     "data": {
      "text/html": [
       "<div>\n",
       "<style scoped>\n",
       "    .dataframe tbody tr th:only-of-type {\n",
       "        vertical-align: middle;\n",
       "    }\n",
       "\n",
       "    .dataframe tbody tr th {\n",
       "        vertical-align: top;\n",
       "    }\n",
       "\n",
       "    .dataframe thead th {\n",
       "        text-align: right;\n",
       "    }\n",
       "</style>\n",
       "<table border=\"1\" class=\"dataframe\">\n",
       "  <thead>\n",
       "    <tr style=\"text-align: right;\">\n",
       "      <th></th>\n",
       "      <th>id</th>\n",
       "      <th>date</th>\n",
       "      <th>count</th>\n",
       "      <th>cost</th>\n",
       "      <th>delivery</th>\n",
       "      <th>bad_review</th>\n",
       "      <th>paid</th>\n",
       "      <th>weight</th>\n",
       "      <th>promo</th>\n",
       "      <th>month</th>\n",
       "    </tr>\n",
       "  </thead>\n",
       "  <tbody>\n",
       "    <tr>\n",
       "      <th>0</th>\n",
       "      <td>1</td>\n",
       "      <td>2020-08-21 08:53:03</td>\n",
       "      <td>67</td>\n",
       "      <td>6325</td>\n",
       "      <td>0</td>\n",
       "      <td>0</td>\n",
       "      <td>2605.0</td>\n",
       "      <td>5481</td>\n",
       "      <td>0</td>\n",
       "      <td>2020-08</td>\n",
       "    </tr>\n",
       "    <tr>\n",
       "      <th>1</th>\n",
       "      <td>2</td>\n",
       "      <td>2019-09-03 11:53:03</td>\n",
       "      <td>90</td>\n",
       "      <td>8307</td>\n",
       "      <td>1</td>\n",
       "      <td>1</td>\n",
       "      <td>8553.0</td>\n",
       "      <td>5956</td>\n",
       "      <td>1</td>\n",
       "      <td>2019-09</td>\n",
       "    </tr>\n",
       "    <tr>\n",
       "      <th>2</th>\n",
       "      <td>3</td>\n",
       "      <td>2019-10-15 04:31:02</td>\n",
       "      <td>59</td>\n",
       "      <td>9819</td>\n",
       "      <td>0</td>\n",
       "      <td>1</td>\n",
       "      <td>9995.0</td>\n",
       "      <td>5170</td>\n",
       "      <td>1</td>\n",
       "      <td>2019-10</td>\n",
       "    </tr>\n",
       "  </tbody>\n",
       "</table>\n",
       "</div>"
      ],
      "text/plain": [
       "   id                date  count  cost  delivery  bad_review    paid  weight  \\\n",
       "0   1 2020-08-21 08:53:03     67  6325         0           0  2605.0    5481   \n",
       "1   2 2019-09-03 11:53:03     90  8307         1           1  8553.0    5956   \n",
       "2   3 2019-10-15 04:31:02     59  9819         0           1  9995.0    5170   \n",
       "\n",
       "   promo    month  \n",
       "0      0  2020-08  \n",
       "1      1  2019-09  \n",
       "2      1  2019-10  "
      ]
     },
     "execution_count": 10,
     "metadata": {},
     "output_type": "execute_result"
    }
   ],
   "source": [
    "df.head(3)"
   ]
  },
  {
   "cell_type": "code",
   "execution_count": 11,
   "id": "766ec0a7-8540-4c6a-ab65-b7b2ea0bcafa",
   "metadata": {},
   "outputs": [],
   "source": [
    "df['total_cost'] = df['count']  * df['cost']\n",
    "df['total_paid'] = df['count']  * df['paid']"
   ]
  },
  {
   "cell_type": "code",
   "execution_count": 12,
   "id": "1bc390ff-ad7c-4d39-aeb5-2e5ab4157753",
   "metadata": {},
   "outputs": [],
   "source": [
    "no_delivery_sales = df.query('delivery == 0') # df[df.delivery == 0]"
   ]
  },
  {
   "cell_type": "code",
   "execution_count": 13,
   "id": "e12ce5a7-ea51-482f-839b-1e9c50225839",
   "metadata": {},
   "outputs": [],
   "source": [
    "def t(x):\n",
    "    return (x > 0).mean() * 100\n",
    "\n",
    "\n",
    "result = no_delivery_sales.groupby(['month', 'promo']).agg(\n",
    "    total_count=('count', 'sum'),\n",
    "    bad_reviews_percentage=('bad_review', t),\n",
    "    total_cost=('total_cost', 'sum'),\n",
    "    total_paid=('total_paid', 'sum'),\n",
    ").reset_index()"
   ]
  },
  {
   "cell_type": "code",
   "execution_count": 14,
   "id": "1118fd68-a9e9-4543-aa74-0d9d6291a006",
   "metadata": {},
   "outputs": [
    {
     "data": {
      "text/html": [
       "<div>\n",
       "<style scoped>\n",
       "    .dataframe tbody tr th:only-of-type {\n",
       "        vertical-align: middle;\n",
       "    }\n",
       "\n",
       "    .dataframe tbody tr th {\n",
       "        vertical-align: top;\n",
       "    }\n",
       "\n",
       "    .dataframe thead th {\n",
       "        text-align: right;\n",
       "    }\n",
       "</style>\n",
       "<table border=\"1\" class=\"dataframe\">\n",
       "  <thead>\n",
       "    <tr style=\"text-align: right;\">\n",
       "      <th></th>\n",
       "      <th>month</th>\n",
       "      <th>promo</th>\n",
       "      <th>total_count</th>\n",
       "      <th>bad_reviews_percentage</th>\n",
       "      <th>total_cost</th>\n",
       "      <th>total_paid</th>\n",
       "    </tr>\n",
       "  </thead>\n",
       "  <tbody>\n",
       "    <tr>\n",
       "      <th>0</th>\n",
       "      <td>2019-03</td>\n",
       "      <td>0</td>\n",
       "      <td>56</td>\n",
       "      <td>100.000000</td>\n",
       "      <td>480592</td>\n",
       "      <td>215096.0</td>\n",
       "    </tr>\n",
       "    <tr>\n",
       "      <th>1</th>\n",
       "      <td>2019-04</td>\n",
       "      <td>0</td>\n",
       "      <td>8932</td>\n",
       "      <td>49.717514</td>\n",
       "      <td>60951285</td>\n",
       "      <td>65637650.0</td>\n",
       "    </tr>\n",
       "    <tr>\n",
       "      <th>2</th>\n",
       "      <td>2019-04</td>\n",
       "      <td>1</td>\n",
       "      <td>7115</td>\n",
       "      <td>46.043165</td>\n",
       "      <td>48569250</td>\n",
       "      <td>49360026.0</td>\n",
       "    </tr>\n",
       "  </tbody>\n",
       "</table>\n",
       "</div>"
      ],
      "text/plain": [
       "     month  promo  total_count  bad_reviews_percentage  total_cost  total_paid\n",
       "0  2019-03      0           56              100.000000      480592    215096.0\n",
       "1  2019-04      0         8932               49.717514    60951285  65637650.0\n",
       "2  2019-04      1         7115               46.043165    48569250  49360026.0"
      ]
     },
     "execution_count": 14,
     "metadata": {},
     "output_type": "execute_result"
    }
   ],
   "source": [
    "result.head(3)"
   ]
  },
  {
   "cell_type": "code",
   "execution_count": 15,
   "id": "acc3e51f-41d4-4941-a500-f50518378904",
   "metadata": {},
   "outputs": [],
   "source": [
    "result['profitability'] = (result['total_paid'] / result['total_cost']) * 100"
   ]
  },
  {
   "cell_type": "code",
   "execution_count": 16,
   "id": "2f93c64f-db6c-4741-96d3-1f729ba63b2c",
   "metadata": {},
   "outputs": [
    {
     "data": {
      "text/html": [
       "<div>\n",
       "<style scoped>\n",
       "    .dataframe tbody tr th:only-of-type {\n",
       "        vertical-align: middle;\n",
       "    }\n",
       "\n",
       "    .dataframe tbody tr th {\n",
       "        vertical-align: top;\n",
       "    }\n",
       "\n",
       "    .dataframe thead th {\n",
       "        text-align: right;\n",
       "    }\n",
       "</style>\n",
       "<table border=\"1\" class=\"dataframe\">\n",
       "  <thead>\n",
       "    <tr style=\"text-align: right;\">\n",
       "      <th></th>\n",
       "      <th>month</th>\n",
       "      <th>promo</th>\n",
       "      <th>total_count</th>\n",
       "      <th>bad_reviews_percentage</th>\n",
       "      <th>total_cost</th>\n",
       "      <th>total_paid</th>\n",
       "      <th>profitability</th>\n",
       "    </tr>\n",
       "  </thead>\n",
       "  <tbody>\n",
       "    <tr>\n",
       "      <th>0</th>\n",
       "      <td>2019-03</td>\n",
       "      <td>0</td>\n",
       "      <td>56</td>\n",
       "      <td>100.000000</td>\n",
       "      <td>480592</td>\n",
       "      <td>215096.0</td>\n",
       "      <td>44.756467</td>\n",
       "    </tr>\n",
       "    <tr>\n",
       "      <th>1</th>\n",
       "      <td>2019-04</td>\n",
       "      <td>0</td>\n",
       "      <td>8932</td>\n",
       "      <td>49.717514</td>\n",
       "      <td>60951285</td>\n",
       "      <td>65637650.0</td>\n",
       "      <td>107.688706</td>\n",
       "    </tr>\n",
       "    <tr>\n",
       "      <th>2</th>\n",
       "      <td>2019-04</td>\n",
       "      <td>1</td>\n",
       "      <td>7115</td>\n",
       "      <td>46.043165</td>\n",
       "      <td>48569250</td>\n",
       "      <td>49360026.0</td>\n",
       "      <td>101.628141</td>\n",
       "    </tr>\n",
       "  </tbody>\n",
       "</table>\n",
       "</div>"
      ],
      "text/plain": [
       "     month  promo  total_count  bad_reviews_percentage  total_cost  \\\n",
       "0  2019-03      0           56              100.000000      480592   \n",
       "1  2019-04      0         8932               49.717514    60951285   \n",
       "2  2019-04      1         7115               46.043165    48569250   \n",
       "\n",
       "   total_paid  profitability  \n",
       "0    215096.0      44.756467  \n",
       "1  65637650.0     107.688706  \n",
       "2  49360026.0     101.628141  "
      ]
     },
     "execution_count": 16,
     "metadata": {},
     "output_type": "execute_result"
    }
   ],
   "source": [
    "result.head(3)"
   ]
  },
  {
   "cell_type": "code",
   "execution_count": 17,
   "id": "fb67a6c4-4192-40f4-843c-e92247af899a",
   "metadata": {},
   "outputs": [],
   "source": [
    "result.drop(columns=['total_cost', 'total_paid'], inplace=True)"
   ]
  },
  {
   "cell_type": "code",
   "execution_count": 18,
   "id": "754d76a8-a9c5-409d-b002-9e4f9d06f9aa",
   "metadata": {},
   "outputs": [
    {
     "data": {
      "text/html": [
       "<div>\n",
       "<style scoped>\n",
       "    .dataframe tbody tr th:only-of-type {\n",
       "        vertical-align: middle;\n",
       "    }\n",
       "\n",
       "    .dataframe tbody tr th {\n",
       "        vertical-align: top;\n",
       "    }\n",
       "\n",
       "    .dataframe thead th {\n",
       "        text-align: right;\n",
       "    }\n",
       "</style>\n",
       "<table border=\"1\" class=\"dataframe\">\n",
       "  <thead>\n",
       "    <tr style=\"text-align: right;\">\n",
       "      <th></th>\n",
       "      <th>month</th>\n",
       "      <th>promo</th>\n",
       "      <th>total_count</th>\n",
       "      <th>bad_reviews_percentage</th>\n",
       "      <th>profitability</th>\n",
       "    </tr>\n",
       "  </thead>\n",
       "  <tbody>\n",
       "    <tr>\n",
       "      <th>0</th>\n",
       "      <td>2019-03</td>\n",
       "      <td>0</td>\n",
       "      <td>56</td>\n",
       "      <td>100.000000</td>\n",
       "      <td>44.756467</td>\n",
       "    </tr>\n",
       "    <tr>\n",
       "      <th>1</th>\n",
       "      <td>2019-04</td>\n",
       "      <td>0</td>\n",
       "      <td>8932</td>\n",
       "      <td>49.717514</td>\n",
       "      <td>107.688706</td>\n",
       "    </tr>\n",
       "    <tr>\n",
       "      <th>2</th>\n",
       "      <td>2019-04</td>\n",
       "      <td>1</td>\n",
       "      <td>7115</td>\n",
       "      <td>46.043165</td>\n",
       "      <td>101.628141</td>\n",
       "    </tr>\n",
       "  </tbody>\n",
       "</table>\n",
       "</div>"
      ],
      "text/plain": [
       "     month  promo  total_count  bad_reviews_percentage  profitability\n",
       "0  2019-03      0           56              100.000000      44.756467\n",
       "1  2019-04      0         8932               49.717514     107.688706\n",
       "2  2019-04      1         7115               46.043165     101.628141"
      ]
     },
     "execution_count": 18,
     "metadata": {},
     "output_type": "execute_result"
    }
   ],
   "source": [
    "result.head(3)"
   ]
  },
  {
   "cell_type": "code",
   "execution_count": 19,
   "id": "fc974807-f8f4-4729-a517-fbadce514d3c",
   "metadata": {},
   "outputs": [],
   "source": [
    "result.columns = ['Месяц', 'Промокод', 'Кол-во транзакций', 'Плохих отзывов, %', 'Доходность, %']"
   ]
  },
  {
   "cell_type": "code",
   "execution_count": 20,
   "id": "8f2aa399-9c16-4593-b559-fd624033711e",
   "metadata": {},
   "outputs": [
    {
     "data": {
      "text/html": [
       "<div>\n",
       "<style scoped>\n",
       "    .dataframe tbody tr th:only-of-type {\n",
       "        vertical-align: middle;\n",
       "    }\n",
       "\n",
       "    .dataframe tbody tr th {\n",
       "        vertical-align: top;\n",
       "    }\n",
       "\n",
       "    .dataframe thead th {\n",
       "        text-align: right;\n",
       "    }\n",
       "</style>\n",
       "<table border=\"1\" class=\"dataframe\">\n",
       "  <thead>\n",
       "    <tr style=\"text-align: right;\">\n",
       "      <th></th>\n",
       "      <th>Месяц</th>\n",
       "      <th>Промокод</th>\n",
       "      <th>Кол-во транзакций</th>\n",
       "      <th>Плохих отзывов, %</th>\n",
       "      <th>Доходность, %</th>\n",
       "    </tr>\n",
       "  </thead>\n",
       "  <tbody>\n",
       "    <tr>\n",
       "      <th>0</th>\n",
       "      <td>2019-03</td>\n",
       "      <td>0</td>\n",
       "      <td>56</td>\n",
       "      <td>100.000000</td>\n",
       "      <td>44.756467</td>\n",
       "    </tr>\n",
       "    <tr>\n",
       "      <th>1</th>\n",
       "      <td>2019-04</td>\n",
       "      <td>0</td>\n",
       "      <td>8932</td>\n",
       "      <td>49.717514</td>\n",
       "      <td>107.688706</td>\n",
       "    </tr>\n",
       "    <tr>\n",
       "      <th>2</th>\n",
       "      <td>2019-04</td>\n",
       "      <td>1</td>\n",
       "      <td>7115</td>\n",
       "      <td>46.043165</td>\n",
       "      <td>101.628141</td>\n",
       "    </tr>\n",
       "  </tbody>\n",
       "</table>\n",
       "</div>"
      ],
      "text/plain": [
       "     Месяц  Промокод  Кол-во транзакций  Плохих отзывов, %  Доходность, %\n",
       "0  2019-03         0                 56         100.000000      44.756467\n",
       "1  2019-04         0               8932          49.717514     107.688706\n",
       "2  2019-04         1               7115          46.043165     101.628141"
      ]
     },
     "execution_count": 20,
     "metadata": {},
     "output_type": "execute_result"
    }
   ],
   "source": [
    "result.head(3)"
   ]
  },
  {
   "cell_type": "code",
   "execution_count": 21,
   "id": "38b39bd8-0a54-4ab4-840d-3923c31bc5a6",
   "metadata": {
    "editable": true,
    "slideshow": {
     "slide_type": ""
    },
    "tags": []
   },
   "outputs": [],
   "source": [
    "result.to_excel('output/coffe_sales_report.xlsx', index=False)"
   ]
  }
 ],
 "metadata": {
  "kernelspec": {
   "display_name": "Python 3 (ipykernel)",
   "language": "python",
   "name": "python3"
  },
  "language_info": {
   "codemirror_mode": {
    "name": "ipython",
    "version": 3
   },
   "file_extension": ".py",
   "mimetype": "text/x-python",
   "name": "python",
   "nbconvert_exporter": "python",
   "pygments_lexer": "ipython3",
   "version": "3.11.4"
  }
 },
 "nbformat": 4,
 "nbformat_minor": 5
}
