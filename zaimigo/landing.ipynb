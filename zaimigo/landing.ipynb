{
 "cells": [
  {
   "cell_type": "markdown",
   "id": "80622710-16d8-453f-9e9d-4d10c2635894",
   "metadata": {},
   "source": [
    "# 3. Landing\n",
    "Отдел маркетинга разработал новый дизайн посадочной страницы клиента (landing). Пользователи сайта оценили новый дизайн. Результаты итоговой оценки зафиксированы в количественной переменной `Общая оценка`. Средняя оценка старого дизайна по результатам прошлого исследования составляет 30 баллов.\n",
    "Значимо ли улучшился дизайн посадочной страницы сайта, и есть ли влияние возраста на оценку нового дизайна?\n",
    "Необходимо ответить на вопрос, используя статистические методы, а также дать рекомендации отделу маркетинга по результатам проведенного анализа."
   ]
  },
  {
   "cell_type": "code",
   "execution_count": 1,
   "id": "095197c2-66b5-4ca0-8994-cb71eec05ecc",
   "metadata": {},
   "outputs": [],
   "source": [
    "import pandas as pd\n",
    "import matplotlib.pyplot as plt\n",
    "import seaborn as sns"
   ]
  },
  {
   "cell_type": "code",
   "execution_count": 2,
   "id": "dad4acec-d4b2-4bf6-a63b-d5c0782501e6",
   "metadata": {},
   "outputs": [],
   "source": [
    "df = pd.read_excel('data/landing_data.xlsx')"
   ]
  },
  {
   "cell_type": "code",
   "execution_count": 3,
   "id": "706c1b04-d044-4b1f-bb2b-960a4fd3760f",
   "metadata": {},
   "outputs": [
    {
     "data": {
      "text/html": [
       "<div>\n",
       "<style scoped>\n",
       "    .dataframe tbody tr th:only-of-type {\n",
       "        vertical-align: middle;\n",
       "    }\n",
       "\n",
       "    .dataframe tbody tr th {\n",
       "        vertical-align: top;\n",
       "    }\n",
       "\n",
       "    .dataframe thead th {\n",
       "        text-align: right;\n",
       "    }\n",
       "</style>\n",
       "<table border=\"1\" class=\"dataframe\">\n",
       "  <thead>\n",
       "    <tr style=\"text-align: right;\">\n",
       "      <th></th>\n",
       "      <th>Возрастная группа</th>\n",
       "      <th>Общая оценка</th>\n",
       "    </tr>\n",
       "  </thead>\n",
       "  <tbody>\n",
       "    <tr>\n",
       "      <th>0</th>\n",
       "      <td>65 и страше</td>\n",
       "      <td>38.454803</td>\n",
       "    </tr>\n",
       "    <tr>\n",
       "      <th>1</th>\n",
       "      <td>55-64</td>\n",
       "      <td>17.669677</td>\n",
       "    </tr>\n",
       "    <tr>\n",
       "      <th>2</th>\n",
       "      <td>65 и страше</td>\n",
       "      <td>31.704307</td>\n",
       "    </tr>\n",
       "  </tbody>\n",
       "</table>\n",
       "</div>"
      ],
      "text/plain": [
       "  Возрастная группа  Общая оценка\n",
       "0       65 и страше     38.454803\n",
       "1             55-64     17.669677\n",
       "2       65 и страше     31.704307"
      ]
     },
     "execution_count": 3,
     "metadata": {},
     "output_type": "execute_result"
    }
   ],
   "source": [
    "df.head(3)"
   ]
  },
  {
   "cell_type": "code",
   "execution_count": 4,
   "id": "b3713d38-cc31-4b8c-9727-b9a96b2d5cd5",
   "metadata": {},
   "outputs": [],
   "source": [
    "df.columns = ['age_group', 'mark']"
   ]
  },
  {
   "cell_type": "code",
   "execution_count": 5,
   "id": "74cb1e74-77f0-478d-bebd-9a422ce042be",
   "metadata": {},
   "outputs": [
    {
     "data": {
      "text/html": [
       "<div>\n",
       "<style scoped>\n",
       "    .dataframe tbody tr th:only-of-type {\n",
       "        vertical-align: middle;\n",
       "    }\n",
       "\n",
       "    .dataframe tbody tr th {\n",
       "        vertical-align: top;\n",
       "    }\n",
       "\n",
       "    .dataframe thead th {\n",
       "        text-align: right;\n",
       "    }\n",
       "</style>\n",
       "<table border=\"1\" class=\"dataframe\">\n",
       "  <thead>\n",
       "    <tr style=\"text-align: right;\">\n",
       "      <th></th>\n",
       "      <th>age_group</th>\n",
       "      <th>mark</th>\n",
       "    </tr>\n",
       "  </thead>\n",
       "  <tbody>\n",
       "    <tr>\n",
       "      <th>0</th>\n",
       "      <td>65 и страше</td>\n",
       "      <td>38.454803</td>\n",
       "    </tr>\n",
       "    <tr>\n",
       "      <th>1</th>\n",
       "      <td>55-64</td>\n",
       "      <td>17.669677</td>\n",
       "    </tr>\n",
       "    <tr>\n",
       "      <th>2</th>\n",
       "      <td>65 и страше</td>\n",
       "      <td>31.704307</td>\n",
       "    </tr>\n",
       "  </tbody>\n",
       "</table>\n",
       "</div>"
      ],
      "text/plain": [
       "     age_group       mark\n",
       "0  65 и страше  38.454803\n",
       "1        55-64  17.669677\n",
       "2  65 и страше  31.704307"
      ]
     },
     "execution_count": 5,
     "metadata": {},
     "output_type": "execute_result"
    }
   ],
   "source": [
    "df.head(3)"
   ]
  },
  {
   "cell_type": "code",
   "execution_count": 6,
   "id": "fca2d825-336e-4b77-8d83-07059f86aeac",
   "metadata": {},
   "outputs": [],
   "source": [
    "df.age_group = df.age_group.str.replace('65 и страше', '65+') "
   ]
  },
  {
   "cell_type": "code",
   "execution_count": 7,
   "id": "02451847-6788-4146-873a-55c23178be7d",
   "metadata": {},
   "outputs": [
    {
     "data": {
      "text/plain": [
       "age_group\n",
       "65+      17\n",
       "До 25    13\n",
       "35-44    12\n",
       "25-34    10\n",
       "45-54    10\n",
       "55-64     6\n",
       "Name: count, dtype: int64"
      ]
     },
     "execution_count": 7,
     "metadata": {},
     "output_type": "execute_result"
    }
   ],
   "source": [
    "df.age_group.value_counts()"
   ]
  },
  {
   "cell_type": "code",
   "execution_count": 8,
   "id": "5ee4a8ea-1f34-4a0f-86ce-ae8ef230bcbd",
   "metadata": {},
   "outputs": [
    {
     "data": {
      "text/plain": [
       "68"
      ]
     },
     "execution_count": 8,
     "metadata": {},
     "output_type": "execute_result"
    }
   ],
   "source": [
    "df.shape[0]"
   ]
  },
  {
   "cell_type": "code",
   "execution_count": 9,
   "id": "2306876e-729c-4af8-9d21-f9a7f9357681",
   "metadata": {},
   "outputs": [
    {
     "data": {
      "image/png": "[encoded data removed]",
      "text/plain": [
       "<Figure size 500x300 with 1 Axes>"
      ]
     },
     "metadata": {},
     "output_type": "display_data"
    }
   ],
   "source": [
    "plt.figure(figsize=(5, 3))\n",
    "sns.countplot(x='age_group', hue='age_group', data=df, palette='pastel')\n",
    "plt.show()"
   ]
  },
  {
   "cell_type": "code",
   "execution_count": 10,
   "id": "2d0fae44-6cdb-44fe-8885-34ee7890af46",
   "metadata": {},
   "outputs": [
    {
     "data": {
      "text/plain": [
       "count    68.000000\n",
       "mean     31.950764\n",
       "std       7.319992\n",
       "min      15.734473\n",
       "25%      26.391984\n",
       "50%      30.737297\n",
       "75%      37.493531\n",
       "max      47.501470\n",
       "Name: mark, dtype: float64"
      ]
     },
     "execution_count": 10,
     "metadata": {},
     "output_type": "execute_result"
    }
   ],
   "source": [
    "df.mark.describe()"
   ]
  },
  {
   "cell_type": "code",
   "execution_count": 11,
   "id": "05a7a5c2-7bb7-4753-908d-06ee6bdf85b1",
   "metadata": {},
   "outputs": [
    {
     "data": {
      "image/png": "[encoded data removed]",
      "text/plain": [
       "<Figure size 500x300 with 1 Axes>"
      ]
     },
     "metadata": {},
     "output_type": "display_data"
    }
   ],
   "source": [
    "plt.figure(figsize=(5, 3))\n",
    "sns.histplot(x='mark', data=df, bins=20)\n",
    "plt.show()"
   ]
  },
  {
   "cell_type": "markdown",
   "id": "a2b88b79-524c-438b-9f92-d0d2cc7feaa8",
   "metadata": {},
   "source": [
    "## 1. Оценка значимости изменения"
   ]
  },
  {
   "cell_type": "code",
   "execution_count": 12,
   "id": "07de28a6-fed9-4c25-97c4-c87a0603e6c7",
   "metadata": {},
   "outputs": [],
   "source": [
    "from scipy import stats"
   ]
  },
  {
   "cell_type": "markdown",
   "id": "193aa51b-122a-4345-a4e3-ec7e938fe86a",
   "metadata": {},
   "source": [
    "Будем использовать по умолчанию уровень значимости $\\alpha = 0.05$."
   ]
  },
  {
   "cell_type": "code",
   "execution_count": 13,
   "id": "42486f23-bbc2-4587-9dc7-11a2a014be8c",
   "metadata": {},
   "outputs": [
    {
     "data": {
      "text/html": [
       "<div>\n",
       "<style scoped>\n",
       "    .dataframe tbody tr th:only-of-type {\n",
       "        vertical-align: middle;\n",
       "    }\n",
       "\n",
       "    .dataframe tbody tr th {\n",
       "        vertical-align: top;\n",
       "    }\n",
       "\n",
       "    .dataframe thead th {\n",
       "        text-align: right;\n",
       "    }\n",
       "</style>\n",
       "<table border=\"1\" class=\"dataframe\">\n",
       "  <thead>\n",
       "    <tr style=\"text-align: right;\">\n",
       "      <th></th>\n",
       "      <th>age_group</th>\n",
       "      <th>mark</th>\n",
       "    </tr>\n",
       "  </thead>\n",
       "  <tbody>\n",
       "    <tr>\n",
       "      <th>0</th>\n",
       "      <td>65+</td>\n",
       "      <td>38.454803</td>\n",
       "    </tr>\n",
       "    <tr>\n",
       "      <th>1</th>\n",
       "      <td>55-64</td>\n",
       "      <td>17.669677</td>\n",
       "    </tr>\n",
       "    <tr>\n",
       "      <th>2</th>\n",
       "      <td>65+</td>\n",
       "      <td>31.704307</td>\n",
       "    </tr>\n",
       "    <tr>\n",
       "      <th>3</th>\n",
       "      <td>65+</td>\n",
       "      <td>25.924460</td>\n",
       "    </tr>\n",
       "    <tr>\n",
       "      <th>4</th>\n",
       "      <td>До 25</td>\n",
       "      <td>30.450007</td>\n",
       "    </tr>\n",
       "  </tbody>\n",
       "</table>\n",
       "</div>"
      ],
      "text/plain": [
       "  age_group       mark\n",
       "0       65+  38.454803\n",
       "1     55-64  17.669677\n",
       "2       65+  31.704307\n",
       "3       65+  25.924460\n",
       "4     До 25  30.450007"
      ]
     },
     "execution_count": 13,
     "metadata": {},
     "output_type": "execute_result"
    }
   ],
   "source": [
    "df.head()"
   ]
  },
  {
   "cell_type": "code",
   "execution_count": 14,
   "id": "0aff6b8d-21ef-44c8-8784-4d1a5efdfbd0",
   "metadata": {},
   "outputs": [],
   "source": [
    "# 1. Проверка нормальности распределения оценок\n",
    "# Тест Шапиро-Уилка\n",
    "shapiro_stat, shapiro_p_value = stats.shapiro(df['mark'])"
   ]
  },
  {
   "cell_type": "code",
   "execution_count": 15,
   "id": "1b66b28f-fec7-42c4-b752-fb4e8dce14bf",
   "metadata": {},
   "outputs": [
    {
     "data": {
      "text/plain": [
       "0.16662650286371805"
      ]
     },
     "execution_count": 15,
     "metadata": {},
     "output_type": "execute_result"
    }
   ],
   "source": [
    "shapiro_p_value"
   ]
  },
  {
   "cell_type": "markdown",
   "id": "1f4d9fd7-1184-4b5d-b991-6197eaeb5488",
   "metadata": {},
   "source": [
    "P-value больше 0.05 - значит нельзя отвергать нулевую гипотезу о нормальном распределении оценок. Следовательно, будем считать, что распределение нормальное и применять соответсвующую тесты."
   ]
  },
  {
   "cell_type": "markdown",
   "id": "2d3189cf-d137-48c0-8145-efe77cd5f0e6",
   "metadata": {},
   "source": [
    "Визуально оценим нормальность:"
   ]
  },
  {
   "cell_type": "code",
   "execution_count": 16,
   "id": "edea617f-04a7-4986-944a-e6f639f843a8",
   "metadata": {},
   "outputs": [
    {
     "data": {
      "image/png": "[encoded data removed]",
      "text/plain": [
       "<Figure size 800x300 with 2 Axes>"
      ]
     },
     "metadata": {},
     "output_type": "display_data"
    }
   ],
   "source": [
    "plt.figure(figsize=(8, 3))\n",
    "plt.subplot(1, 2, 1)\n",
    "sns.histplot(df['mark'], kde=True)\n",
    "plt.title(\"Гистограмма оценок\")\n",
    "\n",
    "plt.subplot(1, 2, 2)\n",
    "stats.probplot(df['mark'], dist=\"norm\", plot=plt)\n",
    "plt.title(\"Q-Q график\")\n",
    "\n",
    "plt.tight_layout()\n",
    "plt.show()"
   ]
  },
  {
   "cell_type": "code",
   "execution_count": 17,
   "id": "d4633ff8-23c7-4441-9608-55f2a9c8828b",
   "metadata": {},
   "outputs": [],
   "source": [
    "old_design_mean = 30 # средняя оценка прошлого дизайна"
   ]
  },
  {
   "cell_type": "markdown",
   "id": "a76461ab-a31a-401a-85c4-7b804770417c",
   "metadata": {},
   "source": [
    "Так как считаем, что распределение нормальное, то можем воспользоваться t-тестом для одной выборки:"
   ]
  },
  {
   "cell_type": "code",
   "execution_count": 18,
   "id": "ed20dd34-8b8b-4707-ba47-294fe3a49b4e",
   "metadata": {},
   "outputs": [
    {
     "name": "stdout",
     "output_type": "stream",
     "text": [
      "t-тест: t = 2.198, p-value = 0.016\n"
     ]
    }
   ],
   "source": [
    "t_stat, p_value = stats.ttest_1samp(df['mark'], popmean=old_design_mean)\n",
    "p_value_one_sided = p_value / 2 if t_stat > 0 else 1\n",
    "print(f\"t-тест: t = {t_stat:.3f}, p-value = {p_value_one_sided:.3f}\")"
   ]
  },
  {
   "cell_type": "markdown",
   "id": "dacd3775-a849-49ca-87da-c710d74a6ca2",
   "metadata": {},
   "source": [
    "Так как p-value меньше, чем 0.05, то считаем, что улучшение нового дизайна статистически значимо."
   ]
  },
  {
   "cell_type": "markdown",
   "id": "6a0240e9-239e-459f-8b19-90055f19fb18",
   "metadata": {},
   "source": [
    "## 2. Анализ влияния возраста на оценку"
   ]
  },
  {
   "cell_type": "markdown",
   "id": "9996d833-0693-45a4-88fc-321c2393b7bc",
   "metadata": {},
   "source": [
    "Для того, чтобы выяснить, влияет ли возраст на новую оценку, можно провести ANOVA (дисперсионный анализ), чтобы выяснить, различаются ли оценки между разными возрастными группами:"
   ]
  },
  {
   "cell_type": "code",
   "execution_count": 19,
   "id": "e00e3afe-5ace-4738-ad9f-85fbb56376ad",
   "metadata": {},
   "outputs": [
    {
     "name": "stdout",
     "output_type": "stream",
     "text": [
      "ANOVA: F-статистика = 6.993, p-value = 0.000031\n"
     ]
    }
   ],
   "source": [
    "df['age_group'] = df['age_group'].astype('category')\n",
    "anova_results = stats.f_oneway(*[df['mark'][df['age_group'] == group] for group in df['age_group'].unique()])\n",
    "print(f\"ANOVA: F-статистика = {anova_results.statistic:.3f}, p-value = {anova_results.pvalue:.6f}\")"
   ]
  },
  {
   "cell_type": "markdown",
   "id": "cd595824-23b8-4ae7-a133-cdc39a17dd84",
   "metadata": {},
   "source": [
    "Получили p-value меньше 0.05, следовательно, возраст оказывает значительное влияние на оценку дизайна."
   ]
  },
  {
   "cell_type": "markdown",
   "id": "e0eb1d7a-3c9a-4948-9bee-5fd1cf08dbf8",
   "metadata": {},
   "source": [
    "## 3. Рекомендации для отдела маркетинга\n",
    "1. Новый дизайн посадочной страницы значительно улучшен по сравнению со старым, поэтому его стоит использовать.\n",
    "2. Однако, существует существенная разница в восприятии дизайна среди разных возрастных групп. Рекомендуется провести дополнительное исследование, чтобы понять, каким образом можно улучшить дизайн для возрастных групп с более низкими оценками. ​"
   ]
  }
 ],
 "metadata": {
  "kernelspec": {
   "display_name": "Python 3 (ipykernel)",
   "language": "python",
   "name": "python3"
  },
  "language_info": {
   "codemirror_mode": {
    "name": "ipython",
    "version": 3
   },
   "file_extension": ".py",
   "mimetype": "text/x-python",
   "name": "python",
   "nbconvert_exporter": "python",
   "pygments_lexer": "ipython3",
   "version": "3.11.4"
  }
 },
 "nbformat": 4,
 "nbformat_minor": 5
}
