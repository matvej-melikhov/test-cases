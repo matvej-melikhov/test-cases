{
 "cells": [
  {
   "cell_type": "markdown",
   "id": "aa83f98f-f231-4795-855d-3e456188717f",
   "metadata": {},
   "source": [
    "# Задачи по SQL"
   ]
  },
  {
   "cell_type": "markdown",
   "id": "827714a8-bf31-4670-8a24-3bbd73b26ae5",
   "metadata": {},
   "source": [
    "## Задача 1"
   ]
  },
  {
   "cell_type": "markdown",
   "id": "8da4c5b5-2593-4cb7-9b04-cd092b9f5975",
   "metadata": {},
   "source": [
    "Формулировка: вывести название и цену для всех анализов, которые продавались 5 февраля 2020 и всю следующую неделю."
   ]
  },
  {
   "cell_type": "markdown",
   "id": "2ab54f51-809a-433a-bb2e-c6745149a819",
   "metadata": {},
   "source": [
    "```sql\n",
    "SELECT a.an_name, a.an_price\n",
    "FROM Analysis a\n",
    "JOIN Orders o ON a.an_id = o.ord_an\n",
    "WHERE o.ord_datetime >= '2020-02-05 00:00:00'\n",
    "  AND o.ord_datetime < '2020-02-12 00:00:00';\n",
    "```"
   ]
  },
  {
   "cell_type": "markdown",
   "id": "6a41bd32-724e-4e5f-b168-ec53f6f6ceeb",
   "metadata": {},
   "source": [
    "## Задача 2\n",
    "Формулировка: нарастающим итогом рассчитать, как увеличивалось количество проданных тестов каждый месяц каждого года с разбивкой по группе."
   ]
  },
  {
   "cell_type": "markdown",
   "id": "d564b34a-2b2b-470a-b238-791f240b681c",
   "metadata": {},
   "source": [
    "```sql\n",
    "WITH MonthlySales AS (\n",
    "    SELECT \n",
    "        EXTRACT(YEAR FROM o.ord_datetime) AS year,\n",
    "        EXTRACT(MONTH FROM o.ord_datetime) AS month,\n",
    "        a.an_group AS group_name,\n",
    "        COUNT(o.ord_id) AS total_sold\n",
    "    FROM \n",
    "        Orders o\n",
    "    JOIN \n",
    "        Analysis a ON o.ord_an = a.an_id\n",
    "    GROUP BY \n",
    "        year, month, group_name\n",
    "),\n",
    "CumulativeSales AS (\n",
    "    SELECT \n",
    "        year,\n",
    "        month,\n",
    "        group_name,\n",
    "        total_sold,\n",
    "        SUM(total_sold) OVER (PARTITION BY group_name ORDER BY year, month) AS cumulative_total\n",
    "    FROM \n",
    "        MonthlySales\n",
    ")\n",
    "SELECT \n",
    "    year,\n",
    "    month,\n",
    "    group_name,\n",
    "    total_sold,\n",
    "    cumulative_total\n",
    "FROM \n",
    "    CumulativeSales\n",
    "ORDER BY \n",
    "    group_name, year, month;\n",
    "```"
   ]
  },
  {
   "cell_type": "markdown",
   "id": "57edcb4d-cd54-4bc2-b443-e1016faedbcd",
   "metadata": {},
   "source": [
    "## Задача 3\n",
    "Формулировка: в данной таблице в какой-то момент времени появились полные дубли. Предложите способ для избавления от них без создания новой таблицы.\n",
    "```sql\n",
    "WITH Duplicates AS (\n",
    "    SELECT \n",
    "        client_id,\n",
    "        client_name,\n",
    "        client_balance_date,\n",
    "        client_balance_value,\n",
    "        ROW_NUMBER() OVER (PARTITION BY client_id, client_balance_date ORDER BY client_balance_date) AS row_num\n",
    "    FROM \n",
    "        ClientBalance\n",
    ")\n",
    "DELETE FROM ClientBalance\n",
    "WHERE (client_id, client_balance_date) IN (\n",
    "    SELECT client_id, client_balance_date\n",
    "    FROM Duplicates\n",
    "    WHERE row_num > 1\n",
    ");\n",
    "```"
   ]
  }
 ],
 "metadata": {
  "kernelspec": {
   "display_name": "Python 3 (ipykernel)",
   "language": "python",
   "name": "python3"
  },
  "language_info": {
   "codemirror_mode": {
    "name": "ipython",
    "version": 3
   },
   "file_extension": ".py",
   "mimetype": "text/x-python",
   "name": "python",
   "nbconvert_exporter": "python",
   "pygments_lexer": "ipython3",
   "version": "3.11.4"
  }
 },
 "nbformat": 4,
 "nbformat_minor": 5
}
