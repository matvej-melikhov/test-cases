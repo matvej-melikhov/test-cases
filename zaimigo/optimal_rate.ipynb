{
 "cells": [
  {
   "cell_type": "markdown",
   "id": "551660c7-bbbe-4e45-bf6c-d76a59bab71f",
   "metadata": {
    "editable": true,
    "slideshow": {
     "slide_type": ""
    },
    "tags": []
   },
   "source": [
    "# 2. Оптимальный тариф\n",
    "Абонент хочет оптимизировать свои затраты на связь, сменив текущий тарифный план. Три оператора сотовой связи прислали свои предложения: описание всех тарифных планов агрегированы в единый документ. Имеется также выгрузка исходящих вызовов абонента за последние 6 месяцев.\n",
    "Необходимо исследовать характер исходящих звонков абонента и предложить оптимальный тариф, обосновав свои рекомендации аналитическими расчетами. \n",
    "\n",
    "**Примечание:** начать исследование рекомендуется с описания начального набора данных."
   ]
  },
  {
   "cell_type": "markdown",
   "id": "e06a648e-14a6-4a04-9d0e-e981f81b3f8f",
   "metadata": {},
   "source": [
    "## Начальное описание данных"
   ]
  },
  {
   "cell_type": "code",
   "execution_count": 1,
   "id": "29ad5efc-ca14-4688-8c7f-3f3455342957",
   "metadata": {},
   "outputs": [],
   "source": [
    "import pandas as pd\n",
    "import matplotlib.pyplot as plt\n",
    "import seaborn as sns\n",
    "from scipy import stats"
   ]
  },
  {
   "cell_type": "code",
   "execution_count": 2,
   "id": "42bd57fe-4114-4c88-8352-feb41ffeef82",
   "metadata": {},
   "outputs": [],
   "source": [
    "df = pd.read_excel('data/calls.xlsx')"
   ]
  },
  {
   "cell_type": "code",
   "execution_count": 3,
   "id": "c915b43e-05b0-413e-b849-4b8afe57520e",
   "metadata": {},
   "outputs": [
    {
     "data": {
      "text/html": [
       "<div>\n",
       "<style scoped>\n",
       "    .dataframe tbody tr th:only-of-type {\n",
       "        vertical-align: middle;\n",
       "    }\n",
       "\n",
       "    .dataframe tbody tr th {\n",
       "        vertical-align: top;\n",
       "    }\n",
       "\n",
       "    .dataframe thead th {\n",
       "        text-align: right;\n",
       "    }\n",
       "</style>\n",
       "<table border=\"1\" class=\"dataframe\">\n",
       "  <thead>\n",
       "    <tr style=\"text-align: right;\">\n",
       "      <th></th>\n",
       "      <th>Дата звонка</th>\n",
       "      <th>Длительность разговора</th>\n",
       "      <th>Оператор связи вызываемого абонента</th>\n",
       "    </tr>\n",
       "  </thead>\n",
       "  <tbody>\n",
       "    <tr>\n",
       "      <th>0</th>\n",
       "      <td>15.12.2010 10:50:54</td>\n",
       "      <td>00:01:49</td>\n",
       "      <td>билайн</td>\n",
       "    </tr>\n",
       "    <tr>\n",
       "      <th>1</th>\n",
       "      <td>15.12.2010 11:50:42</td>\n",
       "      <td>00:00:57</td>\n",
       "      <td>билайн</td>\n",
       "    </tr>\n",
       "    <tr>\n",
       "      <th>2</th>\n",
       "      <td>30.11.2010 16:39:34</td>\n",
       "      <td>00:00:55</td>\n",
       "      <td>билайн</td>\n",
       "    </tr>\n",
       "  </tbody>\n",
       "</table>\n",
       "</div>"
      ],
      "text/plain": [
       "           Дата звонка Длительность разговора  \\\n",
       "0  15.12.2010 10:50:54               00:01:49   \n",
       "1  15.12.2010 11:50:42               00:00:57   \n",
       "2  30.11.2010 16:39:34               00:00:55   \n",
       "\n",
       "  Оператор связи вызываемого абонента  \n",
       "0                              билайн  \n",
       "1                              билайн  \n",
       "2                              билайн  "
      ]
     },
     "execution_count": 3,
     "metadata": {},
     "output_type": "execute_result"
    }
   ],
   "source": [
    "df.head(3)"
   ]
  },
  {
   "cell_type": "code",
   "execution_count": 4,
   "id": "3c8885f7-4e3f-42d5-a7e9-6b6e0c13758c",
   "metadata": {},
   "outputs": [],
   "source": [
    "df.columns = ['date', 'duration', 'target_operator']"
   ]
  },
  {
   "cell_type": "code",
   "execution_count": 5,
   "id": "012d3b16-9444-4985-973a-4c30bdb7f9da",
   "metadata": {},
   "outputs": [
    {
     "data": {
      "text/plain": [
       "date               object\n",
       "duration           object\n",
       "target_operator    object\n",
       "dtype: object"
      ]
     },
     "execution_count": 5,
     "metadata": {},
     "output_type": "execute_result"
    }
   ],
   "source": [
    "df.dtypes"
   ]
  },
  {
   "cell_type": "code",
   "execution_count": 6,
   "id": "214332fc-6386-4ed0-a004-942f8ef399ed",
   "metadata": {},
   "outputs": [],
   "source": [
    "df.date = pd.to_datetime(df.date, dayfirst=True)\n",
    "df.duration = pd.to_timedelta(df.duration)"
   ]
  },
  {
   "cell_type": "code",
   "execution_count": 7,
   "id": "7645978e-5230-44b5-a4c0-ad022a6a90da",
   "metadata": {},
   "outputs": [
    {
     "data": {
      "text/html": [
       "<div>\n",
       "<style scoped>\n",
       "    .dataframe tbody tr th:only-of-type {\n",
       "        vertical-align: middle;\n",
       "    }\n",
       "\n",
       "    .dataframe tbody tr th {\n",
       "        vertical-align: top;\n",
       "    }\n",
       "\n",
       "    .dataframe thead th {\n",
       "        text-align: right;\n",
       "    }\n",
       "</style>\n",
       "<table border=\"1\" class=\"dataframe\">\n",
       "  <thead>\n",
       "    <tr style=\"text-align: right;\">\n",
       "      <th></th>\n",
       "      <th>date</th>\n",
       "      <th>duration</th>\n",
       "      <th>target_operator</th>\n",
       "    </tr>\n",
       "  </thead>\n",
       "  <tbody>\n",
       "    <tr>\n",
       "      <th>0</th>\n",
       "      <td>2010-12-15 10:50:54</td>\n",
       "      <td>0 days 00:01:49</td>\n",
       "      <td>билайн</td>\n",
       "    </tr>\n",
       "    <tr>\n",
       "      <th>1</th>\n",
       "      <td>2010-12-15 11:50:42</td>\n",
       "      <td>0 days 00:00:57</td>\n",
       "      <td>билайн</td>\n",
       "    </tr>\n",
       "    <tr>\n",
       "      <th>2</th>\n",
       "      <td>2010-11-30 16:39:34</td>\n",
       "      <td>0 days 00:00:55</td>\n",
       "      <td>билайн</td>\n",
       "    </tr>\n",
       "  </tbody>\n",
       "</table>\n",
       "</div>"
      ],
      "text/plain": [
       "                 date        duration target_operator\n",
       "0 2010-12-15 10:50:54 0 days 00:01:49          билайн\n",
       "1 2010-12-15 11:50:42 0 days 00:00:57          билайн\n",
       "2 2010-11-30 16:39:34 0 days 00:00:55          билайн"
      ]
     },
     "execution_count": 7,
     "metadata": {},
     "output_type": "execute_result"
    }
   ],
   "source": [
    "df.head(3)"
   ]
  },
  {
   "cell_type": "code",
   "execution_count": 8,
   "id": "eac7e22d-db98-40b1-afc5-0e00d879df64",
   "metadata": {},
   "outputs": [],
   "source": [
    "df['day_of_week'] = df.date.dt.day_name()\n",
    "df['month'] = df.date.dt.month_name()\n",
    "df['date'] = df.date.dt.date"
   ]
  },
  {
   "cell_type": "code",
   "execution_count": 9,
   "id": "ea766b34-9449-4a59-8f13-4535abc3ad54",
   "metadata": {},
   "outputs": [
    {
     "data": {
      "text/html": [
       "<div>\n",
       "<style scoped>\n",
       "    .dataframe tbody tr th:only-of-type {\n",
       "        vertical-align: middle;\n",
       "    }\n",
       "\n",
       "    .dataframe tbody tr th {\n",
       "        vertical-align: top;\n",
       "    }\n",
       "\n",
       "    .dataframe thead th {\n",
       "        text-align: right;\n",
       "    }\n",
       "</style>\n",
       "<table border=\"1\" class=\"dataframe\">\n",
       "  <thead>\n",
       "    <tr style=\"text-align: right;\">\n",
       "      <th></th>\n",
       "      <th>date</th>\n",
       "      <th>duration</th>\n",
       "      <th>target_operator</th>\n",
       "      <th>day_of_week</th>\n",
       "      <th>month</th>\n",
       "    </tr>\n",
       "  </thead>\n",
       "  <tbody>\n",
       "    <tr>\n",
       "      <th>0</th>\n",
       "      <td>2010-12-15</td>\n",
       "      <td>0 days 00:01:49</td>\n",
       "      <td>билайн</td>\n",
       "      <td>Wednesday</td>\n",
       "      <td>December</td>\n",
       "    </tr>\n",
       "    <tr>\n",
       "      <th>1</th>\n",
       "      <td>2010-12-15</td>\n",
       "      <td>0 days 00:00:57</td>\n",
       "      <td>билайн</td>\n",
       "      <td>Wednesday</td>\n",
       "      <td>December</td>\n",
       "    </tr>\n",
       "    <tr>\n",
       "      <th>2</th>\n",
       "      <td>2010-11-30</td>\n",
       "      <td>0 days 00:00:55</td>\n",
       "      <td>билайн</td>\n",
       "      <td>Tuesday</td>\n",
       "      <td>November</td>\n",
       "    </tr>\n",
       "  </tbody>\n",
       "</table>\n",
       "</div>"
      ],
      "text/plain": [
       "         date        duration target_operator day_of_week     month\n",
       "0  2010-12-15 0 days 00:01:49          билайн   Wednesday  December\n",
       "1  2010-12-15 0 days 00:00:57          билайн   Wednesday  December\n",
       "2  2010-11-30 0 days 00:00:55          билайн     Tuesday  November"
      ]
     },
     "execution_count": 9,
     "metadata": {},
     "output_type": "execute_result"
    }
   ],
   "source": [
    "df.head(3)"
   ]
  },
  {
   "cell_type": "code",
   "execution_count": 10,
   "id": "ed8f329f-5012-4c28-83b7-6fe7f68ab280",
   "metadata": {},
   "outputs": [
    {
     "data": {
      "text/plain": [
       "(1230, 5)"
      ]
     },
     "execution_count": 10,
     "metadata": {},
     "output_type": "execute_result"
    }
   ],
   "source": [
    "df.shape"
   ]
  },
  {
   "cell_type": "markdown",
   "id": "b35d84fc-f188-4fe9-ae20-ee1ee34e5606",
   "metadata": {},
   "source": [
    "Можно посмотреть на доли по операторам вызываемого абонента:"
   ]
  },
  {
   "cell_type": "code",
   "execution_count": 11,
   "id": "da7b873b-79f5-4996-a1fc-4e80097eaef7",
   "metadata": {},
   "outputs": [
    {
     "data": {
      "text/plain": [
       "Index(['городской', 'билайн', 'мтс', 'смартс', 'мегафон', 'яртелеком',\n",
       "       'теле 2', 'уралсвязьинфом'],\n",
       "      dtype='object', name='target_operator')"
      ]
     },
     "execution_count": 11,
     "metadata": {},
     "output_type": "execute_result"
    }
   ],
   "source": [
    "df.target_operator.value_counts(normalize=True).index"
   ]
  },
  {
   "cell_type": "code",
   "execution_count": 12,
   "id": "1e4967ad-b2fc-45cb-b576-2e27f01397e0",
   "metadata": {},
   "outputs": [
    {
     "data": {
      "image/png": "[encoded data removed]",
      "text/plain": [
       "<Figure size 800x400 with 1 Axes>"
      ]
     },
     "metadata": {},
     "output_type": "display_data"
    }
   ],
   "source": [
    "plt.figure(figsize=(8, 4))\n",
    "\n",
    "plt.pie(df.target_operator.value_counts(), startangle=90)\n",
    "plt.legend(df.target_operator.value_counts().index, title='Оператор вызываемого абонента', bbox_to_anchor=(1, 1))\n",
    "plt.show()"
   ]
  },
  {
   "cell_type": "markdown",
   "id": "6ab8cabf-a443-459e-89f0-d0fe137d3d88",
   "metadata": {},
   "source": [
    "На распределение по длительности звонка в секундах:"
   ]
  },
  {
   "cell_type": "code",
   "execution_count": 13,
   "id": "54911d97-1e31-4766-9da3-43f13b04839b",
   "metadata": {},
   "outputs": [],
   "source": [
    "df['duration_seconds'] = df.duration.apply(lambda x: x.seconds)"
   ]
  },
  {
   "cell_type": "code",
   "execution_count": 14,
   "id": "e3b990ba-70c1-42f9-a8e5-4625cef79bc8",
   "metadata": {},
   "outputs": [
    {
     "data": {
      "text/html": [
       "<div>\n",
       "<style scoped>\n",
       "    .dataframe tbody tr th:only-of-type {\n",
       "        vertical-align: middle;\n",
       "    }\n",
       "\n",
       "    .dataframe tbody tr th {\n",
       "        vertical-align: top;\n",
       "    }\n",
       "\n",
       "    .dataframe thead th {\n",
       "        text-align: right;\n",
       "    }\n",
       "</style>\n",
       "<table border=\"1\" class=\"dataframe\">\n",
       "  <thead>\n",
       "    <tr style=\"text-align: right;\">\n",
       "      <th></th>\n",
       "      <th>date</th>\n",
       "      <th>duration</th>\n",
       "      <th>target_operator</th>\n",
       "      <th>day_of_week</th>\n",
       "      <th>month</th>\n",
       "      <th>duration_seconds</th>\n",
       "    </tr>\n",
       "  </thead>\n",
       "  <tbody>\n",
       "    <tr>\n",
       "      <th>0</th>\n",
       "      <td>2010-12-15</td>\n",
       "      <td>0 days 00:01:49</td>\n",
       "      <td>билайн</td>\n",
       "      <td>Wednesday</td>\n",
       "      <td>December</td>\n",
       "      <td>109</td>\n",
       "    </tr>\n",
       "    <tr>\n",
       "      <th>1</th>\n",
       "      <td>2010-12-15</td>\n",
       "      <td>0 days 00:00:57</td>\n",
       "      <td>билайн</td>\n",
       "      <td>Wednesday</td>\n",
       "      <td>December</td>\n",
       "      <td>57</td>\n",
       "    </tr>\n",
       "    <tr>\n",
       "      <th>2</th>\n",
       "      <td>2010-11-30</td>\n",
       "      <td>0 days 00:00:55</td>\n",
       "      <td>билайн</td>\n",
       "      <td>Tuesday</td>\n",
       "      <td>November</td>\n",
       "      <td>55</td>\n",
       "    </tr>\n",
       "    <tr>\n",
       "      <th>3</th>\n",
       "      <td>2010-11-30</td>\n",
       "      <td>0 days 00:00:55</td>\n",
       "      <td>билайн</td>\n",
       "      <td>Tuesday</td>\n",
       "      <td>November</td>\n",
       "      <td>55</td>\n",
       "    </tr>\n",
       "    <tr>\n",
       "      <th>4</th>\n",
       "      <td>2010-12-01</td>\n",
       "      <td>0 days 00:06:47</td>\n",
       "      <td>билайн</td>\n",
       "      <td>Wednesday</td>\n",
       "      <td>December</td>\n",
       "      <td>407</td>\n",
       "    </tr>\n",
       "  </tbody>\n",
       "</table>\n",
       "</div>"
      ],
      "text/plain": [
       "         date        duration target_operator day_of_week     month  \\\n",
       "0  2010-12-15 0 days 00:01:49          билайн   Wednesday  December   \n",
       "1  2010-12-15 0 days 00:00:57          билайн   Wednesday  December   \n",
       "2  2010-11-30 0 days 00:00:55          билайн     Tuesday  November   \n",
       "3  2010-11-30 0 days 00:00:55          билайн     Tuesday  November   \n",
       "4  2010-12-01 0 days 00:06:47          билайн   Wednesday  December   \n",
       "\n",
       "   duration_seconds  \n",
       "0               109  \n",
       "1                57  \n",
       "2                55  \n",
       "3                55  \n",
       "4               407  "
      ]
     },
     "execution_count": 14,
     "metadata": {},
     "output_type": "execute_result"
    }
   ],
   "source": [
    "df.head()"
   ]
  },
  {
   "cell_type": "code",
   "execution_count": 15,
   "id": "b428cb6e-ceb3-48e0-99df-3c285db278ce",
   "metadata": {},
   "outputs": [
    {
     "data": {
      "text/plain": [
       "count    1230.000000\n",
       "mean       97.062602\n",
       "std       147.503809\n",
       "min         1.000000\n",
       "25%        22.000000\n",
       "50%        48.000000\n",
       "75%       105.000000\n",
       "max      2188.000000\n",
       "Name: duration_seconds, dtype: float64"
      ]
     },
     "execution_count": 15,
     "metadata": {},
     "output_type": "execute_result"
    }
   ],
   "source": [
    "df.duration_seconds.describe()"
   ]
  },
  {
   "cell_type": "code",
   "execution_count": 16,
   "id": "6f18f624-b693-4c78-8b87-8f9b52d56471",
   "metadata": {},
   "outputs": [
    {
     "data": {
      "image/png": "[encoded data removed]",
      "text/plain": [
       "<Figure size 600x300 with 1 Axes>"
      ]
     },
     "metadata": {},
     "output_type": "display_data"
    }
   ],
   "source": [
    "plt.figure(figsize=(6, 3))\n",
    "sns.histplot(x='duration_seconds', data=df, bins=30)\n",
    "plt.show()"
   ]
  },
  {
   "cell_type": "code",
   "execution_count": 17,
   "id": "355a4607-ab85-4f5e-ad7b-e3b0f52ffa0b",
   "metadata": {},
   "outputs": [
    {
     "data": {
      "text/plain": [
       "352.54999999999995"
      ]
     },
     "execution_count": 17,
     "metadata": {},
     "output_type": "execute_result"
    }
   ],
   "source": [
    "df.duration_seconds.quantile(0.95)"
   ]
  },
  {
   "cell_type": "code",
   "execution_count": 18,
   "id": "0d409ff9-bdd4-4e6e-98ee-9cd7f63e13b5",
   "metadata": {},
   "outputs": [
    {
     "data": {
      "text/plain": [
       "0.9813"
      ]
     },
     "execution_count": 18,
     "metadata": {},
     "output_type": "execute_result"
    }
   ],
   "source": [
    "round(stats.percentileofscore(df.duration_seconds, 600) / 100, 4)"
   ]
  },
  {
   "cell_type": "markdown",
   "id": "755be34f-d806-4a0a-8f6b-46fa46e26e42",
   "metadata": {},
   "source": [
    "Видно, что подавляющее большинство звонков — $98,1\\%$, по длительности не выходят из 10 минут, но пристуствуют выбросы."
   ]
  },
  {
   "cell_type": "code",
   "execution_count": 19,
   "id": "c226d8b9-b465-4c7b-8773-662a83a05afe",
   "metadata": {},
   "outputs": [
    {
     "data": {
      "text/plain": [
       "23"
      ]
     },
     "execution_count": 19,
     "metadata": {},
     "output_type": "execute_result"
    }
   ],
   "source": [
    "df[df.duration_seconds > 600].shape[0]"
   ]
  },
  {
   "cell_type": "code",
   "execution_count": 20,
   "id": "f09fdbd4-a304-4cf9-b74b-d2fb10c2fdd7",
   "metadata": {},
   "outputs": [
    {
     "data": {
      "image/png": "[encoded data removed]",
      "text/plain": [
       "<Figure size 1200x300 with 2 Axes>"
      ]
     },
     "metadata": {},
     "output_type": "display_data"
    }
   ],
   "source": [
    "plt.figure(figsize=(12, 3))\n",
    "\n",
    "plt.subplot(1, 2, 1)\n",
    "sns.histplot(x='duration_seconds', data=df[df.duration_seconds <= 600], bins=30)\n",
    "plt.title('Длительность до 10 минут')\n",
    "\n",
    "plt.subplot(1, 2, 2)\n",
    "sns.histplot(x='duration_seconds', data=df[df.duration_seconds > 600], bins=30)\n",
    "plt.title('Длительность более 10 минут')\n",
    "\n",
    "plt.show()"
   ]
  },
  {
   "cell_type": "code",
   "execution_count": 21,
   "id": "35a91ed9-ac42-4958-8ffc-68d3cfb392f3",
   "metadata": {},
   "outputs": [
    {
     "data": {
      "image/png": "[encoded data removed]",
      "text/plain": [
       "<Figure size 500x300 with 1 Axes>"
      ]
     },
     "metadata": {},
     "output_type": "display_data"
    }
   ],
   "source": [
    "plt.figure(figsize=(5, 3))\n",
    "sns.scatterplot(x='duration_seconds', y='target_operator', data=df)\n",
    "plt.show()"
   ]
  },
  {
   "cell_type": "markdown",
   "id": "bdbc99c2-9973-4310-9f98-e68ee80de917",
   "metadata": {},
   "source": [
    "По графику рассеяния практически ничего сказать нельзя, потому что некоторые операторы мало представлены."
   ]
  },
  {
   "cell_type": "markdown",
   "id": "942e519b-f096-4c85-b514-bd408740d4db",
   "metadata": {},
   "source": [
    "Посмотрим также, как распределены звонки по меясцам и дням недели:"
   ]
  },
  {
   "cell_type": "code",
   "execution_count": 22,
   "id": "574af7bb-d0ac-437f-a3b4-5517a1a18485",
   "metadata": {},
   "outputs": [],
   "source": [
    "df = df.sort_values(by=['date'])"
   ]
  },
  {
   "cell_type": "code",
   "execution_count": 23,
   "id": "a721afc9-5b92-44e4-8e60-0e0708a91e84",
   "metadata": {},
   "outputs": [
    {
     "data": {
      "text/html": [
       "<div>\n",
       "<style scoped>\n",
       "    .dataframe tbody tr th:only-of-type {\n",
       "        vertical-align: middle;\n",
       "    }\n",
       "\n",
       "    .dataframe tbody tr th {\n",
       "        vertical-align: top;\n",
       "    }\n",
       "\n",
       "    .dataframe thead th {\n",
       "        text-align: right;\n",
       "    }\n",
       "</style>\n",
       "<table border=\"1\" class=\"dataframe\">\n",
       "  <thead>\n",
       "    <tr style=\"text-align: right;\">\n",
       "      <th></th>\n",
       "      <th>date</th>\n",
       "      <th>duration</th>\n",
       "      <th>target_operator</th>\n",
       "      <th>day_of_week</th>\n",
       "      <th>month</th>\n",
       "      <th>duration_seconds</th>\n",
       "    </tr>\n",
       "  </thead>\n",
       "  <tbody>\n",
       "    <tr>\n",
       "      <th>1212</th>\n",
       "      <td>2010-07-01</td>\n",
       "      <td>0 days 00:00:11</td>\n",
       "      <td>смартс</td>\n",
       "      <td>Thursday</td>\n",
       "      <td>July</td>\n",
       "      <td>11</td>\n",
       "    </tr>\n",
       "    <tr>\n",
       "      <th>925</th>\n",
       "      <td>2010-07-01</td>\n",
       "      <td>0 days 00:01:43</td>\n",
       "      <td>мтс</td>\n",
       "      <td>Thursday</td>\n",
       "      <td>July</td>\n",
       "      <td>103</td>\n",
       "    </tr>\n",
       "    <tr>\n",
       "      <th>255</th>\n",
       "      <td>2010-07-01</td>\n",
       "      <td>0 days 00:00:17</td>\n",
       "      <td>билайн</td>\n",
       "      <td>Thursday</td>\n",
       "      <td>July</td>\n",
       "      <td>17</td>\n",
       "    </tr>\n",
       "  </tbody>\n",
       "</table>\n",
       "</div>"
      ],
      "text/plain": [
       "            date        duration target_operator day_of_week month  \\\n",
       "1212  2010-07-01 0 days 00:00:11          смартс    Thursday  July   \n",
       "925   2010-07-01 0 days 00:01:43             мтс    Thursday  July   \n",
       "255   2010-07-01 0 days 00:00:17          билайн    Thursday  July   \n",
       "\n",
       "      duration_seconds  \n",
       "1212                11  \n",
       "925                103  \n",
       "255                 17  "
      ]
     },
     "execution_count": 23,
     "metadata": {},
     "output_type": "execute_result"
    }
   ],
   "source": [
    "df.head(3)"
   ]
  },
  {
   "cell_type": "code",
   "execution_count": 24,
   "id": "42b2cb9e-29f7-4e7f-be75-9db23a04bb88",
   "metadata": {},
   "outputs": [
    {
     "data": {
      "text/plain": [
       "month\n",
       "October      313\n",
       "November     309\n",
       "July         209\n",
       "September    187\n",
       "December     143\n",
       "August        69\n",
       "Name: count, dtype: int64"
      ]
     },
     "execution_count": 24,
     "metadata": {},
     "output_type": "execute_result"
    }
   ],
   "source": [
    "df.month.value_counts()"
   ]
  },
  {
   "cell_type": "code",
   "execution_count": 25,
   "id": "f0929e79-64da-4b80-891d-1021d9dd7c03",
   "metadata": {},
   "outputs": [
    {
     "data": {
      "image/png": "[encoded data removed]",
      "text/plain": [
       "<Figure size 1600x300 with 2 Axes>"
      ]
     },
     "metadata": {},
     "output_type": "display_data"
    }
   ],
   "source": [
    "plt.figure(figsize=(16, 3))\n",
    "\n",
    "plt.subplot(1, 2, 1)\n",
    "sns.countplot(x='month', data=df, hue='month', palette='deep')\n",
    "\n",
    "plt.subplot(1, 2, 2)\n",
    "sns.countplot(x='day_of_week', data=df, hue='day_of_week', palette='deep')\n",
    "\n",
    "plt.show()"
   ]
  },
  {
   "cell_type": "markdown",
   "id": "59f6aeb6-fa45-497e-af7c-a78d05025a07",
   "metadata": {},
   "source": [
    "## Вычисление стоимости тарифа"
   ]
  },
  {
   "cell_type": "markdown",
   "id": "399b77fc-c1ae-4876-b907-10660f9a5e4f",
   "metadata": {},
   "source": [
    "Суммарные траты по каждому из тарифов за 6 месяцев будем хранить в датафрейме:"
   ]
  },
  {
   "cell_type": "code",
   "execution_count": 26,
   "id": "50216c11-11e6-44ef-8999-a23fa4ce7caa",
   "metadata": {},
   "outputs": [],
   "source": [
    "costs_df = pd.DataFrame({\n",
    "    'operator': ['Билайн', 'Билайн', 'Билайн', 'Мегафон', 'МТС'],\n",
    "    'rate_name': ['Монстр общения', 'Хочу сказать', 'Больше слов', '33 копейки', 'Много звонков']\n",
    "}, columns=['operator', 'rate_name', 'total_cost'])"
   ]
  },
  {
   "cell_type": "code",
   "execution_count": 27,
   "id": "d538a4fb-2a50-4b93-bdfa-96f6e7579994",
   "metadata": {},
   "outputs": [
    {
     "data": {
      "text/html": [
       "<div>\n",
       "<style scoped>\n",
       "    .dataframe tbody tr th:only-of-type {\n",
       "        vertical-align: middle;\n",
       "    }\n",
       "\n",
       "    .dataframe tbody tr th {\n",
       "        vertical-align: top;\n",
       "    }\n",
       "\n",
       "    .dataframe thead th {\n",
       "        text-align: right;\n",
       "    }\n",
       "</style>\n",
       "<table border=\"1\" class=\"dataframe\">\n",
       "  <thead>\n",
       "    <tr style=\"text-align: right;\">\n",
       "      <th></th>\n",
       "      <th>operator</th>\n",
       "      <th>rate_name</th>\n",
       "      <th>total_cost</th>\n",
       "    </tr>\n",
       "  </thead>\n",
       "  <tbody>\n",
       "    <tr>\n",
       "      <th>0</th>\n",
       "      <td>Билайн</td>\n",
       "      <td>Монстр общения</td>\n",
       "      <td>NaN</td>\n",
       "    </tr>\n",
       "    <tr>\n",
       "      <th>1</th>\n",
       "      <td>Билайн</td>\n",
       "      <td>Хочу сказать</td>\n",
       "      <td>NaN</td>\n",
       "    </tr>\n",
       "    <tr>\n",
       "      <th>2</th>\n",
       "      <td>Билайн</td>\n",
       "      <td>Больше слов</td>\n",
       "      <td>NaN</td>\n",
       "    </tr>\n",
       "    <tr>\n",
       "      <th>3</th>\n",
       "      <td>Мегафон</td>\n",
       "      <td>33 копейки</td>\n",
       "      <td>NaN</td>\n",
       "    </tr>\n",
       "    <tr>\n",
       "      <th>4</th>\n",
       "      <td>МТС</td>\n",
       "      <td>Много звонков</td>\n",
       "      <td>NaN</td>\n",
       "    </tr>\n",
       "  </tbody>\n",
       "</table>\n",
       "</div>"
      ],
      "text/plain": [
       "  operator       rate_name total_cost\n",
       "0   Билайн  Монстр общения        NaN\n",
       "1   Билайн    Хочу сказать        NaN\n",
       "2   Билайн     Больше слов        NaN\n",
       "3  Мегафон      33 копейки        NaN\n",
       "4      МТС   Много звонков        NaN"
      ]
     },
     "execution_count": 27,
     "metadata": {},
     "output_type": "execute_result"
    }
   ],
   "source": [
    "costs_df"
   ]
  },
  {
   "cell_type": "markdown",
   "id": "bf4e5483-5ff4-4e86-a0be-73da7bb640f5",
   "metadata": {},
   "source": [
    "### Билайн \"Монстр общения\""
   ]
  },
  {
   "cell_type": "markdown",
   "id": "fedbcaaf-caea-4e79-9d96-d11245fec52e",
   "metadata": {},
   "source": [
    "Исходящие звонки:\n",
    "- 1-ая минута: 1.50 рублей\n",
    "- со 2-ой по 9-ую минуту: 0.50 рублей\n",
    "- с 10-ой минуты: 1.00 рублей"
   ]
  },
  {
   "cell_type": "code",
   "execution_count": 28,
   "id": "5f0d2b9a-2700-4c82-8a7e-6183e9dace97",
   "metadata": {},
   "outputs": [],
   "source": [
    "df_beeline_1 = df[['duration_seconds', 'target_operator']].copy()\n",
    "df_beeline_1['cost'] = 0 "
   ]
  },
  {
   "cell_type": "code",
   "execution_count": 29,
   "id": "6c39399d-0aa7-46b5-8fee-547a9001fb0c",
   "metadata": {},
   "outputs": [
    {
     "data": {
      "text/html": [
       "<div>\n",
       "<style scoped>\n",
       "    .dataframe tbody tr th:only-of-type {\n",
       "        vertical-align: middle;\n",
       "    }\n",
       "\n",
       "    .dataframe tbody tr th {\n",
       "        vertical-align: top;\n",
       "    }\n",
       "\n",
       "    .dataframe thead th {\n",
       "        text-align: right;\n",
       "    }\n",
       "</style>\n",
       "<table border=\"1\" class=\"dataframe\">\n",
       "  <thead>\n",
       "    <tr style=\"text-align: right;\">\n",
       "      <th></th>\n",
       "      <th>duration_seconds</th>\n",
       "      <th>target_operator</th>\n",
       "      <th>cost</th>\n",
       "    </tr>\n",
       "  </thead>\n",
       "  <tbody>\n",
       "    <tr>\n",
       "      <th>1212</th>\n",
       "      <td>11</td>\n",
       "      <td>смартс</td>\n",
       "      <td>0</td>\n",
       "    </tr>\n",
       "    <tr>\n",
       "      <th>925</th>\n",
       "      <td>103</td>\n",
       "      <td>мтс</td>\n",
       "      <td>0</td>\n",
       "    </tr>\n",
       "    <tr>\n",
       "      <th>255</th>\n",
       "      <td>17</td>\n",
       "      <td>билайн</td>\n",
       "      <td>0</td>\n",
       "    </tr>\n",
       "  </tbody>\n",
       "</table>\n",
       "</div>"
      ],
      "text/plain": [
       "      duration_seconds target_operator  cost\n",
       "1212                11          смартс     0\n",
       "925                103             мтс     0\n",
       "255                 17          билайн     0"
      ]
     },
     "execution_count": 29,
     "metadata": {},
     "output_type": "execute_result"
    }
   ],
   "source": [
    "df_beeline_1.head(3)"
   ]
  },
  {
   "cell_type": "code",
   "execution_count": 30,
   "id": "b4024d64-5595-467c-8c38-dda10b5976ef",
   "metadata": {},
   "outputs": [],
   "source": [
    "def calc_cost_beeline_1(duration):\n",
    "    \"\"\"Функция для вычисления стоимости одного звонка по тарифу Монстр общения\"\"\"\n",
    "    minutes = (duration + 59) // 60  # Округляем вверх до полной минуты\n",
    "    cost = 0\n",
    "    \n",
    "    if minutes >= 1:\n",
    "        cost += 1.50  # Первая минута\n",
    "        \n",
    "    if minutes > 1:\n",
    "        # Со 2-й по 9-ю минуту\n",
    "        additional_minutes = min(minutes - 1, 8)\n",
    "        cost += additional_minutes * 0.50\n",
    "    \n",
    "    if minutes > 9:\n",
    "        # С 10-й минуты\n",
    "        cost += (minutes - 9) * 1.00\n",
    "    \n",
    "    return cost"
   ]
  },
  {
   "cell_type": "code",
   "execution_count": 31,
   "id": "1d0ae9d6-fdf2-483d-967a-502b77cbd3f2",
   "metadata": {},
   "outputs": [],
   "source": [
    "df_beeline_1.cost = df_beeline_1.duration_seconds.apply(calc_cost_beeline_1)"
   ]
  },
  {
   "cell_type": "code",
   "execution_count": 32,
   "id": "ab8b4710-afa0-47d7-83dd-5f5892655dd6",
   "metadata": {},
   "outputs": [
    {
     "data": {
      "text/html": [
       "<div>\n",
       "<style scoped>\n",
       "    .dataframe tbody tr th:only-of-type {\n",
       "        vertical-align: middle;\n",
       "    }\n",
       "\n",
       "    .dataframe tbody tr th {\n",
       "        vertical-align: top;\n",
       "    }\n",
       "\n",
       "    .dataframe thead th {\n",
       "        text-align: right;\n",
       "    }\n",
       "</style>\n",
       "<table border=\"1\" class=\"dataframe\">\n",
       "  <thead>\n",
       "    <tr style=\"text-align: right;\">\n",
       "      <th></th>\n",
       "      <th>duration_seconds</th>\n",
       "      <th>target_operator</th>\n",
       "      <th>cost</th>\n",
       "    </tr>\n",
       "  </thead>\n",
       "  <tbody>\n",
       "    <tr>\n",
       "      <th>1212</th>\n",
       "      <td>11</td>\n",
       "      <td>смартс</td>\n",
       "      <td>1.5</td>\n",
       "    </tr>\n",
       "    <tr>\n",
       "      <th>925</th>\n",
       "      <td>103</td>\n",
       "      <td>мтс</td>\n",
       "      <td>2.0</td>\n",
       "    </tr>\n",
       "    <tr>\n",
       "      <th>255</th>\n",
       "      <td>17</td>\n",
       "      <td>билайн</td>\n",
       "      <td>1.5</td>\n",
       "    </tr>\n",
       "    <tr>\n",
       "      <th>1211</th>\n",
       "      <td>47</td>\n",
       "      <td>смартс</td>\n",
       "      <td>1.5</td>\n",
       "    </tr>\n",
       "    <tr>\n",
       "      <th>257</th>\n",
       "      <td>60</td>\n",
       "      <td>билайн</td>\n",
       "      <td>1.5</td>\n",
       "    </tr>\n",
       "  </tbody>\n",
       "</table>\n",
       "</div>"
      ],
      "text/plain": [
       "      duration_seconds target_operator  cost\n",
       "1212                11          смартс   1.5\n",
       "925                103             мтс   2.0\n",
       "255                 17          билайн   1.5\n",
       "1211                47          смартс   1.5\n",
       "257                 60          билайн   1.5"
      ]
     },
     "execution_count": 32,
     "metadata": {},
     "output_type": "execute_result"
    }
   ],
   "source": [
    "df_beeline_1.head()"
   ]
  },
  {
   "cell_type": "code",
   "execution_count": 33,
   "id": "daeef276-84df-4c64-9961-1abe3596b150",
   "metadata": {},
   "outputs": [],
   "source": [
    "costs_df.iloc[0].total_cost = df_beeline_1.cost.sum()"
   ]
  },
  {
   "cell_type": "code",
   "execution_count": 34,
   "id": "a6bfe5c0-8dff-4c98-afa8-29033c81a437",
   "metadata": {},
   "outputs": [
    {
     "data": {
      "text/html": [
       "<div>\n",
       "<style scoped>\n",
       "    .dataframe tbody tr th:only-of-type {\n",
       "        vertical-align: middle;\n",
       "    }\n",
       "\n",
       "    .dataframe tbody tr th {\n",
       "        vertical-align: top;\n",
       "    }\n",
       "\n",
       "    .dataframe thead th {\n",
       "        text-align: right;\n",
       "    }\n",
       "</style>\n",
       "<table border=\"1\" class=\"dataframe\">\n",
       "  <thead>\n",
       "    <tr style=\"text-align: right;\">\n",
       "      <th></th>\n",
       "      <th>operator</th>\n",
       "      <th>rate_name</th>\n",
       "      <th>total_cost</th>\n",
       "    </tr>\n",
       "  </thead>\n",
       "  <tbody>\n",
       "    <tr>\n",
       "      <th>0</th>\n",
       "      <td>Билайн</td>\n",
       "      <td>Монстр общения</td>\n",
       "      <td>2621.5</td>\n",
       "    </tr>\n",
       "    <tr>\n",
       "      <th>1</th>\n",
       "      <td>Билайн</td>\n",
       "      <td>Хочу сказать</td>\n",
       "      <td>NaN</td>\n",
       "    </tr>\n",
       "    <tr>\n",
       "      <th>2</th>\n",
       "      <td>Билайн</td>\n",
       "      <td>Больше слов</td>\n",
       "      <td>NaN</td>\n",
       "    </tr>\n",
       "    <tr>\n",
       "      <th>3</th>\n",
       "      <td>Мегафон</td>\n",
       "      <td>33 копейки</td>\n",
       "      <td>NaN</td>\n",
       "    </tr>\n",
       "    <tr>\n",
       "      <th>4</th>\n",
       "      <td>МТС</td>\n",
       "      <td>Много звонков</td>\n",
       "      <td>NaN</td>\n",
       "    </tr>\n",
       "  </tbody>\n",
       "</table>\n",
       "</div>"
      ],
      "text/plain": [
       "  operator       rate_name total_cost\n",
       "0   Билайн  Монстр общения     2621.5\n",
       "1   Билайн    Хочу сказать        NaN\n",
       "2   Билайн     Больше слов        NaN\n",
       "3  Мегафон      33 копейки        NaN\n",
       "4      МТС   Много звонков        NaN"
      ]
     },
     "execution_count": 34,
     "metadata": {},
     "output_type": "execute_result"
    }
   ],
   "source": [
    "costs_df"
   ]
  },
  {
   "cell_type": "markdown",
   "id": "114d6d9d-07a9-4790-8e3d-d0cbca4670e8",
   "metadata": {},
   "source": [
    "### Билайн \"Хочу сказать\""
   ]
  },
  {
   "cell_type": "markdown",
   "id": "011ee8b7-44c4-44dc-94e3-bc618b782b46",
   "metadata": {},
   "source": [
    "Исходящие звонки:\n",
    "- до пяти минут в день (включительно): 3.95 рублей\n",
    "- с шестой минуты в день: 0.40 рублей"
   ]
  },
  {
   "cell_type": "code",
   "execution_count": 35,
   "id": "ed3e3510-af51-42e1-bea8-585f065ebb07",
   "metadata": {},
   "outputs": [],
   "source": [
    "df_beeline_2 = df[['date', 'duration_seconds', 'target_operator']].copy()"
   ]
  },
  {
   "cell_type": "code",
   "execution_count": 36,
   "id": "5aeb2ead-80e2-4fa7-bff2-d25e8ab9c249",
   "metadata": {},
   "outputs": [
    {
     "data": {
      "text/html": [
       "<div>\n",
       "<style scoped>\n",
       "    .dataframe tbody tr th:only-of-type {\n",
       "        vertical-align: middle;\n",
       "    }\n",
       "\n",
       "    .dataframe tbody tr th {\n",
       "        vertical-align: top;\n",
       "    }\n",
       "\n",
       "    .dataframe thead th {\n",
       "        text-align: right;\n",
       "    }\n",
       "</style>\n",
       "<table border=\"1\" class=\"dataframe\">\n",
       "  <thead>\n",
       "    <tr style=\"text-align: right;\">\n",
       "      <th></th>\n",
       "      <th>date</th>\n",
       "      <th>duration_seconds</th>\n",
       "      <th>target_operator</th>\n",
       "    </tr>\n",
       "  </thead>\n",
       "  <tbody>\n",
       "    <tr>\n",
       "      <th>1212</th>\n",
       "      <td>2010-07-01</td>\n",
       "      <td>11</td>\n",
       "      <td>смартс</td>\n",
       "    </tr>\n",
       "    <tr>\n",
       "      <th>925</th>\n",
       "      <td>2010-07-01</td>\n",
       "      <td>103</td>\n",
       "      <td>мтс</td>\n",
       "    </tr>\n",
       "    <tr>\n",
       "      <th>255</th>\n",
       "      <td>2010-07-01</td>\n",
       "      <td>17</td>\n",
       "      <td>билайн</td>\n",
       "    </tr>\n",
       "  </tbody>\n",
       "</table>\n",
       "</div>"
      ],
      "text/plain": [
       "            date  duration_seconds target_operator\n",
       "1212  2010-07-01                11          смартс\n",
       "925   2010-07-01               103             мтс\n",
       "255   2010-07-01                17          билайн"
      ]
     },
     "execution_count": 36,
     "metadata": {},
     "output_type": "execute_result"
    }
   ],
   "source": [
    "df_beeline_2.head(3)"
   ]
  },
  {
   "cell_type": "code",
   "execution_count": 37,
   "id": "71f46bec-8c8d-4d42-9183-90a21aca009a",
   "metadata": {},
   "outputs": [],
   "source": [
    "def calc_cost_beeline_2(duration):\n",
    "    minutes = (duration + 59) // 60  # Округляем вверх до полной минуты\n",
    "    cost = 0\n",
    "\n",
    "    cost += min(minutes, 5) * 3.95\n",
    "    minutes -= 5\n",
    "\n",
    "    if minutes > 0:\n",
    "        cost += minutes * 0.40\n",
    "\n",
    "    return cost"
   ]
  },
  {
   "cell_type": "code",
   "execution_count": 38,
   "id": "c8f7b95a-5812-4c13-a1b8-c1320612dc9e",
   "metadata": {},
   "outputs": [],
   "source": [
    "df_beeline_2 = df_beeline_2.groupby(['date'], as_index=False).duration_seconds.sum()"
   ]
  },
  {
   "cell_type": "code",
   "execution_count": 39,
   "id": "2cc32ca9-a099-4a93-a8c9-4b509eebfe10",
   "metadata": {},
   "outputs": [
    {
     "data": {
      "text/html": [
       "<div>\n",
       "<style scoped>\n",
       "    .dataframe tbody tr th:only-of-type {\n",
       "        vertical-align: middle;\n",
       "    }\n",
       "\n",
       "    .dataframe tbody tr th {\n",
       "        vertical-align: top;\n",
       "    }\n",
       "\n",
       "    .dataframe thead th {\n",
       "        text-align: right;\n",
       "    }\n",
       "</style>\n",
       "<table border=\"1\" class=\"dataframe\">\n",
       "  <thead>\n",
       "    <tr style=\"text-align: right;\">\n",
       "      <th></th>\n",
       "      <th>date</th>\n",
       "      <th>duration_seconds</th>\n",
       "    </tr>\n",
       "  </thead>\n",
       "  <tbody>\n",
       "    <tr>\n",
       "      <th>0</th>\n",
       "      <td>2010-07-01</td>\n",
       "      <td>178</td>\n",
       "    </tr>\n",
       "    <tr>\n",
       "      <th>1</th>\n",
       "      <td>2010-07-02</td>\n",
       "      <td>556</td>\n",
       "    </tr>\n",
       "    <tr>\n",
       "      <th>2</th>\n",
       "      <td>2010-07-03</td>\n",
       "      <td>88</td>\n",
       "    </tr>\n",
       "    <tr>\n",
       "      <th>3</th>\n",
       "      <td>2010-07-04</td>\n",
       "      <td>123</td>\n",
       "    </tr>\n",
       "    <tr>\n",
       "      <th>4</th>\n",
       "      <td>2010-07-05</td>\n",
       "      <td>506</td>\n",
       "    </tr>\n",
       "  </tbody>\n",
       "</table>\n",
       "</div>"
      ],
      "text/plain": [
       "         date  duration_seconds\n",
       "0  2010-07-01               178\n",
       "1  2010-07-02               556\n",
       "2  2010-07-03                88\n",
       "3  2010-07-04               123\n",
       "4  2010-07-05               506"
      ]
     },
     "execution_count": 39,
     "metadata": {},
     "output_type": "execute_result"
    }
   ],
   "source": [
    "df_beeline_2.head()"
   ]
  },
  {
   "cell_type": "code",
   "execution_count": 40,
   "id": "1609b32c-00fb-4666-bc35-98e773f25a21",
   "metadata": {},
   "outputs": [],
   "source": [
    "df_beeline_2['cost'] = df_beeline_2.duration_seconds.apply(calc_cost_beeline_2)"
   ]
  },
  {
   "cell_type": "code",
   "execution_count": 41,
   "id": "89c861d6-cc52-4162-8403-cd01e93616ef",
   "metadata": {},
   "outputs": [
    {
     "data": {
      "text/html": [
       "<div>\n",
       "<style scoped>\n",
       "    .dataframe tbody tr th:only-of-type {\n",
       "        vertical-align: middle;\n",
       "    }\n",
       "\n",
       "    .dataframe tbody tr th {\n",
       "        vertical-align: top;\n",
       "    }\n",
       "\n",
       "    .dataframe thead th {\n",
       "        text-align: right;\n",
       "    }\n",
       "</style>\n",
       "<table border=\"1\" class=\"dataframe\">\n",
       "  <thead>\n",
       "    <tr style=\"text-align: right;\">\n",
       "      <th></th>\n",
       "      <th>date</th>\n",
       "      <th>duration_seconds</th>\n",
       "      <th>cost</th>\n",
       "    </tr>\n",
       "  </thead>\n",
       "  <tbody>\n",
       "    <tr>\n",
       "      <th>0</th>\n",
       "      <td>2010-07-01</td>\n",
       "      <td>178</td>\n",
       "      <td>11.85</td>\n",
       "    </tr>\n",
       "    <tr>\n",
       "      <th>1</th>\n",
       "      <td>2010-07-02</td>\n",
       "      <td>556</td>\n",
       "      <td>21.75</td>\n",
       "    </tr>\n",
       "    <tr>\n",
       "      <th>2</th>\n",
       "      <td>2010-07-03</td>\n",
       "      <td>88</td>\n",
       "      <td>7.90</td>\n",
       "    </tr>\n",
       "    <tr>\n",
       "      <th>3</th>\n",
       "      <td>2010-07-04</td>\n",
       "      <td>123</td>\n",
       "      <td>11.85</td>\n",
       "    </tr>\n",
       "    <tr>\n",
       "      <th>4</th>\n",
       "      <td>2010-07-05</td>\n",
       "      <td>506</td>\n",
       "      <td>21.35</td>\n",
       "    </tr>\n",
       "  </tbody>\n",
       "</table>\n",
       "</div>"
      ],
      "text/plain": [
       "         date  duration_seconds   cost\n",
       "0  2010-07-01               178  11.85\n",
       "1  2010-07-02               556  21.75\n",
       "2  2010-07-03                88   7.90\n",
       "3  2010-07-04               123  11.85\n",
       "4  2010-07-05               506  21.35"
      ]
     },
     "execution_count": 41,
     "metadata": {},
     "output_type": "execute_result"
    }
   ],
   "source": [
    "df_beeline_2.head()"
   ]
  },
  {
   "cell_type": "code",
   "execution_count": 42,
   "id": "02e17a78-3a16-4f22-9184-7c3bc375cee0",
   "metadata": {},
   "outputs": [],
   "source": [
    "costs_df.iloc[1].total_cost = df_beeline_2.cost.sum()"
   ]
  },
  {
   "cell_type": "code",
   "execution_count": 43,
   "id": "2b2e7f87-2c38-4d0c-9b0f-9d46f137bc2a",
   "metadata": {},
   "outputs": [
    {
     "data": {
      "text/html": [
       "<div>\n",
       "<style scoped>\n",
       "    .dataframe tbody tr th:only-of-type {\n",
       "        vertical-align: middle;\n",
       "    }\n",
       "\n",
       "    .dataframe tbody tr th {\n",
       "        vertical-align: top;\n",
       "    }\n",
       "\n",
       "    .dataframe thead th {\n",
       "        text-align: right;\n",
       "    }\n",
       "</style>\n",
       "<table border=\"1\" class=\"dataframe\">\n",
       "  <thead>\n",
       "    <tr style=\"text-align: right;\">\n",
       "      <th></th>\n",
       "      <th>operator</th>\n",
       "      <th>rate_name</th>\n",
       "      <th>total_cost</th>\n",
       "    </tr>\n",
       "  </thead>\n",
       "  <tbody>\n",
       "    <tr>\n",
       "      <th>0</th>\n",
       "      <td>Билайн</td>\n",
       "      <td>Монстр общения</td>\n",
       "      <td>2621.5</td>\n",
       "    </tr>\n",
       "    <tr>\n",
       "      <th>1</th>\n",
       "      <td>Билайн</td>\n",
       "      <td>Хочу сказать</td>\n",
       "      <td>2867.2</td>\n",
       "    </tr>\n",
       "    <tr>\n",
       "      <th>2</th>\n",
       "      <td>Билайн</td>\n",
       "      <td>Больше слов</td>\n",
       "      <td>NaN</td>\n",
       "    </tr>\n",
       "    <tr>\n",
       "      <th>3</th>\n",
       "      <td>Мегафон</td>\n",
       "      <td>33 копейки</td>\n",
       "      <td>NaN</td>\n",
       "    </tr>\n",
       "    <tr>\n",
       "      <th>4</th>\n",
       "      <td>МТС</td>\n",
       "      <td>Много звонков</td>\n",
       "      <td>NaN</td>\n",
       "    </tr>\n",
       "  </tbody>\n",
       "</table>\n",
       "</div>"
      ],
      "text/plain": [
       "  operator       rate_name total_cost\n",
       "0   Билайн  Монстр общения     2621.5\n",
       "1   Билайн    Хочу сказать     2867.2\n",
       "2   Билайн     Больше слов        NaN\n",
       "3  Мегафон      33 копейки        NaN\n",
       "4      МТС   Много звонков        NaN"
      ]
     },
     "execution_count": 43,
     "metadata": {},
     "output_type": "execute_result"
    }
   ],
   "source": [
    "costs_df"
   ]
  },
  {
   "cell_type": "markdown",
   "id": "c3df644e-651d-42f3-903b-4a1b44f814c3",
   "metadata": {},
   "source": [
    "### Билайн \"Больше слов\"\n",
    "Фиксированная плата в месяц — 555 рублей за пакет из 555 минут, после исчерпания пакета — 1.95 рублей минута."
   ]
  },
  {
   "cell_type": "code",
   "execution_count": 44,
   "id": "546e2571-fae1-461d-923d-a9705dcdc92d",
   "metadata": {},
   "outputs": [
    {
     "data": {
      "text/html": [
       "<div>\n",
       "<style scoped>\n",
       "    .dataframe tbody tr th:only-of-type {\n",
       "        vertical-align: middle;\n",
       "    }\n",
       "\n",
       "    .dataframe tbody tr th {\n",
       "        vertical-align: top;\n",
       "    }\n",
       "\n",
       "    .dataframe thead th {\n",
       "        text-align: right;\n",
       "    }\n",
       "</style>\n",
       "<table border=\"1\" class=\"dataframe\">\n",
       "  <thead>\n",
       "    <tr style=\"text-align: right;\">\n",
       "      <th></th>\n",
       "      <th>date</th>\n",
       "      <th>duration</th>\n",
       "      <th>target_operator</th>\n",
       "      <th>day_of_week</th>\n",
       "      <th>month</th>\n",
       "      <th>duration_seconds</th>\n",
       "    </tr>\n",
       "  </thead>\n",
       "  <tbody>\n",
       "    <tr>\n",
       "      <th>1212</th>\n",
       "      <td>2010-07-01</td>\n",
       "      <td>0 days 00:00:11</td>\n",
       "      <td>смартс</td>\n",
       "      <td>Thursday</td>\n",
       "      <td>July</td>\n",
       "      <td>11</td>\n",
       "    </tr>\n",
       "    <tr>\n",
       "      <th>925</th>\n",
       "      <td>2010-07-01</td>\n",
       "      <td>0 days 00:01:43</td>\n",
       "      <td>мтс</td>\n",
       "      <td>Thursday</td>\n",
       "      <td>July</td>\n",
       "      <td>103</td>\n",
       "    </tr>\n",
       "    <tr>\n",
       "      <th>255</th>\n",
       "      <td>2010-07-01</td>\n",
       "      <td>0 days 00:00:17</td>\n",
       "      <td>билайн</td>\n",
       "      <td>Thursday</td>\n",
       "      <td>July</td>\n",
       "      <td>17</td>\n",
       "    </tr>\n",
       "  </tbody>\n",
       "</table>\n",
       "</div>"
      ],
      "text/plain": [
       "            date        duration target_operator day_of_week month  \\\n",
       "1212  2010-07-01 0 days 00:00:11          смартс    Thursday  July   \n",
       "925   2010-07-01 0 days 00:01:43             мтс    Thursday  July   \n",
       "255   2010-07-01 0 days 00:00:17          билайн    Thursday  July   \n",
       "\n",
       "      duration_seconds  \n",
       "1212                11  \n",
       "925                103  \n",
       "255                 17  "
      ]
     },
     "execution_count": 44,
     "metadata": {},
     "output_type": "execute_result"
    }
   ],
   "source": [
    "df.head(3)"
   ]
  },
  {
   "cell_type": "code",
   "execution_count": 45,
   "id": "0f088505-77d8-49a5-a5c4-0f6e1935adfb",
   "metadata": {},
   "outputs": [],
   "source": [
    "df_beeline_3 = df[['month', 'duration_seconds', 'target_operator']].copy()"
   ]
  },
  {
   "cell_type": "code",
   "execution_count": 46,
   "id": "3716f16f-1fd9-4964-ad9c-2caf691397bc",
   "metadata": {},
   "outputs": [
    {
     "data": {
      "text/html": [
       "<div>\n",
       "<style scoped>\n",
       "    .dataframe tbody tr th:only-of-type {\n",
       "        vertical-align: middle;\n",
       "    }\n",
       "\n",
       "    .dataframe tbody tr th {\n",
       "        vertical-align: top;\n",
       "    }\n",
       "\n",
       "    .dataframe thead th {\n",
       "        text-align: right;\n",
       "    }\n",
       "</style>\n",
       "<table border=\"1\" class=\"dataframe\">\n",
       "  <thead>\n",
       "    <tr style=\"text-align: right;\">\n",
       "      <th></th>\n",
       "      <th>month</th>\n",
       "      <th>duration_seconds</th>\n",
       "      <th>target_operator</th>\n",
       "    </tr>\n",
       "  </thead>\n",
       "  <tbody>\n",
       "    <tr>\n",
       "      <th>1212</th>\n",
       "      <td>July</td>\n",
       "      <td>11</td>\n",
       "      <td>смартс</td>\n",
       "    </tr>\n",
       "    <tr>\n",
       "      <th>925</th>\n",
       "      <td>July</td>\n",
       "      <td>103</td>\n",
       "      <td>мтс</td>\n",
       "    </tr>\n",
       "    <tr>\n",
       "      <th>255</th>\n",
       "      <td>July</td>\n",
       "      <td>17</td>\n",
       "      <td>билайн</td>\n",
       "    </tr>\n",
       "  </tbody>\n",
       "</table>\n",
       "</div>"
      ],
      "text/plain": [
       "     month  duration_seconds target_operator\n",
       "1212  July                11          смартс\n",
       "925   July               103             мтс\n",
       "255   July                17          билайн"
      ]
     },
     "execution_count": 46,
     "metadata": {},
     "output_type": "execute_result"
    }
   ],
   "source": [
    "df_beeline_3.head(3)"
   ]
  },
  {
   "cell_type": "code",
   "execution_count": 47,
   "id": "587067b0-2e46-4352-aa54-235b6d427f4c",
   "metadata": {},
   "outputs": [],
   "source": [
    "df_beeline_3 = df_beeline_3.groupby(['month'], as_index=False).duration_seconds.sum()"
   ]
  },
  {
   "cell_type": "code",
   "execution_count": 48,
   "id": "20154545-6a12-40f0-84e7-4cade5413b3e",
   "metadata": {},
   "outputs": [],
   "source": [
    "def calc_cost_beeline_3(duration):\n",
    "    minutes = (duration + 59) // 60  # Округляем вверх до полной минуты\n",
    "    cost = 555\n",
    "\n",
    "    over_mins = max(minutes - 555, 0)\n",
    "    cost += over_mins * 1.95\n",
    "\n",
    "    return cost"
   ]
  },
  {
   "cell_type": "code",
   "execution_count": 49,
   "id": "97fbb65b-ebfc-47be-81f3-33765416c0c2",
   "metadata": {},
   "outputs": [],
   "source": [
    "df_beeline_3['cost'] = df_beeline_3.duration_seconds.apply(calc_cost_beeline_3)"
   ]
  },
  {
   "cell_type": "code",
   "execution_count": 50,
   "id": "b8bddf47-12b9-46cc-a826-8e4ca0295cdd",
   "metadata": {},
   "outputs": [],
   "source": [
    "costs_df.iloc[2].total_cost = df_beeline_3.cost.sum()"
   ]
  },
  {
   "cell_type": "code",
   "execution_count": 51,
   "id": "724f7cf3-c844-47a9-b091-fe97951375b9",
   "metadata": {},
   "outputs": [
    {
     "data": {
      "text/html": [
       "<div>\n",
       "<style scoped>\n",
       "    .dataframe tbody tr th:only-of-type {\n",
       "        vertical-align: middle;\n",
       "    }\n",
       "\n",
       "    .dataframe tbody tr th {\n",
       "        vertical-align: top;\n",
       "    }\n",
       "\n",
       "    .dataframe thead th {\n",
       "        text-align: right;\n",
       "    }\n",
       "</style>\n",
       "<table border=\"1\" class=\"dataframe\">\n",
       "  <thead>\n",
       "    <tr style=\"text-align: right;\">\n",
       "      <th></th>\n",
       "      <th>operator</th>\n",
       "      <th>rate_name</th>\n",
       "      <th>total_cost</th>\n",
       "    </tr>\n",
       "  </thead>\n",
       "  <tbody>\n",
       "    <tr>\n",
       "      <th>0</th>\n",
       "      <td>Билайн</td>\n",
       "      <td>Монстр общения</td>\n",
       "      <td>2621.5</td>\n",
       "    </tr>\n",
       "    <tr>\n",
       "      <th>1</th>\n",
       "      <td>Билайн</td>\n",
       "      <td>Хочу сказать</td>\n",
       "      <td>2867.2</td>\n",
       "    </tr>\n",
       "    <tr>\n",
       "      <th>2</th>\n",
       "      <td>Билайн</td>\n",
       "      <td>Больше слов</td>\n",
       "      <td>3441.15</td>\n",
       "    </tr>\n",
       "    <tr>\n",
       "      <th>3</th>\n",
       "      <td>Мегафон</td>\n",
       "      <td>33 копейки</td>\n",
       "      <td>NaN</td>\n",
       "    </tr>\n",
       "    <tr>\n",
       "      <th>4</th>\n",
       "      <td>МТС</td>\n",
       "      <td>Много звонков</td>\n",
       "      <td>NaN</td>\n",
       "    </tr>\n",
       "  </tbody>\n",
       "</table>\n",
       "</div>"
      ],
      "text/plain": [
       "  operator       rate_name total_cost\n",
       "0   Билайн  Монстр общения     2621.5\n",
       "1   Билайн    Хочу сказать     2867.2\n",
       "2   Билайн     Больше слов    3441.15\n",
       "3  Мегафон      33 копейки        NaN\n",
       "4      МТС   Много звонков        NaN"
      ]
     },
     "execution_count": 51,
     "metadata": {},
     "output_type": "execute_result"
    }
   ],
   "source": [
    "costs_df"
   ]
  },
  {
   "cell_type": "markdown",
   "id": "db1d2aaa-f383-4a61-8ea8-35b97b566f73",
   "metadata": {},
   "source": [
    "### Мегафон \"33 копейки\"\n",
    "Исходящие вызовы:\n",
    "- 1-ая минута: 1.00 руб/минута\n",
    "- со 2-ой минуты: 0.33 руб/минута"
   ]
  },
  {
   "cell_type": "code",
   "execution_count": 52,
   "id": "2911b604-f40b-4ff2-a123-edfda65683fb",
   "metadata": {},
   "outputs": [],
   "source": [
    "df_megafon = df[['duration_seconds']].copy()"
   ]
  },
  {
   "cell_type": "code",
   "execution_count": 53,
   "id": "814589be-3fa9-4f87-9802-4ec8c66534a1",
   "metadata": {},
   "outputs": [],
   "source": [
    "def calc_cost_megafon(duration):\n",
    "    minutes = (duration + 59) // 60  # Округляем вверх до полной минуты\n",
    "    cost = 0\n",
    "\n",
    "    if minutes >= 1:\n",
    "        cost += 1.00\n",
    "\n",
    "    if minutes > 1:\n",
    "        cost += (minutes - 1) * 0.33\n",
    "\n",
    "    return cost"
   ]
  },
  {
   "cell_type": "code",
   "execution_count": 54,
   "id": "13391b30-7e1a-4fdf-b4db-d363a611df83",
   "metadata": {},
   "outputs": [
    {
     "data": {
      "text/html": [
       "<div>\n",
       "<style scoped>\n",
       "    .dataframe tbody tr th:only-of-type {\n",
       "        vertical-align: middle;\n",
       "    }\n",
       "\n",
       "    .dataframe tbody tr th {\n",
       "        vertical-align: top;\n",
       "    }\n",
       "\n",
       "    .dataframe thead th {\n",
       "        text-align: right;\n",
       "    }\n",
       "</style>\n",
       "<table border=\"1\" class=\"dataframe\">\n",
       "  <thead>\n",
       "    <tr style=\"text-align: right;\">\n",
       "      <th></th>\n",
       "      <th>duration_seconds</th>\n",
       "    </tr>\n",
       "  </thead>\n",
       "  <tbody>\n",
       "    <tr>\n",
       "      <th>1212</th>\n",
       "      <td>11</td>\n",
       "    </tr>\n",
       "    <tr>\n",
       "      <th>925</th>\n",
       "      <td>103</td>\n",
       "    </tr>\n",
       "    <tr>\n",
       "      <th>255</th>\n",
       "      <td>17</td>\n",
       "    </tr>\n",
       "  </tbody>\n",
       "</table>\n",
       "</div>"
      ],
      "text/plain": [
       "      duration_seconds\n",
       "1212                11\n",
       "925                103\n",
       "255                 17"
      ]
     },
     "execution_count": 54,
     "metadata": {},
     "output_type": "execute_result"
    }
   ],
   "source": [
    "df_megafon.head(3)"
   ]
  },
  {
   "cell_type": "code",
   "execution_count": 55,
   "id": "b9d3f677-6590-47ef-a8a3-d4e685438032",
   "metadata": {},
   "outputs": [],
   "source": [
    "df_megafon['cost'] = df_megafon.duration_seconds.apply(calc_cost_megafon)"
   ]
  },
  {
   "cell_type": "code",
   "execution_count": 56,
   "id": "fad63c1b-fb40-4216-a51b-1d04a1990463",
   "metadata": {},
   "outputs": [],
   "source": [
    "costs_df.iloc[3].total_cost = df_megafon.cost.sum()"
   ]
  },
  {
   "cell_type": "code",
   "execution_count": 57,
   "id": "443e6f4f-9948-4693-8eff-c220bc7fc745",
   "metadata": {},
   "outputs": [
    {
     "data": {
      "text/html": [
       "<div>\n",
       "<style scoped>\n",
       "    .dataframe tbody tr th:only-of-type {\n",
       "        vertical-align: middle;\n",
       "    }\n",
       "\n",
       "    .dataframe tbody tr th {\n",
       "        vertical-align: top;\n",
       "    }\n",
       "\n",
       "    .dataframe thead th {\n",
       "        text-align: right;\n",
       "    }\n",
       "</style>\n",
       "<table border=\"1\" class=\"dataframe\">\n",
       "  <thead>\n",
       "    <tr style=\"text-align: right;\">\n",
       "      <th></th>\n",
       "      <th>operator</th>\n",
       "      <th>rate_name</th>\n",
       "      <th>total_cost</th>\n",
       "    </tr>\n",
       "  </thead>\n",
       "  <tbody>\n",
       "    <tr>\n",
       "      <th>0</th>\n",
       "      <td>Билайн</td>\n",
       "      <td>Монстр общения</td>\n",
       "      <td>2621.5</td>\n",
       "    </tr>\n",
       "    <tr>\n",
       "      <th>1</th>\n",
       "      <td>Билайн</td>\n",
       "      <td>Хочу сказать</td>\n",
       "      <td>2867.2</td>\n",
       "    </tr>\n",
       "    <tr>\n",
       "      <th>2</th>\n",
       "      <td>Билайн</td>\n",
       "      <td>Больше слов</td>\n",
       "      <td>3441.15</td>\n",
       "    </tr>\n",
       "    <tr>\n",
       "      <th>3</th>\n",
       "      <td>Мегафон</td>\n",
       "      <td>33 копейки</td>\n",
       "      <td>1699.59</td>\n",
       "    </tr>\n",
       "    <tr>\n",
       "      <th>4</th>\n",
       "      <td>МТС</td>\n",
       "      <td>Много звонков</td>\n",
       "      <td>NaN</td>\n",
       "    </tr>\n",
       "  </tbody>\n",
       "</table>\n",
       "</div>"
      ],
      "text/plain": [
       "  operator       rate_name total_cost\n",
       "0   Билайн  Монстр общения     2621.5\n",
       "1   Билайн    Хочу сказать     2867.2\n",
       "2   Билайн     Больше слов    3441.15\n",
       "3  Мегафон      33 копейки    1699.59\n",
       "4      МТС   Много звонков        NaN"
      ]
     },
     "execution_count": 57,
     "metadata": {},
     "output_type": "execute_result"
    }
   ],
   "source": [
    "costs_df"
   ]
  },
  {
   "cell_type": "markdown",
   "id": "603bb15d-41ea-47bb-b9a3-babacb55013b",
   "metadata": {},
   "source": [
    "### МТС \"Много звонков\"\n",
    "Исходящие звонки:\n",
    "- до 5 минут в день (включительно) и с 31-ой минуты в день: 0.90 руб/мин\n",
    "- c 6-ой по 30-ую минуты (включительно) в день: 0.05 руб/мин"
   ]
  },
  {
   "cell_type": "code",
   "execution_count": 58,
   "id": "3b3778e9-7015-4f93-a5ea-cdca9a7b5902",
   "metadata": {},
   "outputs": [],
   "source": [
    "df_mts = df[['date', 'duration_seconds']].copy()"
   ]
  },
  {
   "cell_type": "code",
   "execution_count": 59,
   "id": "72ab1183-bc40-4e34-9e86-226fc6104670",
   "metadata": {},
   "outputs": [],
   "source": [
    "df_mts = df_mts.groupby(['date'], as_index=False).duration_seconds.sum()"
   ]
  },
  {
   "cell_type": "code",
   "execution_count": 60,
   "id": "7f44b459-edda-40e9-bea1-b204e40dabac",
   "metadata": {},
   "outputs": [
    {
     "data": {
      "text/html": [
       "<div>\n",
       "<style scoped>\n",
       "    .dataframe tbody tr th:only-of-type {\n",
       "        vertical-align: middle;\n",
       "    }\n",
       "\n",
       "    .dataframe tbody tr th {\n",
       "        vertical-align: top;\n",
       "    }\n",
       "\n",
       "    .dataframe thead th {\n",
       "        text-align: right;\n",
       "    }\n",
       "</style>\n",
       "<table border=\"1\" class=\"dataframe\">\n",
       "  <thead>\n",
       "    <tr style=\"text-align: right;\">\n",
       "      <th></th>\n",
       "      <th>date</th>\n",
       "      <th>duration_seconds</th>\n",
       "    </tr>\n",
       "  </thead>\n",
       "  <tbody>\n",
       "    <tr>\n",
       "      <th>0</th>\n",
       "      <td>2010-07-01</td>\n",
       "      <td>178</td>\n",
       "    </tr>\n",
       "    <tr>\n",
       "      <th>1</th>\n",
       "      <td>2010-07-02</td>\n",
       "      <td>556</td>\n",
       "    </tr>\n",
       "    <tr>\n",
       "      <th>2</th>\n",
       "      <td>2010-07-03</td>\n",
       "      <td>88</td>\n",
       "    </tr>\n",
       "  </tbody>\n",
       "</table>\n",
       "</div>"
      ],
      "text/plain": [
       "         date  duration_seconds\n",
       "0  2010-07-01               178\n",
       "1  2010-07-02               556\n",
       "2  2010-07-03                88"
      ]
     },
     "execution_count": 60,
     "metadata": {},
     "output_type": "execute_result"
    }
   ],
   "source": [
    "df_mts.head(3)"
   ]
  },
  {
   "cell_type": "code",
   "execution_count": 61,
   "id": "6cf6de82-45d0-4204-a5e4-a7414f9dd5dc",
   "metadata": {},
   "outputs": [],
   "source": [
    "def calc_cost_mts(duration):\n",
    "    minutes = (duration + 59) // 60  # Округляем вверх до полной минуты\n",
    "    cost = 0\n",
    "\n",
    "    if minutes <= 5:\n",
    "        cost = minutes * 0.90\n",
    "    elif minutes <= 30:\n",
    "        cost = 5 * 0.90 + (minutes - 5) * 0.05\n",
    "    else:\n",
    "        cost = 5 * 0.90 + (30 - 5) * 0.05 + (minutes - 30) * 0.90\n",
    "\n",
    "    return cost"
   ]
  },
  {
   "cell_type": "code",
   "execution_count": 62,
   "id": "efbd1871-7186-4c45-a818-e5b70e3125cb",
   "metadata": {},
   "outputs": [],
   "source": [
    "df_mts['cost'] = df_mts.duration_seconds.apply(calc_cost_mts)"
   ]
  },
  {
   "cell_type": "code",
   "execution_count": 63,
   "id": "03fed5e2-7384-42fe-802e-45f18fb643b4",
   "metadata": {},
   "outputs": [
    {
     "data": {
      "text/plain": [
       "(18, 3)"
      ]
     },
     "execution_count": 63,
     "metadata": {},
     "output_type": "execute_result"
    }
   ],
   "source": [
    "df_mts[df_mts.duration_seconds > 1800].shape"
   ]
  },
  {
   "cell_type": "code",
   "execution_count": 64,
   "id": "8a4d8ee6-d08e-47d4-9b7f-2f367cc0142d",
   "metadata": {},
   "outputs": [
    {
     "data": {
      "text/html": [
       "<div>\n",
       "<style scoped>\n",
       "    .dataframe tbody tr th:only-of-type {\n",
       "        vertical-align: middle;\n",
       "    }\n",
       "\n",
       "    .dataframe tbody tr th {\n",
       "        vertical-align: top;\n",
       "    }\n",
       "\n",
       "    .dataframe thead th {\n",
       "        text-align: right;\n",
       "    }\n",
       "</style>\n",
       "<table border=\"1\" class=\"dataframe\">\n",
       "  <thead>\n",
       "    <tr style=\"text-align: right;\">\n",
       "      <th></th>\n",
       "      <th>operator</th>\n",
       "      <th>rate_name</th>\n",
       "      <th>total_cost</th>\n",
       "    </tr>\n",
       "  </thead>\n",
       "  <tbody>\n",
       "    <tr>\n",
       "      <th>0</th>\n",
       "      <td>Билайн</td>\n",
       "      <td>Монстр общения</td>\n",
       "      <td>2621.5</td>\n",
       "    </tr>\n",
       "    <tr>\n",
       "      <th>1</th>\n",
       "      <td>Билайн</td>\n",
       "      <td>Хочу сказать</td>\n",
       "      <td>2867.2</td>\n",
       "    </tr>\n",
       "    <tr>\n",
       "      <th>2</th>\n",
       "      <td>Билайн</td>\n",
       "      <td>Больше слов</td>\n",
       "      <td>3441.15</td>\n",
       "    </tr>\n",
       "    <tr>\n",
       "      <th>3</th>\n",
       "      <td>Мегафон</td>\n",
       "      <td>33 копейки</td>\n",
       "      <td>1699.59</td>\n",
       "    </tr>\n",
       "    <tr>\n",
       "      <th>4</th>\n",
       "      <td>МТС</td>\n",
       "      <td>Много звонков</td>\n",
       "      <td>834.65</td>\n",
       "    </tr>\n",
       "  </tbody>\n",
       "</table>\n",
       "</div>"
      ],
      "text/plain": [
       "  operator       rate_name total_cost\n",
       "0   Билайн  Монстр общения     2621.5\n",
       "1   Билайн    Хочу сказать     2867.2\n",
       "2   Билайн     Больше слов    3441.15\n",
       "3  Мегафон      33 копейки    1699.59\n",
       "4      МТС   Много звонков     834.65"
      ]
     },
     "execution_count": 64,
     "metadata": {},
     "output_type": "execute_result"
    }
   ],
   "source": [
    "costs_df.iloc[4].total_cost = df_mts.cost.sum()\n",
    "costs_df"
   ]
  },
  {
   "cell_type": "markdown",
   "id": "92656bcf-e7f0-4369-acc2-9cb75328ab89",
   "metadata": {},
   "source": [
    "## Вывод"
   ]
  },
  {
   "cell_type": "code",
   "execution_count": 65,
   "id": "3f3296c4-7262-4c52-9ff4-bb0f01281eff",
   "metadata": {},
   "outputs": [
    {
     "data": {
      "text/plain": [
       "0.5615384615384615"
      ]
     },
     "execution_count": 65,
     "metadata": {},
     "output_type": "execute_result"
    }
   ],
   "source": [
    "left, right = 60 * 5, 60 * 30\n",
    "df_mts.query('duration_seconds >= @left and duration_seconds < @right').shape[0] / df_mts.shape[0]"
   ]
  },
  {
   "cell_type": "markdown",
   "id": "8eb2d0d9-c243-4b87-bf6f-5691a64e4feb",
   "metadata": {},
   "source": [
    "Таким образом, получается, что абоненту выгоднее всего выбрать для себя тариф \"Много звонков\" от МТС, если ориентироваться только на характер его исходящих звонков за последние 6 месяцев. Это связано с тем, что большинство дней абонент по использованым минутам попадает в самый выгодный интервал от 6 до 30 минут."
   ]
  }
 ],
 "metadata": {
  "kernelspec": {
   "display_name": "Python 3 (ipykernel)",
   "language": "python",
   "name": "python3"
  },
  "language_info": {
   "codemirror_mode": {
    "name": "ipython",
    "version": 3
   },
   "file_extension": ".py",
   "mimetype": "text/x-python",
   "name": "python",
   "nbconvert_exporter": "python",
   "pygments_lexer": "ipython3",
   "version": "3.11.4"
  }
 },
 "nbformat": 4,
 "nbformat_minor": 5
}
